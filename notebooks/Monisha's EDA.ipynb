{
 "cells": [
  {
   "cell_type": "markdown",
   "id": "c4cb19ee",
   "metadata": {},
   "source": [
    "# Imports"
   ]
  },
  {
   "cell_type": "code",
   "execution_count": 1,
   "id": "c2b3fc9f",
   "metadata": {},
   "outputs": [
    {
     "name": "stdout",
     "output_type": "stream",
     "text": [
      "Preprocessing successfully imported.\n"
     ]
    }
   ],
   "source": [
    "from ebay_delivery_prediction_project import preprocessing, Visualisation, preprocessing_models, postprocessing\n",
    "preprocessing.import_test()\n",
    "\n",
    "from datetime import datetime, timedelta"
   ]
  },
  {
   "cell_type": "code",
   "execution_count": 2,
   "id": "6f728866",
   "metadata": {},
   "outputs": [],
   "source": [
    "import matplotlib.pyplot as plt\n",
    "from sklearn.preprocessing import LabelEncoder\n",
    "import numpy as np"
   ]
  },
  {
   "cell_type": "code",
   "execution_count": 3,
   "id": "8e524e9b",
   "metadata": {},
   "outputs": [
    {
     "name": "stdout",
     "output_type": "stream",
     "text": [
      "Reading 100000 rows.\n",
      "Reading all columns.\n",
      "Index(['b2c_c2c', 'seller_id', 'declared_handling_days',\n",
      "       'acceptance_scan_timestamp', 'shipment_method_id', 'shipping_fee',\n",
      "       'carrier_min_estimate', 'carrier_max_estimate', 'item_zip', 'buyer_zip',\n",
      "       'category_id', 'item_price', 'quantity', 'payment_datetime',\n",
      "       'delivery_date', 'weight', 'weight_units', 'package_size',\n",
      "       'record_number'],\n",
      "      dtype='object')\n"
     ]
    }
   ],
   "source": [
    "training_data = preprocessing.read_data(rows_to_read = 100000, columns_with_type = ['item_zip', 'buyer_zip'], dtype_col=[str, str])[\"train\"]\n",
    "print(training_data.columns)"
   ]
  },
  {
   "cell_type": "code",
   "execution_count": 4,
   "id": "108438b0",
   "metadata": {},
   "outputs": [
    {
     "name": "stdout",
     "output_type": "stream",
     "text": [
      "19\n"
     ]
    }
   ],
   "source": [
    "print(len(training_data.columns))"
   ]
  },
  {
   "cell_type": "markdown",
   "id": "71962cf4",
   "metadata": {},
   "source": [
    "# Basic Preprocessing"
   ]
  },
  {
   "cell_type": "code",
   "execution_count": 5,
   "id": "530837f7",
   "metadata": {},
   "outputs": [],
   "source": [
    "training_data = preprocessing.basic_preprocessing(training_data)"
   ]
  },
  {
   "cell_type": "code",
   "execution_count": 6,
   "id": "5af9e691",
   "metadata": {},
   "outputs": [
    {
     "data": {
      "text/plain": [
       "(100000, 20)"
      ]
     },
     "execution_count": 6,
     "metadata": {},
     "output_type": "execute_result"
    }
   ],
   "source": [
    "training_data.shape"
   ]
  },
  {
   "cell_type": "code",
   "execution_count": 7,
   "id": "50404321",
   "metadata": {},
   "outputs": [
    {
     "data": {
      "text/plain": [
       "20"
      ]
     },
     "execution_count": 7,
     "metadata": {},
     "output_type": "execute_result"
    }
   ],
   "source": [
    "len(training_data.columns)"
   ]
  },
  {
   "cell_type": "code",
   "execution_count": 8,
   "id": "92d0f6ca",
   "metadata": {
    "scrolled": true
   },
   "outputs": [
    {
     "name": "stdout",
     "output_type": "stream",
     "text": [
      "Index(['b2c_c2c', 'seller_id', 'declared_handling_days',\n",
      "       'acceptance_scan_timestamp', 'shipment_method_id', 'shipping_fee',\n",
      "       'carrier_min_estimate', 'carrier_max_estimate', 'item_zip', 'buyer_zip',\n",
      "       'category_id', 'item_price', 'quantity', 'payment_datetime',\n",
      "       'delivery_date', 'weight', 'weight_units', 'package_size',\n",
      "       'record_number', 'delivery_calendar_days'],\n",
      "      dtype='object')\n"
     ]
    }
   ],
   "source": [
    "print(training_data.columns)"
   ]
  },
  {
   "cell_type": "markdown",
   "id": "39520059",
   "metadata": {},
   "source": [
    "## delivery_date"
   ]
  },
  {
   "cell_type": "code",
   "execution_count": 9,
   "id": "6b0bdf93",
   "metadata": {},
   "outputs": [],
   "source": [
    "training_data = preprocessing.expand_datetime(df = training_data, date_column=\"delivery_date\")"
   ]
  },
  {
   "cell_type": "code",
   "execution_count": 10,
   "id": "5bc9c773",
   "metadata": {
    "scrolled": true
   },
   "outputs": [
    {
     "name": "stdout",
     "output_type": "stream",
     "text": [
      "Index(['b2c_c2c', 'seller_id', 'declared_handling_days',\n",
      "       'acceptance_scan_timestamp', 'shipment_method_id', 'shipping_fee',\n",
      "       'carrier_min_estimate', 'carrier_max_estimate', 'item_zip', 'buyer_zip',\n",
      "       'category_id', 'item_price', 'quantity', 'payment_datetime',\n",
      "       'delivery_date', 'weight', 'weight_units', 'package_size',\n",
      "       'record_number', 'delivery_calendar_days', 'delivery_date_year',\n",
      "       'delivery_date_month', 'delivery_date_week', 'delivery_date_weekday',\n",
      "       'delivery_date_day_of_year'],\n",
      "      dtype='object')\n"
     ]
    }
   ],
   "source": [
    "print(training_data.columns)"
   ]
  },
  {
   "cell_type": "code",
   "execution_count": 11,
   "id": "f11d47ce",
   "metadata": {},
   "outputs": [
    {
     "data": {
      "text/plain": [
       "1    22895\n",
       "4    19587\n",
       "5    18175\n",
       "6    15595\n",
       "3    15506\n",
       "2     7769\n",
       "7      473\n",
       "Name: delivery_date_weekday, dtype: int64"
      ]
     },
     "execution_count": 11,
     "metadata": {},
     "output_type": "execute_result"
    }
   ],
   "source": [
    "training_data[\"delivery_date_weekday\"].value_counts()"
   ]
  },
  {
   "cell_type": "markdown",
   "id": "5703b3ff",
   "metadata": {},
   "source": [
    "Insights : \n",
    "1. Packages almost never deliver on sunday.\n",
    "2. Packages rarely deliver on Saturday.\n",
    "\n",
    "**Weekday is very important.**"
   ]
  },
  {
   "cell_type": "markdown",
   "id": "293923dc",
   "metadata": {},
   "source": [
    "## Payment Datetime"
   ]
  },
  {
   "cell_type": "code",
   "execution_count": 12,
   "id": "502e1782",
   "metadata": {
    "scrolled": true
   },
   "outputs": [],
   "source": [
    "training_data = preprocessing.expand_datetime(df = training_data, date_column=\"payment_datetime\")"
   ]
  },
  {
   "cell_type": "code",
   "execution_count": 13,
   "id": "c7b01df5",
   "metadata": {},
   "outputs": [
    {
     "data": {
      "text/plain": [
       "(2019, 42, 2)"
      ]
     },
     "execution_count": 13,
     "metadata": {},
     "output_type": "execute_result"
    }
   ],
   "source": [
    "training_data[\"delivery_date\"][8].isocalendar()"
   ]
  },
  {
   "cell_type": "code",
   "execution_count": 14,
   "id": "d251f7eb",
   "metadata": {},
   "outputs": [
    {
     "data": {
      "text/plain": [
       "1    15210\n",
       "7    14953\n",
       "4    14242\n",
       "2    14237\n",
       "3    14117\n",
       "5    14033\n",
       "6    13208\n",
       "Name: payment_datetime_weekday, dtype: int64"
      ]
     },
     "execution_count": 14,
     "metadata": {},
     "output_type": "execute_result"
    }
   ],
   "source": [
    "training_data[\"payment_datetime_weekday\"].value_counts()"
   ]
  },
  {
   "cell_type": "markdown",
   "id": "1a3417b1",
   "metadata": {},
   "source": [
    "## delivery_calendar_days"
   ]
  },
  {
   "cell_type": "code",
   "execution_count": 15,
   "id": "674a35ba",
   "metadata": {},
   "outputs": [
    {
     "name": "stdout",
     "output_type": "stream",
     "text": [
      "4\n",
      "3\n",
      "5\n",
      "6\n",
      "2\n",
      "7\n",
      "8\n",
      "9\n",
      "10\n",
      "11\n",
      "12\n",
      "1\n",
      "13\n",
      "14\n",
      "15\n",
      "16\n",
      "17\n",
      "18\n",
      "19\n",
      "20\n",
      "21\n",
      "22\n",
      "0\n",
      "23\n",
      "26\n",
      "25\n",
      "24\n",
      "28\n",
      "29\n",
      "27\n",
      "30\n",
      "36\n",
      "31\n",
      "42\n",
      "32\n",
      "34\n",
      "92\n",
      "53\n",
      "48\n",
      "60\n",
      "40\n",
      "39\n",
      "37\n",
      "33\n",
      "35\n",
      "41\n",
      "38\n",
      "45\n",
      "91\n",
      "43\n",
      "46\n",
      "49\n",
      "47\n",
      "85\n",
      "44\n",
      "74\n",
      "59\n",
      "89\n",
      "55\n",
      "61\n",
      "78\n",
      "97\n",
      "51\n",
      "65\n",
      "79\n",
      "52\n",
      "95\n",
      "81\n",
      "67\n",
      "94\n",
      "75\n",
      "80\n",
      "54\n",
      "82\n",
      "58\n",
      "69\n",
      "76\n",
      "101\n"
     ]
    },
    {
     "ename": "IndexError",
     "evalue": "list assignment index out of range",
     "output_type": "error",
     "traceback": [
      "\u001b[0;31m---------------------------------------------------------------------------\u001b[0m",
      "\u001b[0;31mIndexError\u001b[0m                                Traceback (most recent call last)",
      "\u001b[0;32m/tmp/ipykernel_14267/2627681399.py\u001b[0m in \u001b[0;36m<module>\u001b[0;34m\u001b[0m\n\u001b[1;32m      2\u001b[0m \u001b[0;32mfor\u001b[0m \u001b[0mind\u001b[0m\u001b[0;34m,\u001b[0m \u001b[0mvalue\u001b[0m \u001b[0;32min\u001b[0m \u001b[0mzip\u001b[0m\u001b[0;34m(\u001b[0m\u001b[0mtraining_data\u001b[0m\u001b[0;34m[\u001b[0m\u001b[0;34m\"delivery_calendar_days\"\u001b[0m\u001b[0;34m]\u001b[0m\u001b[0;34m.\u001b[0m\u001b[0mvalue_counts\u001b[0m\u001b[0;34m(\u001b[0m\u001b[0;34m)\u001b[0m\u001b[0;34m.\u001b[0m\u001b[0mindex\u001b[0m\u001b[0;34m,\u001b[0m \u001b[0mtraining_data\u001b[0m\u001b[0;34m[\u001b[0m\u001b[0;34m\"delivery_calendar_days\"\u001b[0m\u001b[0;34m]\u001b[0m\u001b[0;34m.\u001b[0m\u001b[0mvalue_counts\u001b[0m\u001b[0;34m(\u001b[0m\u001b[0;34m)\u001b[0m\u001b[0;34m.\u001b[0m\u001b[0mvalues\u001b[0m\u001b[0;34m)\u001b[0m\u001b[0;34m:\u001b[0m\u001b[0;34m\u001b[0m\u001b[0;34m\u001b[0m\u001b[0m\n\u001b[1;32m      3\u001b[0m     \u001b[0mprint\u001b[0m\u001b[0;34m(\u001b[0m\u001b[0mind\u001b[0m\u001b[0;34m)\u001b[0m\u001b[0;34m\u001b[0m\u001b[0;34m\u001b[0m\u001b[0m\n\u001b[0;32m----> 4\u001b[0;31m     \u001b[0mhistogram_array\u001b[0m\u001b[0;34m[\u001b[0m\u001b[0mind\u001b[0m\u001b[0;34m]\u001b[0m \u001b[0;34m=\u001b[0m \u001b[0mvalue\u001b[0m\u001b[0;34m\u001b[0m\u001b[0;34m\u001b[0m\u001b[0m\n\u001b[0m",
      "\u001b[0;31mIndexError\u001b[0m: list assignment index out of range"
     ]
    }
   ],
   "source": [
    "histogram_array = [0 for ele in range(101)]\n",
    "for ind, value in zip(training_data[\"delivery_calendar_days\"].value_counts().index, training_data[\"delivery_calendar_days\"].value_counts().values):\n",
    "    print(ind)\n",
    "    histogram_array[ind] = value"
   ]
  },
  {
   "cell_type": "code",
   "execution_count": 16,
   "id": "e91fb54b",
   "metadata": {},
   "outputs": [
    {
     "data": {
      "text/plain": [
       "<AxesSubplot:xlabel='delivery_calendar_days', ylabel='Count'>"
      ]
     },
     "execution_count": 16,
     "metadata": {},
     "output_type": "execute_result"
    },
    {
     "data": {
      "image/png": "[encoded data removed]",
      "text/plain": [
       "<Figure size 432x288 with 1 Axes>"
      ]
     },
     "metadata": {
      "needs_background": "light"
     },
     "output_type": "display_data"
    }
   ],
   "source": [
    "import seaborn as sns\n",
    "\n",
    "sns.histplot(training_data, x = \"delivery_calendar_days\", bins = 100)"
   ]
  },
  {
   "cell_type": "code",
   "execution_count": 17,
   "id": "e23167fe",
   "metadata": {},
   "outputs": [
    {
     "data": {
      "text/plain": [
       "968"
      ]
     },
     "execution_count": 17,
     "metadata": {},
     "output_type": "execute_result"
    }
   ],
   "source": [
    "(training_data[\"delivery_calendar_days\"]>14).sum()"
   ]
  },
  {
   "cell_type": "code",
   "execution_count": 18,
   "id": "d690352d",
   "metadata": {},
   "outputs": [
    {
     "data": {
      "text/plain": [
       "446"
      ]
     },
     "execution_count": 18,
     "metadata": {},
     "output_type": "execute_result"
    }
   ],
   "source": [
    "(training_data[\"delivery_calendar_days\"]<2).sum()"
   ]
  },
  {
   "cell_type": "markdown",
   "id": "08b96180",
   "metadata": {},
   "source": [
    "# Checking for null values"
   ]
  },
  {
   "cell_type": "code",
   "execution_count": 19,
   "id": "4403f200",
   "metadata": {},
   "outputs": [
    {
     "data": {
      "text/html": [
       "<div>\n",
       "<style scoped>\n",
       "    .dataframe tbody tr th:only-of-type {\n",
       "        vertical-align: middle;\n",
       "    }\n",
       "\n",
       "    .dataframe tbody tr th {\n",
       "        vertical-align: top;\n",
       "    }\n",
       "\n",
       "    .dataframe thead th {\n",
       "        text-align: right;\n",
       "    }\n",
       "</style>\n",
       "<table border=\"1\" class=\"dataframe\">\n",
       "  <thead>\n",
       "    <tr style=\"text-align: right;\">\n",
       "      <th></th>\n",
       "      <th>b2c_c2c</th>\n",
       "      <th>seller_id</th>\n",
       "      <th>declared_handling_days</th>\n",
       "      <th>acceptance_scan_timestamp</th>\n",
       "      <th>shipment_method_id</th>\n",
       "      <th>shipping_fee</th>\n",
       "      <th>carrier_min_estimate</th>\n",
       "      <th>carrier_max_estimate</th>\n",
       "      <th>item_zip</th>\n",
       "      <th>buyer_zip</th>\n",
       "      <th>...</th>\n",
       "      <th>delivery_date_year</th>\n",
       "      <th>delivery_date_month</th>\n",
       "      <th>delivery_date_week</th>\n",
       "      <th>delivery_date_weekday</th>\n",
       "      <th>delivery_date_day_of_year</th>\n",
       "      <th>payment_datetime_year</th>\n",
       "      <th>payment_datetime_month</th>\n",
       "      <th>payment_datetime_week</th>\n",
       "      <th>payment_datetime_weekday</th>\n",
       "      <th>payment_datetime_day_of_year</th>\n",
       "    </tr>\n",
       "  </thead>\n",
       "  <tbody>\n",
       "    <tr>\n",
       "      <th>0</th>\n",
       "      <td>B2C</td>\n",
       "      <td>25454</td>\n",
       "      <td>3.0</td>\n",
       "      <td>2019-03-26 15:11:00-07:00</td>\n",
       "      <td>0</td>\n",
       "      <td>0.0</td>\n",
       "      <td>3</td>\n",
       "      <td>5</td>\n",
       "      <td>97219</td>\n",
       "      <td>49040</td>\n",
       "      <td>...</td>\n",
       "      <td>2019</td>\n",
       "      <td>3</td>\n",
       "      <td>13</td>\n",
       "      <td>5</td>\n",
       "      <td>96</td>\n",
       "      <td>2019</td>\n",
       "      <td>3</td>\n",
       "      <td>12</td>\n",
       "      <td>7</td>\n",
       "      <td>91</td>\n",
       "    </tr>\n",
       "    <tr>\n",
       "      <th>1</th>\n",
       "      <td>C2C</td>\n",
       "      <td>6727381</td>\n",
       "      <td>2.0</td>\n",
       "      <td>2018-06-02 12:53:00-07:00</td>\n",
       "      <td>0</td>\n",
       "      <td>3.0</td>\n",
       "      <td>3</td>\n",
       "      <td>5</td>\n",
       "      <td>11415-3528</td>\n",
       "      <td>62521</td>\n",
       "      <td>...</td>\n",
       "      <td>2018</td>\n",
       "      <td>6</td>\n",
       "      <td>23</td>\n",
       "      <td>2</td>\n",
       "      <td>163</td>\n",
       "      <td>2018</td>\n",
       "      <td>6</td>\n",
       "      <td>22</td>\n",
       "      <td>5</td>\n",
       "      <td>159</td>\n",
       "    </tr>\n",
       "    <tr>\n",
       "      <th>2</th>\n",
       "      <td>B2C</td>\n",
       "      <td>18507</td>\n",
       "      <td>1.0</td>\n",
       "      <td>2019-01-07 16:22:00-05:00</td>\n",
       "      <td>0</td>\n",
       "      <td>4.5</td>\n",
       "      <td>3</td>\n",
       "      <td>5</td>\n",
       "      <td>27292</td>\n",
       "      <td>53010</td>\n",
       "      <td>...</td>\n",
       "      <td>2019</td>\n",
       "      <td>1</td>\n",
       "      <td>2</td>\n",
       "      <td>4</td>\n",
       "      <td>18</td>\n",
       "      <td>2019</td>\n",
       "      <td>1</td>\n",
       "      <td>1</td>\n",
       "      <td>7</td>\n",
       "      <td>14</td>\n",
       "    </tr>\n",
       "    <tr>\n",
       "      <th>3</th>\n",
       "      <td>B2C</td>\n",
       "      <td>4677</td>\n",
       "      <td>1.0</td>\n",
       "      <td>2018-12-17 16:56:00-08:00</td>\n",
       "      <td>0</td>\n",
       "      <td>0.0</td>\n",
       "      <td>3</td>\n",
       "      <td>5</td>\n",
       "      <td>90703</td>\n",
       "      <td>80022</td>\n",
       "      <td>...</td>\n",
       "      <td>2018</td>\n",
       "      <td>12</td>\n",
       "      <td>51</td>\n",
       "      <td>5</td>\n",
       "      <td>362</td>\n",
       "      <td>2018</td>\n",
       "      <td>12</td>\n",
       "      <td>50</td>\n",
       "      <td>7</td>\n",
       "      <td>357</td>\n",
       "    </tr>\n",
       "    <tr>\n",
       "      <th>4</th>\n",
       "      <td>B2C</td>\n",
       "      <td>4677</td>\n",
       "      <td>1.0</td>\n",
       "      <td>2018-07-27 16:48:00-07:00</td>\n",
       "      <td>0</td>\n",
       "      <td>0.0</td>\n",
       "      <td>3</td>\n",
       "      <td>5</td>\n",
       "      <td>90703</td>\n",
       "      <td>55070</td>\n",
       "      <td>...</td>\n",
       "      <td>2018</td>\n",
       "      <td>7</td>\n",
       "      <td>31</td>\n",
       "      <td>1</td>\n",
       "      <td>218</td>\n",
       "      <td>2018</td>\n",
       "      <td>7</td>\n",
       "      <td>30</td>\n",
       "      <td>4</td>\n",
       "      <td>214</td>\n",
       "    </tr>\n",
       "  </tbody>\n",
       "</table>\n",
       "<p>5 rows × 30 columns</p>\n",
       "</div>"
      ],
      "text/plain": [
       "  b2c_c2c  seller_id  declared_handling_days  acceptance_scan_timestamp  \\\n",
       "0     B2C      25454                     3.0  2019-03-26 15:11:00-07:00   \n",
       "1     C2C    6727381                     2.0  2018-06-02 12:53:00-07:00   \n",
       "2     B2C      18507                     1.0  2019-01-07 16:22:00-05:00   \n",
       "3     B2C       4677                     1.0  2018-12-17 16:56:00-08:00   \n",
       "4     B2C       4677                     1.0  2018-07-27 16:48:00-07:00   \n",
       "\n",
       "   shipment_method_id  shipping_fee  carrier_min_estimate  \\\n",
       "0                   0           0.0                     3   \n",
       "1                   0           3.0                     3   \n",
       "2                   0           4.5                     3   \n",
       "3                   0           0.0                     3   \n",
       "4                   0           0.0                     3   \n",
       "\n",
       "   carrier_max_estimate    item_zip buyer_zip  ...  delivery_date_year  \\\n",
       "0                     5       97219     49040  ...                2019   \n",
       "1                     5  11415-3528     62521  ...                2018   \n",
       "2                     5       27292     53010  ...                2019   \n",
       "3                     5       90703     80022  ...                2018   \n",
       "4                     5       90703     55070  ...                2018   \n",
       "\n",
       "   delivery_date_month  delivery_date_week delivery_date_weekday  \\\n",
       "0                    3                  13                     5   \n",
       "1                    6                  23                     2   \n",
       "2                    1                   2                     4   \n",
       "3                   12                  51                     5   \n",
       "4                    7                  31                     1   \n",
       "\n",
       "  delivery_date_day_of_year  payment_datetime_year  payment_datetime_month  \\\n",
       "0                        96                   2019                       3   \n",
       "1                       163                   2018                       6   \n",
       "2                        18                   2019                       1   \n",
       "3                       362                   2018                      12   \n",
       "4                       218                   2018                       7   \n",
       "\n",
       "  payment_datetime_week  payment_datetime_weekday  \\\n",
       "0                    12                         7   \n",
       "1                    22                         5   \n",
       "2                     1                         7   \n",
       "3                    50                         7   \n",
       "4                    30                         4   \n",
       "\n",
       "   payment_datetime_day_of_year  \n",
       "0                            91  \n",
       "1                           159  \n",
       "2                            14  \n",
       "3                           357  \n",
       "4                           214  \n",
       "\n",
       "[5 rows x 30 columns]"
      ]
     },
     "execution_count": 19,
     "metadata": {},
     "output_type": "execute_result"
    }
   ],
   "source": [
    "training_data.head()"
   ]
  },
  {
   "cell_type": "code",
   "execution_count": 20,
   "id": "7ee16875",
   "metadata": {},
   "outputs": [
    {
     "data": {
      "text/plain": [
       "b2c_c2c                            0\n",
       "seller_id                          0\n",
       "declared_handling_days          4958\n",
       "acceptance_scan_timestamp          0\n",
       "shipment_method_id                 0\n",
       "shipping_fee                       0\n",
       "carrier_min_estimate               0\n",
       "carrier_max_estimate               0\n",
       "item_zip                           0\n",
       "buyer_zip                          0\n",
       "category_id                        0\n",
       "item_price                         0\n",
       "quantity                           0\n",
       "payment_datetime                   0\n",
       "delivery_date                      0\n",
       "weight                             0\n",
       "weight_units                       0\n",
       "package_size                       0\n",
       "record_number                      0\n",
       "delivery_calendar_days             0\n",
       "delivery_date_year                 0\n",
       "delivery_date_month                0\n",
       "delivery_date_week                 0\n",
       "delivery_date_weekday              0\n",
       "delivery_date_day_of_year          0\n",
       "payment_datetime_year              0\n",
       "payment_datetime_month             0\n",
       "payment_datetime_week              0\n",
       "payment_datetime_weekday           0\n",
       "payment_datetime_day_of_year       0\n",
       "dtype: int64"
      ]
     },
     "execution_count": 20,
     "metadata": {},
     "output_type": "execute_result"
    }
   ],
   "source": [
    "training_data.isnull().sum()"
   ]
  },
  {
   "cell_type": "code",
   "execution_count": 21,
   "id": "9fe812e0",
   "metadata": {},
   "outputs": [],
   "source": [
    "# Remove the rows in which null values are present\n",
    "training_data = training_data.dropna()"
   ]
  },
  {
   "cell_type": "code",
   "execution_count": 22,
   "id": "1c72f16b",
   "metadata": {},
   "outputs": [
    {
     "data": {
      "text/plain": [
       "b2c_c2c                         0\n",
       "seller_id                       0\n",
       "declared_handling_days          0\n",
       "acceptance_scan_timestamp       0\n",
       "shipment_method_id              0\n",
       "shipping_fee                    0\n",
       "carrier_min_estimate            0\n",
       "carrier_max_estimate            0\n",
       "item_zip                        0\n",
       "buyer_zip                       0\n",
       "category_id                     0\n",
       "item_price                      0\n",
       "quantity                        0\n",
       "payment_datetime                0\n",
       "delivery_date                   0\n",
       "weight                          0\n",
       "weight_units                    0\n",
       "package_size                    0\n",
       "record_number                   0\n",
       "delivery_calendar_days          0\n",
       "delivery_date_year              0\n",
       "delivery_date_month             0\n",
       "delivery_date_week              0\n",
       "delivery_date_weekday           0\n",
       "delivery_date_day_of_year       0\n",
       "payment_datetime_year           0\n",
       "payment_datetime_month          0\n",
       "payment_datetime_week           0\n",
       "payment_datetime_weekday        0\n",
       "payment_datetime_day_of_year    0\n",
       "dtype: int64"
      ]
     },
     "execution_count": 22,
     "metadata": {},
     "output_type": "execute_result"
    }
   ],
   "source": [
    "training_data.isnull().sum()"
   ]
  },
  {
   "cell_type": "markdown",
   "id": "d57a12a6",
   "metadata": {},
   "source": [
    "# Check the values of carrier_min_estimate and carrier_max_estimate for negative values as they indicate missing values"
   ]
  },
  {
   "cell_type": "code",
   "execution_count": 23,
   "id": "4d96ab89",
   "metadata": {},
   "outputs": [
    {
     "data": {
      "text/plain": [
       " 3    58980\n",
       " 2    35992\n",
       " 1       53\n",
       "-1        9\n",
       " 0        5\n",
       " 6        3\n",
       "Name: carrier_min_estimate, dtype: int64"
      ]
     },
     "execution_count": 23,
     "metadata": {},
     "output_type": "execute_result"
    }
   ],
   "source": [
    "training_data['carrier_min_estimate'].value_counts()"
   ]
  },
  {
   "cell_type": "code",
   "execution_count": 24,
   "id": "abed1d31",
   "metadata": {},
   "outputs": [
    {
     "data": {
      "text/plain": [
       " 5     82171\n",
       " 9      7333\n",
       " 8      5468\n",
       " 1        58\n",
       "-1         9\n",
       " 25        3\n",
       "Name: carrier_max_estimate, dtype: int64"
      ]
     },
     "execution_count": 24,
     "metadata": {},
     "output_type": "execute_result"
    }
   ],
   "source": [
    "training_data['carrier_max_estimate'].value_counts()"
   ]
  },
  {
   "cell_type": "code",
   "execution_count": 25,
   "id": "a489982b",
   "metadata": {},
   "outputs": [
    {
     "data": {
      "text/plain": [
       "PACKAGE_THICK_ENVELOPE    80022\n",
       "NONE                       6866\n",
       "LETTER                     5604\n",
       "LARGE_ENVELOPE             1445\n",
       "LARGE_PACKAGE              1105\n",
       "Name: package_size, dtype: int64"
      ]
     },
     "execution_count": 25,
     "metadata": {},
     "output_type": "execute_result"
    }
   ],
   "source": [
    "training_data['package_size'].value_counts()"
   ]
  },
  {
   "cell_type": "code",
   "execution_count": 26,
   "id": "681a479a",
   "metadata": {},
   "outputs": [],
   "source": [
    "def removeMissingValues(data, column, missing_val):\n",
    "    row_names = data[data[column] == missing_val].index\n",
    "    data.drop(row_names, inplace=True)\n",
    "    print(\"Number of Rows dropped: \",len(row_names))\n",
    "    return data"
   ]
  },
  {
   "cell_type": "code",
   "execution_count": 27,
   "id": "abbdf1d5",
   "metadata": {},
   "outputs": [
    {
     "data": {
      "text/plain": [
       "(95042, 30)"
      ]
     },
     "execution_count": 27,
     "metadata": {},
     "output_type": "execute_result"
    }
   ],
   "source": [
    "training_data.shape"
   ]
  },
  {
   "cell_type": "code",
   "execution_count": 28,
   "id": "8fa0e2fe",
   "metadata": {},
   "outputs": [
    {
     "name": "stdout",
     "output_type": "stream",
     "text": [
      "Number of Rows dropped:  9\n"
     ]
    }
   ],
   "source": [
    "training_data = removeMissingValues(training_data, 'carrier_min_estimate', -1)"
   ]
  },
  {
   "cell_type": "code",
   "execution_count": 29,
   "id": "db86ce76",
   "metadata": {},
   "outputs": [
    {
     "name": "stdout",
     "output_type": "stream",
     "text": [
      "Number of Rows dropped:  0\n"
     ]
    }
   ],
   "source": [
    "training_data = removeMissingValues(training_data, 'carrier_max_estimate', -1)"
   ]
  },
  {
   "cell_type": "code",
   "execution_count": 30,
   "id": "ead49b0d",
   "metadata": {},
   "outputs": [
    {
     "name": "stdout",
     "output_type": "stream",
     "text": [
      "Number of Rows dropped:  6864\n"
     ]
    }
   ],
   "source": [
    "training_data = removeMissingValues(training_data, 'package_size', 'NONE')"
   ]
  },
  {
   "cell_type": "code",
   "execution_count": 31,
   "id": "8a655e9c",
   "metadata": {},
   "outputs": [
    {
     "data": {
      "text/plain": [
       "(88169, 30)"
      ]
     },
     "execution_count": 31,
     "metadata": {},
     "output_type": "execute_result"
    }
   ],
   "source": [
    "training_data.shape"
   ]
  },
  {
   "cell_type": "code",
   "execution_count": 32,
   "id": "ef845dc3",
   "metadata": {},
   "outputs": [
    {
     "data": {
      "text/html": [
       "<div>\n",
       "<style scoped>\n",
       "    .dataframe tbody tr th:only-of-type {\n",
       "        vertical-align: middle;\n",
       "    }\n",
       "\n",
       "    .dataframe tbody tr th {\n",
       "        vertical-align: top;\n",
       "    }\n",
       "\n",
       "    .dataframe thead th {\n",
       "        text-align: right;\n",
       "    }\n",
       "</style>\n",
       "<table border=\"1\" class=\"dataframe\">\n",
       "  <thead>\n",
       "    <tr style=\"text-align: right;\">\n",
       "      <th></th>\n",
       "      <th>count</th>\n",
       "      <th>mean</th>\n",
       "      <th>std</th>\n",
       "      <th>min</th>\n",
       "      <th>25%</th>\n",
       "      <th>50%</th>\n",
       "      <th>75%</th>\n",
       "      <th>max</th>\n",
       "    </tr>\n",
       "  </thead>\n",
       "  <tbody>\n",
       "    <tr>\n",
       "      <th>seller_id</th>\n",
       "      <td>88169.0</td>\n",
       "      <td>292783.451791</td>\n",
       "      <td>699471.797625</td>\n",
       "      <td>0.00</td>\n",
       "      <td>6780.00</td>\n",
       "      <td>45655.00</td>\n",
       "      <td>231482.00</td>\n",
       "      <td>7253892.0</td>\n",
       "    </tr>\n",
       "    <tr>\n",
       "      <th>declared_handling_days</th>\n",
       "      <td>88169.0</td>\n",
       "      <td>1.633851</td>\n",
       "      <td>1.510010</td>\n",
       "      <td>0.00</td>\n",
       "      <td>1.00</td>\n",
       "      <td>1.00</td>\n",
       "      <td>2.00</td>\n",
       "      <td>30.0</td>\n",
       "    </tr>\n",
       "    <tr>\n",
       "      <th>shipment_method_id</th>\n",
       "      <td>88169.0</td>\n",
       "      <td>0.853735</td>\n",
       "      <td>1.655663</td>\n",
       "      <td>0.00</td>\n",
       "      <td>0.00</td>\n",
       "      <td>0.00</td>\n",
       "      <td>1.00</td>\n",
       "      <td>24.0</td>\n",
       "    </tr>\n",
       "    <tr>\n",
       "      <th>shipping_fee</th>\n",
       "      <td>88169.0</td>\n",
       "      <td>2.904029</td>\n",
       "      <td>5.535058</td>\n",
       "      <td>0.00</td>\n",
       "      <td>0.00</td>\n",
       "      <td>0.00</td>\n",
       "      <td>4.06</td>\n",
       "      <td>200.0</td>\n",
       "    </tr>\n",
       "    <tr>\n",
       "      <th>carrier_min_estimate</th>\n",
       "      <td>88169.0</td>\n",
       "      <td>2.632059</td>\n",
       "      <td>0.483845</td>\n",
       "      <td>0.00</td>\n",
       "      <td>2.00</td>\n",
       "      <td>3.00</td>\n",
       "      <td>3.00</td>\n",
       "      <td>6.0</td>\n",
       "    </tr>\n",
       "    <tr>\n",
       "      <th>carrier_max_estimate</th>\n",
       "      <td>88169.0</td>\n",
       "      <td>5.405823</td>\n",
       "      <td>1.166160</td>\n",
       "      <td>1.00</td>\n",
       "      <td>5.00</td>\n",
       "      <td>5.00</td>\n",
       "      <td>5.00</td>\n",
       "      <td>25.0</td>\n",
       "    </tr>\n",
       "    <tr>\n",
       "      <th>category_id</th>\n",
       "      <td>88169.0</td>\n",
       "      <td>6.647677</td>\n",
       "      <td>6.514412</td>\n",
       "      <td>0.00</td>\n",
       "      <td>1.00</td>\n",
       "      <td>5.00</td>\n",
       "      <td>10.00</td>\n",
       "      <td>32.0</td>\n",
       "    </tr>\n",
       "    <tr>\n",
       "      <th>item_price</th>\n",
       "      <td>88169.0</td>\n",
       "      <td>36.706276</td>\n",
       "      <td>92.442396</td>\n",
       "      <td>0.01</td>\n",
       "      <td>8.99</td>\n",
       "      <td>15.98</td>\n",
       "      <td>32.00</td>\n",
       "      <td>7000.0</td>\n",
       "    </tr>\n",
       "    <tr>\n",
       "      <th>quantity</th>\n",
       "      <td>88169.0</td>\n",
       "      <td>1.106557</td>\n",
       "      <td>0.766480</td>\n",
       "      <td>1.00</td>\n",
       "      <td>1.00</td>\n",
       "      <td>1.00</td>\n",
       "      <td>1.00</td>\n",
       "      <td>50.0</td>\n",
       "    </tr>\n",
       "    <tr>\n",
       "      <th>weight</th>\n",
       "      <td>88169.0</td>\n",
       "      <td>16.642595</td>\n",
       "      <td>51.020011</td>\n",
       "      <td>0.00</td>\n",
       "      <td>0.00</td>\n",
       "      <td>5.00</td>\n",
       "      <td>16.00</td>\n",
       "      <td>7040.0</td>\n",
       "    </tr>\n",
       "    <tr>\n",
       "      <th>weight_units</th>\n",
       "      <td>88169.0</td>\n",
       "      <td>1.000000</td>\n",
       "      <td>0.000000</td>\n",
       "      <td>1.00</td>\n",
       "      <td>1.00</td>\n",
       "      <td>1.00</td>\n",
       "      <td>1.00</td>\n",
       "      <td>1.0</td>\n",
       "    </tr>\n",
       "    <tr>\n",
       "      <th>record_number</th>\n",
       "      <td>88169.0</td>\n",
       "      <td>50164.553970</td>\n",
       "      <td>29017.264491</td>\n",
       "      <td>1.00</td>\n",
       "      <td>24560.00</td>\n",
       "      <td>50740.00</td>\n",
       "      <td>75272.00</td>\n",
       "      <td>100000.0</td>\n",
       "    </tr>\n",
       "    <tr>\n",
       "      <th>delivery_calendar_days</th>\n",
       "      <td>88169.0</td>\n",
       "      <td>4.673400</td>\n",
       "      <td>3.069480</td>\n",
       "      <td>0.00</td>\n",
       "      <td>3.00</td>\n",
       "      <td>4.00</td>\n",
       "      <td>5.00</td>\n",
       "      <td>101.0</td>\n",
       "    </tr>\n",
       "    <tr>\n",
       "      <th>delivery_date_year</th>\n",
       "      <td>88169.0</td>\n",
       "      <td>2018.460513</td>\n",
       "      <td>0.498441</td>\n",
       "      <td>2018.00</td>\n",
       "      <td>2018.00</td>\n",
       "      <td>2018.00</td>\n",
       "      <td>2019.00</td>\n",
       "      <td>2019.0</td>\n",
       "    </tr>\n",
       "    <tr>\n",
       "      <th>delivery_date_month</th>\n",
       "      <td>88169.0</td>\n",
       "      <td>5.964205</td>\n",
       "      <td>3.215255</td>\n",
       "      <td>1.00</td>\n",
       "      <td>3.00</td>\n",
       "      <td>6.00</td>\n",
       "      <td>9.00</td>\n",
       "      <td>12.0</td>\n",
       "    </tr>\n",
       "    <tr>\n",
       "      <th>delivery_date_week</th>\n",
       "      <td>88169.0</td>\n",
       "      <td>24.097245</td>\n",
       "      <td>13.977387</td>\n",
       "      <td>1.00</td>\n",
       "      <td>12.00</td>\n",
       "      <td>23.00</td>\n",
       "      <td>36.00</td>\n",
       "      <td>52.0</td>\n",
       "    </tr>\n",
       "    <tr>\n",
       "      <th>delivery_date_weekday</th>\n",
       "      <td>88169.0</td>\n",
       "      <td>3.509987</td>\n",
       "      <td>1.772631</td>\n",
       "      <td>1.00</td>\n",
       "      <td>2.00</td>\n",
       "      <td>4.00</td>\n",
       "      <td>5.00</td>\n",
       "      <td>7.0</td>\n",
       "    </tr>\n",
       "    <tr>\n",
       "      <th>delivery_date_day_of_year</th>\n",
       "      <td>88169.0</td>\n",
       "      <td>172.190702</td>\n",
       "      <td>97.847424</td>\n",
       "      <td>8.00</td>\n",
       "      <td>87.00</td>\n",
       "      <td>166.00</td>\n",
       "      <td>254.00</td>\n",
       "      <td>371.0</td>\n",
       "    </tr>\n",
       "    <tr>\n",
       "      <th>payment_datetime_year</th>\n",
       "      <td>88169.0</td>\n",
       "      <td>2018.452064</td>\n",
       "      <td>0.497700</td>\n",
       "      <td>2018.00</td>\n",
       "      <td>2018.00</td>\n",
       "      <td>2018.00</td>\n",
       "      <td>2019.00</td>\n",
       "      <td>2019.0</td>\n",
       "    </tr>\n",
       "    <tr>\n",
       "      <th>payment_datetime_month</th>\n",
       "      <td>88169.0</td>\n",
       "      <td>5.892525</td>\n",
       "      <td>3.225375</td>\n",
       "      <td>1.00</td>\n",
       "      <td>3.00</td>\n",
       "      <td>6.00</td>\n",
       "      <td>9.00</td>\n",
       "      <td>12.0</td>\n",
       "    </tr>\n",
       "    <tr>\n",
       "      <th>payment_datetime_week</th>\n",
       "      <td>88169.0</td>\n",
       "      <td>23.808334</td>\n",
       "      <td>14.054859</td>\n",
       "      <td>1.00</td>\n",
       "      <td>12.00</td>\n",
       "      <td>23.00</td>\n",
       "      <td>35.00</td>\n",
       "      <td>52.0</td>\n",
       "    </tr>\n",
       "    <tr>\n",
       "      <th>payment_datetime_weekday</th>\n",
       "      <td>88169.0</td>\n",
       "      <td>3.934648</td>\n",
       "      <td>2.027372</td>\n",
       "      <td>1.00</td>\n",
       "      <td>2.00</td>\n",
       "      <td>4.00</td>\n",
       "      <td>6.00</td>\n",
       "      <td>7.0</td>\n",
       "    </tr>\n",
       "    <tr>\n",
       "      <th>payment_datetime_day_of_year</th>\n",
       "      <td>88169.0</td>\n",
       "      <td>170.592986</td>\n",
       "      <td>98.379373</td>\n",
       "      <td>8.00</td>\n",
       "      <td>85.00</td>\n",
       "      <td>165.00</td>\n",
       "      <td>251.00</td>\n",
       "      <td>371.0</td>\n",
       "    </tr>\n",
       "  </tbody>\n",
       "</table>\n",
       "</div>"
      ],
      "text/plain": [
       "                                count           mean            std      min  \\\n",
       "seller_id                     88169.0  292783.451791  699471.797625     0.00   \n",
       "declared_handling_days        88169.0       1.633851       1.510010     0.00   \n",
       "shipment_method_id            88169.0       0.853735       1.655663     0.00   \n",
       "shipping_fee                  88169.0       2.904029       5.535058     0.00   \n",
       "carrier_min_estimate          88169.0       2.632059       0.483845     0.00   \n",
       "carrier_max_estimate          88169.0       5.405823       1.166160     1.00   \n",
       "category_id                   88169.0       6.647677       6.514412     0.00   \n",
       "item_price                    88169.0      36.706276      92.442396     0.01   \n",
       "quantity                      88169.0       1.106557       0.766480     1.00   \n",
       "weight                        88169.0      16.642595      51.020011     0.00   \n",
       "weight_units                  88169.0       1.000000       0.000000     1.00   \n",
       "record_number                 88169.0   50164.553970   29017.264491     1.00   \n",
       "delivery_calendar_days        88169.0       4.673400       3.069480     0.00   \n",
       "delivery_date_year            88169.0    2018.460513       0.498441  2018.00   \n",
       "delivery_date_month           88169.0       5.964205       3.215255     1.00   \n",
       "delivery_date_week            88169.0      24.097245      13.977387     1.00   \n",
       "delivery_date_weekday         88169.0       3.509987       1.772631     1.00   \n",
       "delivery_date_day_of_year     88169.0     172.190702      97.847424     8.00   \n",
       "payment_datetime_year         88169.0    2018.452064       0.497700  2018.00   \n",
       "payment_datetime_month        88169.0       5.892525       3.225375     1.00   \n",
       "payment_datetime_week         88169.0      23.808334      14.054859     1.00   \n",
       "payment_datetime_weekday      88169.0       3.934648       2.027372     1.00   \n",
       "payment_datetime_day_of_year  88169.0     170.592986      98.379373     8.00   \n",
       "\n",
       "                                   25%       50%        75%        max  \n",
       "seller_id                      6780.00  45655.00  231482.00  7253892.0  \n",
       "declared_handling_days            1.00      1.00       2.00       30.0  \n",
       "shipment_method_id                0.00      0.00       1.00       24.0  \n",
       "shipping_fee                      0.00      0.00       4.06      200.0  \n",
       "carrier_min_estimate              2.00      3.00       3.00        6.0  \n",
       "carrier_max_estimate              5.00      5.00       5.00       25.0  \n",
       "category_id                       1.00      5.00      10.00       32.0  \n",
       "item_price                        8.99     15.98      32.00     7000.0  \n",
       "quantity                          1.00      1.00       1.00       50.0  \n",
       "weight                            0.00      5.00      16.00     7040.0  \n",
       "weight_units                      1.00      1.00       1.00        1.0  \n",
       "record_number                 24560.00  50740.00   75272.00   100000.0  \n",
       "delivery_calendar_days            3.00      4.00       5.00      101.0  \n",
       "delivery_date_year             2018.00   2018.00    2019.00     2019.0  \n",
       "delivery_date_month               3.00      6.00       9.00       12.0  \n",
       "delivery_date_week               12.00     23.00      36.00       52.0  \n",
       "delivery_date_weekday             2.00      4.00       5.00        7.0  \n",
       "delivery_date_day_of_year        87.00    166.00     254.00      371.0  \n",
       "payment_datetime_year          2018.00   2018.00    2019.00     2019.0  \n",
       "payment_datetime_month            3.00      6.00       9.00       12.0  \n",
       "payment_datetime_week            12.00     23.00      35.00       52.0  \n",
       "payment_datetime_weekday          2.00      4.00       6.00        7.0  \n",
       "payment_datetime_day_of_year     85.00    165.00     251.00      371.0  "
      ]
     },
     "execution_count": 32,
     "metadata": {},
     "output_type": "execute_result"
    }
   ],
   "source": [
    "training_data.describe().T"
   ]
  },
  {
   "cell_type": "markdown",
   "id": "1b5352f4",
   "metadata": {},
   "source": [
    "# Checking for duplicate values "
   ]
  },
  {
   "cell_type": "code",
   "execution_count": 33,
   "id": "8fe8a053",
   "metadata": {},
   "outputs": [
    {
     "data": {
      "text/plain": [
       "0"
      ]
     },
     "execution_count": 33,
     "metadata": {},
     "output_type": "execute_result"
    }
   ],
   "source": [
    "duplicates = training_data.duplicated()\n",
    "duplicates.sum()"
   ]
  },
  {
   "cell_type": "markdown",
   "id": "b0d3cdde",
   "metadata": {},
   "source": [
    "# Remove columns with only one unique value"
   ]
  },
  {
   "cell_type": "code",
   "execution_count": 34,
   "id": "9ffa60a6",
   "metadata": {},
   "outputs": [
    {
     "name": "stdout",
     "output_type": "stream",
     "text": [
      "['weight_units']\n"
     ]
    }
   ],
   "source": [
    "unique = training_data.nunique()\n",
    "unique = unique[unique.values == 1]\n",
    "print(list(unique.index))"
   ]
  },
  {
   "cell_type": "code",
   "execution_count": 35,
   "id": "8ec06c64",
   "metadata": {},
   "outputs": [
    {
     "data": {
      "text/plain": [
       "1    88169\n",
       "Name: weight_units, dtype: int64"
      ]
     },
     "execution_count": 35,
     "metadata": {},
     "output_type": "execute_result"
    }
   ],
   "source": [
    "training_data['weight_units'].value_counts()"
   ]
  },
  {
   "cell_type": "code",
   "execution_count": 36,
   "id": "de9a2fa2",
   "metadata": {},
   "outputs": [],
   "source": [
    "training_data = training_data.drop(columns=list(unique.index))"
   ]
  },
  {
   "cell_type": "code",
   "execution_count": 37,
   "id": "1a354d9f",
   "metadata": {},
   "outputs": [
    {
     "name": "stdout",
     "output_type": "stream",
     "text": [
      "<class 'pandas.core.frame.DataFrame'>\n",
      "Int64Index: 88169 entries, 0 to 99999\n",
      "Data columns (total 29 columns):\n",
      " #   Column                        Non-Null Count  Dtype         \n",
      "---  ------                        --------------  -----         \n",
      " 0   b2c_c2c                       88169 non-null  object        \n",
      " 1   seller_id                     88169 non-null  int64         \n",
      " 2   declared_handling_days        88169 non-null  float64       \n",
      " 3   acceptance_scan_timestamp     88169 non-null  object        \n",
      " 4   shipment_method_id            88169 non-null  int64         \n",
      " 5   shipping_fee                  88169 non-null  float64       \n",
      " 6   carrier_min_estimate          88169 non-null  int64         \n",
      " 7   carrier_max_estimate          88169 non-null  int64         \n",
      " 8   item_zip                      88169 non-null  object        \n",
      " 9   buyer_zip                     88169 non-null  object        \n",
      " 10  category_id                   88169 non-null  int64         \n",
      " 11  item_price                    88169 non-null  float64       \n",
      " 12  quantity                      88169 non-null  int64         \n",
      " 13  payment_datetime              88169 non-null  object        \n",
      " 14  delivery_date                 88169 non-null  datetime64[ns]\n",
      " 15  weight                        88169 non-null  int64         \n",
      " 16  package_size                  88169 non-null  object        \n",
      " 17  record_number                 88169 non-null  int64         \n",
      " 18  delivery_calendar_days        88169 non-null  int64         \n",
      " 19  delivery_date_year            88169 non-null  int64         \n",
      " 20  delivery_date_month           88169 non-null  int64         \n",
      " 21  delivery_date_week            88169 non-null  int64         \n",
      " 22  delivery_date_weekday         88169 non-null  int64         \n",
      " 23  delivery_date_day_of_year     88169 non-null  int64         \n",
      " 24  payment_datetime_year         88169 non-null  int64         \n",
      " 25  payment_datetime_month        88169 non-null  int64         \n",
      " 26  payment_datetime_week         88169 non-null  int64         \n",
      " 27  payment_datetime_weekday      88169 non-null  int64         \n",
      " 28  payment_datetime_day_of_year  88169 non-null  int64         \n",
      "dtypes: datetime64[ns](1), float64(3), int64(19), object(6)\n",
      "memory usage: 20.2+ MB\n"
     ]
    }
   ],
   "source": [
    "training_data.info()"
   ]
  },
  {
   "cell_type": "markdown",
   "id": "7d740fc7",
   "metadata": {},
   "source": [
    "# Remove columns that seems to be irrelevant"
   ]
  },
  {
   "cell_type": "code",
   "execution_count": 38,
   "id": "6440e452",
   "metadata": {},
   "outputs": [],
   "source": [
    "columns_to_remove = ['item_price', 'record_number']"
   ]
  },
  {
   "cell_type": "code",
   "execution_count": 39,
   "id": "e873e414",
   "metadata": {},
   "outputs": [],
   "source": [
    "training_data = training_data.drop(columns=list(columns_to_remove))"
   ]
  },
  {
   "cell_type": "code",
   "execution_count": 40,
   "id": "6a4452a4",
   "metadata": {},
   "outputs": [
    {
     "name": "stdout",
     "output_type": "stream",
     "text": [
      "<class 'pandas.core.frame.DataFrame'>\n",
      "Int64Index: 88169 entries, 0 to 99999\n",
      "Data columns (total 27 columns):\n",
      " #   Column                        Non-Null Count  Dtype         \n",
      "---  ------                        --------------  -----         \n",
      " 0   b2c_c2c                       88169 non-null  object        \n",
      " 1   seller_id                     88169 non-null  int64         \n",
      " 2   declared_handling_days        88169 non-null  float64       \n",
      " 3   acceptance_scan_timestamp     88169 non-null  object        \n",
      " 4   shipment_method_id            88169 non-null  int64         \n",
      " 5   shipping_fee                  88169 non-null  float64       \n",
      " 6   carrier_min_estimate          88169 non-null  int64         \n",
      " 7   carrier_max_estimate          88169 non-null  int64         \n",
      " 8   item_zip                      88169 non-null  object        \n",
      " 9   buyer_zip                     88169 non-null  object        \n",
      " 10  category_id                   88169 non-null  int64         \n",
      " 11  quantity                      88169 non-null  int64         \n",
      " 12  payment_datetime              88169 non-null  object        \n",
      " 13  delivery_date                 88169 non-null  datetime64[ns]\n",
      " 14  weight                        88169 non-null  int64         \n",
      " 15  package_size                  88169 non-null  object        \n",
      " 16  delivery_calendar_days        88169 non-null  int64         \n",
      " 17  delivery_date_year            88169 non-null  int64         \n",
      " 18  delivery_date_month           88169 non-null  int64         \n",
      " 19  delivery_date_week            88169 non-null  int64         \n",
      " 20  delivery_date_weekday         88169 non-null  int64         \n",
      " 21  delivery_date_day_of_year     88169 non-null  int64         \n",
      " 22  payment_datetime_year         88169 non-null  int64         \n",
      " 23  payment_datetime_month        88169 non-null  int64         \n",
      " 24  payment_datetime_week         88169 non-null  int64         \n",
      " 25  payment_datetime_weekday      88169 non-null  int64         \n",
      " 26  payment_datetime_day_of_year  88169 non-null  int64         \n",
      "dtypes: datetime64[ns](1), float64(2), int64(18), object(6)\n",
      "memory usage: 18.8+ MB\n"
     ]
    }
   ],
   "source": [
    "training_data.info()"
   ]
  },
  {
   "cell_type": "markdown",
   "id": "a5edbab8",
   "metadata": {},
   "source": [
    "# Univariate analysis"
   ]
  },
  {
   "cell_type": "markdown",
   "id": "7db3380b",
   "metadata": {},
   "source": [
    "# Outliers"
   ]
  },
  {
   "cell_type": "code",
   "execution_count": 47,
   "id": "109ed098",
   "metadata": {},
   "outputs": [],
   "source": [
    "def showBoxPlot(data, columns):\n",
    "    for col in columns:\n",
    "        training_data.boxplot(column=col)\n",
    "        plt.show()"
   ]
  },
  {
   "cell_type": "code",
   "execution_count": 48,
   "id": "cc809e45",
   "metadata": {},
   "outputs": [
    {
     "data": {
      "text/plain": [
       "5     78216\n",
       "9      6193\n",
       "8      3711\n",
       "1        46\n",
       "25        3\n",
       "Name: carrier_max_estimate, dtype: int64"
      ]
     },
     "execution_count": 48,
     "metadata": {},
     "output_type": "execute_result"
    }
   ],
   "source": [
    "training_data['carrier_max_estimate'].value_counts()"
   ]
  },
  {
   "cell_type": "code",
   "execution_count": 49,
   "id": "029c3974",
   "metadata": {},
   "outputs": [
    {
     "data": {
      "text/plain": [
       "3    55764\n",
       "2    32356\n",
       "1       44\n",
       "6        3\n",
       "0        2\n",
       "Name: carrier_min_estimate, dtype: int64"
      ]
     },
     "execution_count": 49,
     "metadata": {},
     "output_type": "execute_result"
    }
   ],
   "source": [
    "training_data['carrier_min_estimate'].value_counts()"
   ]
  },
  {
   "cell_type": "code",
   "execution_count": 50,
   "id": "4d5be973",
   "metadata": {},
   "outputs": [
    {
     "data": {
      "text/plain": [
       "1.0     47155\n",
       "2.0     16252\n",
       "3.0     15496\n",
       "0.0      6586\n",
       "5.0      1377\n",
       "4.0       717\n",
       "10.0      381\n",
       "15.0       87\n",
       "30.0       68\n",
       "20.0       50\n",
       "Name: declared_handling_days, dtype: int64"
      ]
     },
     "execution_count": 50,
     "metadata": {},
     "output_type": "execute_result"
    }
   ],
   "source": [
    "training_data['declared_handling_days'].value_counts()"
   ]
  },
  {
   "cell_type": "code",
   "execution_count": 51,
   "id": "780efe18",
   "metadata": {},
   "outputs": [],
   "source": [
    "numerical_columns = ['declared_handling_days', 'carrier_min_estimate', 'carrier_max_estimate']"
   ]
  },
  {
   "cell_type": "code",
   "execution_count": 52,
   "id": "d445580b",
   "metadata": {},
   "outputs": [
    {
     "data": {
      "image/png": "[encoded data removed]",
      "text/plain": [
       "<Figure size 432x288 with 1 Axes>"
      ]
     },
     "metadata": {
      "needs_background": "light"
     },
     "output_type": "display_data"
    },
    {
     "data": {
      "image/png": "[encoded data removed]",
      "text/plain": [
       "<Figure size 432x288 with 1 Axes>"
      ]
     },
     "metadata": {
      "needs_background": "light"
     },
     "output_type": "display_data"
    },
    {
     "data": {
      "image/png": "[encoded data removed]",
      "text/plain": [
       "<Figure size 432x288 with 1 Axes>"
      ]
     },
     "metadata": {
      "needs_background": "light"
     },
     "output_type": "display_data"
    }
   ],
   "source": [
    "showBoxPlot(training_data, numerical_columns)"
   ]
  },
  {
   "cell_type": "code",
   "execution_count": 53,
   "id": "af454ffd",
   "metadata": {},
   "outputs": [
    {
     "data": {
      "text/plain": [
       "array([[<AxesSubplot:title={'center':'b2c_c2c'}>,\n",
       "        <AxesSubplot:title={'center':'seller_id'}>,\n",
       "        <AxesSubplot:title={'center':'declared_handling_days'}>,\n",
       "        <AxesSubplot:title={'center':'shipment_method_id'}>,\n",
       "        <AxesSubplot:title={'center':'shipping_fee'}>],\n",
       "       [<AxesSubplot:title={'center':'carrier_min_estimate'}>,\n",
       "        <AxesSubplot:title={'center':'carrier_max_estimate'}>,\n",
       "        <AxesSubplot:title={'center':'category_id'}>,\n",
       "        <AxesSubplot:title={'center':'quantity'}>,\n",
       "        <AxesSubplot:title={'center':'delivery_date'}>],\n",
       "       [<AxesSubplot:title={'center':'weight'}>,\n",
       "        <AxesSubplot:title={'center':'package_size'}>,\n",
       "        <AxesSubplot:title={'center':'delivery_calendar_days'}>,\n",
       "        <AxesSubplot:title={'center':'delivery_date_year'}>,\n",
       "        <AxesSubplot:title={'center':'delivery_date_month'}>],\n",
       "       [<AxesSubplot:title={'center':'delivery_date_week'}>,\n",
       "        <AxesSubplot:title={'center':'delivery_date_weekday'}>,\n",
       "        <AxesSubplot:title={'center':'delivery_date_day_of_year'}>,\n",
       "        <AxesSubplot:title={'center':'payment_datetime_year'}>,\n",
       "        <AxesSubplot:title={'center':'payment_datetime_month'}>],\n",
       "       [<AxesSubplot:title={'center':'payment_datetime_week'}>,\n",
       "        <AxesSubplot:title={'center':'payment_datetime_weekday'}>,\n",
       "        <AxesSubplot:title={'center':'payment_datetime_day_of_year'}>,\n",
       "        <AxesSubplot:>, <AxesSubplot:>]], dtype=object)"
      ]
     },
     "execution_count": 53,
     "metadata": {},
     "output_type": "execute_result"
    },
    {
     "data": {
      "image/png": "[encoded data removed]",
      "text/plain": [
       "<Figure size 1152x1440 with 25 Axes>"
      ]
     },
     "metadata": {
      "needs_background": "light"
     },
     "output_type": "display_data"
    }
   ],
   "source": [
    "training_data.hist(figsize=(16, 20), bins=50, xlabelsize=8, ylabelsize=8)"
   ]
  },
  {
   "cell_type": "markdown",
   "id": "dfd2edb8",
   "metadata": {},
   "source": [
    "# Find invalid values in item_zip and buyer_zip"
   ]
  },
  {
   "cell_type": "code",
   "execution_count": 54,
   "id": "ca785b9c",
   "metadata": {},
   "outputs": [],
   "source": [
    "def stripUnwantedSpace(data, col):\n",
    "    col_values_to_change = data[col]\n",
    "    long_zip_codes = col_values_to_change.str.len() > 10\n",
    "    for val in col_values_to_change[long_zip_codes]:\n",
    "        val.replace(\" \", \"\")\n",
    "    training_data[col] = col_values_to_change\n",
    "    return training_data"
   ]
  },
  {
   "cell_type": "code",
   "execution_count": 55,
   "id": "9ed22fcc",
   "metadata": {},
   "outputs": [],
   "source": [
    "def removeZipCodesWithOnlyZeros(data, col):\n",
    "    targetCol = data[col]\n",
    "    length_less_than_min = targetCol.str.len() < 5\n",
    "    \n",
    "#     training_data[length_less_than_min]"
   ]
  },
  {
   "cell_type": "code",
   "execution_count": 56,
   "id": "4709777c",
   "metadata": {},
   "outputs": [],
   "source": [
    "# removeZipCodesWithOnlyZeros(training_data, 'item_zip')"
   ]
  },
  {
   "cell_type": "code",
   "execution_count": 57,
   "id": "da83a051",
   "metadata": {},
   "outputs": [
    {
     "data": {
      "text/plain": [
       "12948     000\n",
       "13007     000\n",
       "16325     000\n",
       "17725     000\n",
       "18050     000\n",
       "21764     000\n",
       "34274     000\n",
       "34362     000\n",
       "36697     000\n",
       "36701    1012\n",
       "39805     000\n",
       "40901     000\n",
       "45259     000\n",
       "50931    1020\n",
       "54933     000\n",
       "59835      深圳\n",
       "62067     000\n",
       "67235     000\n",
       "68011     000\n",
       "70433     000\n",
       "70928     000\n",
       "71475     000\n",
       "74897    0000\n",
       "74898    0000\n",
       "74940    0755\n",
       "98721    1000\n",
       "99085     000\n",
       "Name: item_zip, dtype: object"
      ]
     },
     "execution_count": 57,
     "metadata": {},
     "output_type": "execute_result"
    }
   ],
   "source": [
    "small_zip_codes = training_data['item_zip'].str.len() < 5\n",
    "training_data['item_zip'][small_zip_codes]"
   ]
  },
  {
   "cell_type": "code",
   "execution_count": 58,
   "id": "18400035",
   "metadata": {},
   "outputs": [
    {
     "data": {
      "text/plain": [
       "261      000\n",
       "318      000\n",
       "561      000\n",
       "597      000\n",
       "760      000\n",
       "        ... \n",
       "99085    000\n",
       "99104    000\n",
       "99118    000\n",
       "99202    000\n",
       "99569    000\n",
       "Name: buyer_zip, Length: 454, dtype: object"
      ]
     },
     "execution_count": 58,
     "metadata": {},
     "output_type": "execute_result"
    }
   ],
   "source": [
    "small_zip_codes = training_data['buyer_zip'].str.len() < 5\n",
    "training_data['buyer_zip'][small_zip_codes]"
   ]
  },
  {
   "cell_type": "code",
   "execution_count": 59,
   "id": "31335180",
   "metadata": {},
   "outputs": [
    {
     "data": {
      "text/plain": [
       "Series([], Name: buyer_zip, dtype: object)"
      ]
     },
     "execution_count": 59,
     "metadata": {},
     "output_type": "execute_result"
    }
   ],
   "source": [
    "long_zip_codes = training_data['buyer_zip'].str.len() > 10\n",
    "training_data['buyer_zip'][long_zip_codes]"
   ]
  },
  {
   "cell_type": "code",
   "execution_count": 60,
   "id": "353d45ab",
   "metadata": {},
   "outputs": [
    {
     "data": {
      "text/plain": [
       "Series([], Name: item_zip, dtype: object)"
      ]
     },
     "execution_count": 60,
     "metadata": {},
     "output_type": "execute_result"
    }
   ],
   "source": [
    "long_zip_codes = training_data['item_zip'].str.len() > 10\n",
    "training_data['item_zip'][long_zip_codes]"
   ]
  },
  {
   "cell_type": "code",
   "execution_count": 61,
   "id": "cbd8e129",
   "metadata": {},
   "outputs": [
    {
     "data": {
      "text/plain": [
       "(88169, 27)"
      ]
     },
     "execution_count": 61,
     "metadata": {},
     "output_type": "execute_result"
    }
   ],
   "source": [
    "training_data.shape"
   ]
  },
  {
   "cell_type": "code",
   "execution_count": null,
   "id": "f37c0d0e",
   "metadata": {},
   "outputs": [],
   "source": [
    "# Have to find a way to handle these incomplete data"
   ]
  },
  {
   "cell_type": "code",
   "execution_count": 62,
   "id": "afa4acd2",
   "metadata": {},
   "outputs": [],
   "source": [
    "# training_data = stripUnwantedSpace(training_data, 'item_zip')"
   ]
  },
  {
   "cell_type": "code",
   "execution_count": 63,
   "id": "30ee3383",
   "metadata": {},
   "outputs": [],
   "source": [
    "# training_data.shape"
   ]
  },
  {
   "cell_type": "markdown",
   "id": "62a48240",
   "metadata": {},
   "source": [
    "# Heat map"
   ]
  },
  {
   "cell_type": "code",
   "execution_count": 132,
   "id": "8411bf9b",
   "metadata": {},
   "outputs": [
    {
     "name": "stderr",
     "output_type": "stream",
     "text": [
      "/tmp/ipykernel_14267/3118446978.py:3: DeprecationWarning: `np.bool` is a deprecated alias for the builtin `bool`. To silence this warning, use `bool` by itself. Doing this will not modify any behavior and is safe. If you specifically wanted the numpy scalar type, use `np.bool_` here.\n",
      "Deprecated in NumPy 1.20; for more details and guidance: https://numpy.org/devdocs/release/1.20.0-notes.html#deprecations\n",
      "  sns.heatmap(corr, mask=np.zeros_like(corr, dtype=np.bool), cmap=sns.diverging_palette(240,10,as_cmap=True),\n"
     ]
    },
    {
     "data": {
      "text/plain": [
       "<AxesSubplot:>"
      ]
     },
     "execution_count": 132,
     "metadata": {},
     "output_type": "execute_result"
    },
    {
     "data": {
      "image/png": "[encoded data removed]",
      "text/plain": [
       "<Figure size 864x864 with 2 Axes>"
      ]
     },
     "metadata": {
      "needs_background": "light"
     },
     "output_type": "display_data"
    }
   ],
   "source": [
    "f, ax = plt.subplots(figsize=(12, 12))\n",
    "corr = training_data.corr()\n",
    "sns.heatmap(corr, mask=np.zeros_like(corr, dtype=np.bool), cmap=sns.diverging_palette(240,10,as_cmap=True),\n",
    "            square=True, ax=ax)"
   ]
  },
  {
   "cell_type": "code",
   "execution_count": 135,
   "id": "33ef9964",
   "metadata": {},
   "outputs": [],
   "source": [
    "# Column b2c_c2c and seller_id are highly correlated\n",
    "# Dropping seller_id\n",
    "training_data = training_data.drop(columns=['seller_id'])"
   ]
  },
  {
   "cell_type": "markdown",
   "id": "2d4fdf4d",
   "metadata": {},
   "source": [
    "# Pair plot "
   ]
  },
  {
   "cell_type": "code",
   "execution_count": 136,
   "id": "5e2c3a16",
   "metadata": {},
   "outputs": [
    {
     "data": {
      "text/plain": [
       "Index(['b2c_c2c', 'declared_handling_days', 'acceptance_scan_timestamp',\n",
       "       'shipment_method_id', 'shipping_fee', 'carrier_min_estimate',\n",
       "       'carrier_max_estimate', 'item_zip', 'buyer_zip', 'category_id',\n",
       "       'quantity', 'payment_datetime', 'delivery_date', 'weight',\n",
       "       'package_size', 'delivery_calendar_days', 'delivery_date_year',\n",
       "       'delivery_date_month', 'delivery_date_week', 'delivery_date_weekday',\n",
       "       'delivery_date_day_of_year', 'payment_datetime_year',\n",
       "       'payment_datetime_month', 'payment_datetime_week',\n",
       "       'payment_datetime_weekday', 'payment_datetime_day_of_year'],\n",
       "      dtype='object')"
      ]
     },
     "execution_count": 136,
     "metadata": {},
     "output_type": "execute_result"
    }
   ],
   "source": [
    "training_data.columns"
   ]
  },
  {
   "cell_type": "code",
   "execution_count": 66,
   "id": "395c07a7",
   "metadata": {},
   "outputs": [
    {
     "data": {
      "text/plain": [
       "<seaborn.axisgrid.PairGrid at 0x7f8f46a8c400>"
      ]
     },
     "execution_count": 66,
     "metadata": {},
     "output_type": "execute_result"
    },
    {
     "data": {
      "image/png": "[encoded data removed]",
      "text/plain": [
       "<Figure size 720x720 with 20 Axes>"
      ]
     },
     "metadata": {
      "needs_background": "light"
     },
     "output_type": "display_data"
    }
   ],
   "source": [
    "sns.pairplot(training_data[['b2c_c2c', 'seller_id', 'declared_handling_days',\n",
    "       'acceptance_scan_timestamp', 'delivery_calendar_days']])"
   ]
  },
  {
   "cell_type": "markdown",
   "id": "a1609ff1",
   "metadata": {},
   "source": [
    "# Remove data and time variables"
   ]
  },
  {
   "cell_type": "code",
   "execution_count": 137,
   "id": "240ac06d",
   "metadata": {},
   "outputs": [
    {
     "data": {
      "text/plain": [
       "Index(['b2c_c2c', 'declared_handling_days', 'acceptance_scan_timestamp',\n",
       "       'shipment_method_id', 'shipping_fee', 'carrier_min_estimate',\n",
       "       'carrier_max_estimate', 'item_zip', 'buyer_zip', 'category_id',\n",
       "       'quantity', 'payment_datetime', 'delivery_date', 'weight',\n",
       "       'package_size', 'delivery_calendar_days', 'delivery_date_year',\n",
       "       'delivery_date_month', 'delivery_date_week', 'delivery_date_weekday',\n",
       "       'delivery_date_day_of_year', 'payment_datetime_year',\n",
       "       'payment_datetime_month', 'payment_datetime_week',\n",
       "       'payment_datetime_weekday', 'payment_datetime_day_of_year'],\n",
       "      dtype='object')"
      ]
     },
     "execution_count": 137,
     "metadata": {},
     "output_type": "execute_result"
    }
   ],
   "source": [
    "training_data.columns"
   ]
  },
  {
   "cell_type": "code",
   "execution_count": 138,
   "id": "87645be7",
   "metadata": {},
   "outputs": [],
   "source": [
    "data_time_var = ['delivery_date_year', 'delivery_date_month', 'delivery_date_week',\n",
    "       'delivery_date_weekday', 'delivery_date_day_of_year',\n",
    "       'payment_datetime_year', 'payment_datetime_month',\n",
    "       'payment_datetime_week', 'payment_datetime_weekday',\n",
    "       'payment_datetime_day_of_year','payment_datetime', 'delivery_date', 'acceptance_scan_timestamp']"
   ]
  },
  {
   "cell_type": "code",
   "execution_count": 139,
   "id": "52c8d1a8",
   "metadata": {},
   "outputs": [],
   "source": [
    "columns_without_datetime = list(set(training_data.columns) - set(data_time_var))"
   ]
  },
  {
   "cell_type": "code",
   "execution_count": 140,
   "id": "edd2dbf6",
   "metadata": {},
   "outputs": [
    {
     "name": "stdout",
     "output_type": "stream",
     "text": [
      "['carrier_max_estimate', 'carrier_min_estimate', 'buyer_zip', 'quantity', 'item_zip', 'shipment_method_id', 'category_id', 'shipping_fee', 'weight', 'package_size', 'b2c_c2c', 'declared_handling_days', 'delivery_calendar_days'] 13\n"
     ]
    }
   ],
   "source": [
    "print(columns_without_datetime, len(columns_without_datetime))"
   ]
  },
  {
   "cell_type": "markdown",
   "id": "e7b46773",
   "metadata": {},
   "source": [
    "# Handle categorical values"
   ]
  },
  {
   "cell_type": "code",
   "execution_count": 141,
   "id": "21e6584b",
   "metadata": {},
   "outputs": [
    {
     "data": {
      "text/html": [
       "<div>\n",
       "<style scoped>\n",
       "    .dataframe tbody tr th:only-of-type {\n",
       "        vertical-align: middle;\n",
       "    }\n",
       "\n",
       "    .dataframe tbody tr th {\n",
       "        vertical-align: top;\n",
       "    }\n",
       "\n",
       "    .dataframe thead th {\n",
       "        text-align: right;\n",
       "    }\n",
       "</style>\n",
       "<table border=\"1\" class=\"dataframe\">\n",
       "  <thead>\n",
       "    <tr style=\"text-align: right;\">\n",
       "      <th></th>\n",
       "      <th>b2c_c2c</th>\n",
       "      <th>declared_handling_days</th>\n",
       "      <th>acceptance_scan_timestamp</th>\n",
       "      <th>shipment_method_id</th>\n",
       "      <th>shipping_fee</th>\n",
       "      <th>carrier_min_estimate</th>\n",
       "      <th>carrier_max_estimate</th>\n",
       "      <th>item_zip</th>\n",
       "      <th>buyer_zip</th>\n",
       "      <th>category_id</th>\n",
       "      <th>...</th>\n",
       "      <th>delivery_date_year</th>\n",
       "      <th>delivery_date_month</th>\n",
       "      <th>delivery_date_week</th>\n",
       "      <th>delivery_date_weekday</th>\n",
       "      <th>delivery_date_day_of_year</th>\n",
       "      <th>payment_datetime_year</th>\n",
       "      <th>payment_datetime_month</th>\n",
       "      <th>payment_datetime_week</th>\n",
       "      <th>payment_datetime_weekday</th>\n",
       "      <th>payment_datetime_day_of_year</th>\n",
       "    </tr>\n",
       "  </thead>\n",
       "  <tbody>\n",
       "    <tr>\n",
       "      <th>0</th>\n",
       "      <td>0</td>\n",
       "      <td>3.0</td>\n",
       "      <td>2019-03-26 15:11:00-07:00</td>\n",
       "      <td>0</td>\n",
       "      <td>0.0</td>\n",
       "      <td>3</td>\n",
       "      <td>5</td>\n",
       "      <td>97219</td>\n",
       "      <td>49040</td>\n",
       "      <td>13</td>\n",
       "      <td>...</td>\n",
       "      <td>2019</td>\n",
       "      <td>3</td>\n",
       "      <td>13</td>\n",
       "      <td>5</td>\n",
       "      <td>96</td>\n",
       "      <td>2019</td>\n",
       "      <td>3</td>\n",
       "      <td>12</td>\n",
       "      <td>7</td>\n",
       "      <td>91</td>\n",
       "    </tr>\n",
       "    <tr>\n",
       "      <th>1</th>\n",
       "      <td>1</td>\n",
       "      <td>2.0</td>\n",
       "      <td>2018-06-02 12:53:00-07:00</td>\n",
       "      <td>0</td>\n",
       "      <td>3.0</td>\n",
       "      <td>3</td>\n",
       "      <td>5</td>\n",
       "      <td>11415-3528</td>\n",
       "      <td>62521</td>\n",
       "      <td>0</td>\n",
       "      <td>...</td>\n",
       "      <td>2018</td>\n",
       "      <td>6</td>\n",
       "      <td>23</td>\n",
       "      <td>2</td>\n",
       "      <td>163</td>\n",
       "      <td>2018</td>\n",
       "      <td>6</td>\n",
       "      <td>22</td>\n",
       "      <td>5</td>\n",
       "      <td>159</td>\n",
       "    </tr>\n",
       "    <tr>\n",
       "      <th>2</th>\n",
       "      <td>0</td>\n",
       "      <td>1.0</td>\n",
       "      <td>2019-01-07 16:22:00-05:00</td>\n",
       "      <td>0</td>\n",
       "      <td>4.5</td>\n",
       "      <td>3</td>\n",
       "      <td>5</td>\n",
       "      <td>27292</td>\n",
       "      <td>53010</td>\n",
       "      <td>1</td>\n",
       "      <td>...</td>\n",
       "      <td>2019</td>\n",
       "      <td>1</td>\n",
       "      <td>2</td>\n",
       "      <td>4</td>\n",
       "      <td>18</td>\n",
       "      <td>2019</td>\n",
       "      <td>1</td>\n",
       "      <td>1</td>\n",
       "      <td>7</td>\n",
       "      <td>14</td>\n",
       "    </tr>\n",
       "    <tr>\n",
       "      <th>3</th>\n",
       "      <td>0</td>\n",
       "      <td>1.0</td>\n",
       "      <td>2018-12-17 16:56:00-08:00</td>\n",
       "      <td>0</td>\n",
       "      <td>0.0</td>\n",
       "      <td>3</td>\n",
       "      <td>5</td>\n",
       "      <td>90703</td>\n",
       "      <td>80022</td>\n",
       "      <td>1</td>\n",
       "      <td>...</td>\n",
       "      <td>2018</td>\n",
       "      <td>12</td>\n",
       "      <td>51</td>\n",
       "      <td>5</td>\n",
       "      <td>362</td>\n",
       "      <td>2018</td>\n",
       "      <td>12</td>\n",
       "      <td>50</td>\n",
       "      <td>7</td>\n",
       "      <td>357</td>\n",
       "    </tr>\n",
       "    <tr>\n",
       "      <th>4</th>\n",
       "      <td>0</td>\n",
       "      <td>1.0</td>\n",
       "      <td>2018-07-27 16:48:00-07:00</td>\n",
       "      <td>0</td>\n",
       "      <td>0.0</td>\n",
       "      <td>3</td>\n",
       "      <td>5</td>\n",
       "      <td>90703</td>\n",
       "      <td>55070</td>\n",
       "      <td>1</td>\n",
       "      <td>...</td>\n",
       "      <td>2018</td>\n",
       "      <td>7</td>\n",
       "      <td>31</td>\n",
       "      <td>1</td>\n",
       "      <td>218</td>\n",
       "      <td>2018</td>\n",
       "      <td>7</td>\n",
       "      <td>30</td>\n",
       "      <td>4</td>\n",
       "      <td>214</td>\n",
       "    </tr>\n",
       "  </tbody>\n",
       "</table>\n",
       "<p>5 rows × 26 columns</p>\n",
       "</div>"
      ],
      "text/plain": [
       "   b2c_c2c  declared_handling_days  acceptance_scan_timestamp  \\\n",
       "0        0                     3.0  2019-03-26 15:11:00-07:00   \n",
       "1        1                     2.0  2018-06-02 12:53:00-07:00   \n",
       "2        0                     1.0  2019-01-07 16:22:00-05:00   \n",
       "3        0                     1.0  2018-12-17 16:56:00-08:00   \n",
       "4        0                     1.0  2018-07-27 16:48:00-07:00   \n",
       "\n",
       "   shipment_method_id  shipping_fee  carrier_min_estimate  \\\n",
       "0                   0           0.0                     3   \n",
       "1                   0           3.0                     3   \n",
       "2                   0           4.5                     3   \n",
       "3                   0           0.0                     3   \n",
       "4                   0           0.0                     3   \n",
       "\n",
       "   carrier_max_estimate    item_zip buyer_zip  category_id  ...  \\\n",
       "0                     5       97219     49040           13  ...   \n",
       "1                     5  11415-3528     62521            0  ...   \n",
       "2                     5       27292     53010            1  ...   \n",
       "3                     5       90703     80022            1  ...   \n",
       "4                     5       90703     55070            1  ...   \n",
       "\n",
       "   delivery_date_year delivery_date_month delivery_date_week  \\\n",
       "0                2019                   3                 13   \n",
       "1                2018                   6                 23   \n",
       "2                2019                   1                  2   \n",
       "3                2018                  12                 51   \n",
       "4                2018                   7                 31   \n",
       "\n",
       "   delivery_date_weekday  delivery_date_day_of_year  payment_datetime_year  \\\n",
       "0                      5                         96                   2019   \n",
       "1                      2                        163                   2018   \n",
       "2                      4                         18                   2019   \n",
       "3                      5                        362                   2018   \n",
       "4                      1                        218                   2018   \n",
       "\n",
       "   payment_datetime_month  payment_datetime_week  payment_datetime_weekday  \\\n",
       "0                       3                     12                         7   \n",
       "1                       6                     22                         5   \n",
       "2                       1                      1                         7   \n",
       "3                      12                     50                         7   \n",
       "4                       7                     30                         4   \n",
       "\n",
       "   payment_datetime_day_of_year  \n",
       "0                            91  \n",
       "1                           159  \n",
       "2                            14  \n",
       "3                           357  \n",
       "4                           214  \n",
       "\n",
       "[5 rows x 26 columns]"
      ]
     },
     "execution_count": 141,
     "metadata": {},
     "output_type": "execute_result"
    }
   ],
   "source": [
    "training_data.head(5)"
   ]
  },
  {
   "cell_type": "code",
   "execution_count": 142,
   "id": "92cdd5a8",
   "metadata": {},
   "outputs": [],
   "source": [
    "def plotCategoricalValues(columns):\n",
    "    for col in columns:\n",
    "        training_data[col].value_counts().plot(kind='bar')\n",
    "        plt.ylabel(col)\n",
    "        plt.show()"
   ]
  },
  {
   "cell_type": "code",
   "execution_count": 143,
   "id": "eefcfd43",
   "metadata": {},
   "outputs": [],
   "source": [
    "categorical_values = ['b2c_c2c', 'package_size']"
   ]
  },
  {
   "cell_type": "code",
   "execution_count": 144,
   "id": "c90327b4",
   "metadata": {},
   "outputs": [
    {
     "data": {
      "image/png": "[encoded data removed]",
      "text/plain": [
       "<Figure size 432x288 with 1 Axes>"
      ]
     },
     "metadata": {
      "needs_background": "light"
     },
     "output_type": "display_data"
    },
    {
     "data": {
      "image/png": "[encoded data removed]",
      "text/plain": [
       "<Figure size 432x288 with 1 Axes>"
      ]
     },
     "metadata": {
      "needs_background": "light"
     },
     "output_type": "display_data"
    }
   ],
   "source": [
    "plotCategoricalValues(categorical_values)"
   ]
  },
  {
   "cell_type": "code",
   "execution_count": 145,
   "id": "ad7228be",
   "metadata": {},
   "outputs": [
    {
     "data": {
      "text/html": [
       "<div>\n",
       "<style scoped>\n",
       "    .dataframe tbody tr th:only-of-type {\n",
       "        vertical-align: middle;\n",
       "    }\n",
       "\n",
       "    .dataframe tbody tr th {\n",
       "        vertical-align: top;\n",
       "    }\n",
       "\n",
       "    .dataframe thead th {\n",
       "        text-align: right;\n",
       "    }\n",
       "</style>\n",
       "<table border=\"1\" class=\"dataframe\">\n",
       "  <thead>\n",
       "    <tr style=\"text-align: right;\">\n",
       "      <th></th>\n",
       "      <th>b2c_c2c</th>\n",
       "      <th>declared_handling_days</th>\n",
       "      <th>acceptance_scan_timestamp</th>\n",
       "      <th>shipment_method_id</th>\n",
       "      <th>shipping_fee</th>\n",
       "      <th>carrier_min_estimate</th>\n",
       "      <th>carrier_max_estimate</th>\n",
       "      <th>item_zip</th>\n",
       "      <th>buyer_zip</th>\n",
       "      <th>category_id</th>\n",
       "      <th>...</th>\n",
       "      <th>delivery_date_year</th>\n",
       "      <th>delivery_date_month</th>\n",
       "      <th>delivery_date_week</th>\n",
       "      <th>delivery_date_weekday</th>\n",
       "      <th>delivery_date_day_of_year</th>\n",
       "      <th>payment_datetime_year</th>\n",
       "      <th>payment_datetime_month</th>\n",
       "      <th>payment_datetime_week</th>\n",
       "      <th>payment_datetime_weekday</th>\n",
       "      <th>payment_datetime_day_of_year</th>\n",
       "    </tr>\n",
       "  </thead>\n",
       "  <tbody>\n",
       "    <tr>\n",
       "      <th>0</th>\n",
       "      <td>0</td>\n",
       "      <td>3.0</td>\n",
       "      <td>2019-03-26 15:11:00-07:00</td>\n",
       "      <td>0</td>\n",
       "      <td>0.0</td>\n",
       "      <td>3</td>\n",
       "      <td>5</td>\n",
       "      <td>97219</td>\n",
       "      <td>49040</td>\n",
       "      <td>13</td>\n",
       "      <td>...</td>\n",
       "      <td>2019</td>\n",
       "      <td>3</td>\n",
       "      <td>13</td>\n",
       "      <td>5</td>\n",
       "      <td>96</td>\n",
       "      <td>2019</td>\n",
       "      <td>3</td>\n",
       "      <td>12</td>\n",
       "      <td>7</td>\n",
       "      <td>91</td>\n",
       "    </tr>\n",
       "    <tr>\n",
       "      <th>1</th>\n",
       "      <td>1</td>\n",
       "      <td>2.0</td>\n",
       "      <td>2018-06-02 12:53:00-07:00</td>\n",
       "      <td>0</td>\n",
       "      <td>3.0</td>\n",
       "      <td>3</td>\n",
       "      <td>5</td>\n",
       "      <td>11415-3528</td>\n",
       "      <td>62521</td>\n",
       "      <td>0</td>\n",
       "      <td>...</td>\n",
       "      <td>2018</td>\n",
       "      <td>6</td>\n",
       "      <td>23</td>\n",
       "      <td>2</td>\n",
       "      <td>163</td>\n",
       "      <td>2018</td>\n",
       "      <td>6</td>\n",
       "      <td>22</td>\n",
       "      <td>5</td>\n",
       "      <td>159</td>\n",
       "    </tr>\n",
       "    <tr>\n",
       "      <th>2</th>\n",
       "      <td>0</td>\n",
       "      <td>1.0</td>\n",
       "      <td>2019-01-07 16:22:00-05:00</td>\n",
       "      <td>0</td>\n",
       "      <td>4.5</td>\n",
       "      <td>3</td>\n",
       "      <td>5</td>\n",
       "      <td>27292</td>\n",
       "      <td>53010</td>\n",
       "      <td>1</td>\n",
       "      <td>...</td>\n",
       "      <td>2019</td>\n",
       "      <td>1</td>\n",
       "      <td>2</td>\n",
       "      <td>4</td>\n",
       "      <td>18</td>\n",
       "      <td>2019</td>\n",
       "      <td>1</td>\n",
       "      <td>1</td>\n",
       "      <td>7</td>\n",
       "      <td>14</td>\n",
       "    </tr>\n",
       "    <tr>\n",
       "      <th>3</th>\n",
       "      <td>0</td>\n",
       "      <td>1.0</td>\n",
       "      <td>2018-12-17 16:56:00-08:00</td>\n",
       "      <td>0</td>\n",
       "      <td>0.0</td>\n",
       "      <td>3</td>\n",
       "      <td>5</td>\n",
       "      <td>90703</td>\n",
       "      <td>80022</td>\n",
       "      <td>1</td>\n",
       "      <td>...</td>\n",
       "      <td>2018</td>\n",
       "      <td>12</td>\n",
       "      <td>51</td>\n",
       "      <td>5</td>\n",
       "      <td>362</td>\n",
       "      <td>2018</td>\n",
       "      <td>12</td>\n",
       "      <td>50</td>\n",
       "      <td>7</td>\n",
       "      <td>357</td>\n",
       "    </tr>\n",
       "    <tr>\n",
       "      <th>4</th>\n",
       "      <td>0</td>\n",
       "      <td>1.0</td>\n",
       "      <td>2018-07-27 16:48:00-07:00</td>\n",
       "      <td>0</td>\n",
       "      <td>0.0</td>\n",
       "      <td>3</td>\n",
       "      <td>5</td>\n",
       "      <td>90703</td>\n",
       "      <td>55070</td>\n",
       "      <td>1</td>\n",
       "      <td>...</td>\n",
       "      <td>2018</td>\n",
       "      <td>7</td>\n",
       "      <td>31</td>\n",
       "      <td>1</td>\n",
       "      <td>218</td>\n",
       "      <td>2018</td>\n",
       "      <td>7</td>\n",
       "      <td>30</td>\n",
       "      <td>4</td>\n",
       "      <td>214</td>\n",
       "    </tr>\n",
       "  </tbody>\n",
       "</table>\n",
       "<p>5 rows × 26 columns</p>\n",
       "</div>"
      ],
      "text/plain": [
       "   b2c_c2c  declared_handling_days  acceptance_scan_timestamp  \\\n",
       "0        0                     3.0  2019-03-26 15:11:00-07:00   \n",
       "1        1                     2.0  2018-06-02 12:53:00-07:00   \n",
       "2        0                     1.0  2019-01-07 16:22:00-05:00   \n",
       "3        0                     1.0  2018-12-17 16:56:00-08:00   \n",
       "4        0                     1.0  2018-07-27 16:48:00-07:00   \n",
       "\n",
       "   shipment_method_id  shipping_fee  carrier_min_estimate  \\\n",
       "0                   0           0.0                     3   \n",
       "1                   0           3.0                     3   \n",
       "2                   0           4.5                     3   \n",
       "3                   0           0.0                     3   \n",
       "4                   0           0.0                     3   \n",
       "\n",
       "   carrier_max_estimate    item_zip buyer_zip  category_id  ...  \\\n",
       "0                     5       97219     49040           13  ...   \n",
       "1                     5  11415-3528     62521            0  ...   \n",
       "2                     5       27292     53010            1  ...   \n",
       "3                     5       90703     80022            1  ...   \n",
       "4                     5       90703     55070            1  ...   \n",
       "\n",
       "   delivery_date_year delivery_date_month delivery_date_week  \\\n",
       "0                2019                   3                 13   \n",
       "1                2018                   6                 23   \n",
       "2                2019                   1                  2   \n",
       "3                2018                  12                 51   \n",
       "4                2018                   7                 31   \n",
       "\n",
       "   delivery_date_weekday  delivery_date_day_of_year  payment_datetime_year  \\\n",
       "0                      5                         96                   2019   \n",
       "1                      2                        163                   2018   \n",
       "2                      4                         18                   2019   \n",
       "3                      5                        362                   2018   \n",
       "4                      1                        218                   2018   \n",
       "\n",
       "   payment_datetime_month  payment_datetime_week  payment_datetime_weekday  \\\n",
       "0                       3                     12                         7   \n",
       "1                       6                     22                         5   \n",
       "2                       1                      1                         7   \n",
       "3                      12                     50                         7   \n",
       "4                       7                     30                         4   \n",
       "\n",
       "   payment_datetime_day_of_year  \n",
       "0                            91  \n",
       "1                           159  \n",
       "2                            14  \n",
       "3                           357  \n",
       "4                           214  \n",
       "\n",
       "[5 rows x 26 columns]"
      ]
     },
     "execution_count": 145,
     "metadata": {},
     "output_type": "execute_result"
    }
   ],
   "source": [
    "le = LabelEncoder() \n",
    "training_data[categorical_values] = training_data[categorical_values].apply(lambda col: le.fit_transform(col)) \n",
    "training_data.head(5)"
   ]
  },
  {
   "cell_type": "code",
   "execution_count": 146,
   "id": "33d42c2a",
   "metadata": {},
   "outputs": [
    {
     "data": {
      "text/plain": [
       "Index(['b2c_c2c', 'declared_handling_days', 'acceptance_scan_timestamp',\n",
       "       'shipment_method_id', 'shipping_fee', 'carrier_min_estimate',\n",
       "       'carrier_max_estimate', 'item_zip', 'buyer_zip', 'category_id',\n",
       "       'quantity', 'payment_datetime', 'delivery_date', 'weight',\n",
       "       'package_size', 'delivery_calendar_days', 'delivery_date_year',\n",
       "       'delivery_date_month', 'delivery_date_week', 'delivery_date_weekday',\n",
       "       'delivery_date_day_of_year', 'payment_datetime_year',\n",
       "       'payment_datetime_month', 'payment_datetime_week',\n",
       "       'payment_datetime_weekday', 'payment_datetime_day_of_year'],\n",
       "      dtype='object')"
      ]
     },
     "execution_count": 146,
     "metadata": {},
     "output_type": "execute_result"
    }
   ],
   "source": [
    "training_data.columns"
   ]
  },
  {
   "cell_type": "markdown",
   "id": "6b856468",
   "metadata": {},
   "source": [
    "# Handle discrete features"
   ]
  },
  {
   "cell_type": "code",
   "execution_count": 147,
   "id": "2b4892f2",
   "metadata": {},
   "outputs": [
    {
     "name": "stdout",
     "output_type": "stream",
     "text": [
      "['carrier_max_estimate', 'carrier_min_estimate', 'shipment_method_id', 'package_size', 'b2c_c2c', 'declared_handling_days'] 6\n"
     ]
    }
   ],
   "source": [
    "discrete_columns = [col for col in columns_without_datetime if len(training_data[col].unique()) < 25]\n",
    "print(discrete_columns, len(discrete_columns))"
   ]
  },
  {
   "cell_type": "code",
   "execution_count": 148,
   "id": "028f8b9d",
   "metadata": {},
   "outputs": [
    {
     "data": {
      "image/png": "[encoded data removed]",
      "text/plain": [
       "<Figure size 432x288 with 1 Axes>"
      ]
     },
     "metadata": {
      "needs_background": "light"
     },
     "output_type": "display_data"
    },
    {
     "data": {
      "image/png": "[encoded data removed]",
      "text/plain": [
       "<Figure size 432x288 with 1 Axes>"
      ]
     },
     "metadata": {
      "needs_background": "light"
     },
     "output_type": "display_data"
    },
    {
     "data": {
      "image/png": "[encoded data removed]",
      "text/plain": [
       "<Figure size 432x288 with 1 Axes>"
      ]
     },
     "metadata": {
      "needs_background": "light"
     },
     "output_type": "display_data"
    },
    {
     "data": {
      "image/png": "[encoded data removed]",
      "text/plain": [
       "<Figure size 432x288 with 1 Axes>"
      ]
     },
     "metadata": {
      "needs_background": "light"
     },
     "output_type": "display_data"
    },
    {
     "data": {
      "image/png": "[encoded data removed]",
      "text/plain": [
       "<Figure size 432x288 with 1 Axes>"
      ]
     },
     "metadata": {
      "needs_background": "light"
     },
     "output_type": "display_data"
    },
    {
     "data": {
      "image/png": "[encoded data removed]",
      "text/plain": [
       "<Figure size 432x288 with 1 Axes>"
      ]
     },
     "metadata": {
      "needs_background": "light"
     },
     "output_type": "display_data"
    }
   ],
   "source": [
    "for col in discrete_columns:\n",
    "    data = training_data.copy()\n",
    "    data.groupby(col)['delivery_calendar_days'].median().plot.bar()\n",
    "    plt.title(col)\n",
    "    plt.xlabel(col)\n",
    "    plt.ylabel('delivery_calendar_days')\n",
    "    plt.show()"
   ]
  },
  {
   "cell_type": "markdown",
   "id": "83d456ef",
   "metadata": {},
   "source": [
    "# Handle continuous features"
   ]
  },
  {
   "cell_type": "code",
   "execution_count": 149,
   "id": "18418b92",
   "metadata": {},
   "outputs": [],
   "source": [
    "continous_feature = list(set(columns_without_datetime) - set(discrete_columns))"
   ]
  },
  {
   "cell_type": "code",
   "execution_count": 150,
   "id": "5b5e5481",
   "metadata": {},
   "outputs": [
    {
     "data": {
      "text/plain": [
       "['buyer_zip',\n",
       " 'quantity',\n",
       " 'item_zip',\n",
       " 'category_id',\n",
       " 'shipping_fee',\n",
       " 'weight',\n",
       " 'delivery_calendar_days']"
      ]
     },
     "execution_count": 150,
     "metadata": {},
     "output_type": "execute_result"
    }
   ],
   "source": [
    "continous_feature"
   ]
  },
  {
   "cell_type": "code",
   "execution_count": 151,
   "id": "65163a70",
   "metadata": {},
   "outputs": [
    {
     "name": "stderr",
     "output_type": "stream",
     "text": [
      "/home/monisha/.local/lib/python3.8/site-packages/IPython/core/pylabtools.py:151: UserWarning: Glyph 28145 (\\N{CJK UNIFIED IDEOGRAPH-6DF1}) missing from current font.\n",
      "  fig.canvas.print_figure(bytes_io, **kw)\n",
      "/home/monisha/.local/lib/python3.8/site-packages/IPython/core/pylabtools.py:151: UserWarning: Glyph 22323 (\\N{CJK UNIFIED IDEOGRAPH-5733}) missing from current font.\n",
      "  fig.canvas.print_figure(bytes_io, **kw)\n"
     ]
    },
    {
     "data": {
      "image/png": "[encoded data removed]",
      "text/plain": [
       "<Figure size 432x288 with 1 Axes>"
      ]
     },
     "metadata": {
      "needs_background": "light"
     },
     "output_type": "display_data"
    }
   ],
   "source": [
    "for col in continous_feature:\n",
    "#     print(col)\n",
    "    data = training_data.copy()\n",
    "    data[col].hist(bins=20)\n",
    "    plt.xlabel(col)\n",
    "    plt.ylabel('count')\n",
    "    plt.title(col)\n",
    "    plt.show"
   ]
  },
  {
   "cell_type": "markdown",
   "id": "27a69bd4",
   "metadata": {},
   "source": [
    "# Correlation"
   ]
  },
  {
   "cell_type": "code",
   "execution_count": 113,
   "id": "c8109c8f",
   "metadata": {},
   "outputs": [
    {
     "name": "stdout",
     "output_type": "stream",
     "text": [
      "<class 'pandas.core.frame.DataFrame'>\n",
      "Int64Index: 88169 entries, 0 to 99999\n",
      "Data columns (total 27 columns):\n",
      " #   Column                        Non-Null Count  Dtype         \n",
      "---  ------                        --------------  -----         \n",
      " 0   b2c_c2c                       88169 non-null  int64         \n",
      " 1   seller_id                     88169 non-null  int64         \n",
      " 2   declared_handling_days        88169 non-null  float64       \n",
      " 3   acceptance_scan_timestamp     88169 non-null  object        \n",
      " 4   shipment_method_id            88169 non-null  int64         \n",
      " 5   shipping_fee                  88169 non-null  float64       \n",
      " 6   carrier_min_estimate          88169 non-null  int64         \n",
      " 7   carrier_max_estimate          88169 non-null  int64         \n",
      " 8   item_zip                      88169 non-null  object        \n",
      " 9   buyer_zip                     88169 non-null  object        \n",
      " 10  category_id                   88169 non-null  int64         \n",
      " 11  quantity                      88169 non-null  int64         \n",
      " 12  payment_datetime              88169 non-null  object        \n",
      " 13  delivery_date                 88169 non-null  datetime64[ns]\n",
      " 14  weight                        88169 non-null  int64         \n",
      " 15  package_size                  88169 non-null  int64         \n",
      " 16  delivery_calendar_days        88169 non-null  int64         \n",
      " 17  delivery_date_year            88169 non-null  int64         \n",
      " 18  delivery_date_month           88169 non-null  int64         \n",
      " 19  delivery_date_week            88169 non-null  int64         \n",
      " 20  delivery_date_weekday         88169 non-null  int64         \n",
      " 21  delivery_date_day_of_year     88169 non-null  int64         \n",
      " 22  payment_datetime_year         88169 non-null  int64         \n",
      " 23  payment_datetime_month        88169 non-null  int64         \n",
      " 24  payment_datetime_week         88169 non-null  int64         \n",
      " 25  payment_datetime_weekday      88169 non-null  int64         \n",
      " 26  payment_datetime_day_of_year  88169 non-null  int64         \n",
      "dtypes: datetime64[ns](1), float64(2), int64(20), object(4)\n",
      "memory usage: 20.9+ MB\n"
     ]
    }
   ],
   "source": [
    "training_data.info()"
   ]
  },
  {
   "cell_type": "code",
   "execution_count": 114,
   "id": "79676e20",
   "metadata": {},
   "outputs": [
    {
     "data": {
      "text/plain": [
       "b2c_c2c                         0.058281\n",
       "seller_id                       0.067204\n",
       "declared_handling_days          0.292689\n",
       "shipment_method_id              0.027302\n",
       "shipping_fee                    0.024448\n",
       "carrier_min_estimate           -0.029442\n",
       "carrier_max_estimate            0.123699\n",
       "category_id                     0.075236\n",
       "quantity                        0.015641\n",
       "weight                          0.017678\n",
       "package_size                   -0.009675\n",
       "delivery_calendar_days          1.000000\n",
       "delivery_date_year              0.000363\n",
       "delivery_date_month             0.016480\n",
       "delivery_date_week              0.015859\n",
       "delivery_date_weekday          -0.078491\n",
       "delivery_date_day_of_year       0.014436\n",
       "payment_datetime_year          -0.013767\n",
       "payment_datetime_month          0.010231\n",
       "payment_datetime_week           0.007694\n",
       "payment_datetime_weekday        0.072075\n",
       "payment_datetime_day_of_year    0.009179\n",
       "Name: delivery_calendar_days, dtype: float64"
      ]
     },
     "execution_count": 114,
     "metadata": {},
     "output_type": "execute_result"
    }
   ],
   "source": [
    "num_corr = training_data.corr()['delivery_calendar_days']\n",
    "num_corr"
   ]
  },
  {
   "cell_type": "code",
   "execution_count": 115,
   "id": "df5e6fe9",
   "metadata": {},
   "outputs": [],
   "source": [
    "correlated_features_list = num_corr[abs(num_corr) > 0.05].sort_values(ascending=False)"
   ]
  },
  {
   "cell_type": "code",
   "execution_count": 116,
   "id": "39bec221",
   "metadata": {},
   "outputs": [
    {
     "data": {
      "text/plain": [
       "delivery_calendar_days      1.000000\n",
       "declared_handling_days      0.292689\n",
       "carrier_max_estimate        0.123699\n",
       "category_id                 0.075236\n",
       "payment_datetime_weekday    0.072075\n",
       "seller_id                   0.067204\n",
       "b2c_c2c                     0.058281\n",
       "delivery_date_weekday      -0.078491\n",
       "Name: delivery_calendar_days, dtype: float64"
      ]
     },
     "execution_count": 116,
     "metadata": {},
     "output_type": "execute_result"
    }
   ],
   "source": [
    "correlated_features_list"
   ]
  },
  {
   "cell_type": "markdown",
   "id": "341ae061",
   "metadata": {},
   "source": [
    "# Check consistance between delivery and payment date"
   ]
  },
  {
   "cell_type": "code",
   "execution_count": 152,
   "id": "43f43a62",
   "metadata": {},
   "outputs": [
    {
     "data": {
      "text/plain": [
       "['delivery_date_year',\n",
       " 'delivery_date_month',\n",
       " 'delivery_date_week',\n",
       " 'delivery_date_weekday',\n",
       " 'delivery_date_day_of_year',\n",
       " 'payment_datetime_year',\n",
       " 'payment_datetime_month',\n",
       " 'payment_datetime_week',\n",
       " 'payment_datetime_weekday',\n",
       " 'payment_datetime_day_of_year',\n",
       " 'payment_datetime',\n",
       " 'delivery_date',\n",
       " 'acceptance_scan_timestamp']"
      ]
     },
     "execution_count": 152,
     "metadata": {},
     "output_type": "execute_result"
    }
   ],
   "source": [
    "data_time_var"
   ]
  },
  {
   "cell_type": "code",
   "execution_count": 154,
   "id": "ab592fe7",
   "metadata": {},
   "outputs": [
    {
     "data": {
      "text/html": [
       "<div>\n",
       "<style scoped>\n",
       "    .dataframe tbody tr th:only-of-type {\n",
       "        vertical-align: middle;\n",
       "    }\n",
       "\n",
       "    .dataframe tbody tr th {\n",
       "        vertical-align: top;\n",
       "    }\n",
       "\n",
       "    .dataframe thead th {\n",
       "        text-align: right;\n",
       "    }\n",
       "</style>\n",
       "<table border=\"1\" class=\"dataframe\">\n",
       "  <thead>\n",
       "    <tr style=\"text-align: right;\">\n",
       "      <th></th>\n",
       "      <th>payment_datetime</th>\n",
       "      <th>delivery_date</th>\n",
       "    </tr>\n",
       "  </thead>\n",
       "  <tbody>\n",
       "    <tr>\n",
       "      <th>0</th>\n",
       "      <td>2019-03-24 03:56:49-07:00</td>\n",
       "      <td>2019-03-29</td>\n",
       "    </tr>\n",
       "    <tr>\n",
       "      <th>1</th>\n",
       "      <td>2018-06-01 13:43:54-07:00</td>\n",
       "      <td>2018-06-05</td>\n",
       "    </tr>\n",
       "    <tr>\n",
       "      <th>2</th>\n",
       "      <td>2019-01-06 00:02:00-05:00</td>\n",
       "      <td>2019-01-10</td>\n",
       "    </tr>\n",
       "    <tr>\n",
       "      <th>3</th>\n",
       "      <td>2018-12-16 10:28:28-08:00</td>\n",
       "      <td>2018-12-21</td>\n",
       "    </tr>\n",
       "    <tr>\n",
       "      <th>4</th>\n",
       "      <td>2018-07-26 18:20:02-07:00</td>\n",
       "      <td>2018-07-30</td>\n",
       "    </tr>\n",
       "    <tr>\n",
       "      <th>...</th>\n",
       "      <td>...</td>\n",
       "      <td>...</td>\n",
       "    </tr>\n",
       "    <tr>\n",
       "      <th>99995</th>\n",
       "      <td>2018-07-22 12:35:12-07:00</td>\n",
       "      <td>2018-07-24</td>\n",
       "    </tr>\n",
       "    <tr>\n",
       "      <th>99996</th>\n",
       "      <td>2018-04-16 08:55:56-05:00</td>\n",
       "      <td>2018-04-20</td>\n",
       "    </tr>\n",
       "    <tr>\n",
       "      <th>99997</th>\n",
       "      <td>2018-04-26 11:52:36-04:00</td>\n",
       "      <td>2018-04-30</td>\n",
       "    </tr>\n",
       "    <tr>\n",
       "      <th>99998</th>\n",
       "      <td>2018-08-20 10:31:39-04:00</td>\n",
       "      <td>2018-08-22</td>\n",
       "    </tr>\n",
       "    <tr>\n",
       "      <th>99999</th>\n",
       "      <td>2018-07-21 18:10:24-07:00</td>\n",
       "      <td>2018-07-27</td>\n",
       "    </tr>\n",
       "  </tbody>\n",
       "</table>\n",
       "<p>88169 rows × 2 columns</p>\n",
       "</div>"
      ],
      "text/plain": [
       "                payment_datetime delivery_date\n",
       "0      2019-03-24 03:56:49-07:00    2019-03-29\n",
       "1      2018-06-01 13:43:54-07:00    2018-06-05\n",
       "2      2019-01-06 00:02:00-05:00    2019-01-10\n",
       "3      2018-12-16 10:28:28-08:00    2018-12-21\n",
       "4      2018-07-26 18:20:02-07:00    2018-07-30\n",
       "...                          ...           ...\n",
       "99995  2018-07-22 12:35:12-07:00    2018-07-24\n",
       "99996  2018-04-16 08:55:56-05:00    2018-04-20\n",
       "99997  2018-04-26 11:52:36-04:00    2018-04-30\n",
       "99998  2018-08-20 10:31:39-04:00    2018-08-22\n",
       "99999  2018-07-21 18:10:24-07:00    2018-07-27\n",
       "\n",
       "[88169 rows x 2 columns]"
      ]
     },
     "execution_count": 154,
     "metadata": {},
     "output_type": "execute_result"
    }
   ],
   "source": [
    "training_data[['payment_datetime', 'delivery_date']]"
   ]
  },
  {
   "cell_type": "code",
   "execution_count": 187,
   "id": "07d3d0c8",
   "metadata": {},
   "outputs": [],
   "source": [
    "data = training_data[training_data['delivery_date_day_of_year'] < training_data['payment_datetime_day_of_year']]"
   ]
  },
  {
   "cell_type": "code",
   "execution_count": 188,
   "id": "40bc7c56",
   "metadata": {},
   "outputs": [
    {
     "data": {
      "text/plain": [
       "745"
      ]
     },
     "execution_count": 188,
     "metadata": {},
     "output_type": "execute_result"
    }
   ],
   "source": [
    "len(data)"
   ]
  },
  {
   "cell_type": "code",
   "execution_count": 189,
   "id": "77514ae8",
   "metadata": {},
   "outputs": [
    {
     "data": {
      "text/html": [
       "<div>\n",
       "<style scoped>\n",
       "    .dataframe tbody tr th:only-of-type {\n",
       "        vertical-align: middle;\n",
       "    }\n",
       "\n",
       "    .dataframe tbody tr th {\n",
       "        vertical-align: top;\n",
       "    }\n",
       "\n",
       "    .dataframe thead th {\n",
       "        text-align: right;\n",
       "    }\n",
       "</style>\n",
       "<table border=\"1\" class=\"dataframe\">\n",
       "  <thead>\n",
       "    <tr style=\"text-align: right;\">\n",
       "      <th></th>\n",
       "      <th>payment_datetime</th>\n",
       "      <th>delivery_date</th>\n",
       "      <th>delivery_date_day_of_year</th>\n",
       "      <th>payment_datetime_day_of_year</th>\n",
       "    </tr>\n",
       "  </thead>\n",
       "  <tbody>\n",
       "    <tr>\n",
       "      <th>226</th>\n",
       "      <td>2018-12-29 13:39:32-06:00</td>\n",
       "      <td>2019-01-04</td>\n",
       "      <td>12</td>\n",
       "      <td>370</td>\n",
       "    </tr>\n",
       "    <tr>\n",
       "      <th>235</th>\n",
       "      <td>2018-12-28 11:10:03-08:00</td>\n",
       "      <td>2019-01-02</td>\n",
       "      <td>10</td>\n",
       "      <td>369</td>\n",
       "    </tr>\n",
       "    <tr>\n",
       "      <th>763</th>\n",
       "      <td>2018-12-30 12:15:45-06:00</td>\n",
       "      <td>2019-01-03</td>\n",
       "      <td>11</td>\n",
       "      <td>371</td>\n",
       "    </tr>\n",
       "    <tr>\n",
       "      <th>767</th>\n",
       "      <td>2018-12-28 14:25:52-07:00</td>\n",
       "      <td>2019-01-02</td>\n",
       "      <td>10</td>\n",
       "      <td>369</td>\n",
       "    </tr>\n",
       "    <tr>\n",
       "      <th>780</th>\n",
       "      <td>2018-12-28 17:11:30-07:00</td>\n",
       "      <td>2019-01-02</td>\n",
       "      <td>10</td>\n",
       "      <td>369</td>\n",
       "    </tr>\n",
       "    <tr>\n",
       "      <th>...</th>\n",
       "      <td>...</td>\n",
       "      <td>...</td>\n",
       "      <td>...</td>\n",
       "      <td>...</td>\n",
       "    </tr>\n",
       "    <tr>\n",
       "      <th>98140</th>\n",
       "      <td>2018-12-30 21:04:43-05:00</td>\n",
       "      <td>2019-01-08</td>\n",
       "      <td>16</td>\n",
       "      <td>371</td>\n",
       "    </tr>\n",
       "    <tr>\n",
       "      <th>98444</th>\n",
       "      <td>2018-12-26 19:22:49-05:00</td>\n",
       "      <td>2018-12-31</td>\n",
       "      <td>8</td>\n",
       "      <td>367</td>\n",
       "    </tr>\n",
       "    <tr>\n",
       "      <th>98658</th>\n",
       "      <td>2018-12-25 00:30:45-05:00</td>\n",
       "      <td>2018-12-31</td>\n",
       "      <td>8</td>\n",
       "      <td>366</td>\n",
       "    </tr>\n",
       "    <tr>\n",
       "      <th>99025</th>\n",
       "      <td>2018-12-28 13:48:13-08:00</td>\n",
       "      <td>2019-01-08</td>\n",
       "      <td>16</td>\n",
       "      <td>369</td>\n",
       "    </tr>\n",
       "    <tr>\n",
       "      <th>99519</th>\n",
       "      <td>2018-12-27 15:32:30-06:00</td>\n",
       "      <td>2018-12-31</td>\n",
       "      <td>8</td>\n",
       "      <td>368</td>\n",
       "    </tr>\n",
       "  </tbody>\n",
       "</table>\n",
       "<p>745 rows × 4 columns</p>\n",
       "</div>"
      ],
      "text/plain": [
       "                payment_datetime delivery_date  delivery_date_day_of_year  \\\n",
       "226    2018-12-29 13:39:32-06:00    2019-01-04                         12   \n",
       "235    2018-12-28 11:10:03-08:00    2019-01-02                         10   \n",
       "763    2018-12-30 12:15:45-06:00    2019-01-03                         11   \n",
       "767    2018-12-28 14:25:52-07:00    2019-01-02                         10   \n",
       "780    2018-12-28 17:11:30-07:00    2019-01-02                         10   \n",
       "...                          ...           ...                        ...   \n",
       "98140  2018-12-30 21:04:43-05:00    2019-01-08                         16   \n",
       "98444  2018-12-26 19:22:49-05:00    2018-12-31                          8   \n",
       "98658  2018-12-25 00:30:45-05:00    2018-12-31                          8   \n",
       "99025  2018-12-28 13:48:13-08:00    2019-01-08                         16   \n",
       "99519  2018-12-27 15:32:30-06:00    2018-12-31                          8   \n",
       "\n",
       "       payment_datetime_day_of_year  \n",
       "226                             370  \n",
       "235                             369  \n",
       "763                             371  \n",
       "767                             369  \n",
       "780                             369  \n",
       "...                             ...  \n",
       "98140                           371  \n",
       "98444                           367  \n",
       "98658                           366  \n",
       "99025                           369  \n",
       "99519                           368  \n",
       "\n",
       "[745 rows x 4 columns]"
      ]
     },
     "execution_count": 189,
     "metadata": {},
     "output_type": "execute_result"
    }
   ],
   "source": [
    "data[['payment_datetime', 'delivery_date', 'delivery_date_day_of_year', 'payment_datetime_day_of_year']]"
   ]
  },
  {
   "cell_type": "code",
   "execution_count": 181,
   "id": "962679f5",
   "metadata": {},
   "outputs": [],
   "source": [
    "data2 = data[data['delivery_date_month'] == data['payment_datetime_month']]"
   ]
  },
  {
   "cell_type": "code",
   "execution_count": 182,
   "id": "8fca9672",
   "metadata": {},
   "outputs": [
    {
     "data": {
      "text/plain": [
       "42649"
      ]
     },
     "execution_count": 182,
     "metadata": {},
     "output_type": "execute_result"
    }
   ],
   "source": [
    "len(data2)"
   ]
  },
  {
   "cell_type": "code",
   "execution_count": 183,
   "id": "dc9332c1",
   "metadata": {},
   "outputs": [
    {
     "data": {
      "text/html": [
       "<div>\n",
       "<style scoped>\n",
       "    .dataframe tbody tr th:only-of-type {\n",
       "        vertical-align: middle;\n",
       "    }\n",
       "\n",
       "    .dataframe tbody tr th {\n",
       "        vertical-align: top;\n",
       "    }\n",
       "\n",
       "    .dataframe thead th {\n",
       "        text-align: right;\n",
       "    }\n",
       "</style>\n",
       "<table border=\"1\" class=\"dataframe\">\n",
       "  <thead>\n",
       "    <tr style=\"text-align: right;\">\n",
       "      <th></th>\n",
       "      <th>payment_datetime</th>\n",
       "      <th>delivery_date</th>\n",
       "    </tr>\n",
       "  </thead>\n",
       "  <tbody>\n",
       "    <tr>\n",
       "      <th>0</th>\n",
       "      <td>2019-03-24 03:56:49-07:00</td>\n",
       "      <td>2019-03-29</td>\n",
       "    </tr>\n",
       "    <tr>\n",
       "      <th>1</th>\n",
       "      <td>2018-06-01 13:43:54-07:00</td>\n",
       "      <td>2018-06-05</td>\n",
       "    </tr>\n",
       "    <tr>\n",
       "      <th>2</th>\n",
       "      <td>2019-01-06 00:02:00-05:00</td>\n",
       "      <td>2019-01-10</td>\n",
       "    </tr>\n",
       "    <tr>\n",
       "      <th>3</th>\n",
       "      <td>2018-12-16 10:28:28-08:00</td>\n",
       "      <td>2018-12-21</td>\n",
       "    </tr>\n",
       "    <tr>\n",
       "      <th>4</th>\n",
       "      <td>2018-07-26 18:20:02-07:00</td>\n",
       "      <td>2018-07-30</td>\n",
       "    </tr>\n",
       "    <tr>\n",
       "      <th>...</th>\n",
       "      <td>...</td>\n",
       "      <td>...</td>\n",
       "    </tr>\n",
       "    <tr>\n",
       "      <th>99992</th>\n",
       "      <td>2018-04-14 11:48:55-07:00</td>\n",
       "      <td>2018-04-19</td>\n",
       "    </tr>\n",
       "    <tr>\n",
       "      <th>99994</th>\n",
       "      <td>2018-06-09 14:11:12-07:00</td>\n",
       "      <td>2018-06-13</td>\n",
       "    </tr>\n",
       "    <tr>\n",
       "      <th>99995</th>\n",
       "      <td>2018-07-22 12:35:12-07:00</td>\n",
       "      <td>2018-07-24</td>\n",
       "    </tr>\n",
       "    <tr>\n",
       "      <th>99997</th>\n",
       "      <td>2018-04-26 11:52:36-04:00</td>\n",
       "      <td>2018-04-30</td>\n",
       "    </tr>\n",
       "    <tr>\n",
       "      <th>99999</th>\n",
       "      <td>2018-07-21 18:10:24-07:00</td>\n",
       "      <td>2018-07-27</td>\n",
       "    </tr>\n",
       "  </tbody>\n",
       "</table>\n",
       "<p>42649 rows × 2 columns</p>\n",
       "</div>"
      ],
      "text/plain": [
       "                payment_datetime delivery_date\n",
       "0      2019-03-24 03:56:49-07:00    2019-03-29\n",
       "1      2018-06-01 13:43:54-07:00    2018-06-05\n",
       "2      2019-01-06 00:02:00-05:00    2019-01-10\n",
       "3      2018-12-16 10:28:28-08:00    2018-12-21\n",
       "4      2018-07-26 18:20:02-07:00    2018-07-30\n",
       "...                          ...           ...\n",
       "99992  2018-04-14 11:48:55-07:00    2018-04-19\n",
       "99994  2018-06-09 14:11:12-07:00    2018-06-13\n",
       "99995  2018-07-22 12:35:12-07:00    2018-07-24\n",
       "99997  2018-04-26 11:52:36-04:00    2018-04-30\n",
       "99999  2018-07-21 18:10:24-07:00    2018-07-27\n",
       "\n",
       "[42649 rows x 2 columns]"
      ]
     },
     "execution_count": 183,
     "metadata": {},
     "output_type": "execute_result"
    }
   ],
   "source": [
    "data2[['payment_datetime', 'delivery_date']]"
   ]
  },
  {
   "cell_type": "code",
   "execution_count": null,
   "id": "5c602e6b",
   "metadata": {},
   "outputs": [],
   "source": []
  }
 ],
 "metadata": {
  "kernelspec": {
   "display_name": "Python 3 (ipykernel)",
   "language": "python",
   "name": "python3"
  },
  "language_info": {
   "codemirror_mode": {
    "name": "ipython",
    "version": 3
   },
   "file_extension": ".py",
   "mimetype": "text/x-python",
   "name": "python",
   "nbconvert_exporter": "python",
   "pygments_lexer": "ipython3",
   "version": "3.8.10"
  },
  "toc": {
   "base_numbering": 1,
   "nav_menu": {},
   "number_sections": true,
   "sideBar": true,
   "skip_h1_title": false,
   "title_cell": "Table of Contents",
   "title_sidebar": "Contents",
   "toc_cell": false,
   "toc_position": {},
   "toc_section_display": true,
   "toc_window_display": true
  }
 },
 "nbformat": 4,
 "nbformat_minor": 5
}
