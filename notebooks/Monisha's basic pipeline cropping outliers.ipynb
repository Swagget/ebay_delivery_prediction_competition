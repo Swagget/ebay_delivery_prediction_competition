{
 "cells": [
  {
   "cell_type": "markdown",
   "id": "9bdb5eb6",
   "metadata": {},
   "source": [
    "# Disclaimer\n",
    "\n",
    "This can only properly be run on a heavy duty PC"
   ]
  },
  {
   "cell_type": "code",
   "execution_count": 2,
   "id": "09ad6bb0",
   "metadata": {},
   "outputs": [],
   "source": [
    "training_rows_to_read = 1000000 # This needs to be 15000000"
   ]
  },
  {
   "cell_type": "markdown",
   "id": "looking-index",
   "metadata": {},
   "source": [
    "# Imports"
   ]
  },
  {
   "cell_type": "code",
   "execution_count": 3,
   "id": "weekly-atmosphere",
   "metadata": {},
   "outputs": [
    {
     "name": "stdout",
     "output_type": "stream",
     "text": [
      "Preprocessing successfully imported.\n"
     ]
    }
   ],
   "source": [
    "from ebay_delivery_prediction_project import preprocessing, Visualisation, preprocessing_models, postprocessing\n",
    "preprocessing.import_test()\n",
    "\n",
    "from datetime import datetime, timedelta\n",
    "import numpy as np\n",
    "import pandas as pd"
   ]
  },
  {
   "cell_type": "code",
   "execution_count": 4,
   "id": "pleasant-rachel",
   "metadata": {
    "scrolled": true
   },
   "outputs": [
    {
     "name": "stdout",
     "output_type": "stream",
     "text": [
      "Reading 1000000 rows.\n",
      "Reading all columns.\n",
      "Index(['b2c_c2c', 'seller_id', 'declared_handling_days',\n",
      "       'acceptance_scan_timestamp', 'shipment_method_id', 'shipping_fee',\n",
      "       'carrier_min_estimate', 'carrier_max_estimate', 'item_zip', 'buyer_zip',\n",
      "       'category_id', 'item_price', 'quantity', 'payment_datetime',\n",
      "       'delivery_date', 'weight', 'weight_units', 'package_size',\n",
      "       'record_number'],\n",
      "      dtype='object')\n"
     ]
    }
   ],
   "source": [
    "# data_object = Preprocessing.read_data(rows_to_read = None, columns = [\"b2c_c2c\"])\n",
    "# data_object = Preprocessing.read_data(rows_to_read = None)\n",
    "training_data = preprocessing.read_data(rows_to_read = training_rows_to_read)[\"train\"]\n",
    "print(training_data.columns)"
   ]
  },
  {
   "cell_type": "markdown",
   "id": "funded-wisconsin",
   "metadata": {},
   "source": [
    "# Setting up pipeline"
   ]
  },
  {
   "cell_type": "markdown",
   "id": "nasty-punch",
   "metadata": {},
   "source": [
    "## Target column\n",
    "\n",
    "The objective is to estimate the total number of calendar days (after payment) it will take to have a purchased item show up at the buyer’s address. This is equivalent to estimating the delivery date using the formula:\n",
    "\n",
    "payment date (local time) + delivery calendar days = delivery date (local time).\n",
    "\n",
    "Participants should provide this delivery date in their submissions.\n",
    "\n",
    "_Now to generate target column_"
   ]
  },
  {
   "cell_type": "markdown",
   "id": "7847aea4",
   "metadata": {},
   "source": [
    "### Run the basic preprocessing steps"
   ]
  },
  {
   "cell_type": "code",
   "execution_count": 5,
   "id": "6d4dead1",
   "metadata": {},
   "outputs": [
    {
     "name": "stdout",
     "output_type": "stream",
     "text": [
      "Finished parse_datetime_columns\n",
      "Finished create_delivery_calendar_days\n",
      "Finished clean_zip_codes\n"
     ]
    }
   ],
   "source": [
    "training_data = preprocessing.basic_preprocessing(training_data)"
   ]
  },
  {
   "cell_type": "code",
   "execution_count": 6,
   "id": "underlying-judges",
   "metadata": {},
   "outputs": [
    {
     "data": {
      "text/plain": [
       "count    1000000.000000\n",
       "mean           4.750261\n",
       "std            3.118329\n",
       "min         -117.000000\n",
       "25%            3.000000\n",
       "50%            4.000000\n",
       "75%            5.000000\n",
       "max          214.000000\n",
       "Name: delivery_calendar_days, dtype: float64"
      ]
     },
     "execution_count": 6,
     "metadata": {},
     "output_type": "execute_result"
    }
   ],
   "source": [
    "training_data[\"delivery_calendar_days\"].describe()"
   ]
  },
  {
   "cell_type": "code",
   "execution_count": 7,
   "id": "formed-linux",
   "metadata": {},
   "outputs": [
    {
     "name": "stdout",
     "output_type": "stream",
     "text": [
      "b2c_c2c : 2\n",
      "seller_id : 378601\n",
      "declared_handling_days : 12\n",
      "acceptance_scan_timestamp : 450084\n",
      "shipment_method_id : 21\n",
      "shipping_fee : 3574\n",
      "carrier_min_estimate : 6\n",
      "carrier_max_estimate : 6\n",
      "item_zip : 31216\n",
      "buyer_zip : 32986\n",
      "category_id : 33\n",
      "item_price : 16245\n",
      "quantity : 58\n",
      "payment_datetime : 988627\n",
      "delivery_date : 720\n",
      "weight : 637\n",
      "weight_units : 2\n",
      "package_size : 5\n",
      "record_number : 1000000\n",
      "delivery_calendar_days : 129\n",
      "cleaned_item_zip : 27157\n",
      "cleaned_buyer_zip : 31623\n",
      "distance_between_pincodes : 962601\n"
     ]
    }
   ],
   "source": [
    "for col in training_data.columns:\n",
    "    print(f\"{col} : {len(training_data[col].unique())}\")"
   ]
  },
  {
   "cell_type": "markdown",
   "id": "enhanced-alignment",
   "metadata": {},
   "source": [
    "# Implementing pipeline"
   ]
  },
  {
   "cell_type": "markdown",
   "id": "personal-trigger",
   "metadata": {},
   "source": [
    "## Arbitrarily choosing how to encode columns"
   ]
  },
  {
   "cell_type": "code",
   "execution_count": 8,
   "id": "olive-radius",
   "metadata": {},
   "outputs": [],
   "source": [
    "different_types_of_encoding = [\"one-hot\", \"numerical\"]\n",
    "\n",
    "cols_and_encoding = {\n",
    "    \"b2c_c2c\"   : \"one-hot\",\n",
    "    \"seller_id\"   : 6365,\n",
    "    \"declared_handling_days\"   : \"numerical\",\n",
    "    \"acceptance_scan_timestamp\"   : 9848,\n",
    "    \"shipment_method_id\"   : \"one-hot\",\n",
    "    \"shipping_fee\"   : \"numerical\",\n",
    "    \"carrier_min_estimate\"   : \"numerical\",\n",
    "    \"carrier_max_estimate\"   : \"numerical\",\n",
    "    \"item_zip\"   : 4701, # Needs a lot of preprocessing.\n",
    "    \"buyer_zip\"   : 6880, # Needs a lot of preprocessing.\n",
    "    \"category_id\"   : 'one-hot', # Only has 33 unique values in 15,000,000 rows so one-hot.\n",
    "    \"item_price\"   : \"numerical\",\n",
    "    \"quantity\"   : \"numerical\",\n",
    "    \"payment_datetime\"   : 9998,\n",
    "    \"delivery_date\"   : 602,\n",
    "    \"weight\"   : \"numerical\",\n",
    "    \"weight_units\"   : 1,\n",
    "    \"package_size\"   : \"one-hot\",\n",
    "    \"record_number\"   : 10000,\n",
    "    \"delivery_calendar_days\"   : \"target\",\n",
    "    \"cleaned_item_zip\" : 30743,\n",
    "    \"cleaned_buyer_zip\" : 34876,\n",
    "    \"distance_between_pincodes\" : \"numerical\",\n",
    "}"
   ]
  },
  {
   "cell_type": "code",
   "execution_count": 9,
   "id": "minute-olympus",
   "metadata": {},
   "outputs": [
    {
     "name": "stdout",
     "output_type": "stream",
     "text": [
      "cols_to_convert_to_one_hot :  ['b2c_c2c', 'shipment_method_id', 'category_id', 'package_size']\n",
      "training_data.shape before :  (1000000, 23)\n",
      "training_data.shape after :  (1000000, 80)\n"
     ]
    }
   ],
   "source": [
    "cols_to_convert_to_one_hot = [ele for ele in cols_and_encoding.keys() if cols_and_encoding[ele] == \"one-hot\"]\n",
    "\n",
    "print(\"cols_to_convert_to_one_hot : \", cols_to_convert_to_one_hot)\n",
    "\n",
    "print(\"training_data.shape before : \", training_data.shape)\n",
    "training_data, generated_columns = preprocessing.one_hot_encode_columns(df = training_data, columns = cols_to_convert_to_one_hot)\n",
    "print(\"training_data.shape after : \", training_data.shape)"
   ]
  },
  {
   "cell_type": "code",
   "execution_count": 10,
   "id": "entire-safety",
   "metadata": {},
   "outputs": [],
   "source": [
    "target_column = \"delivery_calendar_days\"\n",
    "cols_to_use = [ele for ele in cols_and_encoding.keys() if (type(cols_and_encoding[ele]) == str) and\n",
    "               (cols_and_encoding[ele] != \"target\") and\n",
    "               (cols_and_encoding[ele] != \"one-hot\")]\n",
    "cols_to_use = [*cols_to_use, *generated_columns]"
   ]
  },
  {
   "cell_type": "markdown",
   "id": "d9a1d7b3",
   "metadata": {},
   "source": [
    "## Outlier Handling"
   ]
  },
  {
   "cell_type": "code",
   "execution_count": 11,
   "id": "e4458b72",
   "metadata": {},
   "outputs": [],
   "source": [
    "columns_to_prune = { # Percentage of outliers to drop in each column both top and bottom.\n",
    "    \"shipping_fee\" : 0.01,\n",
    "    \"item_price\" : 0.001,\n",
    "    \"distance_between_pincodes\" : 0.001,\n",
    "    \"quantity\" : 0.01,\n",
    "    \"weight\" : 0.01,\n",
    "    \"delivery_calendar_days\" : 0.01, \n",
    "    # This is obviously problematic. Maybe we should have a model that handles outliers in the target\n",
    "}"
   ]
  },
  {
   "cell_type": "markdown",
   "id": "ac76f220",
   "metadata": {},
   "source": [
    "### Dropping outliers rows"
   ]
  },
  {
   "cell_type": "code",
   "execution_count": 12,
   "id": "1c29692d",
   "metadata": {},
   "outputs": [],
   "source": [
    "def remove_outliers(data, columns_to_prune):# This is fundamentally flawed because the thresholds to be pruned should have been calculated earlier not after pruning one or two coloumns.\n",
    "    for col in columns_to_prune.keys():\n",
    "        print(\"col : \", col)\n",
    "        min_and_max = data[col].quantile([columns_to_prune[col], (1-columns_to_prune[col])]).values\n",
    "        all_rows_to_drop = np.append(np.where(data[col] > min_and_max[1])[0], np.where(data[col] < min_and_max[0])[0])\n",
    "#         print(\"all_rows_to_drop : \", all_rows_to_drop)\n",
    "        print(\"all_rows_to_drop.shape : \", all_rows_to_drop.shape)\n",
    "#         return all_rows_to_drop\n",
    "        data.drop(all_rows_to_drop, inplace=True)\n",
    "        print(\"After dropping rows shape is :\", data.shape)\n",
    "        data.reset_index(inplace = True, drop = True)\n",
    "#         data[col] = np.where(data[col] > upper_limit, upper_limit, data[col])\n",
    "#         data[col] = np.where(data[col] < lower_limit, lower_limit, data[col])\n",
    "    return data"
   ]
  },
  {
   "cell_type": "code",
   "execution_count": 13,
   "id": "f8132a7c",
   "metadata": {},
   "outputs": [],
   "source": [
    "# training_data = remove_outliers(data = training_data, columns_to_prune=columns_to_prune)"
   ]
  },
  {
   "cell_type": "code",
   "execution_count": 14,
   "id": "1534bcf6",
   "metadata": {},
   "outputs": [],
   "source": [
    "columns_to_squeeze = {\n",
    "    \"shipping_fee\",\n",
    "    \"item_price\",\n",
    "    \"distance_between_pincodes\",\n",
    "    \"quantity\",\n",
    "    \"weight\",\n",
    "}"
   ]
  },
  {
   "cell_type": "markdown",
   "id": "8aae21c8",
   "metadata": {},
   "source": [
    "Replacting the outliers with median"
   ]
  },
  {
   "cell_type": "code",
   "execution_count": 34,
   "id": "7d7ee52b",
   "metadata": {},
   "outputs": [],
   "source": [
    "def replaceOutliersWithMedian(data, columns):\n",
    "    for col in columns:\n",
    "        sorted(data[col])\n",
    "        Q1, Q3 = data[col].quantile([0.25, 0.75])\n",
    "        IQR = Q3 - Q1\n",
    "        lower_limit = Q1 - 1.5 * IQR\n",
    "        upper_limit = Q3 + 1.5 * IQR\n",
    "        median = np.median(data[col])\n",
    "        data[col] = np.where(data[col] > upper_limit, median, data[col])\n",
    "        data[col] = np.where(data[col] < lower_limit, median, data[col])\n",
    "    return data"
   ]
  },
  {
   "cell_type": "markdown",
   "id": "ccd7e62b",
   "metadata": {},
   "source": [
    "### Squeezing the outliers"
   ]
  },
  {
   "cell_type": "code",
   "execution_count": 14,
   "id": "b3f82173",
   "metadata": {},
   "outputs": [],
   "source": [
    "def squeeze_outlier_with_interquantile_range(data, columns):\n",
    "    for col in columns:\n",
    "        sorted(data[col])\n",
    "        Q1, Q3 = data[col].quantile([0.25, 0.75])\n",
    "        IQR = Q3 - Q1\n",
    "        lower_limit = Q1 - 1.5 * IQR\n",
    "        upper_limit = Q3 + 1.5 * IQR\n",
    "        data[col] = np.where(data[col] > upper_limit, upper_limit, data[col])\n",
    "        data[col] = np.where(data[col] < lower_limit, lower_limit, data[col])\n",
    "    return data"
   ]
  },
  {
   "cell_type": "code",
   "execution_count": 35,
   "id": "948f4eab",
   "metadata": {},
   "outputs": [],
   "source": [
    "backup_training_data = training_data.copy()\n",
    "\n",
    "training_data = replaceOutliersWithMedian(data = training_data, columns=columns_to_squeeze)"
   ]
  },
  {
   "cell_type": "code",
   "execution_count": 36,
   "id": "5fec7319",
   "metadata": {},
   "outputs": [
    {
     "data": {
      "text/plain": [
       "count    1000000.000000\n",
       "mean           1.426131\n",
       "std            2.394511\n",
       "min           -0.250000\n",
       "25%            0.000000\n",
       "50%            0.000000\n",
       "75%            3.000000\n",
       "max            8.750000\n",
       "Name: shipping_fee, dtype: float64"
      ]
     },
     "execution_count": 36,
     "metadata": {},
     "output_type": "execute_result"
    }
   ],
   "source": [
    "training_data[\"shipping_fee\"].describe()"
   ]
  },
  {
   "cell_type": "code",
   "execution_count": 37,
   "id": "0a940d88",
   "metadata": {},
   "outputs": [
    {
     "data": {
      "text/plain": [
       "count    1000000.000000\n",
       "mean           1.674328\n",
       "std            2.710413\n",
       "min           -0.250000\n",
       "25%            0.000000\n",
       "50%            0.000000\n",
       "75%            3.500000\n",
       "max           10.000000\n",
       "Name: shipping_fee, dtype: float64"
      ]
     },
     "execution_count": 37,
     "metadata": {},
     "output_type": "execute_result"
    }
   ],
   "source": [
    "backup_training_data[\"shipping_fee\"].describe()"
   ]
  },
  {
   "cell_type": "markdown",
   "id": "448a4d7e",
   "metadata": {},
   "source": [
    "### Results and observations"
   ]
  },
  {
   "cell_type": "markdown",
   "id": "97cab79d",
   "metadata": {},
   "source": [
    "Choosing a custom percentage to crop off for each column will almost certainlycome in handy.\n",
    "\n",
    "The obvious problem is to detect outliers in delivery_calendar_days.\n",
    "\n",
    "Loss is reduced after we drop outliers from all the column not only delivery_calendar_days.\n",
    "\n",
    "Not sure how to deal with that yet. But one thing to keep in mind is that since the evaluation is not a squared metric, we can be allowed to have a small section of the data be wildly off. If the evaluation was squared then this small section would have had a huge impact on the loss. "
   ]
  },
  {
   "cell_type": "markdown",
   "id": "essential-value",
   "metadata": {},
   "source": [
    "## Running a gradient boosted decision tree model"
   ]
  },
  {
   "cell_type": "code",
   "execution_count": 38,
   "id": "armed-dominant",
   "metadata": {},
   "outputs": [],
   "source": [
    "import lightgbm as lgb\n",
    "from sklearn.model_selection import train_test_split\n",
    "from sklearn import metrics"
   ]
  },
  {
   "cell_type": "markdown",
   "id": "8b13f94f",
   "metadata": {},
   "source": [
    "### Custom evaluation function"
   ]
  },
  {
   "cell_type": "code",
   "execution_count": 39,
   "id": "d7dd0722",
   "metadata": {},
   "outputs": [],
   "source": [
    "def customLossFunctionEval(y_true, y_pred):\n",
    "    residual = (y_true - y_pred).astype(np.float32)\n",
    "    loss = np.where(residual < 0, 0.4 * (residual), 0.6 * (residual))\n",
    "#     return np.mean(loss)\n",
    "    return \"Custom Loss Function\", np.mean(loss), False"
   ]
  },
  {
   "cell_type": "code",
   "execution_count": 40,
   "id": "utility-cornell",
   "metadata": {},
   "outputs": [
    {
     "data": {
      "text/plain": [
       "((670000, 69), (330000, 69), (670000,), (330000,))"
      ]
     },
     "execution_count": 40,
     "metadata": {},
     "output_type": "execute_result"
    }
   ],
   "source": [
    "# To define the input and output feature\n",
    "# x = training_data.drop(['Embarked','PassengerId'],axis=1)\n",
    "x = training_data[cols_to_use]\n",
    "y = training_data[target_column]\n",
    "# train and test split\n",
    "x_train,x_test,y_train,y_test = train_test_split(x,y,test_size=0.33,random_state=42)\n",
    "x_train.shape,x_test.shape,y_train.shape,y_test.shape"
   ]
  },
  {
   "cell_type": "code",
   "execution_count": 41,
   "id": "authorized-disease",
   "metadata": {},
   "outputs": [
    {
     "name": "stderr",
     "output_type": "stream",
     "text": [
      "/home/monisha/.local/lib/python3.8/site-packages/lightgbm/sklearn.py:736: UserWarning: 'verbose' argument is deprecated and will be removed in a future release of LightGBM. Pass 'log_evaluation()' callback via 'callbacks' argument instead.\n",
      "  _log_warning(\"'verbose' argument is deprecated and will be removed in a future release of LightGBM. \"\n"
     ]
    },
    {
     "name": "stdout",
     "output_type": "stream",
     "text": [
      "[10]\tvalid_0's l2: 8.60158\tvalid_0's Custom Loss Function: 0.159965\n",
      "[20]\tvalid_0's l2: 8.42176\tvalid_0's Custom Loss Function: 0.157385\n",
      "[30]\tvalid_0's l2: 8.38014\tvalid_0's Custom Loss Function: 0.156587\n",
      "[40]\tvalid_0's l2: 8.36792\tvalid_0's Custom Loss Function: 0.156267\n",
      "[50]\tvalid_0's l2: 8.36529\tvalid_0's Custom Loss Function: 0.156029\n",
      "[60]\tvalid_0's l2: 8.36333\tvalid_0's Custom Loss Function: 0.155922\n",
      "[70]\tvalid_0's l2: 8.35897\tvalid_0's Custom Loss Function: 0.155816\n",
      "[80]\tvalid_0's l2: 8.35547\tvalid_0's Custom Loss Function: 0.15571\n",
      "[90]\tvalid_0's l2: 8.35506\tvalid_0's Custom Loss Function: 0.155658\n",
      "[100]\tvalid_0's l2: 8.35338\tvalid_0's Custom Loss Function: 0.155601\n"
     ]
    },
    {
     "data": {
      "text/plain": [
       "LGBMRegressor(max_depth=-5, random_state=42)"
      ]
     },
     "execution_count": 41,
     "metadata": {},
     "output_type": "execute_result"
    }
   ],
   "source": [
    "model = lgb.LGBMRegressor(learning_rate=0.1,max_depth=-5,random_state=42)\n",
    "model.fit(x_train,y_train,eval_set=(x_test,y_test),\n",
    "          verbose=10,eval_metric=customLossFunctionEval)# This loss needs to mirror the loss that Ebay is using."
   ]
  },
  {
   "cell_type": "markdown",
   "id": "d6f77440",
   "metadata": {},
   "source": [
    "# Evaluating the model"
   ]
  },
  {
   "cell_type": "code",
   "execution_count": 42,
   "id": "f03b01af",
   "metadata": {},
   "outputs": [],
   "source": [
    "model_test_outputs = model.predict(x_test)"
   ]
  },
  {
   "cell_type": "code",
   "execution_count": 26,
   "id": "85fc7ed6",
   "metadata": {},
   "outputs": [
    {
     "data": {
      "text/plain": [
       "count    330000.000000\n",
       "mean          4.747877\n",
       "std           1.234543\n",
       "min           2.564713\n",
       "25%           4.215959\n",
       "50%           4.515410\n",
       "75%           5.028782\n",
       "max          74.187882\n",
       "dtype: float64"
      ]
     },
     "execution_count": 26,
     "metadata": {},
     "output_type": "execute_result"
    }
   ],
   "source": [
    "pd.Series(model_test_outputs).describe()"
   ]
  },
  {
   "cell_type": "code",
   "execution_count": 27,
   "id": "1abe921e",
   "metadata": {},
   "outputs": [
    {
     "data": {
      "text/plain": [
       "('Custom Loss Function', 0.15579115, False)"
      ]
     },
     "execution_count": 27,
     "metadata": {},
     "output_type": "execute_result"
    }
   ],
   "source": [
    "customLossFunctionEval(y_true = y_test, y_pred = model_test_outputs)"
   ]
  },
  {
   "cell_type": "code",
   "execution_count": 28,
   "id": "excess-fairy",
   "metadata": {},
   "outputs": [
    {
     "data": {
      "text/plain": [
       "<AxesSubplot:title={'center':'Feature importance'}, xlabel='Feature importance', ylabel='Features'>"
      ]
     },
     "execution_count": 28,
     "metadata": {},
     "output_type": "execute_result"
    },
    {
     "data": {
      "image/png": "[encoded data removed]",
      "text/plain": [
       "<Figure size 432x288 with 1 Axes>"
      ]
     },
     "metadata": {
      "needs_background": "light"
     },
     "output_type": "display_data"
    }
   ],
   "source": [
    "lgb.plot_importance(model)"
   ]
  },
  {
   "cell_type": "code",
   "execution_count": 29,
   "id": "29c9ee4a",
   "metadata": {},
   "outputs": [
    {
     "data": {
      "text/plain": [
       "{'declared_handling_days': 507,\n",
       " 'shipping_fee': 223,\n",
       " 'carrier_min_estimate': 100,\n",
       " 'carrier_max_estimate': 93,\n",
       " 'item_price': 435,\n",
       " 'quantity': 0,\n",
       " 'weight': 208,\n",
       " 'distance_between_pincodes': 631,\n",
       " 'b2c_c2c_B2C': 97,\n",
       " 'b2c_c2c_C2C': 1,\n",
       " 'shipment_method_id_0': 2,\n",
       " 'shipment_method_id_3': 44,\n",
       " 'shipment_method_id_1': 40,\n",
       " 'shipment_method_id_5': 12,\n",
       " 'shipment_method_id_2': 23,\n",
       " 'shipment_method_id_6': 7,\n",
       " 'shipment_method_id_8': 9,\n",
       " 'shipment_method_id_10': 4,\n",
       " 'shipment_method_id_7': 10,\n",
       " 'shipment_method_id_4': 24,\n",
       " 'shipment_method_id_13': 0,\n",
       " 'shipment_method_id_14': 9,\n",
       " 'shipment_method_id_9': 0,\n",
       " 'shipment_method_id_11': 1,\n",
       " 'shipment_method_id_12': 0,\n",
       " 'shipment_method_id_15': 0,\n",
       " 'shipment_method_id_24': 0,\n",
       " 'shipment_method_id_17': 0,\n",
       " 'shipment_method_id_18': 0,\n",
       " 'shipment_method_id_19': 0,\n",
       " 'shipment_method_id_16': 0,\n",
       " 'category_id_13': 5,\n",
       " 'category_id_0': 25,\n",
       " 'category_id_1': 13,\n",
       " 'category_id_3': 38,\n",
       " 'category_id_11': 4,\n",
       " 'category_id_18': 18,\n",
       " 'category_id_12': 0,\n",
       " 'category_id_8': 9,\n",
       " 'category_id_5': 3,\n",
       " 'category_id_10': 9,\n",
       " 'category_id_23': 15,\n",
       " 'category_id_9': 16,\n",
       " 'category_id_7': 25,\n",
       " 'category_id_26': 3,\n",
       " 'category_id_17': 7,\n",
       " 'category_id_6': 11,\n",
       " 'category_id_27': 0,\n",
       " 'category_id_24': 17,\n",
       " 'category_id_4': 27,\n",
       " 'category_id_2': 16,\n",
       " 'category_id_14': 15,\n",
       " 'category_id_22': 5,\n",
       " 'category_id_15': 2,\n",
       " 'category_id_16': 24,\n",
       " 'category_id_21': 3,\n",
       " 'category_id_28': 0,\n",
       " 'category_id_29': 22,\n",
       " 'category_id_19': 16,\n",
       " 'category_id_25': 55,\n",
       " 'category_id_30': 3,\n",
       " 'category_id_31': 0,\n",
       " 'category_id_20': 4,\n",
       " 'category_id_32': 0,\n",
       " 'package_size_LETTER': 10,\n",
       " 'package_size_PACKAGE_THICK_ENVELOPE': 40,\n",
       " 'package_size_NONE': 45,\n",
       " 'package_size_LARGE_PACKAGE': 6,\n",
       " 'package_size_LARGE_ENVELOPE': 9}"
      ]
     },
     "execution_count": 29,
     "metadata": {},
     "output_type": "execute_result"
    }
   ],
   "source": [
    "feature_importances = {}\n",
    "\n",
    "for importance, feature in zip(model.feature_importances_, model.feature_name_):\n",
    "    feature_importances[feature] = importance\n",
    "\n",
    "feature_importances"
   ]
  },
  {
   "cell_type": "code",
   "execution_count": 30,
   "id": "competitive-bishop",
   "metadata": {
    "scrolled": true
   },
   "outputs": [
    {
     "name": "stdout",
     "output_type": "stream",
     "text": [
      "Training accuracy 0.1905\n",
      "Testing accuracy 0.1455\n"
     ]
    }
   ],
   "source": [
    "print('Training accuracy {:.4f}'.format(model.score(x_train,y_train)))\n",
    "print('Testing accuracy {:.4f}'.format(model.score(x_test,y_test)))"
   ]
  },
  {
   "cell_type": "code",
   "execution_count": 31,
   "id": "recognized-representation",
   "metadata": {},
   "outputs": [],
   "source": [
    "# training_data[\"model_outputs\"] = model.predict(training_data[cols_to_use])"
   ]
  },
  {
   "cell_type": "code",
   "execution_count": 32,
   "id": "wicked-glucose",
   "metadata": {},
   "outputs": [],
   "source": [
    "modes_dict = {}\n",
    "for col in training_data:\n",
    "    modes_dict[col] = training_data[col].mode()"
   ]
  },
  {
   "cell_type": "code",
   "execution_count": 33,
   "id": "6a377db4",
   "metadata": {},
   "outputs": [
    {
     "ename": "RuntimeError",
     "evalue": "No active exception to reraise",
     "output_type": "error",
     "traceback": [
      "\u001b[0;31m---------------------------------------------------------------------------\u001b[0m",
      "\u001b[0;31mRuntimeError\u001b[0m                              Traceback (most recent call last)",
      "\u001b[0;32m/tmp/ipykernel_5346/2235509928.py\u001b[0m in \u001b[0;36m<module>\u001b[0;34m\u001b[0m\n\u001b[0;32m----> 1\u001b[0;31m \u001b[0;32mraise\u001b[0m\u001b[0;34m\u001b[0m\u001b[0;34m\u001b[0m\u001b[0m\n\u001b[0m",
      "\u001b[0;31mRuntimeError\u001b[0m: No active exception to reraise"
     ]
    }
   ],
   "source": [
    "raise"
   ]
  },
  {
   "cell_type": "code",
   "execution_count": null,
   "id": "silver-differential",
   "metadata": {
    "scrolled": true
   },
   "outputs": [],
   "source": [
    "del training_data\n",
    "quiz_data = preprocessing.read_data(rows_to_read = 10000)[\"quiz\"]\n",
    "\n",
    "quiz_data = preprocessing.parse_datetime_columns(quiz_data)\n",
    "\n",
    "quiz_data, generated_columns = preprocessing.one_hot_encode_columns(df = quiz_data, columns = cols_to_convert_to_one_hot)\n"
   ]
  },
  {
   "cell_type": "code",
   "execution_count": null,
   "id": "italian-capitol",
   "metadata": {},
   "outputs": [],
   "source": [
    "# Filling in the blanks from non existing \n",
    "\n",
    "for col in model.feature_name_:\n",
    "    if col not in quiz_data.columns:\n",
    "        print(\"col : \", col)\n",
    "        quiz_data[col] = modes_dict[col]"
   ]
  },
  {
   "cell_type": "code",
   "execution_count": null,
   "id": "abstract-albert",
   "metadata": {},
   "outputs": [],
   "source": [
    "quiz_data[\"model_outputs\"] = model.predict(quiz_data[cols_to_use])"
   ]
  },
  {
   "cell_type": "markdown",
   "id": "stuffed-terminal",
   "metadata": {},
   "source": [
    "# Postprocessing\n",
    "\n",
    "After this is all done and predicting with a decent accuracy this needs to be put back and the output needs to predict the delivery date.\n",
    "\n",
    "The submission is a tsv table, which can be gzipped, with no headeron thw quiz dataset for now. After we win the first phase the test dataset will be given to us.\n",
    "\n",
    "Each line should contain two values, first the record identifier from the distributed dataset, which is an integer, and second the predicted delivery date as a string in the format YYYY-MM-DD.\n",
    "\n",
    "All records must be predicted."
   ]
  },
  {
   "cell_type": "code",
   "execution_count": null,
   "id": "speaking-volleyball",
   "metadata": {},
   "outputs": [],
   "source": [
    "output_columns_name = \"predicted_delivery_date\""
   ]
  },
  {
   "cell_type": "code",
   "execution_count": null,
   "id": "functioning-designer",
   "metadata": {
    "scrolled": true
   },
   "outputs": [],
   "source": [
    "postprocessing.generate_output_column(df = quiz_data, \n",
    "                                      predicted_days_column=\"model_outputs\",\n",
    "                                     output_columns_name = output_columns_name)"
   ]
  },
  {
   "cell_type": "code",
   "execution_count": null,
   "id": "convinced-receptor",
   "metadata": {},
   "outputs": [],
   "source": [
    "postprocessing.generate_submission_file(df = quiz_data, predicted_dates_column=\"predicted_delivery_date\")"
   ]
  },
  {
   "cell_type": "markdown",
   "id": "animated-torture",
   "metadata": {},
   "source": [
    "# Double checking outputs"
   ]
  },
  {
   "cell_type": "code",
   "execution_count": null,
   "id": "found-seattle",
   "metadata": {},
   "outputs": [],
   "source": [
    "import pandas as pd"
   ]
  },
  {
   "cell_type": "code",
   "execution_count": null,
   "id": "coastal-crown",
   "metadata": {},
   "outputs": [],
   "source": [
    "submission = pd.read_csv(\"./results/result_2021-12-19 00:30:37.tsv\", sep='\\t', header = None)"
   ]
  },
  {
   "cell_type": "code",
   "execution_count": null,
   "id": "artificial-hearing",
   "metadata": {},
   "outputs": [],
   "source": [
    "submission"
   ]
  },
  {
   "cell_type": "code",
   "execution_count": null,
   "id": "prompt-daisy",
   "metadata": {},
   "outputs": [],
   "source": []
  }
 ],
 "metadata": {
  "kernelspec": {
   "display_name": "Python 3 (ipykernel)",
   "language": "python",
   "name": "python3"
  },
  "language_info": {
   "codemirror_mode": {
    "name": "ipython",
    "version": 3
   },
   "file_extension": ".py",
   "mimetype": "text/x-python",
   "name": "python",
   "nbconvert_exporter": "python",
   "pygments_lexer": "ipython3",
   "version": "3.8.10"
  },
  "toc": {
   "base_numbering": 1,
   "nav_menu": {},
   "number_sections": true,
   "sideBar": true,
   "skip_h1_title": false,
   "title_cell": "Table of Contents",
   "title_sidebar": "Contents",
   "toc_cell": false,
   "toc_position": {
    "height": "747px",
    "left": "58px",
    "top": "111.133px",
    "width": "369.6px"
   },
   "toc_section_display": true,
   "toc_window_display": true
  }
 },
 "nbformat": 4,
 "nbformat_minor": 5
}
