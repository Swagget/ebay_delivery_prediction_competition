{
 "cells": [
  {
   "cell_type": "markdown",
   "id": "ef67a99a",
   "metadata": {
    "toc": true
   },
   "source": [
    "<h1>Table of Contents<span class=\"tocSkip\"></span></h1>\n",
    "<div class=\"toc\"><ul class=\"toc-item\"><li><span><a href=\"#Import-packages-and-data\" data-toc-modified-id=\"Import-packages-and-data-1\"><span class=\"toc-item-num\">1&nbsp;&nbsp;</span>Import packages and data</a></span><ul class=\"toc-item\"><li><span><a href=\"#Check-for-null-values\" data-toc-modified-id=\"Check-for-null-values-1.1\"><span class=\"toc-item-num\">1.1&nbsp;&nbsp;</span>Check for null values</a></span></li><li><span><a href=\"#Check-for-negative-values\" data-toc-modified-id=\"Check-for-negative-values-1.2\"><span class=\"toc-item-num\">1.2&nbsp;&nbsp;</span>Check for negative values</a></span></li></ul></li><li><span><a href=\"#Detecting-and-handling-outliers\" data-toc-modified-id=\"Detecting-and-handling-outliers-2\"><span class=\"toc-item-num\">2&nbsp;&nbsp;</span>Detecting and handling outliers</a></span><ul class=\"toc-item\"><li><ul class=\"toc-item\"><li><span><a href=\"#Utils-functions\" data-toc-modified-id=\"Utils-functions-2.0.1\"><span class=\"toc-item-num\">2.0.1&nbsp;&nbsp;</span>Utils functions</a></span></li></ul></li><li><span><a href=\"#1.-declared_handling_days\" data-toc-modified-id=\"1.-declared_handling_days-2.1\"><span class=\"toc-item-num\">2.1&nbsp;&nbsp;</span>1. declared_handling_days</a></span></li><li><span><a href=\"#2.-shipping_fee\" data-toc-modified-id=\"2.-shipping_fee-2.2\"><span class=\"toc-item-num\">2.2&nbsp;&nbsp;</span>2. shipping_fee</a></span></li><li><span><a href=\"#3.-Carrier-max-estimate\" data-toc-modified-id=\"3.-Carrier-max-estimate-2.3\"><span class=\"toc-item-num\">2.3&nbsp;&nbsp;</span>3. Carrier max estimate</a></span></li><li><span><a href=\"#4.-carrier_min_estimate\" data-toc-modified-id=\"4.-carrier_min_estimate-2.4\"><span class=\"toc-item-num\">2.4&nbsp;&nbsp;</span>4. carrier_min_estimate</a></span></li><li><span><a href=\"#5.-item_price\" data-toc-modified-id=\"5.-item_price-2.5\"><span class=\"toc-item-num\">2.5&nbsp;&nbsp;</span>5. item_price</a></span></li><li><span><a href=\"#6.-quantity\" data-toc-modified-id=\"6.-quantity-2.6\"><span class=\"toc-item-num\">2.6&nbsp;&nbsp;</span>6. quantity</a></span></li><li><span><a href=\"#7.-weight\" data-toc-modified-id=\"7.-weight-2.7\"><span class=\"toc-item-num\">2.7&nbsp;&nbsp;</span>7. weight</a></span></li><li><span><a href=\"#8.-distance_between_pincodes\" data-toc-modified-id=\"8.-distance_between_pincodes-2.8\"><span class=\"toc-item-num\">2.8&nbsp;&nbsp;</span>8. distance_between_pincodes</a></span></li></ul></li></ul></div>"
   ]
  },
  {
   "cell_type": "markdown",
   "id": "a2fe85e0",
   "metadata": {},
   "source": [
    "# Import packages and data"
   ]
  },
  {
   "cell_type": "markdown",
   "id": "60bdd885",
   "metadata": {},
   "source": [
    "* [Check for null values](#section-one)"
   ]
  },
  {
   "cell_type": "code",
   "execution_count": 1,
   "id": "9c5d4279",
   "metadata": {},
   "outputs": [
    {
     "name": "stdout",
     "output_type": "stream",
     "text": [
      "Preprocessing successfully imported.\n"
     ]
    }
   ],
   "source": [
    "from ebay_delivery_prediction_project import preprocessing, Visualisation, preprocessing_models, postprocessing\n",
    "preprocessing.import_test()\n",
    "\n",
    "from datetime import datetime, timedelta\n",
    "import numpy as np\n",
    "import pandas as pd"
   ]
  },
  {
   "cell_type": "code",
   "execution_count": 2,
   "id": "7e85dbe4",
   "metadata": {
    "collapsed": true
   },
   "outputs": [
    {
     "ename": "FileNotFoundError",
     "evalue": "[Errno 2] No such file or directory: 'C:\\\\Users\\\\msidda2\\\\Documents\\\\GitHub\\\\ebay_delivery_prediction_competition\\\\data\\\\preprocessed_data\\\\preprocessed_data.csv'",
     "output_type": "error",
     "traceback": [
      "\u001b[0;31m---------------------------------------------------------------------------\u001b[0m",
      "\u001b[0;31mFileNotFoundError\u001b[0m                         Traceback (most recent call last)",
      "\u001b[0;32m/tmp/ipykernel_6341/2242442708.py\u001b[0m in \u001b[0;36m<module>\u001b[0;34m\u001b[0m\n\u001b[0;32m----> 1\u001b[0;31m \u001b[0mtraining_data\u001b[0m \u001b[0;34m=\u001b[0m \u001b[0mpd\u001b[0m\u001b[0;34m.\u001b[0m\u001b[0mread_csv\u001b[0m\u001b[0;34m(\u001b[0m\u001b[0;34mr\"C:\\Users\\msidda2\\Documents\\GitHub\\ebay_delivery_prediction_competition\\data\\preprocessed_data\\preprocessed_data.csv\"\u001b[0m\u001b[0;34m)\u001b[0m\u001b[0;34m\u001b[0m\u001b[0;34m\u001b[0m\u001b[0m\n\u001b[0m",
      "\u001b[0;32m~/anaconda3/envs/py37/lib/python3.7/site-packages/pandas/util/_decorators.py\u001b[0m in \u001b[0;36mwrapper\u001b[0;34m(*args, **kwargs)\u001b[0m\n\u001b[1;32m    309\u001b[0m                     \u001b[0mstacklevel\u001b[0m\u001b[0;34m=\u001b[0m\u001b[0mstacklevel\u001b[0m\u001b[0;34m,\u001b[0m\u001b[0;34m\u001b[0m\u001b[0;34m\u001b[0m\u001b[0m\n\u001b[1;32m    310\u001b[0m                 )\n\u001b[0;32m--> 311\u001b[0;31m             \u001b[0;32mreturn\u001b[0m \u001b[0mfunc\u001b[0m\u001b[0;34m(\u001b[0m\u001b[0;34m*\u001b[0m\u001b[0margs\u001b[0m\u001b[0;34m,\u001b[0m \u001b[0;34m**\u001b[0m\u001b[0mkwargs\u001b[0m\u001b[0;34m)\u001b[0m\u001b[0;34m\u001b[0m\u001b[0;34m\u001b[0m\u001b[0m\n\u001b[0m\u001b[1;32m    312\u001b[0m \u001b[0;34m\u001b[0m\u001b[0m\n\u001b[1;32m    313\u001b[0m         \u001b[0;32mreturn\u001b[0m \u001b[0mwrapper\u001b[0m\u001b[0;34m\u001b[0m\u001b[0;34m\u001b[0m\u001b[0m\n",
      "\u001b[0;32m~/anaconda3/envs/py37/lib/python3.7/site-packages/pandas/io/parsers/readers.py\u001b[0m in \u001b[0;36mread_csv\u001b[0;34m(filepath_or_buffer, sep, delimiter, header, names, index_col, usecols, squeeze, prefix, mangle_dupe_cols, dtype, engine, converters, true_values, false_values, skipinitialspace, skiprows, skipfooter, nrows, na_values, keep_default_na, na_filter, verbose, skip_blank_lines, parse_dates, infer_datetime_format, keep_date_col, date_parser, dayfirst, cache_dates, iterator, chunksize, compression, thousands, decimal, lineterminator, quotechar, quoting, doublequote, escapechar, comment, encoding, encoding_errors, dialect, error_bad_lines, warn_bad_lines, on_bad_lines, delim_whitespace, low_memory, memory_map, float_precision, storage_options)\u001b[0m\n\u001b[1;32m    584\u001b[0m     \u001b[0mkwds\u001b[0m\u001b[0;34m.\u001b[0m\u001b[0mupdate\u001b[0m\u001b[0;34m(\u001b[0m\u001b[0mkwds_defaults\u001b[0m\u001b[0;34m)\u001b[0m\u001b[0;34m\u001b[0m\u001b[0;34m\u001b[0m\u001b[0m\n\u001b[1;32m    585\u001b[0m \u001b[0;34m\u001b[0m\u001b[0m\n\u001b[0;32m--> 586\u001b[0;31m     \u001b[0;32mreturn\u001b[0m \u001b[0m_read\u001b[0m\u001b[0;34m(\u001b[0m\u001b[0mfilepath_or_buffer\u001b[0m\u001b[0;34m,\u001b[0m \u001b[0mkwds\u001b[0m\u001b[0;34m)\u001b[0m\u001b[0;34m\u001b[0m\u001b[0;34m\u001b[0m\u001b[0m\n\u001b[0m\u001b[1;32m    587\u001b[0m \u001b[0;34m\u001b[0m\u001b[0m\n\u001b[1;32m    588\u001b[0m \u001b[0;34m\u001b[0m\u001b[0m\n",
      "\u001b[0;32m~/anaconda3/envs/py37/lib/python3.7/site-packages/pandas/io/parsers/readers.py\u001b[0m in \u001b[0;36m_read\u001b[0;34m(filepath_or_buffer, kwds)\u001b[0m\n\u001b[1;32m    480\u001b[0m \u001b[0;34m\u001b[0m\u001b[0m\n\u001b[1;32m    481\u001b[0m     \u001b[0;31m# Create the parser.\u001b[0m\u001b[0;34m\u001b[0m\u001b[0;34m\u001b[0m\u001b[0;34m\u001b[0m\u001b[0m\n\u001b[0;32m--> 482\u001b[0;31m     \u001b[0mparser\u001b[0m \u001b[0;34m=\u001b[0m \u001b[0mTextFileReader\u001b[0m\u001b[0;34m(\u001b[0m\u001b[0mfilepath_or_buffer\u001b[0m\u001b[0;34m,\u001b[0m \u001b[0;34m**\u001b[0m\u001b[0mkwds\u001b[0m\u001b[0;34m)\u001b[0m\u001b[0;34m\u001b[0m\u001b[0;34m\u001b[0m\u001b[0m\n\u001b[0m\u001b[1;32m    483\u001b[0m \u001b[0;34m\u001b[0m\u001b[0m\n\u001b[1;32m    484\u001b[0m     \u001b[0;32mif\u001b[0m \u001b[0mchunksize\u001b[0m \u001b[0;32mor\u001b[0m \u001b[0miterator\u001b[0m\u001b[0;34m:\u001b[0m\u001b[0;34m\u001b[0m\u001b[0;34m\u001b[0m\u001b[0m\n",
      "\u001b[0;32m~/anaconda3/envs/py37/lib/python3.7/site-packages/pandas/io/parsers/readers.py\u001b[0m in \u001b[0;36m__init__\u001b[0;34m(self, f, engine, **kwds)\u001b[0m\n\u001b[1;32m    809\u001b[0m             \u001b[0mself\u001b[0m\u001b[0;34m.\u001b[0m\u001b[0moptions\u001b[0m\u001b[0;34m[\u001b[0m\u001b[0;34m\"has_index_names\"\u001b[0m\u001b[0;34m]\u001b[0m \u001b[0;34m=\u001b[0m \u001b[0mkwds\u001b[0m\u001b[0;34m[\u001b[0m\u001b[0;34m\"has_index_names\"\u001b[0m\u001b[0;34m]\u001b[0m\u001b[0;34m\u001b[0m\u001b[0;34m\u001b[0m\u001b[0m\n\u001b[1;32m    810\u001b[0m \u001b[0;34m\u001b[0m\u001b[0m\n\u001b[0;32m--> 811\u001b[0;31m         \u001b[0mself\u001b[0m\u001b[0;34m.\u001b[0m\u001b[0m_engine\u001b[0m \u001b[0;34m=\u001b[0m \u001b[0mself\u001b[0m\u001b[0;34m.\u001b[0m\u001b[0m_make_engine\u001b[0m\u001b[0;34m(\u001b[0m\u001b[0mself\u001b[0m\u001b[0;34m.\u001b[0m\u001b[0mengine\u001b[0m\u001b[0;34m)\u001b[0m\u001b[0;34m\u001b[0m\u001b[0;34m\u001b[0m\u001b[0m\n\u001b[0m\u001b[1;32m    812\u001b[0m \u001b[0;34m\u001b[0m\u001b[0m\n\u001b[1;32m    813\u001b[0m     \u001b[0;32mdef\u001b[0m \u001b[0mclose\u001b[0m\u001b[0;34m(\u001b[0m\u001b[0mself\u001b[0m\u001b[0;34m)\u001b[0m\u001b[0;34m:\u001b[0m\u001b[0;34m\u001b[0m\u001b[0;34m\u001b[0m\u001b[0m\n",
      "\u001b[0;32m~/anaconda3/envs/py37/lib/python3.7/site-packages/pandas/io/parsers/readers.py\u001b[0m in \u001b[0;36m_make_engine\u001b[0;34m(self, engine)\u001b[0m\n\u001b[1;32m   1038\u001b[0m             )\n\u001b[1;32m   1039\u001b[0m         \u001b[0;31m# error: Too many arguments for \"ParserBase\"\u001b[0m\u001b[0;34m\u001b[0m\u001b[0;34m\u001b[0m\u001b[0;34m\u001b[0m\u001b[0m\n\u001b[0;32m-> 1040\u001b[0;31m         \u001b[0;32mreturn\u001b[0m \u001b[0mmapping\u001b[0m\u001b[0;34m[\u001b[0m\u001b[0mengine\u001b[0m\u001b[0;34m]\u001b[0m\u001b[0;34m(\u001b[0m\u001b[0mself\u001b[0m\u001b[0;34m.\u001b[0m\u001b[0mf\u001b[0m\u001b[0;34m,\u001b[0m \u001b[0;34m**\u001b[0m\u001b[0mself\u001b[0m\u001b[0;34m.\u001b[0m\u001b[0moptions\u001b[0m\u001b[0;34m)\u001b[0m  \u001b[0;31m# type: ignore[call-arg]\u001b[0m\u001b[0;34m\u001b[0m\u001b[0;34m\u001b[0m\u001b[0m\n\u001b[0m\u001b[1;32m   1041\u001b[0m \u001b[0;34m\u001b[0m\u001b[0m\n\u001b[1;32m   1042\u001b[0m     \u001b[0;32mdef\u001b[0m \u001b[0m_failover_to_python\u001b[0m\u001b[0;34m(\u001b[0m\u001b[0mself\u001b[0m\u001b[0;34m)\u001b[0m\u001b[0;34m:\u001b[0m\u001b[0;34m\u001b[0m\u001b[0;34m\u001b[0m\u001b[0m\n",
      "\u001b[0;32m~/anaconda3/envs/py37/lib/python3.7/site-packages/pandas/io/parsers/c_parser_wrapper.py\u001b[0m in \u001b[0;36m__init__\u001b[0;34m(self, src, **kwds)\u001b[0m\n\u001b[1;32m     49\u001b[0m \u001b[0;34m\u001b[0m\u001b[0m\n\u001b[1;32m     50\u001b[0m         \u001b[0;31m# open handles\u001b[0m\u001b[0;34m\u001b[0m\u001b[0;34m\u001b[0m\u001b[0;34m\u001b[0m\u001b[0m\n\u001b[0;32m---> 51\u001b[0;31m         \u001b[0mself\u001b[0m\u001b[0;34m.\u001b[0m\u001b[0m_open_handles\u001b[0m\u001b[0;34m(\u001b[0m\u001b[0msrc\u001b[0m\u001b[0;34m,\u001b[0m \u001b[0mkwds\u001b[0m\u001b[0;34m)\u001b[0m\u001b[0;34m\u001b[0m\u001b[0;34m\u001b[0m\u001b[0m\n\u001b[0m\u001b[1;32m     52\u001b[0m         \u001b[0;32massert\u001b[0m \u001b[0mself\u001b[0m\u001b[0;34m.\u001b[0m\u001b[0mhandles\u001b[0m \u001b[0;32mis\u001b[0m \u001b[0;32mnot\u001b[0m \u001b[0;32mNone\u001b[0m\u001b[0;34m\u001b[0m\u001b[0;34m\u001b[0m\u001b[0m\n\u001b[1;32m     53\u001b[0m \u001b[0;34m\u001b[0m\u001b[0m\n",
      "\u001b[0;32m~/anaconda3/envs/py37/lib/python3.7/site-packages/pandas/io/parsers/base_parser.py\u001b[0m in \u001b[0;36m_open_handles\u001b[0;34m(self, src, kwds)\u001b[0m\n\u001b[1;32m    227\u001b[0m             \u001b[0mmemory_map\u001b[0m\u001b[0;34m=\u001b[0m\u001b[0mkwds\u001b[0m\u001b[0;34m.\u001b[0m\u001b[0mget\u001b[0m\u001b[0;34m(\u001b[0m\u001b[0;34m\"memory_map\"\u001b[0m\u001b[0;34m,\u001b[0m \u001b[0;32mFalse\u001b[0m\u001b[0;34m)\u001b[0m\u001b[0;34m,\u001b[0m\u001b[0;34m\u001b[0m\u001b[0;34m\u001b[0m\u001b[0m\n\u001b[1;32m    228\u001b[0m             \u001b[0mstorage_options\u001b[0m\u001b[0;34m=\u001b[0m\u001b[0mkwds\u001b[0m\u001b[0;34m.\u001b[0m\u001b[0mget\u001b[0m\u001b[0;34m(\u001b[0m\u001b[0;34m\"storage_options\"\u001b[0m\u001b[0;34m,\u001b[0m \u001b[0;32mNone\u001b[0m\u001b[0;34m)\u001b[0m\u001b[0;34m,\u001b[0m\u001b[0;34m\u001b[0m\u001b[0;34m\u001b[0m\u001b[0m\n\u001b[0;32m--> 229\u001b[0;31m             \u001b[0merrors\u001b[0m\u001b[0;34m=\u001b[0m\u001b[0mkwds\u001b[0m\u001b[0;34m.\u001b[0m\u001b[0mget\u001b[0m\u001b[0;34m(\u001b[0m\u001b[0;34m\"encoding_errors\"\u001b[0m\u001b[0;34m,\u001b[0m \u001b[0;34m\"strict\"\u001b[0m\u001b[0;34m)\u001b[0m\u001b[0;34m,\u001b[0m\u001b[0;34m\u001b[0m\u001b[0;34m\u001b[0m\u001b[0m\n\u001b[0m\u001b[1;32m    230\u001b[0m         )\n\u001b[1;32m    231\u001b[0m \u001b[0;34m\u001b[0m\u001b[0m\n",
      "\u001b[0;32m~/anaconda3/envs/py37/lib/python3.7/site-packages/pandas/io/common.py\u001b[0m in \u001b[0;36mget_handle\u001b[0;34m(path_or_buf, mode, encoding, compression, memory_map, is_text, errors, storage_options)\u001b[0m\n\u001b[1;32m    705\u001b[0m                 \u001b[0mencoding\u001b[0m\u001b[0;34m=\u001b[0m\u001b[0mioargs\u001b[0m\u001b[0;34m.\u001b[0m\u001b[0mencoding\u001b[0m\u001b[0;34m,\u001b[0m\u001b[0;34m\u001b[0m\u001b[0;34m\u001b[0m\u001b[0m\n\u001b[1;32m    706\u001b[0m                 \u001b[0merrors\u001b[0m\u001b[0;34m=\u001b[0m\u001b[0merrors\u001b[0m\u001b[0;34m,\u001b[0m\u001b[0;34m\u001b[0m\u001b[0;34m\u001b[0m\u001b[0m\n\u001b[0;32m--> 707\u001b[0;31m                 \u001b[0mnewline\u001b[0m\u001b[0;34m=\u001b[0m\u001b[0;34m\"\"\u001b[0m\u001b[0;34m,\u001b[0m\u001b[0;34m\u001b[0m\u001b[0;34m\u001b[0m\u001b[0m\n\u001b[0m\u001b[1;32m    708\u001b[0m             )\n\u001b[1;32m    709\u001b[0m         \u001b[0;32melse\u001b[0m\u001b[0;34m:\u001b[0m\u001b[0;34m\u001b[0m\u001b[0;34m\u001b[0m\u001b[0m\n",
      "\u001b[0;31mFileNotFoundError\u001b[0m: [Errno 2] No such file or directory: 'C:\\\\Users\\\\msidda2\\\\Documents\\\\GitHub\\\\ebay_delivery_prediction_competition\\\\data\\\\preprocessed_data\\\\preprocessed_data.csv'"
     ]
    }
   ],
   "source": [
    "training_data = pd.read_csv(r\"C:\\Users\\msidda2\\Documents\\GitHub\\ebay_delivery_prediction_competition\\data\\preprocessed_data\\preprocessed_data.csv\")"
   ]
  },
  {
   "cell_type": "code",
   "execution_count": 2,
   "id": "54ca7a78",
   "metadata": {},
   "outputs": [],
   "source": [
    "import os\n",
    "\n",
    "preprocessed_file_name = \"preprocessed_data.csv\"\n",
    "preprocessed_data_folder = \"preprocessed_data\"\n",
    "\n",
    "preprocessed_data_folder_path = os.path.join(\"../data\", preprocessed_data_folder)\n",
    "preprocessed_data_path = os.path.join(preprocessed_data_folder_path, preprocessed_file_name)\n",
    "\n",
    "training_data = pd.read_csv(preprocessed_data_path)"
   ]
  },
  {
   "cell_type": "code",
   "execution_count": 3,
   "id": "91d411d5",
   "metadata": {},
   "outputs": [],
   "source": [
    "columns = training_data.columns\n",
    "num_of_rows = 15000000\n",
    "target_column = \"delivery_calendar_days\""
   ]
  },
  {
   "cell_type": "code",
   "execution_count": null,
   "id": "ea8d80e7",
   "metadata": {},
   "outputs": [],
   "source": [
    "training_data = preprocessing.drop_bad_values(training_data)"
   ]
  },
  {
   "cell_type": "code",
   "execution_count": 13,
   "id": "ea2db0e2",
   "metadata": {},
   "outputs": [],
   "source": [
    "training_data['declared_handling_days'].fillna(training_data['declared_handling_days'].median(), inplace=True)\n",
    "training_data['distance_between_pincodes'].fillna(training_data['distance_between_pincodes'].median(), inplace=True)\n"
   ]
  },
  {
   "cell_type": "code",
   "execution_count": 14,
   "id": "c430dda1",
   "metadata": {},
   "outputs": [
    {
     "data": {
      "text/plain": [
       "b2c_c2c                      0\n",
       "seller_id                    0\n",
       "declared_handling_days       0\n",
       "acceptance_scan_timestamp    0\n",
       "shipment_method_id           0\n",
       "shipping_fee                 0\n",
       "carrier_min_estimate         0\n",
       "carrier_max_estimate         0\n",
       "item_zip                     0\n",
       "buyer_zip                    0\n",
       "category_id                  0\n",
       "item_price                   0\n",
       "quantity                     0\n",
       "payment_datetime             0\n",
       "delivery_date                0\n",
       "weight                       0\n",
       "weight_units                 0\n",
       "package_size                 0\n",
       "record_number                0\n",
       "delivery_calendar_days       0\n",
       "cleaned_item_zip             0\n",
       "cleaned_buyer_zip            0\n",
       "distance_between_pincodes    0\n",
       "dtype: int64"
      ]
     },
     "execution_count": 14,
     "metadata": {},
     "output_type": "execute_result"
    }
   ],
   "source": [
    "training_data.isnull().sum()"
   ]
  },
  {
   "cell_type": "markdown",
   "id": "92f6e8fa",
   "metadata": {},
   "source": [
    "<a id=\"section-one\"></a>\n",
    "## Check for null values"
   ]
  },
  {
   "cell_type": "code",
   "execution_count": 4,
   "id": "ca3df441",
   "metadata": {},
   "outputs": [
    {
     "data": {
      "text/plain": [
       "b2c_c2c                           0\n",
       "seller_id                         0\n",
       "declared_handling_days       702886\n",
       "acceptance_scan_timestamp         0\n",
       "shipment_method_id                0\n",
       "shipping_fee                      0\n",
       "carrier_min_estimate              0\n",
       "carrier_max_estimate              0\n",
       "item_zip                          1\n",
       "buyer_zip                         1\n",
       "category_id                       0\n",
       "item_price                        0\n",
       "quantity                          0\n",
       "payment_datetime                  0\n",
       "delivery_date                     0\n",
       "weight                            0\n",
       "weight_units                      0\n",
       "package_size                      0\n",
       "record_number                     0\n",
       "delivery_calendar_days            0\n",
       "cleaned_item_zip               5001\n",
       "cleaned_buyer_zip               608\n",
       "distance_between_pincodes    178381\n",
       "dtype: int64"
      ]
     },
     "execution_count": 4,
     "metadata": {},
     "output_type": "execute_result"
    }
   ],
   "source": [
    "training_data.isnull().sum()"
   ]
  },
  {
   "cell_type": "markdown",
   "id": "24a718d2",
   "metadata": {},
   "source": [
    "<a id='section-two'></a>\n",
    "## Check for negative values"
   ]
  },
  {
   "cell_type": "code",
   "execution_count": 67,
   "id": "d4a56b59",
   "metadata": {},
   "outputs": [],
   "source": [
    "data = training_data.copy()"
   ]
  },
  {
   "cell_type": "code",
   "execution_count": 68,
   "id": "c3c8abce",
   "metadata": {},
   "outputs": [],
   "source": [
    "different_types_of_encoding = [\"one-hot\", \"numerical\"]\n",
    "\n",
    "cols_and_encoding = {\n",
    "    \"b2c_c2c\"   : \"one-hot\",\n",
    "    \"seller_id\"   : 6365,\n",
    "    \"declared_handling_days\"   : \"numerical\",\n",
    "    \"acceptance_scan_timestamp\"   : 9848,\n",
    "    \"shipment_method_id\"   : \"one-hot\",\n",
    "    \"shipping_fee\"   : \"numerical\",\n",
    "    \"carrier_min_estimate\"   : \"numerical\",\n",
    "    \"carrier_max_estimate\"   : \"numerical\",\n",
    "    \"item_zip\"   : 4701, # Needs a lot of preprocessing.\n",
    "    \"buyer_zip\"   : 6880, # Needs a lot of preprocessing.\n",
    "    \"category_id\"   : 'one-hot', # Only has 33 unique values in 15,000,000 rows so one-hot.\n",
    "    \"item_price\"   : \"numerical\",\n",
    "    \"quantity\"   : \"numerical\",\n",
    "    \"payment_datetime\"   : 9998,\n",
    "    \"delivery_date\"   : 602,\n",
    "    \"weight\"   : \"numerical\",\n",
    "    \"weight_units\"   : 1,\n",
    "    \"package_size\"   : \"one-hot\",\n",
    "    \"record_number\"   : 10000,\n",
    "    \"delivery_calendar_days\"   : \"target\",\n",
    "    \"cleaned_item_zip\" : 30743,\n",
    "    \"cleaned_buyer_zip\" : 34876,\n",
    "    \"distance_between_pincodes\" : \"numerical\",\n",
    "}"
   ]
  },
  {
   "cell_type": "code",
   "execution_count": 39,
   "id": "c373e550",
   "metadata": {},
   "outputs": [],
   "source": [
    "def getNumericalValues(cols_and_encoding):\n",
    "    numerical_columns = []\n",
    "    for col in cols_and_encoding:\n",
    "        if cols_and_encoding[col] == \"numerical\":\n",
    "            numerical_columns.append(col)\n",
    "    return numerical_columns"
   ]
  },
  {
   "cell_type": "code",
   "execution_count": 40,
   "id": "5b3fa2cb",
   "metadata": {},
   "outputs": [],
   "source": [
    "numerical_columns = getNumericalValues(cols_and_encoding)"
   ]
  },
  {
   "cell_type": "code",
   "execution_count": 41,
   "id": "dc1d0dc6",
   "metadata": {},
   "outputs": [
    {
     "data": {
      "text/plain": [
       "['declared_handling_days',\n",
       " 'shipping_fee',\n",
       " 'carrier_min_estimate',\n",
       " 'carrier_max_estimate',\n",
       " 'item_price',\n",
       " 'quantity',\n",
       " 'weight',\n",
       " 'distance_between_pincodes']"
      ]
     },
     "execution_count": 41,
     "metadata": {},
     "output_type": "execute_result"
    }
   ],
   "source": [
    "numerical_columns"
   ]
  },
  {
   "cell_type": "code",
   "execution_count": 42,
   "id": "141b5d58",
   "metadata": {},
   "outputs": [
    {
     "name": "stderr",
     "output_type": "stream",
     "text": [
      "C:\\Users\\LOCAL_~2\\Temp/ipykernel_25688/2399751912.py:4: SettingWithCopyWarning: \n",
      "A value is trying to be set on a copy of a slice from a DataFrame\n",
      "\n",
      "See the caveats in the documentation: https://pandas.pydata.org/pandas-docs/stable/user_guide/indexing.html#returning-a-view-versus-a-copy\n",
      "  col_data[negative_mask] = np.nan\n"
     ]
    }
   ],
   "source": [
    "for col in numerical_columns:\n",
    "    col_data = data[col]\n",
    "    negative_mask = col_data < 0\n",
    "    col_data[negative_mask] = np.nan\n",
    "    data[col] = col_data"
   ]
  },
  {
   "cell_type": "code",
   "execution_count": 43,
   "id": "2957339b",
   "metadata": {},
   "outputs": [],
   "source": [
    "sum_na = data.isnull().sum()"
   ]
  },
  {
   "cell_type": "code",
   "execution_count": 44,
   "id": "fffb798b",
   "metadata": {},
   "outputs": [
    {
     "data": {
      "text/plain": [
       "b2c_c2c                           0\n",
       "seller_id                         0\n",
       "declared_handling_days       702886\n",
       "acceptance_scan_timestamp         0\n",
       "shipment_method_id                0\n",
       "shipping_fee                     21\n",
       "carrier_min_estimate           1095\n",
       "carrier_max_estimate           1095\n",
       "item_zip                          1\n",
       "buyer_zip                         1\n",
       "category_id                       0\n",
       "item_price                        0\n",
       "quantity                          0\n",
       "payment_datetime                  0\n",
       "delivery_date                     0\n",
       "weight                            0\n",
       "weight_units                      0\n",
       "package_size                      0\n",
       "record_number                     0\n",
       "delivery_calendar_days            0\n",
       "cleaned_item_zip               5001\n",
       "cleaned_buyer_zip               608\n",
       "distance_between_pincodes    178381\n",
       "dtype: int64"
      ]
     },
     "execution_count": 44,
     "metadata": {},
     "output_type": "execute_result"
    }
   ],
   "source": [
    "sum_na"
   ]
  },
  {
   "cell_type": "code",
   "execution_count": 45,
   "id": "9264dc32",
   "metadata": {},
   "outputs": [],
   "source": [
    "na_columns = []\n",
    "for i in range(len(sum_na)):\n",
    "    if sum_na[i] != 0:\n",
    "        if int((sum_na[i] / num_of_rows) * 100) == 0:\n",
    "            na_columns.append(columns[i])"
   ]
  },
  {
   "cell_type": "code",
   "execution_count": 46,
   "id": "7a9d8df0",
   "metadata": {},
   "outputs": [
    {
     "data": {
      "text/plain": [
       "['shipping_fee',\n",
       " 'carrier_min_estimate',\n",
       " 'carrier_max_estimate',\n",
       " 'item_zip',\n",
       " 'buyer_zip',\n",
       " 'cleaned_item_zip',\n",
       " 'cleaned_buyer_zip']"
      ]
     },
     "execution_count": 46,
     "metadata": {},
     "output_type": "execute_result"
    }
   ],
   "source": [
    "na_columns"
   ]
  },
  {
   "cell_type": "code",
   "execution_count": 47,
   "id": "ce2c4328",
   "metadata": {},
   "outputs": [],
   "source": [
    "# drop the negative values which are less than 1 percent of the data\n",
    "data = data.dropna(subset = na_columns)"
   ]
  },
  {
   "cell_type": "code",
   "execution_count": 48,
   "id": "610c4b7c",
   "metadata": {},
   "outputs": [
    {
     "data": {
      "text/plain": [
       "b2c_c2c                           0\n",
       "seller_id                         0\n",
       "declared_handling_days       702649\n",
       "acceptance_scan_timestamp         0\n",
       "shipment_method_id                0\n",
       "shipping_fee                      0\n",
       "carrier_min_estimate              0\n",
       "carrier_max_estimate              0\n",
       "item_zip                          0\n",
       "buyer_zip                         0\n",
       "category_id                       0\n",
       "item_price                        0\n",
       "quantity                          0\n",
       "payment_datetime                  0\n",
       "delivery_date                     0\n",
       "weight                            0\n",
       "weight_units                      0\n",
       "package_size                      0\n",
       "record_number                     0\n",
       "delivery_calendar_days            0\n",
       "cleaned_item_zip                  0\n",
       "cleaned_buyer_zip                 0\n",
       "distance_between_pincodes    172387\n",
       "dtype: int64"
      ]
     },
     "execution_count": 48,
     "metadata": {},
     "output_type": "execute_result"
    }
   ],
   "source": [
    "data.isnull().sum()"
   ]
  },
  {
   "cell_type": "markdown",
   "id": "86e83dff",
   "metadata": {},
   "source": [
    "# Detecting and handling outliers"
   ]
  },
  {
   "cell_type": "markdown",
   "id": "23eb832d",
   "metadata": {},
   "source": [
    "### Utils functions"
   ]
  },
  {
   "cell_type": "code",
   "execution_count": 49,
   "id": "a88f6712",
   "metadata": {},
   "outputs": [],
   "source": [
    "def drawRequiredGraphs(data, col):\n",
    "    print(data[col].describe())\n",
    "    data[col].hist()"
   ]
  },
  {
   "cell_type": "code",
   "execution_count": 50,
   "id": "006d841c",
   "metadata": {},
   "outputs": [],
   "source": [
    "def squeeze_outlier_with_interquantile_range(data, col):\n",
    "    sorted(data[col])\n",
    "    Q1, Q3 = data[col].quantile([0.25, 0.75])\n",
    "    IQR = Q3 - Q1\n",
    "    lower_limit = Q1 - 1.5 * IQR\n",
    "    upper_limit = Q3 + 1.5 * IQR\n",
    "    print('lower_limit: ', lower_limit, 'upper_limit: ', upper_limit)\n",
    "    upper_rows = data[data[col] > upper_limit]\n",
    "    lower_rows = data[data[col] < lower_limit]\n",
    "    outlier_rows = pd.concat([upper_rows, lower_rows])\n",
    "    data[col] = np.where(data[col] >= upper_limit, upper_limit, data[col])\n",
    "    data[col] = np.where(data[col] <= lower_limit, lower_limit, data[col])\n",
    "    return data, outlier_rows"
   ]
  },
  {
   "cell_type": "code",
   "execution_count": 51,
   "id": "0aa4d86f",
   "metadata": {},
   "outputs": [],
   "source": [
    "def getOutlierLimit(data, col):\n",
    "    sorted(data[col])\n",
    "    Q1, Q3 = data[col].quantile([0.25, 0.75])\n",
    "    IQR = Q3 - Q1\n",
    "    lower_limit = Q1 - 1.5 * IQR\n",
    "    upper_limit = Q3 + 1.5 * IQR\n",
    "    return lower_limit, upper_limit"
   ]
  },
  {
   "cell_type": "code",
   "execution_count": 52,
   "id": "2fba0d77",
   "metadata": {},
   "outputs": [
    {
     "data": {
      "text/plain": [
       "['declared_handling_days',\n",
       " 'shipping_fee',\n",
       " 'carrier_min_estimate',\n",
       " 'carrier_max_estimate',\n",
       " 'item_price',\n",
       " 'quantity',\n",
       " 'weight',\n",
       " 'distance_between_pincodes']"
      ]
     },
     "execution_count": 52,
     "metadata": {},
     "output_type": "execute_result"
    }
   ],
   "source": [
    "numerical_columns"
   ]
  },
  {
   "cell_type": "code",
   "execution_count": null,
   "id": "f5b08095",
   "metadata": {},
   "outputs": [],
   "source": []
  },
  {
   "cell_type": "markdown",
   "id": "a80dc438",
   "metadata": {},
   "source": [
    "## 1. declared_handling_days"
   ]
  },
  {
   "cell_type": "code",
   "execution_count": 53,
   "id": "1edd3b91",
   "metadata": {},
   "outputs": [],
   "source": [
    "column_in_analysis = 'declared_handling_days'"
   ]
  },
  {
   "cell_type": "code",
   "execution_count": 54,
   "id": "56064f5a",
   "metadata": {},
   "outputs": [
    {
     "data": {
      "text/plain": [
       "count    1.429108e+07\n",
       "mean     1.620788e+00\n",
       "std      1.498381e+00\n",
       "min      0.000000e+00\n",
       "25%      1.000000e+00\n",
       "50%      1.000000e+00\n",
       "75%      2.000000e+00\n",
       "max      4.000000e+01\n",
       "Name: declared_handling_days, dtype: float64"
      ]
     },
     "execution_count": 54,
     "metadata": {},
     "output_type": "execute_result"
    }
   ],
   "source": [
    "data[column_in_analysis].describe()"
   ]
  },
  {
   "cell_type": "code",
   "execution_count": 55,
   "id": "ffa87548",
   "metadata": {},
   "outputs": [
    {
     "data": {
      "text/plain": [
       "<AxesSubplot:>"
      ]
     },
     "execution_count": 55,
     "metadata": {},
     "output_type": "execute_result"
    },
    {
     "data": {
      "image/png": "[encoded data removed]",
      "text/plain": [
       "<Figure size 432x288 with 1 Axes>"
      ]
     },
     "metadata": {
      "needs_background": "light"
     },
     "output_type": "display_data"
    }
   ],
   "source": [
    "data[column_in_analysis].hist()"
   ]
  },
  {
   "cell_type": "code",
   "execution_count": 56,
   "id": "28191ce5",
   "metadata": {},
   "outputs": [
    {
     "data": {
      "text/plain": [
       "<AxesSubplot:>"
      ]
     },
     "execution_count": 56,
     "metadata": {},
     "output_type": "execute_result"
    },
    {
     "data": {
      "image/png": "[encoded data removed]",
      "text/plain": [
       "<Figure size 432x288 with 1 Axes>"
      ]
     },
     "metadata": {
      "needs_background": "light"
     },
     "output_type": "display_data"
    }
   ],
   "source": [
    "data.boxplot(column=column_in_analysis)"
   ]
  },
  {
   "cell_type": "code",
   "execution_count": 36,
   "id": "a6f364b4",
   "metadata": {},
   "outputs": [
    {
     "data": {
      "text/plain": [
       "(-0.5, 3.5)"
      ]
     },
     "execution_count": 36,
     "metadata": {},
     "output_type": "execute_result"
    }
   ],
   "source": [
    "getOutlierLimit(data, column_in_analysis)"
   ]
  },
  {
   "cell_type": "code",
   "execution_count": 58,
   "id": "26eb551b",
   "metadata": {
    "scrolled": true
   },
   "outputs": [
    {
     "data": {
      "text/plain": [
       "1.0     7844615\n",
       "2.0     2574340\n",
       "3.0     2418317\n",
       "0.0     1012339\n",
       "5.0      224804\n",
       "4.0      123120\n",
       "10.0      61828\n",
       "15.0      13009\n",
       "30.0      10901\n",
       "20.0       7737\n",
       "40.0         72\n",
       "Name: declared_handling_days, dtype: int64"
      ]
     },
     "execution_count": 58,
     "metadata": {},
     "output_type": "execute_result"
    }
   ],
   "source": [
    "data[column_in_analysis].value_counts()"
   ]
  },
  {
   "cell_type": "code",
   "execution_count": 59,
   "id": "3570e275",
   "metadata": {},
   "outputs": [
    {
     "data": {
      "text/plain": [
       "count    1.100000e+01\n",
       "mean     1.299189e+06\n",
       "std      2.377842e+06\n",
       "min      7.200000e+01\n",
       "25%      1.195500e+04\n",
       "50%      1.231200e+05\n",
       "75%      1.715328e+06\n",
       "max      7.844615e+06\n",
       "Name: declared_handling_days, dtype: float64"
      ]
     },
     "execution_count": 59,
     "metadata": {},
     "output_type": "execute_result"
    }
   ],
   "source": [
    "data[column_in_analysis].value_counts().describe()"
   ]
  },
  {
   "cell_type": "code",
   "execution_count": null,
   "id": "9ae0a9b5",
   "metadata": {},
   "outputs": [],
   "source": [
    "data[column_in_analysis]"
   ]
  },
  {
   "cell_type": "markdown",
   "id": "390f1c5c",
   "metadata": {},
   "source": [
    "## 2. shipping_fee"
   ]
  },
  {
   "cell_type": "code",
   "execution_count": 73,
   "id": "02f0c6ac",
   "metadata": {},
   "outputs": [],
   "source": [
    "column_in_analysis = 'shipping_fee'"
   ]
  },
  {
   "cell_type": "code",
   "execution_count": 74,
   "id": "2202df9d",
   "metadata": {},
   "outputs": [
    {
     "name": "stdout",
     "output_type": "stream",
     "text": [
      "count    1.500000e+07\n",
      "mean     2.811783e+00\n",
      "std      5.373618e+00\n",
      "min     -3.000000e+00\n",
      "25%      0.000000e+00\n",
      "50%      0.000000e+00\n",
      "75%      4.000000e+00\n",
      "max      2.000000e+03\n",
      "Name: shipping_fee, dtype: float64\n"
     ]
    },
    {
     "data": {
      "image/png": "[encoded data removed]",
      "text/plain": [
       "<Figure size 432x288 with 1 Axes>"
      ]
     },
     "metadata": {
      "needs_background": "light"
     },
     "output_type": "display_data"
    }
   ],
   "source": [
    "drawRequiredGraphs(data, column_in_analysis)"
   ]
  },
  {
   "cell_type": "code",
   "execution_count": 75,
   "id": "774c66e8",
   "metadata": {},
   "outputs": [
    {
     "data": {
      "text/plain": [
       "<AxesSubplot:>"
      ]
     },
     "execution_count": 75,
     "metadata": {},
     "output_type": "execute_result"
    },
    {
     "data": {
      "image/png": "[encoded data removed]",
      "text/plain": [
       "<Figure size 432x288 with 1 Axes>"
      ]
     },
     "metadata": {
      "needs_background": "light"
     },
     "output_type": "display_data"
    }
   ],
   "source": [
    "data.boxplot(column=column_in_analysis)"
   ]
  },
  {
   "cell_type": "code",
   "execution_count": 76,
   "id": "41a497b8",
   "metadata": {},
   "outputs": [
    {
     "data": {
      "text/plain": [
       "0.00      9000100\n",
       "3.50       327017\n",
       "3.75       223857\n",
       "4.00       186832\n",
       "3.00       186692\n",
       "           ...   \n",
       "47.08           1\n",
       "89.90           1\n",
       "99.85           1\n",
       "136.85          1\n",
       "74.57           1\n",
       "Name: shipping_fee, Length: 7044, dtype: int64"
      ]
     },
     "execution_count": 76,
     "metadata": {},
     "output_type": "execute_result"
    }
   ],
   "source": [
    "data[column_in_analysis].value_counts()"
   ]
  },
  {
   "cell_type": "markdown",
   "id": "8a49b686",
   "metadata": {},
   "source": [
    "## 3. Carrier max estimate"
   ]
  },
  {
   "cell_type": "code",
   "execution_count": 77,
   "id": "cb1aa4f9",
   "metadata": {},
   "outputs": [],
   "source": [
    "column_in_analysis = 'carrier_max_estimate'"
   ]
  },
  {
   "cell_type": "code",
   "execution_count": 78,
   "id": "1a9ef5db",
   "metadata": {},
   "outputs": [
    {
     "data": {
      "text/plain": [
       "<AxesSubplot:>"
      ]
     },
     "execution_count": 78,
     "metadata": {},
     "output_type": "execute_result"
    },
    {
     "data": {
      "image/png": "[encoded data removed]",
      "text/plain": [
       "<Figure size 432x288 with 1 Axes>"
      ]
     },
     "metadata": {
      "needs_background": "light"
     },
     "output_type": "display_data"
    }
   ],
   "source": [
    "training_data.boxplot(column=column_in_analysis)"
   ]
  },
  {
   "cell_type": "code",
   "execution_count": 80,
   "id": "7e01e1cb",
   "metadata": {},
   "outputs": [
    {
     "name": "stdout",
     "output_type": "stream",
     "text": [
      "count    1.500000e+07\n",
      "mean     5.462125e+00\n",
      "std      1.229274e+00\n",
      "min     -1.000000e+00\n",
      "25%      5.000000e+00\n",
      "50%      5.000000e+00\n",
      "75%      5.000000e+00\n",
      "max      2.500000e+01\n",
      "Name: carrier_max_estimate, dtype: float64\n"
     ]
    },
    {
     "data": {
      "image/png": "[encoded data removed]",
      "text/plain": [
       "<Figure size 432x288 with 1 Axes>"
      ]
     },
     "metadata": {
      "needs_background": "light"
     },
     "output_type": "display_data"
    }
   ],
   "source": [
    "drawRequiredGraphs(data, column_in_analysis)"
   ]
  },
  {
   "cell_type": "code",
   "execution_count": 84,
   "id": "5042a641",
   "metadata": {},
   "outputs": [
    {
     "data": {
      "text/plain": [
       " 5     13055377\n",
       " 9      1154125\n",
       " 8       780997\n",
       " 1         7882\n",
       "-1         1095\n",
       " 25         524\n",
       "Name: carrier_max_estimate, dtype: int64"
      ]
     },
     "execution_count": 84,
     "metadata": {},
     "output_type": "execute_result"
    }
   ],
   "source": [
    "data[column_in_analysis].value_counts()"
   ]
  },
  {
   "cell_type": "code",
   "execution_count": 83,
   "id": "5eb284e6",
   "metadata": {},
   "outputs": [
    {
     "data": {
      "text/plain": [
       "(5.0, 5.0)"
      ]
     },
     "execution_count": 83,
     "metadata": {},
     "output_type": "execute_result"
    }
   ],
   "source": [
    "getOutlierLimit(data, column_in_analysis)"
   ]
  },
  {
   "cell_type": "code",
   "execution_count": 81,
   "id": "4ae6a541",
   "metadata": {},
   "outputs": [],
   "source": [
    "outlier_data_frame1 = data[data[column_in_analysis] < 5]"
   ]
  },
  {
   "cell_type": "code",
   "execution_count": 82,
   "id": "3b17f913",
   "metadata": {},
   "outputs": [
    {
     "data": {
      "text/plain": [
       "8977"
      ]
     },
     "execution_count": 82,
     "metadata": {},
     "output_type": "execute_result"
    }
   ],
   "source": [
    "len(outlier_data_frame1)"
   ]
  },
  {
   "cell_type": "code",
   "execution_count": 23,
   "id": "c80599b1",
   "metadata": {},
   "outputs": [],
   "source": [
    "outlier_data_frame2 = data[data['carrier_max_estimate'] > 10]"
   ]
  },
  {
   "cell_type": "code",
   "execution_count": 24,
   "id": "bb81a278",
   "metadata": {},
   "outputs": [
    {
     "data": {
      "text/plain": [
       "397"
      ]
     },
     "execution_count": 24,
     "metadata": {},
     "output_type": "execute_result"
    }
   ],
   "source": [
    "len(outlier_data_frame2)"
   ]
  },
  {
   "cell_type": "code",
   "execution_count": 25,
   "id": "42d106c5",
   "metadata": {},
   "outputs": [],
   "source": [
    "outlier_data = pd.concat([outlier_data_frame1, outlier_data_frame2])"
   ]
  },
  {
   "cell_type": "code",
   "execution_count": 26,
   "id": "51a0564c",
   "metadata": {},
   "outputs": [
    {
     "data": {
      "text/plain": [
       "8263"
      ]
     },
     "execution_count": 26,
     "metadata": {},
     "output_type": "execute_result"
    }
   ],
   "source": [
    "len(outlier_data)"
   ]
  },
  {
   "cell_type": "code",
   "execution_count": 27,
   "id": "dc9f1f11",
   "metadata": {},
   "outputs": [
    {
     "data": {
      "text/plain": [
       "14993504"
      ]
     },
     "execution_count": 27,
     "metadata": {},
     "output_type": "execute_result"
    }
   ],
   "source": [
    "len(data['carrier_max_estimate'])"
   ]
  },
  {
   "cell_type": "code",
   "execution_count": 28,
   "id": "abdd6d31",
   "metadata": {},
   "outputs": [],
   "source": [
    "final_data = data[data['carrier_max_estimate'] <= 10]"
   ]
  },
  {
   "cell_type": "code",
   "execution_count": 29,
   "id": "3ec003e8",
   "metadata": {},
   "outputs": [
    {
     "data": {
      "text/plain": [
       "14993107"
      ]
     },
     "execution_count": 29,
     "metadata": {},
     "output_type": "execute_result"
    }
   ],
   "source": [
    "len(final_data)"
   ]
  },
  {
   "cell_type": "code",
   "execution_count": 30,
   "id": "3c107ceb",
   "metadata": {},
   "outputs": [],
   "source": [
    "final_data = final_data[final_data['carrier_max_estimate'] >= 5]"
   ]
  },
  {
   "cell_type": "code",
   "execution_count": 31,
   "id": "ae637b60",
   "metadata": {},
   "outputs": [
    {
     "data": {
      "text/plain": [
       "14985241"
      ]
     },
     "execution_count": 31,
     "metadata": {},
     "output_type": "execute_result"
    }
   ],
   "source": [
    "len(final_data)"
   ]
  },
  {
   "cell_type": "markdown",
   "id": "c6bfadb7",
   "metadata": {},
   "source": [
    "Outlier less than 5 and greater 10 are removed from carrier_max_estiamate"
   ]
  },
  {
   "cell_type": "markdown",
   "id": "cc47aaef",
   "metadata": {},
   "source": [
    "## 4. carrier_min_estimate "
   ]
  },
  {
   "cell_type": "code",
   "execution_count": null,
   "id": "b64492df",
   "metadata": {},
   "outputs": [],
   "source": [
    "column_in_analysis = 'carrier_min_estimate'"
   ]
  },
  {
   "cell_type": "code",
   "execution_count": 32,
   "id": "ee49ee3f",
   "metadata": {},
   "outputs": [
    {
     "data": {
      "text/plain": [
       "count    1.498524e+07\n",
       "mean     2.623174e+00\n",
       "std      4.845908e-01\n",
       "min      2.000000e+00\n",
       "25%      2.000000e+00\n",
       "50%      3.000000e+00\n",
       "75%      3.000000e+00\n",
       "max      3.000000e+00\n",
       "Name: carrier_min_estimate, dtype: float64"
      ]
     },
     "execution_count": 32,
     "metadata": {},
     "output_type": "execute_result"
    }
   ],
   "source": [
    "final_data[column_in_analysis].describe()"
   ]
  },
  {
   "cell_type": "code",
   "execution_count": 33,
   "id": "c9a3433a",
   "metadata": {},
   "outputs": [
    {
     "data": {
      "text/plain": [
       "<AxesSubplot:>"
      ]
     },
     "execution_count": 33,
     "metadata": {},
     "output_type": "execute_result"
    },
    {
     "data": {
      "image/png": "[encoded data removed]",
      "text/plain": [
       "<Figure size 432x288 with 1 Axes>"
      ]
     },
     "metadata": {
      "needs_background": "light"
     },
     "output_type": "display_data"
    }
   ],
   "source": [
    "final_data[column_in_analysis].hist()"
   ]
  },
  {
   "cell_type": "code",
   "execution_count": 34,
   "id": "8046325f",
   "metadata": {},
   "outputs": [
    {
     "data": {
      "text/plain": [
       "<AxesSubplot:>"
      ]
     },
     "execution_count": 34,
     "metadata": {},
     "output_type": "execute_result"
    },
    {
     "data": {
      "image/png": "[encoded data removed]",
      "text/plain": [
       "<Figure size 432x288 with 1 Axes>"
      ]
     },
     "metadata": {
      "needs_background": "light"
     },
     "output_type": "display_data"
    }
   ],
   "source": [
    "final_data.boxplot(column=column_in_analysis)"
   ]
  },
  {
   "cell_type": "markdown",
   "id": "032da887",
   "metadata": {},
   "source": [
    "No outliers in carrier_min_estimate"
   ]
  },
  {
   "cell_type": "markdown",
   "id": "57cf0e7d",
   "metadata": {},
   "source": [
    "## 5. item_price"
   ]
  },
  {
   "cell_type": "code",
   "execution_count": 85,
   "id": "b49dae39",
   "metadata": {},
   "outputs": [],
   "source": [
    "column_in_analysis = \"item_price\""
   ]
  },
  {
   "cell_type": "code",
   "execution_count": 87,
   "id": "b3013d8b",
   "metadata": {},
   "outputs": [
    {
     "name": "stdout",
     "output_type": "stream",
     "text": [
      "count    1.500000e+07\n",
      "mean     3.613771e+01\n",
      "std      1.099163e+02\n",
      "min      0.000000e+00\n",
      "25%      8.750000e+00\n",
      "50%      1.500000e+01\n",
      "75%      3.025000e+01\n",
      "max      6.000000e+04\n",
      "Name: item_price, dtype: float64\n"
     ]
    },
    {
     "data": {
      "image/png": "[encoded data removed]",
      "text/plain": [
       "<Figure size 432x288 with 1 Axes>"
      ]
     },
     "metadata": {
      "needs_background": "light"
     },
     "output_type": "display_data"
    }
   ],
   "source": [
    "drawRequiredGraphs(data, column_in_analysis)"
   ]
  },
  {
   "cell_type": "code",
   "execution_count": 88,
   "id": "ab67fe77",
   "metadata": {},
   "outputs": [
    {
     "data": {
      "text/plain": [
       "<AxesSubplot:>"
      ]
     },
     "execution_count": 88,
     "metadata": {},
     "output_type": "execute_result"
    },
    {
     "data": {
      "image/png": "[encoded data removed]",
      "text/plain": [
       "<Figure size 432x288 with 1 Axes>"
      ]
     },
     "metadata": {
      "needs_background": "light"
     },
     "output_type": "display_data"
    }
   ],
   "source": [
    "data.boxplot(column=column_in_analysis)"
   ]
  },
  {
   "cell_type": "code",
   "execution_count": 47,
   "id": "1f32a56a",
   "metadata": {},
   "outputs": [
    {
     "data": {
      "text/plain": [
       "0.49028240520122435"
      ]
     },
     "execution_count": 47,
     "metadata": {},
     "output_type": "execute_result"
    }
   ],
   "source": [
    "(len(final_data[final_data[column_in_analysis] > 500]) / len(final_data)) * 100"
   ]
  },
  {
   "cell_type": "code",
   "execution_count": 48,
   "id": "dd014ceb",
   "metadata": {},
   "outputs": [],
   "source": [
    "outlier_max = final_data[final_data[column_in_analysis] > 500]"
   ]
  },
  {
   "cell_type": "code",
   "execution_count": 49,
   "id": "a1584d39",
   "metadata": {},
   "outputs": [],
   "source": [
    "outlier_data = pd.concat([outlier_data, outlier_max])"
   ]
  },
  {
   "cell_type": "code",
   "execution_count": 51,
   "id": "bfbfdcab",
   "metadata": {},
   "outputs": [
    {
     "data": {
      "text/plain": [
       "81733"
      ]
     },
     "execution_count": 51,
     "metadata": {},
     "output_type": "execute_result"
    }
   ],
   "source": [
    "len(outlier_data)"
   ]
  },
  {
   "cell_type": "code",
   "execution_count": 50,
   "id": "4118875a",
   "metadata": {},
   "outputs": [
    {
     "data": {
      "text/plain": [
       "14911771"
      ]
     },
     "execution_count": 50,
     "metadata": {},
     "output_type": "execute_result"
    }
   ],
   "source": [
    "final_data = final_data[final_data[column_in_analysis] <= 500]\n",
    "len(final_data)"
   ]
  },
  {
   "cell_type": "markdown",
   "id": "5bc9562a",
   "metadata": {},
   "source": [
    "## 6. quantity"
   ]
  },
  {
   "cell_type": "code",
   "execution_count": 60,
   "id": "69b10f29",
   "metadata": {},
   "outputs": [],
   "source": [
    "column_in_analysis = 'quantity'"
   ]
  },
  {
   "cell_type": "code",
   "execution_count": 89,
   "id": "429c0bcf",
   "metadata": {},
   "outputs": [
    {
     "name": "stdout",
     "output_type": "stream",
     "text": [
      "count    1.500000e+07\n",
      "mean     3.613771e+01\n",
      "std      1.099163e+02\n",
      "min      0.000000e+00\n",
      "25%      8.750000e+00\n",
      "50%      1.500000e+01\n",
      "75%      3.025000e+01\n",
      "max      6.000000e+04\n",
      "Name: item_price, dtype: float64\n"
     ]
    },
    {
     "data": {
      "image/png": "[encoded data removed]",
      "text/plain": [
       "<Figure size 432x288 with 1 Axes>"
      ]
     },
     "metadata": {
      "needs_background": "light"
     },
     "output_type": "display_data"
    }
   ],
   "source": [
    "drawRequiredGraphs(data, column_in_analysis)"
   ]
  },
  {
   "cell_type": "code",
   "execution_count": 90,
   "id": "4f3c9438",
   "metadata": {},
   "outputs": [
    {
     "data": {
      "text/plain": [
       "<AxesSubplot:>"
      ]
     },
     "execution_count": 90,
     "metadata": {},
     "output_type": "execute_result"
    },
    {
     "data": {
      "image/png": "[encoded data removed]",
      "text/plain": [
       "<Figure size 432x288 with 1 Axes>"
      ]
     },
     "metadata": {
      "needs_background": "light"
     },
     "output_type": "display_data"
    }
   ],
   "source": [
    "data.boxplot(column=column_in_analysis)"
   ]
  },
  {
   "cell_type": "code",
   "execution_count": 73,
   "id": "e7164ca9",
   "metadata": {},
   "outputs": [
    {
     "data": {
      "text/plain": [
       "0     9316129\n",
       "1     2831036\n",
       "2      811119\n",
       "3      779683\n",
       "4      287438\n",
       "5      250443\n",
       "6      175080\n",
       "7      134375\n",
       "8      122273\n",
       "9       36997\n",
       "10      27027\n",
       "16         10\n",
       "Name: shipment_method_id, dtype: int64"
      ]
     },
     "execution_count": 73,
     "metadata": {},
     "output_type": "execute_result"
    }
   ],
   "source": [
    "data[column_in_analysis].value_counts()"
   ]
  },
  {
   "cell_type": "code",
   "execution_count": 83,
   "id": "36ff4ba8",
   "metadata": {},
   "outputs": [
    {
     "name": "stdout",
     "output_type": "stream",
     "text": [
      "lower_limit:  -1.5 upper_limit:  2.5\n"
     ]
    }
   ],
   "source": [
    "final_data1, outlier_data1 = squeeze_outlier_with_interquantile_range(final_data, column_in_analysis)"
   ]
  },
  {
   "cell_type": "code",
   "execution_count": null,
   "id": "687c9722",
   "metadata": {},
   "outputs": [],
   "source": [
    "len(final_data1)"
   ]
  },
  {
   "cell_type": "code",
   "execution_count": 79,
   "id": "d39ae004",
   "metadata": {},
   "outputs": [
    {
     "data": {
      "text/plain": [
       "1813326"
      ]
     },
     "execution_count": 79,
     "metadata": {},
     "output_type": "execute_result"
    }
   ],
   "source": [
    "len(outlier_data1)"
   ]
  },
  {
   "cell_type": "code",
   "execution_count": 81,
   "id": "228adf73",
   "metadata": {},
   "outputs": [
    {
     "data": {
      "text/plain": [
       "221894"
      ]
     },
     "execution_count": 81,
     "metadata": {},
     "output_type": "execute_result"
    }
   ],
   "source": [
    "len(outlier_data)"
   ]
  },
  {
   "cell_type": "markdown",
   "id": "09086b14",
   "metadata": {},
   "source": [
    "## 7. weight"
   ]
  },
  {
   "cell_type": "code",
   "execution_count": 84,
   "id": "c931d9f1",
   "metadata": {},
   "outputs": [],
   "source": [
    "column_in_analysis = 'weight'"
   ]
  },
  {
   "cell_type": "code",
   "execution_count": 94,
   "id": "9e6e6107",
   "metadata": {},
   "outputs": [
    {
     "name": "stdout",
     "output_type": "stream",
     "text": [
      "count    1.482162e+07\n",
      "mean     1.773657e+03\n",
      "std      1.187889e+03\n",
      "min      0.000000e+00\n",
      "25%      7.963749e+02\n",
      "50%      1.530124e+03\n",
      "75%      2.742537e+03\n",
      "max      1.646254e+04\n",
      "Name: distance_between_pincodes, dtype: float64\n"
     ]
    },
    {
     "data": {
      "image/png": "[encoded data removed]",
      "text/plain": [
       "<Figure size 432x288 with 1 Axes>"
      ]
     },
     "metadata": {
      "needs_background": "light"
     },
     "output_type": "display_data"
    }
   ],
   "source": [
    "drawRequiredGraphs(data, column_in_analysis)"
   ]
  },
  {
   "cell_type": "code",
   "execution_count": 95,
   "id": "50c33d32",
   "metadata": {},
   "outputs": [
    {
     "data": {
      "text/plain": [
       "<AxesSubplot:>"
      ]
     },
     "execution_count": 95,
     "metadata": {},
     "output_type": "execute_result"
    },
    {
     "data": {
      "image/png": "[encoded data removed]",
      "text/plain": [
       "<Figure size 432x288 with 1 Axes>"
      ]
     },
     "metadata": {
      "needs_background": "light"
     },
     "output_type": "display_data"
    }
   ],
   "source": [
    "data.boxplot(column=column_in_analysis)"
   ]
  },
  {
   "cell_type": "code",
   "execution_count": 96,
   "id": "f9341bf5",
   "metadata": {},
   "outputs": [
    {
     "data": {
      "text/plain": [
       "(-2122.8684791239148, 5661.780535778149)"
      ]
     },
     "execution_count": 96,
     "metadata": {},
     "output_type": "execute_result"
    }
   ],
   "source": [
    "getOutlierLimit(data, column_in_analysis)"
   ]
  },
  {
   "cell_type": "markdown",
   "id": "15cf5f01",
   "metadata": {},
   "source": [
    "## 8. distance_between_pincodes"
   ]
  },
  {
   "cell_type": "code",
   "execution_count": 91,
   "id": "924b8159",
   "metadata": {},
   "outputs": [],
   "source": [
    "column_in_analysis = 'distance_between_pincodes'"
   ]
  },
  {
   "cell_type": "code",
   "execution_count": 92,
   "id": "04377af8",
   "metadata": {},
   "outputs": [
    {
     "name": "stdout",
     "output_type": "stream",
     "text": [
      "count    1.482162e+07\n",
      "mean     1.773657e+03\n",
      "std      1.187889e+03\n",
      "min      0.000000e+00\n",
      "25%      7.963749e+02\n",
      "50%      1.530124e+03\n",
      "75%      2.742537e+03\n",
      "max      1.646254e+04\n",
      "Name: distance_between_pincodes, dtype: float64\n"
     ]
    },
    {
     "data": {
      "image/png": "[encoded data removed]",
      "text/plain": [
       "<Figure size 432x288 with 1 Axes>"
      ]
     },
     "metadata": {
      "needs_background": "light"
     },
     "output_type": "display_data"
    }
   ],
   "source": [
    "drawRequiredGraphs(data, column_in_analysis)"
   ]
  },
  {
   "cell_type": "code",
   "execution_count": 93,
   "id": "c0850012",
   "metadata": {},
   "outputs": [
    {
     "data": {
      "text/plain": [
       "count    1.191549e+07\n",
       "mean     1.243895e+00\n",
       "std      3.161099e+00\n",
       "min      1.000000e+00\n",
       "25%      1.000000e+00\n",
       "50%      1.000000e+00\n",
       "75%      1.000000e+00\n",
       "max      1.038100e+04\n",
       "Name: distance_between_pincodes, dtype: float64"
      ]
     },
     "execution_count": 93,
     "metadata": {},
     "output_type": "execute_result"
    }
   ],
   "source": [
    "data[column_in_analysis].value_counts().describe()"
   ]
  }
 ],
 "metadata": {
  "kernelspec": {
   "display_name": "Python 3 (ipykernel)",
   "language": "python",
   "name": "python3"
  },
  "language_info": {
   "codemirror_mode": {
    "name": "ipython",
    "version": 3
   },
   "file_extension": ".py",
   "mimetype": "text/x-python",
   "name": "python",
   "nbconvert_exporter": "python",
   "pygments_lexer": "ipython3",
   "version": "3.7.12"
  },
  "toc": {
   "base_numbering": 1,
   "nav_menu": {},
   "number_sections": true,
   "sideBar": true,
   "skip_h1_title": false,
   "title_cell": "Table of Contents",
   "title_sidebar": "Contents",
   "toc_cell": true,
   "toc_position": {},
   "toc_section_display": true,
   "toc_window_display": false
  }
 },
 "nbformat": 4,
 "nbformat_minor": 5
}
