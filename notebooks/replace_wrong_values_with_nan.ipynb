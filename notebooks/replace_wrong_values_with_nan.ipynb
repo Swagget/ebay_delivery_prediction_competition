{
 "cells": [
  {
   "cell_type": "markdown",
   "id": "a2fe85e0",
   "metadata": {},
   "source": [
    "# Import packages and data"
   ]
  },
  {
   "cell_type": "markdown",
   "id": "60bdd885",
   "metadata": {},
   "source": [
    "* [Check for null values](#section-one)"
   ]
  },
  {
   "cell_type": "code",
   "execution_count": 1,
   "id": "9c5d4279",
   "metadata": {},
   "outputs": [
    {
     "name": "stdout",
     "output_type": "stream",
     "text": [
      "Preprocessing successfully imported.\n"
     ]
    }
   ],
   "source": [
    "from ebay_delivery_prediction_project import preprocessing, Visualisation, preprocessing_models, postprocessing\n",
    "preprocessing.import_test()\n",
    "\n",
    "from datetime import datetime, timedelta\n",
    "import numpy as np\n",
    "import pandas as pd"
   ]
  },
  {
   "cell_type": "code",
   "execution_count": 2,
<<<<<<< Updated upstream
   "id": "7e85dbe4",
   "metadata": {},
   "outputs": [],
   "source": [
    "training_data = pd.read_csv(r\"C:\\Users\\msidda2\\Documents\\GitHub\\ebay_delivery_prediction_competition\\data\\preprocessed_data\\preprocessed_data.csv\")"
   ]
  },
  {
   "cell_type": "code",
   "execution_count": null,
   "id": "91d411d5",
   "metadata": {},
   "outputs": [],
   "source": [
    "columns = training_data.columns\n",
    "num_of_rows = 15000000\n",
    "target_column = \"delivery_calendar_days\""
   ]
  },
  {
<<<<<<< Updated upstream
   "cell_type": "markdown",
   "id": "92f6e8fa",
   "metadata": {},
   "source": [
    "<a id=\"section-one\"></a>\n",
    "## Check for null values"
   ]
  },
  {
   "cell_type": "code",
   "execution_count": 4,
   "id": "ca3df441",
   "metadata": {},
   "outputs": [
    {
     "data": {
      "text/plain": [
       "b2c_c2c                           0\n",
       "seller_id                         0\n",
       "declared_handling_days       702886\n",
       "acceptance_scan_timestamp         0\n",
       "shipment_method_id                0\n",
       "shipping_fee                      0\n",
       "carrier_min_estimate              0\n",
       "carrier_max_estimate              0\n",
       "item_zip                          1\n",
       "buyer_zip                         1\n",
       "category_id                       0\n",
       "item_price                        0\n",
       "quantity                          0\n",
       "payment_datetime                  0\n",
       "delivery_date                     0\n",
       "weight                            0\n",
       "weight_units                      0\n",
       "package_size                      0\n",
       "record_number                     0\n",
       "delivery_calendar_days            0\n",
       "cleaned_item_zip               5001\n",
       "cleaned_buyer_zip               608\n",
       "distance_between_pincodes    178381\n",
       "dtype: int64"
      ]
     },
     "execution_count": 4,
     "metadata": {},
     "output_type": "execute_result"
    }
   ],
   "source": [
    "training_data.isnull().sum()"
   ]
  },
  {
   "cell_type": "markdown",
   "id": "24a718d2",
   "metadata": {},
   "source": [
    "<a id='section-two'></a>\n",
    "## Check for negative values"
=======
   "cell_type": "code",
   "execution_count": null,
   "id": "ea8d80e7",
   "metadata": {},
   "outputs": [],
   "source": [
    "training_data = preprocessing.drop_bad_values(training_data)"
   ]
  },
  {
   "cell_type": "code",
   "execution_count": null,
   "id": "ea2db0e2",
   "metadata": {},
   "outputs": [],
   "source": [
    "training_data['declared_handling_days'].fillna(training_data['declared_handling_days'].median(), inplace=True)\n",
    "training_data['distance_between_pincodes'].fillna(training_data['distance_between_pincodes'].median(), inplace=True)"
>>>>>>> Stashed changes
   ]
  },
  {
   "cell_type": "code",
<<<<<<< Updated upstream
   "execution_count": 67,
   "id": "d4a56b59",
=======
   "execution_count": null,
   "id": "c430dda1",
>>>>>>> Stashed changes
   "metadata": {},
   "outputs": [],
   "source": [
    "training_data.isnull().sum()"
   ]
  },
  {
   "cell_type": "code",
   "execution_count": null,
   "id": "ab8c7a74",
   "metadata": {},
   "outputs": [],
   "source": [
    "different_types_of_encoding = [\"one-hot\", \"numerical\"]\n",
    "\n",
    "cols_and_encoding = {\n",
    "    \"b2c_c2c\"   : \"one-hot\",\n",
    "    \"seller_id\"   : 6365,\n",
    "    \"declared_handling_days\"   : \"numerical\",\n",
    "    \"acceptance_scan_timestamp\"   : 9848,\n",
    "    \"shipment_method_id\"   : \"one-hot\",\n",
    "    \"shipping_fee\"   : \"numerical\",\n",
    "    \"carrier_min_estimate\"   : \"numerical\",\n",
    "    \"carrier_max_estimate\"   : \"numerical\",\n",
    "    \"item_zip\"   : 4701, # Needs a lot of preprocessing.\n",
    "    \"buyer_zip\"   : 6880, # Needs a lot of preprocessing.\n",
    "    \"category_id\"   : 'one-hot', # Only has 33 unique values in 15,000,000 rows so one-hot.\n",
    "    \"item_price\"   : \"numerical\",\n",
    "    \"quantity\"   : \"numerical\",\n",
    "    \"payment_datetime\"   : 9998,\n",
    "    \"delivery_date\"   : 602,\n",
    "    \"weight\"   : \"numerical\",\n",
    "    \"weight_units\"   : 1,\n",
    "    \"package_size\"   : \"one-hot\",\n",
    "    \"record_number\"   : 10000,\n",
    "    \"delivery_calendar_days\"   : \"target\",\n",
    "    \"cleaned_item_zip\" : 30743,\n",
    "    \"cleaned_buyer_zip\" : 34876,\n",
    "    \"distance_between_pincodes\" : \"numerical\",\n",
    "}"
   ]
  },
  {
   "cell_type": "code",
   "execution_count": null,
   "id": "87483d9b",
   "metadata": {},
   "outputs": [],
   "source": [
    "numerical_columns = ['declared_handling_days',\n",
    " 'shipping_fee',\n",
    " 'carrier_min_estimate',\n",
    " 'carrier_max_estimate',\n",
    " 'item_price',\n",
    " 'quantity',\n",
    " 'weight',\n",
    " 'distance_between_pincodes']"
   ]
  },
  {
   "cell_type": "code",
   "execution_count": null,
   "id": "d0b2d296",
   "metadata": {},
   "outputs": [],
   "source": [
    "categorical_columns = ['b2c_c2c', 'shipment_method_id', 'category_id', 'package_size']"
   ]
  },
  {
   "cell_type": "code",
   "execution_count": null,
   "id": "eda55461",
   "metadata": {},
   "outputs": [],
   "source": [
    "data = training_data.copy()"
   ]
  },
  {
   "cell_type": "code",
   "execution_count": null,
   "id": "c6d25532",
   "metadata": {},
   "outputs": [],
   "source": [
    "training_data[training_data[\"delivery_calendar_days\"]<0]"
   ]
  },
  {
   "cell_type": "markdown",
   "id": "86e83dff",
   "metadata": {},
   "source": [
    "# Detecting and handling outliers"
   ]
  },
  {
   "cell_type": "markdown",
   "id": "23eb832d",
   "metadata": {},
   "source": [
    "### Utils functions"
   ]
  },
  {
   "cell_type": "code",
   "execution_count": null,
   "id": "a88f6712",
   "metadata": {},
   "outputs": [],
   "source": [
    "def drawRequiredGraphs(data, col):\n",
    "    print(data[col].describe())\n",
    "    data[col].hist()"
   ]
  },
  {
   "cell_type": "code",
   "execution_count": null,
   "id": "006d841c",
   "metadata": {},
   "outputs": [],
   "source": [
    "def squeeze_outlier_with_interquantile_range(data, col):\n",
    "    sorted(data[col])\n",
    "    Q1, Q3 = data[col].quantile([0.25, 0.75])\n",
    "    IQR = Q3 - Q1\n",
    "    lower_limit = Q1 - 1.5 * IQR\n",
    "    upper_limit = Q3 + 1.5 * IQR\n",
    "    print('lower_limit: ', lower_limit, 'upper_limit: ', upper_limit)\n",
    "    upper_rows = data[data[col] > upper_limit]\n",
    "    lower_rows = data[data[col] < lower_limit]\n",
    "    outlier_rows = pd.concat([upper_rows, lower_rows])\n",
    "    data[col] = np.where(data[col] >= upper_limit, upper_limit, data[col])\n",
    "    data[col] = np.where(data[col] <= lower_limit, lower_limit, data[col])\n",
    "    return data, outlier_rows"
   ]
  },
  {
   "cell_type": "code",
   "execution_count": null,
   "id": "0aa4d86f",
   "metadata": {},
   "outputs": [],
   "source": [
    "def getOutlierLimit(data, col):\n",
    "    sorted(data[col])\n",
    "    Q1, Q3 = data[col].quantile([0.25, 0.75])\n",
    "    IQR = Q3 - Q1\n",
    "    lower_limit = Q1 - 1.5 * IQR\n",
    "    upper_limit = Q3 + 1.5 * IQR\n",
    "    return lower_limit, upper_limit"
   ]
  },
  {
   "cell_type": "code",
   "execution_count": null,
   "id": "f5b08095",
   "metadata": {},
   "outputs": [],
   "source": [
    "def dropOutliersWithThreshold(data, column, max_thresh, min_thresh):\n",
    "    if max_thresh:\n",
    "        data = data[data[column] <= max_thresh]\n",
    "    if min_thresh:\n",
    "        data = data[data[column] >= min_thresh]\n",
    "    return data"
   ]
  },
  {
   "cell_type": "code",
   "execution_count": null,
   "id": "a6fa117a",
   "metadata": {},
   "outputs": [],
   "source": [
    "data = dropOutliersWithThreshold(data, 'declared_handling_days', 5, 0)"
   ]
  },
  {
   "cell_type": "code",
   "execution_count": null,
   "id": "69cfb272",
   "metadata": {},
   "outputs": [],
   "source": [
    "data = dropOutliersWithThreshold(data, 'carrier_max_estimate', 9, 5)"
   ]
  },
  {
   "cell_type": "code",
   "execution_count": null,
   "id": "4e9a428b",
   "metadata": {},
   "outputs": [],
   "source": [
    "data = dropOutliersWithThreshold(data, 'carrier_min_estimate', 3, 2)"
   ]
  },
  {
   "cell_type": "markdown",
   "id": "81dfeb62",
   "metadata": {},
   "source": [
    "# Categorical values"
   ]
  },
  {
   "cell_type": "code",
   "execution_count": null,
   "id": "f2a4a681",
   "metadata": {},
   "outputs": [],
   "source": [
    "categorical_columns"
   ]
  },
  {
   "cell_type": "markdown",
   "id": "0b37e7fc",
   "metadata": {},
   "source": [
    "## 1. b2b_c2c"
   ]
  },
  {
   "cell_type": "code",
   "execution_count": null,
   "id": "31bcb6ad",
   "metadata": {},
   "outputs": [],
   "source": [
    "column_in_analysis = 'b2c_c2c'"
   ]
  },
  {
   "cell_type": "code",
   "execution_count": null,
   "id": "8f840b8a",
   "metadata": {},
   "outputs": [],
   "source": [
    "drawRequiredGraphs(data, column_in_analysis)"
   ]
  },
  {
   "cell_type": "code",
   "execution_count": null,
   "id": "d8a68d54",
   "metadata": {},
   "outputs": [],
   "source": [
    "data[column_in_analysis].value_counts()"
   ]
  },
  {
   "cell_type": "markdown",
   "id": "4e0b1db2",
   "metadata": {},
   "source": [
    "## 2. shipment_method_id"
   ]
  },
  {
   "cell_type": "code",
   "execution_count": null,
   "id": "065a021e",
   "metadata": {},
   "outputs": [],
   "source": [
    "column_in_analysis = 'shipment_method_id'"
   ]
  },
  {
   "cell_type": "code",
   "execution_count": null,
   "id": "c57b9d0e",
   "metadata": {},
   "outputs": [],
   "source": [
    "drawRequiredGraphs(data, column_in_analysis)"
   ]
  },
  {
   "cell_type": "code",
   "execution_count": null,
   "id": "5be52bef",
   "metadata": {},
   "outputs": [],
   "source": [
    "data[column_in_analysis].value_counts()"
   ]
  },
  {
   "cell_type": "code",
   "execution_count": null,
   "id": "81fd0719",
   "metadata": {},
   "outputs": [],
   "source": [
    "col_values_in_analysis = data[data[column_in_analysis] == 0]"
   ]
  },
  {
   "cell_type": "code",
   "execution_count": null,
   "id": "d7228118",
   "metadata": {},
   "outputs": [],
   "source": [
    "col_values_in_analysis[target_column].value_counts()"
   ]
  },
  {
   "cell_type": "markdown",
   "id": "20700144",
   "metadata": {},
   "source": [
    "## 3. package_size"
   ]
  },
  {
   "cell_type": "code",
   "execution_count": null,
   "id": "349ac3cc",
   "metadata": {},
   "outputs": [],
   "source": [
    "column_in_analysis = 'package_size'"
   ]
  },
  {
   "cell_type": "code",
   "execution_count": null,
   "id": "de9115ea",
   "metadata": {},
   "outputs": [],
   "source": [
    "drawRequiredGraphs(data, column_in_analysis)"
   ]
  },
  {
   "cell_type": "code",
   "execution_count": null,
   "id": "64d6a6ea",
   "metadata": {},
   "outputs": [],
   "source": [
    "data[column_in_analysis].value_counts()"
   ]
  },
  {
   "cell_type": "markdown",
   "id": "1e062cb1",
   "metadata": {},
   "source": [
    "## 4. Category_id"
   ]
  },
  {
   "cell_type": "code",
   "execution_count": null,
   "id": "7f72ce4e",
   "metadata": {},
   "outputs": [],
   "source": [
    "column_in_analysis = 'category_id'"
   ]
  },
  {
   "cell_type": "code",
   "execution_count": null,
   "id": "c4195106",
   "metadata": {},
   "outputs": [],
   "source": [
    "drawRequiredGraphs(data, column_in_analysis)"
   ]
  },
  {
   "cell_type": "code",
   "execution_count": null,
   "id": "a97a4ac7",
   "metadata": {},
   "outputs": [],
   "source": [
    "data[column_in_analysis].value_counts()"
   ]
  },
  {
   "cell_type": "markdown",
   "id": "a80dc438",
   "metadata": {},
   "source": [
    "## 1. declared_handling_days"
   ]
  },
  {
   "cell_type": "code",
   "execution_count": null,
   "id": "1edd3b91",
   "metadata": {},
   "outputs": [],
   "source": [
    "column_in_analysis = 'declared_handling_days'"
   ]
  },
  {
   "cell_type": "code",
   "execution_count": null,
   "id": "56064f5a",
   "metadata": {},
   "outputs": [],
   "source": [
    "data[column_in_analysis].describe()"
   ]
  },
  {
   "cell_type": "code",
   "execution_count": null,
   "id": "ffa87548",
   "metadata": {},
   "outputs": [],
   "source": [
    "data[column_in_analysis].hist()"
   ]
  },
  {
   "cell_type": "code",
   "execution_count": null,
   "id": "28191ce5",
   "metadata": {},
   "outputs": [],
   "source": [
    "data.boxplot(column=column_in_analysis)"
   ]
  },
  {
   "cell_type": "code",
   "execution_count": null,
   "id": "a6f364b4",
   "metadata": {},
   "outputs": [],
   "source": [
    "getOutlierLimit(data, column_in_analysis)"
   ]
  },
  {
   "cell_type": "code",
   "execution_count": null,
   "id": "26eb551b",
   "metadata": {
    "scrolled": true
   },
   "outputs": [],
   "source": [
    "data[column_in_analysis].value_counts()"
   ]
  },
  {
   "cell_type": "code",
   "execution_count": null,
   "id": "6ce241b4",
   "metadata": {},
   "outputs": [],
   "source": [
    "data = dropOutliersWithThreshold(data, column_in_analysis, 5, 0)"
   ]
  },
  {
   "cell_type": "code",
   "execution_count": null,
   "id": "07b5eee2",
   "metadata": {},
   "outputs": [],
   "source": [
    "data.shape"
   ]
  },
  {
   "cell_type": "markdown",
   "id": "390f1c5c",
   "metadata": {},
   "source": [
    "## 2. shipping_fee"
   ]
  },
  {
   "cell_type": "code",
   "execution_count": null,
   "id": "02f0c6ac",
   "metadata": {},
   "outputs": [],
   "source": [
    "column_in_analysis = 'shipping_fee'"
   ]
  },
  {
   "cell_type": "code",
   "execution_count": null,
   "id": "2202df9d",
   "metadata": {},
   "outputs": [],
   "source": [
    "drawRequiredGraphs(data, column_in_analysis)"
   ]
  },
  {
   "cell_type": "code",
   "execution_count": null,
   "id": "774c66e8",
   "metadata": {},
   "outputs": [],
   "source": [
    "data.boxplot(column=column_in_analysis)"
   ]
  },
  {
   "cell_type": "code",
   "execution_count": null,
   "id": "41a497b8",
   "metadata": {},
   "outputs": [],
   "source": [
    "data[column_in_analysis].value_counts()"
   ]
  },
  {
   "cell_type": "markdown",
   "id": "8a49b686",
   "metadata": {},
   "source": [
    "## 3. Carrier max estimate"
   ]
  },
  {
   "cell_type": "code",
   "execution_count": null,
   "id": "cb1aa4f9",
   "metadata": {},
   "outputs": [],
   "source": [
    "column_in_analysis = 'carrier_max_estimate'"
   ]
  },
  {
   "cell_type": "code",
   "execution_count": null,
   "id": "1a9ef5db",
   "metadata": {},
   "outputs": [],
   "source": [
    "training_data.boxplot(column=column_in_analysis)"
   ]
  },
  {
   "cell_type": "code",
   "execution_count": null,
   "id": "7e01e1cb",
   "metadata": {},
   "outputs": [],
   "source": [
    "drawRequiredGraphs(data, column_in_analysis)"
   ]
  },
  {
   "cell_type": "code",
   "execution_count": null,
   "id": "5042a641",
   "metadata": {},
   "outputs": [],
   "source": [
    "data[column_in_analysis].value_counts()"
   ]
  },
  {
   "cell_type": "code",
   "execution_count": null,
   "id": "5eb284e6",
   "metadata": {},
   "outputs": [],
   "source": [
    "getOutlierLimit(data, column_in_analysis)"
   ]
  },
  {
   "cell_type": "code",
   "execution_count": null,
   "id": "4ae6a541",
   "metadata": {},
   "outputs": [],
   "source": [
    "outlier_data_frame1 = data[data[column_in_analysis] < 5]"
   ]
  },
  {
   "cell_type": "code",
   "execution_count": null,
   "id": "3b17f913",
   "metadata": {},
   "outputs": [],
   "source": [
    "len(outlier_data_frame1)"
   ]
  },
  {
   "cell_type": "code",
   "execution_count": null,
   "id": "c80599b1",
   "metadata": {},
   "outputs": [],
   "source": [
    "outlier_data_frame2 = data[data['carrier_max_estimate'] > 10]"
   ]
  },
  {
   "cell_type": "code",
   "execution_count": null,
   "id": "bb81a278",
   "metadata": {},
   "outputs": [],
   "source": [
    "len(outlier_data_frame2)"
   ]
  },
  {
   "cell_type": "code",
   "execution_count": null,
   "id": "42d106c5",
   "metadata": {},
   "outputs": [],
   "source": [
    "outlier_data = pd.concat([outlier_data_frame1, outlier_data_frame2])"
   ]
  },
  {
   "cell_type": "code",
   "execution_count": null,
   "id": "51a0564c",
   "metadata": {},
   "outputs": [],
   "source": [
    "len(outlier_data)"
   ]
  },
  {
   "cell_type": "code",
   "execution_count": null,
   "id": "dc9f1f11",
   "metadata": {},
   "outputs": [],
   "source": [
    "len(data['carrier_max_estimate'])"
   ]
  },
  {
   "cell_type": "code",
   "execution_count": null,
   "id": "abdd6d31",
   "metadata": {},
   "outputs": [],
   "source": [
    "final_data = data[data['carrier_max_estimate'] <= 10]"
   ]
  },
  {
   "cell_type": "code",
   "execution_count": null,
   "id": "3ec003e8",
   "metadata": {},
   "outputs": [],
   "source": [
    "len(final_data)"
   ]
  },
  {
   "cell_type": "code",
   "execution_count": null,
   "id": "3c107ceb",
   "metadata": {},
   "outputs": [],
   "source": [
    "final_data = final_data[final_data['carrier_max_estimate'] >= 5]"
   ]
  },
  {
   "cell_type": "code",
   "execution_count": null,
   "id": "ae637b60",
   "metadata": {},
   "outputs": [],
   "source": [
    "len(final_data)"
   ]
  },
  {
   "cell_type": "markdown",
   "id": "c6bfadb7",
   "metadata": {},
   "source": [
    "Outlier less than 5 and greater 10 are removed from carrier_max_estiamate"
   ]
  },
  {
   "cell_type": "markdown",
   "id": "cc47aaef",
   "metadata": {},
   "source": [
    "## 4. carrier_min_estimate "
   ]
  },
  {
   "cell_type": "code",
   "execution_count": null,
   "id": "b64492df",
   "metadata": {},
   "outputs": [],
   "source": [
    "column_in_analysis = 'carrier_min_estimate'"
   ]
  },
  {
   "cell_type": "code",
   "execution_count": null,
   "id": "ee49ee3f",
   "metadata": {},
   "outputs": [],
   "source": [
    "final_data[column_in_analysis].describe()"
   ]
  },
  {
   "cell_type": "code",
   "execution_count": null,
   "id": "c9a3433a",
   "metadata": {},
   "outputs": [],
   "source": [
    "final_data[column_in_analysis].hist()"
   ]
  },
  {
   "cell_type": "code",
   "execution_count": null,
   "id": "8046325f",
   "metadata": {},
   "outputs": [],
   "source": [
    "final_data.boxplot(column=column_in_analysis)"
   ]
  },
  {
   "cell_type": "markdown",
   "id": "032da887",
   "metadata": {},
   "source": [
    "No outliers in carrier_min_estimate"
   ]
  },
  {
   "cell_type": "markdown",
   "id": "57cf0e7d",
   "metadata": {},
   "source": [
    "## 5. item_price"
   ]
  },
  {
   "cell_type": "code",
   "execution_count": null,
   "id": "b49dae39",
   "metadata": {},
   "outputs": [],
   "source": [
    "column_in_analysis = \"item_price\""
   ]
  },
  {
   "cell_type": "code",
   "execution_count": null,
   "id": "b3013d8b",
   "metadata": {},
   "outputs": [],
   "source": [
    "drawRequiredGraphs(data, column_in_analysis)"
   ]
  },
  {
   "cell_type": "code",
   "execution_count": null,
   "id": "ab67fe77",
   "metadata": {},
   "outputs": [],
   "source": [
    "data.boxplot(column=column_in_analysis)"
   ]
  },
  {
   "cell_type": "code",
   "execution_count": null,
   "id": "a5c5ed16",
   "metadata": {},
   "outputs": [],
   "source": [
    "data[column_in_analysis].value_counts()"
   ]
  },
  {
   "cell_type": "code",
   "execution_count": null,
   "id": "1f32a56a",
   "metadata": {},
   "outputs": [],
   "source": [
    "(len(final_data[final_data[column_in_analysis] > 500]) / len(final_data)) * 100"
   ]
  },
  {
   "cell_type": "code",
   "execution_count": null,
   "id": "dd014ceb",
   "metadata": {},
   "outputs": [],
   "source": [
    "outlier_max = final_data[final_data[column_in_analysis] > 500]"
   ]
  },
  {
   "cell_type": "code",
   "execution_count": null,
   "id": "a1584d39",
   "metadata": {},
   "outputs": [],
   "source": [
    "outlier_data = pd.concat([outlier_data, outlier_max])"
   ]
  },
  {
   "cell_type": "code",
   "execution_count": null,
   "id": "bfbfdcab",
   "metadata": {},
   "outputs": [],
   "source": [
    "len(outlier_data)"
   ]
  },
  {
   "cell_type": "code",
   "execution_count": null,
   "id": "4118875a",
   "metadata": {},
   "outputs": [],
   "source": [
    "final_data = final_data[final_data[column_in_analysis] <= 500]\n",
    "len(final_data)"
   ]
  },
  {
   "cell_type": "markdown",
   "id": "5bc9562a",
   "metadata": {},
   "source": [
    "## 6. quantity"
   ]
  },
  {
   "cell_type": "code",
   "execution_count": null,
   "id": "69b10f29",
   "metadata": {},
   "outputs": [],
   "source": [
    "column_in_analysis = 'quantity'"
   ]
  },
  {
   "cell_type": "code",
   "execution_count": null,
   "id": "429c0bcf",
   "metadata": {},
   "outputs": [],
   "source": [
    "drawRequiredGraphs(data, column_in_analysis)"
   ]
  },
  {
   "cell_type": "code",
   "execution_count": null,
   "id": "4f3c9438",
   "metadata": {},
   "outputs": [],
   "source": [
    "data.boxplot(column=column_in_analysis)"
   ]
  },
  {
   "cell_type": "code",
   "execution_count": null,
   "id": "e7164ca9",
   "metadata": {},
   "outputs": [],
   "source": [
    "data[column_in_analysis].value_counts()"
   ]
  },
  {
   "cell_type": "code",
   "execution_count": null,
   "id": "36ff4ba8",
   "metadata": {},
   "outputs": [],
   "source": [
    "final_data1, outlier_data1 = squeeze_outlier_with_interquantile_range(final_data, column_in_analysis)"
   ]
  },
  {
   "cell_type": "code",
   "execution_count": null,
   "id": "687c9722",
   "metadata": {},
   "outputs": [],
   "source": [
    "len(final_data1)"
   ]
  },
  {
   "cell_type": "code",
   "execution_count": null,
   "id": "d39ae004",
   "metadata": {},
   "outputs": [],
   "source": [
    "len(outlier_data1)"
   ]
  },
  {
   "cell_type": "code",
   "execution_count": null,
   "id": "228adf73",
   "metadata": {},
   "outputs": [],
   "source": [
    "len(outlier_data)"
   ]
  },
  {
   "cell_type": "markdown",
   "id": "09086b14",
   "metadata": {},
   "source": [
    "## 7. weight"
   ]
  },
  {
   "cell_type": "code",
   "execution_count": null,
   "id": "c931d9f1",
   "metadata": {},
   "outputs": [],
   "source": [
    "column_in_analysis = 'weight'"
   ]
  },
  {
   "cell_type": "code",
   "execution_count": null,
   "id": "6190714c",
   "metadata": {},
   "outputs": [],
   "source": [
    "data[column_in_analysis].value_counts()"
   ]
  },
  {
   "cell_type": "code",
   "execution_count": null,
   "id": "9e6e6107",
   "metadata": {},
   "outputs": [],
   "source": [
    "drawRequiredGraphs(data, column_in_analysis)"
   ]
  },
  {
   "cell_type": "code",
   "execution_count": null,
   "id": "50c33d32",
   "metadata": {},
   "outputs": [
    {
     "data": {
      "text/plain": [
       "<AxesSubplot:>"
      ]
     },
     "execution_count": 95,
     "metadata": {},
     "output_type": "execute_result"
    },
    {
     "data": {
      "image/png": "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\n",
      "text/plain": [
       "<Figure size 432x288 with 1 Axes>"
      ]
     },
     "metadata": {
      "needs_background": "light"
     },
     "output_type": "display_data"
    }
   ],
   "source": [
    "data.boxplot(column=column_in_analysis)"
   ]
  },
  {
   "cell_type": "code",
   "execution_count": 96,
   "id": "f9341bf5",
   "metadata": {},
   "outputs": [
    {
     "data": {
      "text/plain": [
       "(-2122.8684791239148, 5661.780535778149)"
      ]
     },
     "execution_count": 96,
     "metadata": {},
     "output_type": "execute_result"
    }
   ],
   "source": [
    "getOutlierLimit(data, column_in_analysis)"
   ]
  },
  {
   "cell_type": "markdown",
   "id": "15cf5f01",
   "metadata": {},
   "source": [
    "## 8. distance_between_pincodes"
   ]
  },
  {
   "cell_type": "code",
   "execution_count": 91,
   "id": "924b8159",
   "metadata": {},
   "outputs": [],
   "source": [
    "column_in_analysis = 'distance_between_pincodes'"
   ]
  },
  {
   "cell_type": "code",
   "execution_count": 92,
   "id": "04377af8",
   "metadata": {},
   "outputs": [
    {
     "name": "stdout",
     "output_type": "stream",
     "text": [
      "count    1.482162e+07\n",
      "mean     1.773657e+03\n",
      "std      1.187889e+03\n",
      "min      0.000000e+00\n",
      "25%      7.963749e+02\n",
      "50%      1.530124e+03\n",
      "75%      2.742537e+03\n",
      "max      1.646254e+04\n",
      "Name: distance_between_pincodes, dtype: float64\n"
     ]
    },
    {
     "data": {
      "image/png": "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\n",
      "text/plain": [
       "<Figure size 432x288 with 1 Axes>"
      ]
     },
     "metadata": {
      "needs_background": "light"
     },
     "output_type": "display_data"
    }
   ],
   "source": [
    "drawRequiredGraphs(data, column_in_analysis)"
   ]
  },
  {
   "cell_type": "code",
   "execution_count": 93,
   "id": "c0850012",
   "metadata": {},
   "outputs": [
    {
     "data": {
      "text/plain": [
       "count    1.191549e+07\n",
       "mean     1.243895e+00\n",
       "std      3.161099e+00\n",
       "min      1.000000e+00\n",
       "25%      1.000000e+00\n",
       "50%      1.000000e+00\n",
       "75%      1.000000e+00\n",
       "max      1.038100e+04\n",
       "Name: distance_between_pincodes, dtype: float64"
      ]
     },
     "execution_count": 93,
     "metadata": {},
     "output_type": "execute_result"
    }
   ],
   "source": [
    "data[column_in_analysis].value_counts().describe()"
   ]
  }
 ],
 "metadata": {
  "kernelspec": {
   "display_name": "Python 3 (ipykernel)",
   "language": "python",
   "name": "python3"
  },
  "language_info": {
   "codemirror_mode": {
    "name": "ipython",
    "version": 3
   },
   "file_extension": ".py",
   "mimetype": "text/x-python",
   "name": "python",
   "nbconvert_exporter": "python",
   "pygments_lexer": "ipython3",
   "version": "3.9.6"
  }
 },
 "nbformat": 4,
 "nbformat_minor": 5
}
