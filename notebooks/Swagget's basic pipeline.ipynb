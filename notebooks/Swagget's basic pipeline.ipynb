{
 "cells": [
  {
   "cell_type": "markdown",
   "id": "9bdb5eb6",
   "metadata": {},
   "source": [
    "# Disclaimer\n",
    "\n",
    "This can only properly be run on a heavy duty PC"
   ]
  },
  {
   "cell_type": "code",
   "execution_count": 1,
   "id": "09ad6bb0",
   "metadata": {},
   "outputs": [],
   "source": [
    "training_rows_to_read = 100000 # This needs to be 15000000"
   ]
  },
  {
   "cell_type": "markdown",
   "id": "looking-index",
   "metadata": {},
   "source": [
    "# Imports"
   ]
  },
  {
   "cell_type": "code",
   "execution_count": 21,
   "id": "weekly-atmosphere",
   "metadata": {},
   "outputs": [
    {
     "name": "stdout",
     "output_type": "stream",
     "text": [
      "Preprocessing successfully imported.\n"
     ]
    }
   ],
   "source": [
    "from ebay_delivery_prediction_project import preprocessing, Visualisation, preprocessing_models, postprocessing\n",
    "preprocessing.import_test()\n",
    "\n",
    "from datetime import datetime, timedelta\n",
    "import numpy as np\n",
    "import pandas as pd"
   ]
  },
  {
   "cell_type": "code",
   "execution_count": 3,
   "id": "pleasant-rachel",
   "metadata": {
    "scrolled": true
   },
   "outputs": [
    {
     "name": "stdout",
     "output_type": "stream",
     "text": [
      "Reading 100000 rows.\n",
      "Reading all columns.\n",
      "Index(['b2c_c2c', 'seller_id', 'declared_handling_days',\n",
      "       'acceptance_scan_timestamp', 'shipment_method_id', 'shipping_fee',\n",
      "       'carrier_min_estimate', 'carrier_max_estimate', 'item_zip', 'buyer_zip',\n",
      "       'category_id', 'item_price', 'quantity', 'payment_datetime',\n",
      "       'delivery_date', 'weight', 'weight_units', 'package_size',\n",
      "       'record_number'],\n",
      "      dtype='object')\n"
     ]
    }
   ],
   "source": [
    "# data_object = Preprocessing.read_data(rows_to_read = None, columns = [\"b2c_c2c\"])\n",
    "# data_object = Preprocessing.read_data(rows_to_read = None)\n",
    "training_data = preprocessing.read_data(rows_to_read = training_rows_to_read)[\"train\"]\n",
    "print(training_data.columns)"
   ]
  },
  {
   "cell_type": "markdown",
   "id": "funded-wisconsin",
   "metadata": {},
   "source": [
    "# Setting up pipeline"
   ]
  },
  {
   "cell_type": "markdown",
   "id": "nasty-punch",
   "metadata": {},
   "source": [
    "## Target column\n",
    "\n",
    "The objective is to estimate the total number of calendar days (after payment) it will take to have a purchased item show up at the buyer’s address. This is equivalent to estimating the delivery date using the formula:\n",
    "\n",
    "payment date (local time) + delivery calendar days = delivery date (local time).\n",
    "\n",
    "Participants should provide this delivery date in their submissions.\n",
    "\n",
    "_Now to generate target column_"
   ]
  },
  {
   "cell_type": "markdown",
   "id": "7847aea4",
   "metadata": {},
   "source": [
    "### Run the basic preprocessing steps"
   ]
  },
  {
   "cell_type": "code",
   "execution_count": 4,
   "id": "6d4dead1",
   "metadata": {},
   "outputs": [
    {
     "name": "stdout",
     "output_type": "stream",
     "text": [
      "Finished parse_datetime_columns\n",
      "Finished create_delivery_calendar_days\n",
      "Finished clean_zip_codes\n"
     ]
    }
   ],
   "source": [
    "training_data = preprocessing.basic_preprocessing(training_data)"
   ]
  },
  {
   "cell_type": "code",
   "execution_count": 5,
   "id": "underlying-judges",
   "metadata": {},
   "outputs": [
    {
     "data": {
      "text/plain": [
       "count    100000.000000\n",
       "mean          4.760280\n",
       "std           3.067802\n",
       "min           0.000000\n",
       "25%           3.000000\n",
       "50%           4.000000\n",
       "75%           5.000000\n",
       "max         101.000000\n",
       "Name: delivery_calendar_days, dtype: float64"
      ]
     },
     "execution_count": 5,
     "metadata": {},
     "output_type": "execute_result"
    }
   ],
   "source": [
    "training_data[\"delivery_calendar_days\"].describe()"
   ]
  },
  {
   "cell_type": "code",
   "execution_count": 6,
   "id": "formed-linux",
   "metadata": {},
   "outputs": [
    {
     "name": "stdout",
     "output_type": "stream",
     "text": [
      "b2c_c2c : 2\n",
      "seller_id : 57971\n",
      "declared_handling_days : 11\n",
      "acceptance_scan_timestamp : 88902\n",
      "shipment_method_id : 17\n",
      "shipping_fee : 1700\n",
      "carrier_min_estimate : 6\n",
      "carrier_max_estimate : 6\n",
      "item_zip : 16089\n",
      "buyer_zip : 19592\n",
      "category_id : 33\n",
      "item_price : 6518\n",
      "quantity : 28\n",
      "payment_datetime : 99878\n",
      "delivery_date : 667\n",
      "weight : 318\n",
      "weight_units : 1\n",
      "package_size : 5\n",
      "record_number : 100000\n",
      "delivery_calendar_days : 82\n",
      "cleaned_item_zip : 15432\n",
      "cleaned_buyer_zip : 19454\n",
      "distance_between_pincodes : 98194\n"
     ]
    }
   ],
   "source": [
    "for col in training_data.columns:\n",
    "    print(f\"{col} : {len(training_data[col].unique())}\")"
   ]
  },
  {
   "cell_type": "markdown",
   "id": "eed1cbf6",
   "metadata": {},
   "source": [
    "# Saving and loading preprocessed data"
   ]
  },
  {
   "cell_type": "code",
   "execution_count": 1,
   "id": "b137523e",
   "metadata": {},
   "outputs": [
    {
     "ename": "NameError",
     "evalue": "name 'training_data' is not defined",
     "output_type": "error",
     "traceback": [
      "\u001b[0;31m---------------------------------------------------------------------------\u001b[0m",
      "\u001b[0;31mNameError\u001b[0m                                 Traceback (most recent call last)",
      "\u001b[0;32m/tmp/ipykernel_8321/1880158662.py\u001b[0m in \u001b[0;36m<module>\u001b[0;34m\u001b[0m\n\u001b[0;32m----> 1\u001b[0;31m \u001b[0mtraining_data\u001b[0m\u001b[0;34m.\u001b[0m\u001b[0mshape\u001b[0m\u001b[0;34m\u001b[0m\u001b[0;34m\u001b[0m\u001b[0m\n\u001b[0m",
      "\u001b[0;31mNameError\u001b[0m: name 'training_data' is not defined"
     ]
    }
   ],
   "source": [
    "training_data.shape"
   ]
  },
  {
   "cell_type": "code",
   "execution_count": null,
   "id": "5954c80e",
   "metadata": {},
   "outputs": [],
   "source": [
    "training_data.to_csv(\"../data/preprocessed_data/preprocessed_data.csv\", index = False)"
   ]
  },
  {
   "cell_type": "markdown",
   "id": "f874f4a0",
   "metadata": {},
   "source": [
    "# Start running from here if no extra preprocessing"
   ]
  },
  {
   "cell_type": "code",
   "execution_count": 2,
   "id": "61e8cac9",
   "metadata": {},
   "outputs": [
    {
     "ename": "NameError",
     "evalue": "name 'pd' is not defined",
     "output_type": "error",
     "traceback": [
      "\u001b[0;31m---------------------------------------------------------------------------\u001b[0m",
      "\u001b[0;31mNameError\u001b[0m                                 Traceback (most recent call last)",
      "\u001b[0;32m/tmp/ipykernel_8321/2743753613.py\u001b[0m in \u001b[0;36m<module>\u001b[0;34m\u001b[0m\n\u001b[0;32m----> 1\u001b[0;31m \u001b[0mtraining_data\u001b[0m \u001b[0;34m=\u001b[0m \u001b[0mpd\u001b[0m\u001b[0;34m.\u001b[0m\u001b[0mread_csv\u001b[0m\u001b[0;34m(\u001b[0m\u001b[0;34m\"../data/preprocessed_data/preprocessed_data.csv\"\u001b[0m\u001b[0;34m)\u001b[0m\u001b[0;34m\u001b[0m\u001b[0;34m\u001b[0m\u001b[0m\n\u001b[0m",
      "\u001b[0;31mNameError\u001b[0m: name 'pd' is not defined"
     ]
    }
   ],
   "source": [
    "training_data = pd.read_csv(\"../data/preprocessed_data/preprocessed_data.csv\")"
   ]
  },
  {
   "cell_type": "code",
   "execution_count": null,
   "id": "9acc8aef",
   "metadata": {},
   "outputs": [],
   "source": [
    "training_data.shape"
   ]
  },
  {
   "cell_type": "code",
   "execution_count": null,
   "id": "dc4bd18d",
   "metadata": {},
   "outputs": [],
   "source": []
  },
  {
   "cell_type": "markdown",
   "id": "enhanced-alignment",
   "metadata": {},
   "source": [
    "# Implementing pipeline"
   ]
  },
  {
   "cell_type": "markdown",
   "id": "personal-trigger",
   "metadata": {},
   "source": [
    "## Arbitrarily choosing how to encode columns"
   ]
  },
  {
   "cell_type": "code",
   "execution_count": 7,
   "id": "olive-radius",
   "metadata": {},
   "outputs": [],
   "source": [
    "different_types_of_encoding = [\"one-hot\", \"numerical\"]\n",
    "\n",
    "cols_and_encoding = {\n",
    "    \"b2c_c2c\"   : \"one-hot\",\n",
    "    \"seller_id\"   : 6365,\n",
    "    \"declared_handling_days\"   : \"numerical\",\n",
    "    \"acceptance_scan_timestamp\"   : 9848,\n",
    "    \"shipment_method_id\"   : \"one-hot\",\n",
    "    \"shipping_fee\"   : \"numerical\",\n",
    "    \"carrier_min_estimate\"   : 4, # Cheating?\n",
    "    \"carrier_max_estimate\"   : 5, # Cheating?\n",
    "    \"item_zip\"   : 4701, # Needs a lot of preprocessing.\n",
    "    \"buyer_zip\"   : 6880, # Needs a lot of preprocessing.\n",
    "    \"category_id\"   : 'one-hot', # Only has 33 unique values in 15,000,000 rows so one-hot.\n",
    "    \"item_price\"   : \"numerical\",\n",
    "    \"quantity\"   : \"numerical\",\n",
    "    \"payment_datetime\"   : 9998,\n",
    "    \"delivery_date\"   : 602,\n",
    "    \"weight\"   : \"numerical\",\n",
    "    \"weight_units\"   : 1,\n",
    "    \"package_size\"   : \"one-hot\",\n",
    "    \"record_number\"   : 10000,\n",
    "    \"delivery_calendar_days\"   : \"target\",\n",
    "    \"cleaned_item_zip\" : 30743,\n",
    "    \"cleaned_buyer_zip\" : 34876,\n",
    "    \"distance_between_pincodes\" : \"numerical\",\n",
    "}"
   ]
  },
  {
   "cell_type": "code",
   "execution_count": 8,
   "id": "minute-olympus",
   "metadata": {},
   "outputs": [
    {
     "name": "stdout",
     "output_type": "stream",
     "text": [
      "cols_to_convert_to_one_hot :  ['b2c_c2c', 'shipment_method_id', 'category_id', 'package_size']\n",
      "training_data.shape before :  (100000, 23)\n",
      "training_data.shape after :  (100000, 76)\n"
     ]
    }
   ],
   "source": [
    "cols_to_convert_to_one_hot = [ele for ele in cols_and_encoding.keys() if cols_and_encoding[ele] == \"one-hot\"]\n",
    "\n",
    "print(\"cols_to_convert_to_one_hot : \", cols_to_convert_to_one_hot)\n",
    "\n",
    "print(\"training_data.shape before : \", training_data.shape)\n",
    "training_data, generated_columns = preprocessing.one_hot_encode_columns(df = training_data, columns = cols_to_convert_to_one_hot)\n",
    "print(\"training_data.shape after : \", training_data.shape)"
   ]
  },
  {
   "cell_type": "code",
   "execution_count": 9,
   "id": "entire-safety",
   "metadata": {},
   "outputs": [],
   "source": [
    "target_column = \"delivery_calendar_days\"\n",
    "cols_to_use = [ele for ele in cols_and_encoding.keys() if (type(cols_and_encoding[ele]) == str) and\n",
    "               (cols_and_encoding[ele] != \"target\") and\n",
    "               (cols_and_encoding[ele] != \"one-hot\")]\n",
    "cols_to_use = [*cols_to_use, *generated_columns]"
   ]
  },
  {
   "cell_type": "markdown",
   "id": "essential-value",
   "metadata": {},
   "source": [
    "## Running a gradient boosted decision tree model"
   ]
  },
  {
   "cell_type": "code",
   "execution_count": 10,
   "id": "armed-dominant",
   "metadata": {},
   "outputs": [],
   "source": [
    "import lightgbm as lgb\n",
    "from sklearn.model_selection import train_test_split\n",
    "from sklearn import metrics"
   ]
  },
  {
   "cell_type": "markdown",
   "id": "8b13f94f",
   "metadata": {},
   "source": [
    "### Custom evaluation function"
   ]
  },
  {
   "cell_type": "code",
   "execution_count": 22,
   "id": "d7dd0722",
   "metadata": {},
   "outputs": [],
   "source": [
    "def customLossFunctionEval(y_true, y_pred):\n",
    "    residual = (y_true - y_pred).astype(np.float32)\n",
    "    loss = np.where(residual < 0, 0.4 * (residual ** 2), 0.6 * (residual ** 2))\n",
    "    return \"Custom Loss Function\", np.mean(loss), False"
   ]
  },
  {
   "cell_type": "code",
   "execution_count": 23,
   "id": "utility-cornell",
   "metadata": {},
   "outputs": [
    {
     "data": {
      "text/plain": [
       "((67000, 63), (33000, 63), (67000,), (33000,))"
      ]
     },
     "execution_count": 23,
     "metadata": {},
     "output_type": "execute_result"
    }
   ],
   "source": [
    "# To define the input and output feature\n",
    "# x = training_data.drop(['Embarked','PassengerId'],axis=1)\n",
    "x = training_data[cols_to_use]\n",
    "y = training_data[target_column]\n",
    "# train and test split\n",
    "x_train,x_test,y_train,y_test = train_test_split(x,y,test_size=0.33,random_state=42)\n",
    "x_train.shape,x_test.shape,y_train.shape,y_test.shape"
   ]
  },
  {
   "cell_type": "code",
   "execution_count": 24,
   "id": "authorized-disease",
   "metadata": {},
   "outputs": [
    {
     "name": "stdout",
     "output_type": "stream",
     "text": [
      "[10]\ttraining's l2: 8.46691\ttraining's Custom Loss Function: 4.79781\tvalid_0's l2: 7.58238\tvalid_0's Custom Loss Function: 4.26384\n",
      "[20]\ttraining's l2: 8.12338\ttraining's Custom Loss Function: 4.5864\tvalid_0's l2: 7.44383\tvalid_0's Custom Loss Function: 4.16879\n",
      "[30]\ttraining's l2: 7.9497\ttraining's Custom Loss Function: 4.47916\tvalid_0's l2: 7.43549\tvalid_0's Custom Loss Function: 4.15501\n",
      "[40]\ttraining's l2: 7.82296\ttraining's Custom Loss Function: 4.40198\tvalid_0's l2: 7.43151\tvalid_0's Custom Loss Function: 4.14635\n",
      "[50]\ttraining's l2: 7.71789\ttraining's Custom Loss Function: 4.33901\tvalid_0's l2: 7.42744\tvalid_0's Custom Loss Function: 4.14018\n",
      "[60]\ttraining's l2: 7.6491\ttraining's Custom Loss Function: 4.29848\tvalid_0's l2: 7.43303\tvalid_0's Custom Loss Function: 4.14214\n",
      "[70]\ttraining's l2: 7.58942\ttraining's Custom Loss Function: 4.26348\tvalid_0's l2: 7.44\tvalid_0's Custom Loss Function: 4.14461\n",
      "[80]\ttraining's l2: 7.53288\ttraining's Custom Loss Function: 4.23028\tvalid_0's l2: 7.44461\tvalid_0's Custom Loss Function: 4.14668\n",
      "[90]\ttraining's l2: 7.49222\ttraining's Custom Loss Function: 4.20727\tvalid_0's l2: 7.45308\tvalid_0's Custom Loss Function: 4.15117\n",
      "[100]\ttraining's l2: 7.4427\ttraining's Custom Loss Function: 4.17809\tvalid_0's l2: 7.45713\tvalid_0's Custom Loss Function: 4.15202\n"
     ]
    },
    {
     "data": {
      "text/plain": [
       "LGBMRegressor(max_depth=-5, random_state=42)"
      ]
     },
     "execution_count": 24,
     "metadata": {},
     "output_type": "execute_result"
    }
   ],
   "source": [
    "model = lgb.LGBMRegressor(learning_rate=0.1,max_depth=-5,random_state=42)\n",
    "model.fit(x_train,y_train,eval_set=[(x_test,y_test),(x_train,y_train)],\n",
    "          verbose=10,eval_metric=customLossFunctionEval)# This loss needs to mirror the loss that Ebay is using."
   ]
  },
  {
   "cell_type": "code",
   "execution_count": 25,
   "id": "d5c83993",
   "metadata": {},
   "outputs": [
    {
     "name": "stdout",
     "output_type": "stream",
     "text": [
      "[10]\tvalid_0's l2: 7.58238\tvalid_0's Custom Loss Function: 4.26384\n",
      "[20]\tvalid_0's l2: 7.44383\tvalid_0's Custom Loss Function: 4.16879\n",
      "[30]\tvalid_0's l2: 7.43549\tvalid_0's Custom Loss Function: 4.15501\n",
      "[40]\tvalid_0's l2: 7.43151\tvalid_0's Custom Loss Function: 4.14635\n",
      "[50]\tvalid_0's l2: 7.42744\tvalid_0's Custom Loss Function: 4.14018\n",
      "[60]\tvalid_0's l2: 7.43303\tvalid_0's Custom Loss Function: 4.14214\n",
      "[70]\tvalid_0's l2: 7.44\tvalid_0's Custom Loss Function: 4.14461\n",
      "[80]\tvalid_0's l2: 7.44461\tvalid_0's Custom Loss Function: 4.14668\n",
      "[90]\tvalid_0's l2: 7.45308\tvalid_0's Custom Loss Function: 4.15117\n",
      "[100]\tvalid_0's l2: 7.45713\tvalid_0's Custom Loss Function: 4.15202\n"
     ]
    },
    {
     "data": {
      "text/plain": [
       "LGBMRegressor(max_depth=-5, random_state=42)"
      ]
     },
     "execution_count": 25,
     "metadata": {},
     "output_type": "execute_result"
    }
   ],
   "source": [
    "model = lgb.LGBMRegressor(learning_rate=0.1,max_depth=-5,random_state=42)\n",
    "model.fit(x_train,y_train,eval_set=(x_test,y_test),\n",
    "          verbose=10,eval_metric=customLossFunctionEval)# This loss needs to mirror the loss that Ebay is using."
   ]
  },
  {
   "cell_type": "code",
   "execution_count": 26,
   "id": "f03b01af",
   "metadata": {},
   "outputs": [],
   "source": [
    "model_test_outputs = model.predict(x_test)"
   ]
  },
  {
   "cell_type": "code",
   "execution_count": 29,
   "id": "85fc7ed6",
   "metadata": {},
   "outputs": [
    {
     "data": {
      "text/plain": [
       "count    33000.000000\n",
       "mean         4.766630\n",
       "std          1.184391\n",
       "min          2.285125\n",
       "25%          4.218357\n",
       "50%          4.497487\n",
       "75%          4.989303\n",
       "max         39.968843\n",
       "dtype: float64"
      ]
     },
     "execution_count": 29,
     "metadata": {},
     "output_type": "execute_result"
    }
   ],
   "source": [
    "pd.Series(model_test_outputs).describe()"
   ]
  },
  {
   "cell_type": "code",
   "execution_count": 27,
   "id": "e39e1ab7",
   "metadata": {},
   "outputs": [
    {
     "data": {
      "text/plain": [
       "33000"
      ]
     },
     "execution_count": 27,
     "metadata": {},
     "output_type": "execute_result"
    }
   ],
   "source": [
    "len(model_test_outputs)"
   ]
  },
  {
   "cell_type": "code",
   "execution_count": 31,
   "id": "1dce153d",
   "metadata": {},
   "outputs": [
    {
     "data": {
      "text/plain": [
       "array([4.48987502, 4.10864026, 5.01829158, ..., 5.62991368, 4.34963524,\n",
       "       4.14027315])"
      ]
     },
     "execution_count": 31,
     "metadata": {},
     "output_type": "execute_result"
    }
   ],
   "source": [
    "model_test_outputs"
   ]
  },
  {
   "cell_type": "code",
   "execution_count": 30,
   "id": "a3c4f6a8",
   "metadata": {},
   "outputs": [
    {
     "data": {
      "text/plain": [
       "75721     5\n",
       "80184     3\n",
       "19864     5\n",
       "76699    10\n",
       "92991     7\n",
       "         ..\n",
       "97545     3\n",
       "15490     4\n",
       "62384     5\n",
       "54594     3\n",
       "64709     4\n",
       "Name: delivery_calendar_days, Length: 33000, dtype: int64"
      ]
     },
     "execution_count": 30,
     "metadata": {},
     "output_type": "execute_result"
    }
   ],
   "source": [
    "y_test"
   ]
  },
  {
   "cell_type": "code",
   "execution_count": 32,
   "id": "1abe921e",
   "metadata": {},
   "outputs": [
    {
     "data": {
      "text/plain": [
       "('Custom Loss Function', 4.1520176, False)"
      ]
     },
     "execution_count": 32,
     "metadata": {},
     "output_type": "execute_result"
    }
   ],
   "source": [
    "customLossFunctionEval(y_true = y_test, y_pred = model_test_outputs)"
   ]
  },
  {
   "cell_type": "code",
   "execution_count": null,
   "id": "c3b64806",
   "metadata": {},
   "outputs": [],
   "source": []
  },
  {
   "cell_type": "code",
   "execution_count": 13,
   "id": "excess-fairy",
   "metadata": {},
   "outputs": [
    {
     "data": {
      "text/plain": [
       "<AxesSubplot:title={'center':'Feature importance'}, xlabel='Feature importance', ylabel='Features'>"
      ]
     },
     "execution_count": 13,
     "metadata": {},
     "output_type": "execute_result"
    },
    {
     "data": {
      "image/png": "[encoded data removed]",
      "text/plain": [
       "<Figure size 432x288 with 1 Axes>"
      ]
     },
     "metadata": {
      "needs_background": "light"
     },
     "output_type": "display_data"
    }
   ],
   "source": [
    "lgb.plot_importance(model)"
   ]
  },
  {
   "cell_type": "code",
   "execution_count": 14,
   "id": "29c9ee4a",
   "metadata": {},
   "outputs": [
    {
     "data": {
      "text/plain": [
       "{'declared_handling_days': 435,\n",
       " 'shipping_fee': 301,\n",
       " 'item_price': 531,\n",
       " 'quantity': 115,\n",
       " 'weight': 312,\n",
       " 'distance_between_pincodes': 596,\n",
       " 'b2c_c2c_B2C': 55,\n",
       " 'b2c_c2c_C2C': 0,\n",
       " 'shipment_method_id_0': 30,\n",
       " 'shipment_method_id_3': 63,\n",
       " 'shipment_method_id_1': 31,\n",
       " 'shipment_method_id_5': 14,\n",
       " 'shipment_method_id_2': 53,\n",
       " 'shipment_method_id_6': 6,\n",
       " 'shipment_method_id_8': 7,\n",
       " 'shipment_method_id_10': 4,\n",
       " 'shipment_method_id_7': 11,\n",
       " 'shipment_method_id_4': 43,\n",
       " 'shipment_method_id_13': 0,\n",
       " 'shipment_method_id_14': 0,\n",
       " 'shipment_method_id_9': 4,\n",
       " 'shipment_method_id_11': 2,\n",
       " 'shipment_method_id_12': 0,\n",
       " 'shipment_method_id_15': 0,\n",
       " 'shipment_method_id_24': 0,\n",
       " 'category_id_13': 5,\n",
       " 'category_id_0': 18,\n",
       " 'category_id_1': 16,\n",
       " 'category_id_3': 21,\n",
       " 'category_id_11': 15,\n",
       " 'category_id_18': 14,\n",
       " 'category_id_12': 3,\n",
       " 'category_id_8': 4,\n",
       " 'category_id_5': 5,\n",
       " 'category_id_10': 4,\n",
       " 'category_id_23': 7,\n",
       " 'category_id_9': 5,\n",
       " 'category_id_7': 20,\n",
       " 'category_id_26': 10,\n",
       " 'category_id_17': 10,\n",
       " 'category_id_6': 2,\n",
       " 'category_id_27': 4,\n",
       " 'category_id_24': 4,\n",
       " 'category_id_4': 12,\n",
       " 'category_id_2': 9,\n",
       " 'category_id_14': 11,\n",
       " 'category_id_22': 1,\n",
       " 'category_id_15': 6,\n",
       " 'category_id_16': 1,\n",
       " 'category_id_21': 0,\n",
       " 'category_id_28': 4,\n",
       " 'category_id_29': 15,\n",
       " 'category_id_19': 12,\n",
       " 'category_id_25': 48,\n",
       " 'category_id_30': 2,\n",
       " 'category_id_31': 0,\n",
       " 'category_id_20': 7,\n",
       " 'category_id_32': 0,\n",
       " 'package_size_LETTER': 8,\n",
       " 'package_size_PACKAGE_THICK_ENVELOPE': 28,\n",
       " 'package_size_NONE': 32,\n",
       " 'package_size_LARGE_PACKAGE': 16,\n",
       " 'package_size_LARGE_ENVELOPE': 8}"
      ]
     },
     "execution_count": 14,
     "metadata": {},
     "output_type": "execute_result"
    }
   ],
   "source": [
    "feature_importances = {}\n",
    "\n",
    "for importance, feature in zip(model.feature_importances_, model.feature_name_):\n",
    "    feature_importances[feature] = importance\n",
    "\n",
    "feature_importances"
   ]
  },
  {
   "cell_type": "code",
   "execution_count": 15,
   "id": "competitive-bishop",
   "metadata": {
    "scrolled": true
   },
   "outputs": [
    {
     "name": "stdout",
     "output_type": "stream",
     "text": [
      "Training accuracy 0.2396\n",
      "Testing accuracy 0.1377\n"
     ]
    }
   ],
   "source": [
    "print('Training accuracy {:.4f}'.format(model.score(x_train,y_train)))\n",
    "print('Testing accuracy {:.4f}'.format(model.score(x_test,y_test)))"
   ]
  },
  {
   "cell_type": "code",
   "execution_count": 16,
   "id": "recognized-representation",
   "metadata": {},
   "outputs": [],
   "source": [
    "# training_data[\"model_outputs\"] = model.predict(training_data[cols_to_use])"
   ]
  },
  {
   "cell_type": "code",
   "execution_count": 17,
   "id": "wicked-glucose",
   "metadata": {},
   "outputs": [],
   "source": [
    "modes_dict = {}\n",
    "for col in training_data:\n",
    "    modes_dict[col] = training_data[col].mode()"
   ]
  },
  {
   "cell_type": "code",
   "execution_count": 18,
   "id": "silver-differential",
   "metadata": {
    "scrolled": true
   },
   "outputs": [
    {
     "name": "stdout",
     "output_type": "stream",
     "text": [
      "Reading 10000 rows.\n",
      "Reading all columns.\n"
     ]
    }
   ],
   "source": [
    "del training_data\n",
    "quiz_data = preprocessing.read_data(rows_to_read = 10000)[\"quiz\"]\n",
    "\n",
    "quiz_data = preprocessing.parse_datetime_columns(quiz_data)\n",
    "\n",
    "quiz_data, generated_columns = preprocessing.one_hot_encode_columns(df = quiz_data, columns = cols_to_convert_to_one_hot)\n"
   ]
  },
  {
   "cell_type": "code",
   "execution_count": 19,
   "id": "italian-capitol",
   "metadata": {},
   "outputs": [
    {
     "name": "stdout",
     "output_type": "stream",
     "text": [
      "col :  distance_between_pincodes\n",
      "col :  shipment_method_id_14\n"
     ]
    }
   ],
   "source": [
    "# Filling in the blanks from non existing \n",
    "\n",
    "for col in model.feature_name_:\n",
    "    if col not in quiz_data.columns:\n",
    "        print(\"col : \", col)\n",
    "        quiz_data[col] = modes_dict[col]"
   ]
  },
  {
   "cell_type": "code",
   "execution_count": 20,
   "id": "abstract-albert",
   "metadata": {},
   "outputs": [],
   "source": [
    "quiz_data[\"model_outputs\"] = model.predict(quiz_data[cols_to_use])"
   ]
  },
  {
   "cell_type": "markdown",
   "id": "stuffed-terminal",
   "metadata": {},
   "source": [
    "# Postprocessing\n",
    "\n",
    "After this is all done and predicting with a decent accuracy this needs to be put back and the output needs to predict the delivery date.\n",
    "\n",
    "The submission is a tsv table, which can be gzipped, with no headeron thw quiz dataset for now. After we win the first phase the test dataset will be given to us.\n",
    "\n",
    "Each line should contain two values, first the record identifier from the distributed dataset, which is an integer, and second the predicted delivery date as a string in the format YYYY-MM-DD.\n",
    "\n",
    "All records must be predicted."
   ]
  },
  {
   "cell_type": "code",
   "execution_count": 21,
   "id": "speaking-volleyball",
   "metadata": {},
   "outputs": [],
   "source": [
    "output_columns_name = \"predicted_delivery_date\""
   ]
  },
  {
   "cell_type": "code",
   "execution_count": 22,
   "id": "functioning-designer",
   "metadata": {
    "scrolled": true
   },
   "outputs": [],
   "source": [
    "postprocessing.generate_output_column(df = quiz_data, \n",
    "                                      predicted_days_column=\"model_outputs\",\n",
    "                                     output_columns_name = output_columns_name)"
   ]
  },
  {
   "cell_type": "code",
   "execution_count": 23,
   "id": "convinced-receptor",
   "metadata": {},
   "outputs": [],
   "source": [
    "postprocessing.generate_submission_file(df = quiz_data, predicted_dates_column=\"predicted_delivery_date\")"
   ]
  },
  {
   "cell_type": "markdown",
   "id": "animated-torture",
   "metadata": {},
   "source": [
    "# Double checking outputs"
   ]
  },
  {
   "cell_type": "code",
   "execution_count": 24,
   "id": "found-seattle",
   "metadata": {},
   "outputs": [],
   "source": [
    "import pandas as pd"
   ]
  },
  {
   "cell_type": "code",
   "execution_count": 25,
   "id": "coastal-crown",
   "metadata": {},
   "outputs": [
    {
     "ename": "FileNotFoundError",
     "evalue": "[Errno 2] No such file or directory: './results/result_2021-12-19 00:30:37.tsv'",
     "output_type": "error",
     "traceback": [
      "\u001b[0;31m---------------------------------------------------------------------------\u001b[0m",
      "\u001b[0;31mFileNotFoundError\u001b[0m                         Traceback (most recent call last)",
      "\u001b[0;32m/tmp/ipykernel_4987/3496104758.py\u001b[0m in \u001b[0;36m<module>\u001b[0;34m\u001b[0m\n\u001b[0;32m----> 1\u001b[0;31m \u001b[0msubmission\u001b[0m \u001b[0;34m=\u001b[0m \u001b[0mpd\u001b[0m\u001b[0;34m.\u001b[0m\u001b[0mread_csv\u001b[0m\u001b[0;34m(\u001b[0m\u001b[0;34m\"./results/result_2021-12-19 00:30:37.tsv\"\u001b[0m\u001b[0;34m,\u001b[0m \u001b[0msep\u001b[0m\u001b[0;34m=\u001b[0m\u001b[0;34m'\\t'\u001b[0m\u001b[0;34m,\u001b[0m \u001b[0mheader\u001b[0m \u001b[0;34m=\u001b[0m \u001b[0;32mNone\u001b[0m\u001b[0;34m)\u001b[0m\u001b[0;34m\u001b[0m\u001b[0;34m\u001b[0m\u001b[0m\n\u001b[0m",
      "\u001b[0;32m~/anaconda3/envs/py37/lib/python3.7/site-packages/pandas/util/_decorators.py\u001b[0m in \u001b[0;36mwrapper\u001b[0;34m(*args, **kwargs)\u001b[0m\n\u001b[1;32m    309\u001b[0m                     \u001b[0mstacklevel\u001b[0m\u001b[0;34m=\u001b[0m\u001b[0mstacklevel\u001b[0m\u001b[0;34m,\u001b[0m\u001b[0;34m\u001b[0m\u001b[0;34m\u001b[0m\u001b[0m\n\u001b[1;32m    310\u001b[0m                 )\n\u001b[0;32m--> 311\u001b[0;31m             \u001b[0;32mreturn\u001b[0m \u001b[0mfunc\u001b[0m\u001b[0;34m(\u001b[0m\u001b[0;34m*\u001b[0m\u001b[0margs\u001b[0m\u001b[0;34m,\u001b[0m \u001b[0;34m**\u001b[0m\u001b[0mkwargs\u001b[0m\u001b[0;34m)\u001b[0m\u001b[0;34m\u001b[0m\u001b[0;34m\u001b[0m\u001b[0m\n\u001b[0m\u001b[1;32m    312\u001b[0m \u001b[0;34m\u001b[0m\u001b[0m\n\u001b[1;32m    313\u001b[0m         \u001b[0;32mreturn\u001b[0m \u001b[0mwrapper\u001b[0m\u001b[0;34m\u001b[0m\u001b[0;34m\u001b[0m\u001b[0m\n",
      "\u001b[0;32m~/anaconda3/envs/py37/lib/python3.7/site-packages/pandas/io/parsers/readers.py\u001b[0m in \u001b[0;36mread_csv\u001b[0;34m(filepath_or_buffer, sep, delimiter, header, names, index_col, usecols, squeeze, prefix, mangle_dupe_cols, dtype, engine, converters, true_values, false_values, skipinitialspace, skiprows, skipfooter, nrows, na_values, keep_default_na, na_filter, verbose, skip_blank_lines, parse_dates, infer_datetime_format, keep_date_col, date_parser, dayfirst, cache_dates, iterator, chunksize, compression, thousands, decimal, lineterminator, quotechar, quoting, doublequote, escapechar, comment, encoding, encoding_errors, dialect, error_bad_lines, warn_bad_lines, on_bad_lines, delim_whitespace, low_memory, memory_map, float_precision, storage_options)\u001b[0m\n\u001b[1;32m    584\u001b[0m     \u001b[0mkwds\u001b[0m\u001b[0;34m.\u001b[0m\u001b[0mupdate\u001b[0m\u001b[0;34m(\u001b[0m\u001b[0mkwds_defaults\u001b[0m\u001b[0;34m)\u001b[0m\u001b[0;34m\u001b[0m\u001b[0;34m\u001b[0m\u001b[0m\n\u001b[1;32m    585\u001b[0m \u001b[0;34m\u001b[0m\u001b[0m\n\u001b[0;32m--> 586\u001b[0;31m     \u001b[0;32mreturn\u001b[0m \u001b[0m_read\u001b[0m\u001b[0;34m(\u001b[0m\u001b[0mfilepath_or_buffer\u001b[0m\u001b[0;34m,\u001b[0m \u001b[0mkwds\u001b[0m\u001b[0;34m)\u001b[0m\u001b[0;34m\u001b[0m\u001b[0;34m\u001b[0m\u001b[0m\n\u001b[0m\u001b[1;32m    587\u001b[0m \u001b[0;34m\u001b[0m\u001b[0m\n\u001b[1;32m    588\u001b[0m \u001b[0;34m\u001b[0m\u001b[0m\n",
      "\u001b[0;32m~/anaconda3/envs/py37/lib/python3.7/site-packages/pandas/io/parsers/readers.py\u001b[0m in \u001b[0;36m_read\u001b[0;34m(filepath_or_buffer, kwds)\u001b[0m\n\u001b[1;32m    480\u001b[0m \u001b[0;34m\u001b[0m\u001b[0m\n\u001b[1;32m    481\u001b[0m     \u001b[0;31m# Create the parser.\u001b[0m\u001b[0;34m\u001b[0m\u001b[0;34m\u001b[0m\u001b[0;34m\u001b[0m\u001b[0m\n\u001b[0;32m--> 482\u001b[0;31m     \u001b[0mparser\u001b[0m \u001b[0;34m=\u001b[0m \u001b[0mTextFileReader\u001b[0m\u001b[0;34m(\u001b[0m\u001b[0mfilepath_or_buffer\u001b[0m\u001b[0;34m,\u001b[0m \u001b[0;34m**\u001b[0m\u001b[0mkwds\u001b[0m\u001b[0;34m)\u001b[0m\u001b[0;34m\u001b[0m\u001b[0;34m\u001b[0m\u001b[0m\n\u001b[0m\u001b[1;32m    483\u001b[0m \u001b[0;34m\u001b[0m\u001b[0m\n\u001b[1;32m    484\u001b[0m     \u001b[0;32mif\u001b[0m \u001b[0mchunksize\u001b[0m \u001b[0;32mor\u001b[0m \u001b[0miterator\u001b[0m\u001b[0;34m:\u001b[0m\u001b[0;34m\u001b[0m\u001b[0;34m\u001b[0m\u001b[0m\n",
      "\u001b[0;32m~/anaconda3/envs/py37/lib/python3.7/site-packages/pandas/io/parsers/readers.py\u001b[0m in \u001b[0;36m__init__\u001b[0;34m(self, f, engine, **kwds)\u001b[0m\n\u001b[1;32m    809\u001b[0m             \u001b[0mself\u001b[0m\u001b[0;34m.\u001b[0m\u001b[0moptions\u001b[0m\u001b[0;34m[\u001b[0m\u001b[0;34m\"has_index_names\"\u001b[0m\u001b[0;34m]\u001b[0m \u001b[0;34m=\u001b[0m \u001b[0mkwds\u001b[0m\u001b[0;34m[\u001b[0m\u001b[0;34m\"has_index_names\"\u001b[0m\u001b[0;34m]\u001b[0m\u001b[0;34m\u001b[0m\u001b[0;34m\u001b[0m\u001b[0m\n\u001b[1;32m    810\u001b[0m \u001b[0;34m\u001b[0m\u001b[0m\n\u001b[0;32m--> 811\u001b[0;31m         \u001b[0mself\u001b[0m\u001b[0;34m.\u001b[0m\u001b[0m_engine\u001b[0m \u001b[0;34m=\u001b[0m \u001b[0mself\u001b[0m\u001b[0;34m.\u001b[0m\u001b[0m_make_engine\u001b[0m\u001b[0;34m(\u001b[0m\u001b[0mself\u001b[0m\u001b[0;34m.\u001b[0m\u001b[0mengine\u001b[0m\u001b[0;34m)\u001b[0m\u001b[0;34m\u001b[0m\u001b[0;34m\u001b[0m\u001b[0m\n\u001b[0m\u001b[1;32m    812\u001b[0m \u001b[0;34m\u001b[0m\u001b[0m\n\u001b[1;32m    813\u001b[0m     \u001b[0;32mdef\u001b[0m \u001b[0mclose\u001b[0m\u001b[0;34m(\u001b[0m\u001b[0mself\u001b[0m\u001b[0;34m)\u001b[0m\u001b[0;34m:\u001b[0m\u001b[0;34m\u001b[0m\u001b[0;34m\u001b[0m\u001b[0m\n",
      "\u001b[0;32m~/anaconda3/envs/py37/lib/python3.7/site-packages/pandas/io/parsers/readers.py\u001b[0m in \u001b[0;36m_make_engine\u001b[0;34m(self, engine)\u001b[0m\n\u001b[1;32m   1038\u001b[0m             )\n\u001b[1;32m   1039\u001b[0m         \u001b[0;31m# error: Too many arguments for \"ParserBase\"\u001b[0m\u001b[0;34m\u001b[0m\u001b[0;34m\u001b[0m\u001b[0;34m\u001b[0m\u001b[0m\n\u001b[0;32m-> 1040\u001b[0;31m         \u001b[0;32mreturn\u001b[0m \u001b[0mmapping\u001b[0m\u001b[0;34m[\u001b[0m\u001b[0mengine\u001b[0m\u001b[0;34m]\u001b[0m\u001b[0;34m(\u001b[0m\u001b[0mself\u001b[0m\u001b[0;34m.\u001b[0m\u001b[0mf\u001b[0m\u001b[0;34m,\u001b[0m \u001b[0;34m**\u001b[0m\u001b[0mself\u001b[0m\u001b[0;34m.\u001b[0m\u001b[0moptions\u001b[0m\u001b[0;34m)\u001b[0m  \u001b[0;31m# type: ignore[call-arg]\u001b[0m\u001b[0;34m\u001b[0m\u001b[0;34m\u001b[0m\u001b[0m\n\u001b[0m\u001b[1;32m   1041\u001b[0m \u001b[0;34m\u001b[0m\u001b[0m\n\u001b[1;32m   1042\u001b[0m     \u001b[0;32mdef\u001b[0m \u001b[0m_failover_to_python\u001b[0m\u001b[0;34m(\u001b[0m\u001b[0mself\u001b[0m\u001b[0;34m)\u001b[0m\u001b[0;34m:\u001b[0m\u001b[0;34m\u001b[0m\u001b[0;34m\u001b[0m\u001b[0m\n",
      "\u001b[0;32m~/anaconda3/envs/py37/lib/python3.7/site-packages/pandas/io/parsers/c_parser_wrapper.py\u001b[0m in \u001b[0;36m__init__\u001b[0;34m(self, src, **kwds)\u001b[0m\n\u001b[1;32m     49\u001b[0m \u001b[0;34m\u001b[0m\u001b[0m\n\u001b[1;32m     50\u001b[0m         \u001b[0;31m# open handles\u001b[0m\u001b[0;34m\u001b[0m\u001b[0;34m\u001b[0m\u001b[0;34m\u001b[0m\u001b[0m\n\u001b[0;32m---> 51\u001b[0;31m         \u001b[0mself\u001b[0m\u001b[0;34m.\u001b[0m\u001b[0m_open_handles\u001b[0m\u001b[0;34m(\u001b[0m\u001b[0msrc\u001b[0m\u001b[0;34m,\u001b[0m \u001b[0mkwds\u001b[0m\u001b[0;34m)\u001b[0m\u001b[0;34m\u001b[0m\u001b[0;34m\u001b[0m\u001b[0m\n\u001b[0m\u001b[1;32m     52\u001b[0m         \u001b[0;32massert\u001b[0m \u001b[0mself\u001b[0m\u001b[0;34m.\u001b[0m\u001b[0mhandles\u001b[0m \u001b[0;32mis\u001b[0m \u001b[0;32mnot\u001b[0m \u001b[0;32mNone\u001b[0m\u001b[0;34m\u001b[0m\u001b[0;34m\u001b[0m\u001b[0m\n\u001b[1;32m     53\u001b[0m \u001b[0;34m\u001b[0m\u001b[0m\n",
      "\u001b[0;32m~/anaconda3/envs/py37/lib/python3.7/site-packages/pandas/io/parsers/base_parser.py\u001b[0m in \u001b[0;36m_open_handles\u001b[0;34m(self, src, kwds)\u001b[0m\n\u001b[1;32m    227\u001b[0m             \u001b[0mmemory_map\u001b[0m\u001b[0;34m=\u001b[0m\u001b[0mkwds\u001b[0m\u001b[0;34m.\u001b[0m\u001b[0mget\u001b[0m\u001b[0;34m(\u001b[0m\u001b[0;34m\"memory_map\"\u001b[0m\u001b[0;34m,\u001b[0m \u001b[0;32mFalse\u001b[0m\u001b[0;34m)\u001b[0m\u001b[0;34m,\u001b[0m\u001b[0;34m\u001b[0m\u001b[0;34m\u001b[0m\u001b[0m\n\u001b[1;32m    228\u001b[0m             \u001b[0mstorage_options\u001b[0m\u001b[0;34m=\u001b[0m\u001b[0mkwds\u001b[0m\u001b[0;34m.\u001b[0m\u001b[0mget\u001b[0m\u001b[0;34m(\u001b[0m\u001b[0;34m\"storage_options\"\u001b[0m\u001b[0;34m,\u001b[0m \u001b[0;32mNone\u001b[0m\u001b[0;34m)\u001b[0m\u001b[0;34m,\u001b[0m\u001b[0;34m\u001b[0m\u001b[0;34m\u001b[0m\u001b[0m\n\u001b[0;32m--> 229\u001b[0;31m             \u001b[0merrors\u001b[0m\u001b[0;34m=\u001b[0m\u001b[0mkwds\u001b[0m\u001b[0;34m.\u001b[0m\u001b[0mget\u001b[0m\u001b[0;34m(\u001b[0m\u001b[0;34m\"encoding_errors\"\u001b[0m\u001b[0;34m,\u001b[0m \u001b[0;34m\"strict\"\u001b[0m\u001b[0;34m)\u001b[0m\u001b[0;34m,\u001b[0m\u001b[0;34m\u001b[0m\u001b[0;34m\u001b[0m\u001b[0m\n\u001b[0m\u001b[1;32m    230\u001b[0m         )\n\u001b[1;32m    231\u001b[0m \u001b[0;34m\u001b[0m\u001b[0m\n",
      "\u001b[0;32m~/anaconda3/envs/py37/lib/python3.7/site-packages/pandas/io/common.py\u001b[0m in \u001b[0;36mget_handle\u001b[0;34m(path_or_buf, mode, encoding, compression, memory_map, is_text, errors, storage_options)\u001b[0m\n\u001b[1;32m    705\u001b[0m                 \u001b[0mencoding\u001b[0m\u001b[0;34m=\u001b[0m\u001b[0mioargs\u001b[0m\u001b[0;34m.\u001b[0m\u001b[0mencoding\u001b[0m\u001b[0;34m,\u001b[0m\u001b[0;34m\u001b[0m\u001b[0;34m\u001b[0m\u001b[0m\n\u001b[1;32m    706\u001b[0m                 \u001b[0merrors\u001b[0m\u001b[0;34m=\u001b[0m\u001b[0merrors\u001b[0m\u001b[0;34m,\u001b[0m\u001b[0;34m\u001b[0m\u001b[0;34m\u001b[0m\u001b[0m\n\u001b[0;32m--> 707\u001b[0;31m                 \u001b[0mnewline\u001b[0m\u001b[0;34m=\u001b[0m\u001b[0;34m\"\"\u001b[0m\u001b[0;34m,\u001b[0m\u001b[0;34m\u001b[0m\u001b[0;34m\u001b[0m\u001b[0m\n\u001b[0m\u001b[1;32m    708\u001b[0m             )\n\u001b[1;32m    709\u001b[0m         \u001b[0;32melse\u001b[0m\u001b[0;34m:\u001b[0m\u001b[0;34m\u001b[0m\u001b[0;34m\u001b[0m\u001b[0m\n",
      "\u001b[0;31mFileNotFoundError\u001b[0m: [Errno 2] No such file or directory: './results/result_2021-12-19 00:30:37.tsv'"
     ]
    }
   ],
   "source": [
    "submission = pd.read_csv(\"./results/result_2021-12-19 00:30:37.tsv\", sep='\\t', header = None)"
   ]
  },
  {
   "cell_type": "code",
   "execution_count": null,
   "id": "artificial-hearing",
   "metadata": {},
   "outputs": [],
   "source": [
    "submission"
   ]
  },
  {
   "cell_type": "code",
   "execution_count": null,
   "id": "prompt-daisy",
   "metadata": {},
   "outputs": [],
   "source": []
  }
 ],
 "metadata": {
  "kernelspec": {
   "display_name": "Python 3 (ipykernel)",
   "language": "python",
   "name": "python3"
  },
  "language_info": {
   "codemirror_mode": {
    "name": "ipython",
    "version": 3
   },
   "file_extension": ".py",
   "mimetype": "text/x-python",
   "name": "python",
   "nbconvert_exporter": "python",
   "pygments_lexer": "ipython3",
   "version": "3.7.12"
  },
  "toc": {
   "base_numbering": 1,
   "nav_menu": {},
   "number_sections": true,
   "sideBar": true,
   "skip_h1_title": false,
   "title_cell": "Table of Contents",
   "title_sidebar": "Contents",
   "toc_cell": false,
   "toc_position": {
    "height": "calc(100% - 180px)",
    "left": "10px",
    "top": "150px",
    "width": "369.6px"
   },
   "toc_section_display": true,
   "toc_window_display": true
  }
 },
 "nbformat": 4,
 "nbformat_minor": 5
}
