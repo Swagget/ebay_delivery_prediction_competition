{
 "cells": [
  {
   "cell_type": "markdown",
   "id": "cardiovascular-richardson",
   "metadata": {},
   "source": [
    "# Disclaimer\n",
    "\n",
    "This can only properly be run on a heavy duty PC"
   ]
  },
  {
   "cell_type": "code",
   "execution_count": 1,
   "id": "adopted-small",
   "metadata": {},
   "outputs": [],
   "source": [
    "training_rows_to_read = 5000000 # This needs to be 15000000"
   ]
  },
  {
   "cell_type": "markdown",
   "id": "maritime-phrase",
   "metadata": {},
   "source": [
    "# Imports"
   ]
  },
  {
   "cell_type": "code",
   "execution_count": 2,
   "id": "innocent-multimedia",
   "metadata": {},
   "outputs": [
    {
     "name": "stdout",
     "output_type": "stream",
     "text": [
      "Preprocessing successfully imported.\n"
     ]
    }
   ],
   "source": [
    "from ebay_delivery_prediction_project import preprocessing, Visualisation, preprocessing_models, postprocessing\n",
    "preprocessing.import_test()\n",
    "\n",
    "from datetime import datetime, timedelta"
   ]
  },
  {
   "cell_type": "code",
   "execution_count": 3,
   "id": "functional-screening",
   "metadata": {
    "scrolled": true
   },
   "outputs": [
    {
     "name": "stdout",
     "output_type": "stream",
     "text": [
      "Reading 5000000 rows.\n",
      "Reading all columns.\n",
      "Index(['b2c_c2c', 'seller_id', 'declared_handling_days',\n",
      "       'acceptance_scan_timestamp', 'shipment_method_id', 'shipping_fee',\n",
      "       'carrier_min_estimate', 'carrier_max_estimate', 'item_zip', 'buyer_zip',\n",
      "       'category_id', 'item_price', 'quantity', 'payment_datetime',\n",
      "       'delivery_date', 'weight', 'weight_units', 'package_size',\n",
      "       'record_number'],\n",
      "      dtype='object')\n"
     ]
    }
   ],
   "source": [
    "# data_object = Preprocessing.read_data(rows_to_read = None, columns = [\"b2c_c2c\"])\n",
    "# data_object = Preprocessing.read_data(rows_to_read = None)\n",
    "training_data = preprocessing.read_data(rows_to_read = training_rows_to_read)[\"train\"]\n",
    "print(training_data.columns)"
   ]
  },
  {
   "cell_type": "markdown",
   "id": "angry-voice",
   "metadata": {},
   "source": [
    "# Setting up pipeline"
   ]
  },
  {
   "cell_type": "markdown",
   "id": "threaded-plymouth",
   "metadata": {},
   "source": [
    "## Target column\n",
    "\n",
    "The objective is to estimate the total number of calendar days (after payment) it will take to have a purchased item show up at the buyer’s address. This is equivalent to estimating the delivery date using the formula:\n",
    "\n",
    "payment date (local time) + delivery calendar days = delivery date (local time).\n",
    "\n",
    "Participants should provide this delivery date in their submissions.\n",
    "\n",
    "_Now to generate target column_"
   ]
  },
  {
   "cell_type": "markdown",
   "id": "convertible-employee",
   "metadata": {},
   "source": [
    "### Run the basic preprocessing steps"
   ]
  },
  {
   "cell_type": "code",
   "execution_count": 4,
   "id": "lasting-comfort",
   "metadata": {},
   "outputs": [
    {
     "name": "stdout",
     "output_type": "stream",
     "text": [
      "Finished parse_datetime_columns\n",
      "Finished create_delivery_calendar_days\n",
      "Finished clean_zip_codes\n"
     ]
    }
   ],
   "source": [
    "training_data = preprocessing.basic_preprocessing(training_data)"
   ]
  },
  {
   "cell_type": "code",
   "execution_count": 5,
   "id": "checked-football",
   "metadata": {},
   "outputs": [
    {
     "data": {
      "text/plain": [
       "count    5.000000e+06\n",
       "mean     4.744181e+00\n",
       "std      3.096501e+00\n",
       "min     -1.520000e+02\n",
       "25%      3.000000e+00\n",
       "50%      4.000000e+00\n",
       "75%      5.000000e+00\n",
       "max      2.140000e+02\n",
       "Name: delivery_calendar_days, dtype: float64"
      ]
     },
     "execution_count": 5,
     "metadata": {},
     "output_type": "execute_result"
    }
   ],
   "source": [
    "training_data[\"delivery_calendar_days\"].describe()"
   ]
  },
  {
   "cell_type": "code",
   "execution_count": 6,
   "id": "patient-arizona",
   "metadata": {},
   "outputs": [
    {
     "data": {
      "text/html": [
       "<div>\n",
       "<style scoped>\n",
       "    .dataframe tbody tr th:only-of-type {\n",
       "        vertical-align: middle;\n",
       "    }\n",
       "\n",
       "    .dataframe tbody tr th {\n",
       "        vertical-align: top;\n",
       "    }\n",
       "\n",
       "    .dataframe thead th {\n",
       "        text-align: right;\n",
       "    }\n",
       "</style>\n",
       "<table border=\"1\" class=\"dataframe\">\n",
       "  <thead>\n",
       "    <tr style=\"text-align: right;\">\n",
       "      <th></th>\n",
       "      <th>payment_datetime</th>\n",
       "      <th>delivery_date</th>\n",
       "      <th>delivery_calendar_days</th>\n",
       "    </tr>\n",
       "  </thead>\n",
       "  <tbody>\n",
       "    <tr>\n",
       "      <th>166637</th>\n",
       "      <td>2018-11-02 10:18:28-07:00</td>\n",
       "      <td>2018-09-13</td>\n",
       "      <td>-50</td>\n",
       "    </tr>\n",
       "    <tr>\n",
       "      <th>259023</th>\n",
       "      <td>2018-07-11 06:41:35-06:00</td>\n",
       "      <td>2018-07-06</td>\n",
       "      <td>-5</td>\n",
       "    </tr>\n",
       "    <tr>\n",
       "      <th>533083</th>\n",
       "      <td>2019-03-31 22:28:25-07:00</td>\n",
       "      <td>2019-03-22</td>\n",
       "      <td>-9</td>\n",
       "    </tr>\n",
       "    <tr>\n",
       "      <th>590655</th>\n",
       "      <td>2019-08-23 01:04:47-05:00</td>\n",
       "      <td>2019-08-22</td>\n",
       "      <td>-1</td>\n",
       "    </tr>\n",
       "    <tr>\n",
       "      <th>604185</th>\n",
       "      <td>2018-05-05 05:47:29-07:00</td>\n",
       "      <td>2018-01-08</td>\n",
       "      <td>-117</td>\n",
       "    </tr>\n",
       "    <tr>\n",
       "      <th>...</th>\n",
       "      <td>...</td>\n",
       "      <td>...</td>\n",
       "      <td>...</td>\n",
       "    </tr>\n",
       "    <tr>\n",
       "      <th>4799824</th>\n",
       "      <td>2018-08-19 23:44:43-04:00</td>\n",
       "      <td>2018-08-16</td>\n",
       "      <td>-3</td>\n",
       "    </tr>\n",
       "    <tr>\n",
       "      <th>4893592</th>\n",
       "      <td>2018-01-04 18:48:54-08:00</td>\n",
       "      <td>2017-12-18</td>\n",
       "      <td>-17</td>\n",
       "    </tr>\n",
       "    <tr>\n",
       "      <th>4920385</th>\n",
       "      <td>2019-08-12 18:17:31-07:00</td>\n",
       "      <td>2019-08-08</td>\n",
       "      <td>-4</td>\n",
       "    </tr>\n",
       "    <tr>\n",
       "      <th>4962627</th>\n",
       "      <td>2018-06-01 16:37:12-04:00</td>\n",
       "      <td>2018-05-24</td>\n",
       "      <td>-8</td>\n",
       "    </tr>\n",
       "    <tr>\n",
       "      <th>4976728</th>\n",
       "      <td>2018-12-20 06:18:38-05:00</td>\n",
       "      <td>2018-12-01</td>\n",
       "      <td>-19</td>\n",
       "    </tr>\n",
       "  </tbody>\n",
       "</table>\n",
       "<p>76 rows × 3 columns</p>\n",
       "</div>"
      ],
      "text/plain": [
       "                  payment_datetime delivery_date  delivery_calendar_days\n",
       "166637   2018-11-02 10:18:28-07:00    2018-09-13                     -50\n",
       "259023   2018-07-11 06:41:35-06:00    2018-07-06                      -5\n",
       "533083   2019-03-31 22:28:25-07:00    2019-03-22                      -9\n",
       "590655   2019-08-23 01:04:47-05:00    2019-08-22                      -1\n",
       "604185   2018-05-05 05:47:29-07:00    2018-01-08                    -117\n",
       "...                            ...           ...                     ...\n",
       "4799824  2018-08-19 23:44:43-04:00    2018-08-16                      -3\n",
       "4893592  2018-01-04 18:48:54-08:00    2017-12-18                     -17\n",
       "4920385  2019-08-12 18:17:31-07:00    2019-08-08                      -4\n",
       "4962627  2018-06-01 16:37:12-04:00    2018-05-24                      -8\n",
       "4976728  2018-12-20 06:18:38-05:00    2018-12-01                     -19\n",
       "\n",
       "[76 rows x 3 columns]"
      ]
     },
     "execution_count": 6,
     "metadata": {},
     "output_type": "execute_result"
    }
   ],
   "source": [
    "training_data[training_data[\"delivery_calendar_days\"] < 0][[\"payment_datetime\", \"delivery_date\", \"delivery_calendar_days\"]]"
   ]
  },
  {
   "cell_type": "code",
   "execution_count": 7,
   "id": "numerous-translator",
   "metadata": {},
   "outputs": [],
   "source": [
    "training_data = training_data[training_data[\"delivery_calendar_days\"] >= 0]"
   ]
  },
  {
   "cell_type": "code",
   "execution_count": 8,
   "id": "limited-measure",
   "metadata": {},
   "outputs": [
    {
     "name": "stdout",
     "output_type": "stream",
     "text": [
      "b2c_c2c : 2\n",
      "seller_id : 1000593\n",
      "declared_handling_days : 12\n",
      "acceptance_scan_timestamp : 723667\n",
      "shipment_method_id : 24\n",
      "shipping_fee : 5425\n",
      "carrier_min_estimate : 6\n",
      "carrier_max_estimate : 6\n",
      "item_zip : 42412\n",
      "buyer_zip : 43068\n",
      "category_id : 33\n",
      "item_price : 28894\n",
      "quantity : 107\n",
      "payment_datetime : 4729525\n",
      "delivery_date : 747\n",
      "weight : 982\n",
      "weight_units : 2\n",
      "package_size : 6\n",
      "record_number : 4999924\n",
      "delivery_calendar_days : 139\n",
      "cleaned_item_zip : 33059\n",
      "cleaned_buyer_zip : 36528\n",
      "distance_between_pincodes : 4484521\n"
     ]
    }
   ],
   "source": [
    "for col in training_data.columns:\n",
    "    print(f\"{col} : {len(training_data[col].unique())}\")"
   ]
  },
  {
   "cell_type": "markdown",
   "id": "complimentary-forum",
   "metadata": {},
   "source": [
    "# Implementing pipeline"
   ]
  },
  {
   "cell_type": "markdown",
   "id": "weekly-victorian",
   "metadata": {},
   "source": [
    "## Arbitrarily choosing how to encode columns"
   ]
  },
  {
   "cell_type": "code",
   "execution_count": 9,
   "id": "stuck-dress",
   "metadata": {},
   "outputs": [],
   "source": [
    "different_types_of_encoding = [\"one-hot\", \"numerical\"]\n",
    "\n",
    "cols_and_encoding = {\n",
    "    \"b2c_c2c\"   : \"one-hot\",\n",
    "    \"seller_id\"   : 6365,\n",
    "    \"declared_handling_days\"   : \"numerical\",\n",
    "    \"acceptance_scan_timestamp\"   : 9848,\n",
    "    \"shipment_method_id\"   : \"one-hot\",\n",
    "    \"shipping_fee\"   : \"numerical\",\n",
    "    \"carrier_min_estimate\"   : 4, # Cheating?\n",
    "    \"carrier_max_estimate\"   : 5, # Cheating?\n",
    "    \"item_zip\"   : 4701, # Needs a lot of preprocessing.\n",
    "    \"buyer_zip\"   : 6880, # Needs a lot of preprocessing.\n",
    "    \"category_id\"   : 'one-hot', # Only has 33 unique values in 15,000,000 rows so one-hot.\n",
    "    \"item_price\"   : \"numerical\",\n",
    "    \"quantity\"   : \"numerical\",\n",
    "    \"payment_datetime\"   : 9998,\n",
    "    \"delivery_date\"   : 602,\n",
    "    \"weight\"   : \"numerical\",\n",
    "    \"weight_units\"   : 1,\n",
    "    \"package_size\"   : \"one-hot\",\n",
    "    \"record_number\"   : 10000,\n",
    "    \"delivery_calendar_days\"   : \"target\",\n",
    "    \"cleaned_item_zip\" : 30743,\n",
    "    \"cleaned_buyer_zip\" : 34876,\n",
    "    \"distance_between_pincodes\" : \"numerical\",\n",
    "}"
   ]
  },
  {
   "cell_type": "code",
   "execution_count": 10,
   "id": "surface-spice",
   "metadata": {},
   "outputs": [
    {
     "name": "stdout",
     "output_type": "stream",
     "text": [
      "cols_to_convert_to_one_hot :  ['b2c_c2c', 'shipment_method_id', 'category_id', 'package_size']\n",
      "training_data.shape before :  (4999924, 23)\n",
      "training_data.shape after :  (4999924, 84)\n"
     ]
    }
   ],
   "source": [
    "cols_to_convert_to_one_hot = [ele for ele in cols_and_encoding.keys() if cols_and_encoding[ele] == \"one-hot\"]\n",
    "\n",
    "print(\"cols_to_convert_to_one_hot : \", cols_to_convert_to_one_hot)\n",
    "\n",
    "print(\"training_data.shape before : \", training_data.shape)\n",
    "training_data, generated_columns = preprocessing.one_hot_encode_columns(df = training_data, columns = cols_to_convert_to_one_hot)\n",
    "print(\"training_data.shape after : \", training_data.shape)"
   ]
  },
  {
   "cell_type": "code",
   "execution_count": 11,
   "id": "played-valentine",
   "metadata": {},
   "outputs": [],
   "source": [
    "target_column = \"delivery_calendar_days\"\n",
    "cols_to_use = [ele for ele in cols_and_encoding.keys() if (type(cols_and_encoding[ele]) == str) and\n",
    "               (cols_and_encoding[ele] != \"target\") and\n",
    "               (cols_and_encoding[ele] != \"one-hot\")]\n",
    "cols_to_use = [*cols_to_use, *generated_columns]"
   ]
  },
  {
   "cell_type": "markdown",
   "id": "smoking-course",
   "metadata": {},
   "source": [
    "## Running a gradient boosted decision tree model"
   ]
  },
  {
   "cell_type": "code",
   "execution_count": 12,
   "id": "pressed-burst",
   "metadata": {},
   "outputs": [],
   "source": [
    "import lightgbm as lgb\n",
    "from sklearn.model_selection import train_test_split\n",
    "from sklearn import metrics"
   ]
  },
  {
   "cell_type": "code",
   "execution_count": 13,
   "id": "spread-given",
   "metadata": {},
   "outputs": [
    {
     "data": {
      "text/plain": [
       "((3349949, 71), (1649975, 71), (3349949,), (1649975,))"
      ]
     },
     "execution_count": 13,
     "metadata": {},
     "output_type": "execute_result"
    }
   ],
   "source": [
    "# To define the input and output feature\n",
    "# x = training_data.drop(['Embarked','PassengerId'],axis=1)\n",
    "x = training_data[cols_to_use]\n",
    "y = training_data[target_column]\n",
    "# train and test split\n",
    "x_train,x_test,y_train,y_test = train_test_split(x,y,test_size=0.33,random_state=42)\n",
    "x_train.shape,x_test.shape,y_train.shape,y_test.shape"
   ]
  },
  {
   "cell_type": "code",
   "execution_count": 14,
   "id": "tropical-harvest",
   "metadata": {},
   "outputs": [
    {
     "name": "stdout",
     "output_type": "stream",
     "text": [
      "[10]\ttraining's l2: 8.41236\tvalid_0's l2: 8.35966\n",
      "[20]\ttraining's l2: 8.20842\tvalid_0's l2: 8.16224\n",
      "[30]\ttraining's l2: 8.13481\tvalid_0's l2: 8.10193\n",
      "[40]\ttraining's l2: 8.09526\tvalid_0's l2: 8.07187\n",
      "[50]\ttraining's l2: 8.07293\tvalid_0's l2: 8.05468\n",
      "[60]\ttraining's l2: 8.05436\tvalid_0's l2: 8.04613\n",
      "[70]\ttraining's l2: 8.04261\tvalid_0's l2: 8.03841\n",
      "[80]\ttraining's l2: 8.03359\tvalid_0's l2: 8.03335\n",
      "[90]\ttraining's l2: 8.02407\tvalid_0's l2: 8.02916\n",
      "[100]\ttraining's l2: 8.01605\tvalid_0's l2: 8.0265\n"
     ]
    },
    {
     "data": {
      "text/plain": [
       "LGBMRegressor(max_depth=-5, random_state=42)"
      ]
     },
     "execution_count": 14,
     "metadata": {},
     "output_type": "execute_result"
    }
   ],
   "source": [
    "model = lgb.LGBMRegressor(learning_rate=0.1,max_depth=-5,random_state=42)\n",
    "model.fit(x_train,y_train,eval_set=[(x_test,y_test),(x_train,y_train)],\n",
    "          verbose=10,eval_metric='logloss')# This loss needs to mirror the loss that Ebay is using."
   ]
  },
  {
   "cell_type": "code",
   "execution_count": 15,
   "id": "initial-input",
   "metadata": {},
   "outputs": [
    {
     "data": {
      "text/plain": [
       "<AxesSubplot:title={'center':'Feature importance'}, xlabel='Feature importance', ylabel='Features'>"
      ]
     },
     "execution_count": 15,
     "metadata": {},
     "output_type": "execute_result"
    },
    {
     "data": {
      "image/png": "[encoded data removed]",
      "text/plain": [
       "<Figure size 432x288 with 1 Axes>"
      ]
     },
     "metadata": {
      "needs_background": "light"
     },
     "output_type": "display_data"
    }
   ],
   "source": [
    "lgb.plot_importance(model)"
   ]
  },
  {
   "cell_type": "code",
   "execution_count": 16,
   "id": "funny-persian",
   "metadata": {},
   "outputs": [
    {
     "data": {
      "text/plain": [
       "{'declared_handling_days': 510,\n",
       " 'shipping_fee': 255,\n",
       " 'item_price': 395,\n",
       " 'quantity': 30,\n",
       " 'weight': 270,\n",
       " 'distance_between_pincodes': 443,\n",
       " 'b2c_c2c_B2C': 85,\n",
       " 'b2c_c2c_C2C': 4,\n",
       " 'shipment_method_id_0': 50,\n",
       " 'shipment_method_id_3': 96,\n",
       " 'shipment_method_id_1': 20,\n",
       " 'shipment_method_id_5': 16,\n",
       " 'shipment_method_id_2': 84,\n",
       " 'shipment_method_id_6': 12,\n",
       " 'shipment_method_id_8': 12,\n",
       " 'shipment_method_id_10': 2,\n",
       " 'shipment_method_id_7': 13,\n",
       " 'shipment_method_id_4': 70,\n",
       " 'shipment_method_id_13': 7,\n",
       " 'shipment_method_id_14': 23,\n",
       " 'shipment_method_id_9': 0,\n",
       " 'shipment_method_id_11': 11,\n",
       " 'shipment_method_id_12': 35,\n",
       " 'shipment_method_id_15': 0,\n",
       " 'shipment_method_id_24': 0,\n",
       " 'shipment_method_id_17': 0,\n",
       " 'shipment_method_id_18': 0,\n",
       " 'shipment_method_id_19': 0,\n",
       " 'shipment_method_id_16': 0,\n",
       " 'shipment_method_id_21': 0,\n",
       " 'shipment_method_id_20': 0,\n",
       " 'shipment_method_id_22': 0,\n",
       " 'category_id_13': 4,\n",
       " 'category_id_0': 31,\n",
       " 'category_id_1': 19,\n",
       " 'category_id_3': 35,\n",
       " 'category_id_11': 1,\n",
       " 'category_id_18': 17,\n",
       " 'category_id_12': 1,\n",
       " 'category_id_8': 8,\n",
       " 'category_id_5': 11,\n",
       " 'category_id_10': 20,\n",
       " 'category_id_23': 2,\n",
       " 'category_id_9': 11,\n",
       " 'category_id_7': 26,\n",
       " 'category_id_26': 0,\n",
       " 'category_id_17': 8,\n",
       " 'category_id_6': 10,\n",
       " 'category_id_27': 1,\n",
       " 'category_id_24': 20,\n",
       " 'category_id_4': 20,\n",
       " 'category_id_2': 12,\n",
       " 'category_id_14': 16,\n",
       " 'category_id_22': 6,\n",
       " 'category_id_15': 3,\n",
       " 'category_id_16': 27,\n",
       " 'category_id_21': 3,\n",
       " 'category_id_28': 0,\n",
       " 'category_id_29': 22,\n",
       " 'category_id_19': 19,\n",
       " 'category_id_25': 58,\n",
       " 'category_id_30': 1,\n",
       " 'category_id_31': 0,\n",
       " 'category_id_20': 0,\n",
       " 'category_id_32': 11,\n",
       " 'package_size_LETTER': 17,\n",
       " 'package_size_PACKAGE_THICK_ENVELOPE': 44,\n",
       " 'package_size_NONE': 65,\n",
       " 'package_size_LARGE_PACKAGE': 6,\n",
       " 'package_size_LARGE_ENVELOPE': 2,\n",
       " 'package_size_EXTRA_LARGE_PACKAGE': 0}"
      ]
     },
     "execution_count": 16,
     "metadata": {},
     "output_type": "execute_result"
    }
   ],
   "source": [
    "feature_importances = {}\n",
    "\n",
    "for importance, feature in zip(model.feature_importances_, model.feature_name_):\n",
    "    feature_importances[feature] = importance\n",
    "\n",
    "feature_importances"
   ]
  },
  {
   "cell_type": "code",
   "execution_count": 17,
   "id": "retired-annual",
   "metadata": {
    "scrolled": true
   },
   "outputs": [
    {
     "name": "stdout",
     "output_type": "stream",
     "text": [
      "Training accuracy 0.1614\n",
      "Testing accuracy 0.1574\n"
     ]
    }
   ],
   "source": [
    "print('Training accuracy {:.4f}'.format(model.score(x_train,y_train)))\n",
    "print('Testing accuracy {:.4f}'.format(model.score(x_test,y_test)))"
   ]
  },
  {
   "cell_type": "code",
   "execution_count": 18,
   "id": "informative-sarah",
   "metadata": {},
   "outputs": [],
   "source": [
    "# training_data[\"model_outputs\"] = model.predict(training_data[cols_to_use])"
   ]
  },
  {
   "cell_type": "code",
   "execution_count": 19,
   "id": "together-contributor",
   "metadata": {},
   "outputs": [],
   "source": [
    "modes_dict = {}\n",
    "for col in training_data:\n",
    "    modes_dict[col] = training_data[col].mode()"
   ]
  },
  {
   "cell_type": "code",
   "execution_count": 20,
   "id": "compound-wrestling",
   "metadata": {
    "scrolled": true
   },
   "outputs": [
    {
     "name": "stdout",
     "output_type": "stream",
     "text": [
      "Reading 2500000 rows.\n",
      "Reading all columns.\n"
     ]
    }
   ],
   "source": [
    "del training_data\n",
    "quiz_data = preprocessing.read_data(rows_to_read = 2500000)[\"quiz\"]\n",
    "\n",
    "quiz_data = preprocessing.parse_datetime_columns(quiz_data)\n",
    "\n",
    "quiz_data, generated_columns = preprocessing.one_hot_encode_columns(df = quiz_data, columns = cols_to_convert_to_one_hot)\n"
   ]
  },
  {
   "cell_type": "code",
   "execution_count": 21,
   "id": "competitive-helping",
   "metadata": {},
   "outputs": [
    {
     "name": "stdout",
     "output_type": "stream",
     "text": [
      "col :  distance_between_pincodes\n",
      "col :  shipment_method_id_24\n",
      "col :  shipment_method_id_19\n",
      "col :  shipment_method_id_21\n",
      "col :  shipment_method_id_20\n",
      "col :  shipment_method_id_22\n",
      "col :  package_size_EXTRA_LARGE_PACKAGE\n"
     ]
    }
   ],
   "source": [
    "# Filling in the blanks from non existing \n",
    "\n",
    "for col in model.feature_name_:\n",
    "    if col not in quiz_data.columns:\n",
    "        print(\"col : \", col)\n",
    "        quiz_data[col] = modes_dict[col]"
   ]
  },
  {
   "cell_type": "code",
   "execution_count": 22,
   "id": "conscious-backup",
   "metadata": {},
   "outputs": [],
   "source": [
    "quiz_data[\"model_outputs\"] = model.predict(quiz_data[cols_to_use])"
   ]
  },
  {
   "cell_type": "markdown",
   "id": "strategic-stability",
   "metadata": {},
   "source": [
    "# Postprocessing\n",
    "\n",
    "After this is all done and predicting with a decent accuracy this needs to be put back and the output needs to predict the delivery date.\n",
    "\n",
    "The submission is a tsv table, which can be gzipped, with no headeron thw quiz dataset for now. After we win the first phase the test dataset will be given to us.\n",
    "\n",
    "Each line should contain two values, first the record identifier from the distributed dataset, which is an integer, and second the predicted delivery date as a string in the format YYYY-MM-DD.\n",
    "\n",
    "All records must be predicted."
   ]
  },
  {
   "cell_type": "code",
   "execution_count": 23,
   "id": "quiet-translation",
   "metadata": {},
   "outputs": [],
   "source": [
    "output_columns_name = \"predicted_delivery_date\""
   ]
  },
  {
   "cell_type": "code",
   "execution_count": 24,
   "id": "manufactured-count",
   "metadata": {
    "scrolled": true
   },
   "outputs": [],
   "source": [
    "postprocessing.generate_output_column(df = quiz_data, \n",
    "                                      predicted_days_column=\"model_outputs\",\n",
    "                                     output_columns_name = output_columns_name)"
   ]
  },
  {
   "cell_type": "code",
   "execution_count": 29,
   "id": "quarterly-auction",
   "metadata": {},
   "outputs": [
    {
     "data": {
      "text/plain": [
       "(2500000, 83)"
      ]
     },
     "execution_count": 29,
     "metadata": {},
     "output_type": "execute_result"
    }
   ],
   "source": [
    "quiz_data.shape"
   ]
  },
  {
   "cell_type": "code",
   "execution_count": 25,
   "id": "patent-lithuania",
   "metadata": {},
   "outputs": [],
   "source": [
    "postprocessing.generate_submission_file(df = quiz_data, predicted_dates_column=\"predicted_delivery_date\")"
   ]
  },
  {
   "cell_type": "markdown",
   "id": "smart-ethnic",
   "metadata": {},
   "source": [
    "# Double checking outputs"
   ]
  },
  {
   "cell_type": "code",
   "execution_count": 26,
   "id": "advised-installation",
   "metadata": {},
   "outputs": [],
   "source": [
    "import pandas as pd"
   ]
  },
  {
   "cell_type": "code",
   "execution_count": 27,
   "id": "cardiac-monday",
   "metadata": {},
   "outputs": [],
   "source": [
    "submission = pd.read_csv(\"./results/result_2021-12-19 00:30:37.tsv\", sep='\\t', header = None)"
   ]
  },
  {
   "cell_type": "code",
   "execution_count": 28,
   "id": "maritime-pricing",
   "metadata": {},
   "outputs": [
    {
     "data": {
      "text/html": [
       "<div>\n",
       "<style scoped>\n",
       "    .dataframe tbody tr th:only-of-type {\n",
       "        vertical-align: middle;\n",
       "    }\n",
       "\n",
       "    .dataframe tbody tr th {\n",
       "        vertical-align: top;\n",
       "    }\n",
       "\n",
       "    .dataframe thead th {\n",
       "        text-align: right;\n",
       "    }\n",
       "</style>\n",
       "<table border=\"1\" class=\"dataframe\">\n",
       "  <thead>\n",
       "    <tr style=\"text-align: right;\">\n",
       "      <th></th>\n",
       "      <th>0</th>\n",
       "      <th>1</th>\n",
       "    </tr>\n",
       "  </thead>\n",
       "  <tbody>\n",
       "    <tr>\n",
       "      <th>0</th>\n",
       "      <td>15000001</td>\n",
       "      <td>2019-11-18</td>\n",
       "    </tr>\n",
       "    <tr>\n",
       "      <th>1</th>\n",
       "      <td>15000002</td>\n",
       "      <td>2019-11-30</td>\n",
       "    </tr>\n",
       "    <tr>\n",
       "      <th>2</th>\n",
       "      <td>15000003</td>\n",
       "      <td>2019-12-06</td>\n",
       "    </tr>\n",
       "    <tr>\n",
       "      <th>3</th>\n",
       "      <td>15000004</td>\n",
       "      <td>2019-12-16</td>\n",
       "    </tr>\n",
       "    <tr>\n",
       "      <th>4</th>\n",
       "      <td>15000005</td>\n",
       "      <td>2019-12-22</td>\n",
       "    </tr>\n",
       "    <tr>\n",
       "      <th>...</th>\n",
       "      <td>...</td>\n",
       "      <td>...</td>\n",
       "    </tr>\n",
       "    <tr>\n",
       "      <th>2499995</th>\n",
       "      <td>17499996</td>\n",
       "      <td>2019-12-24</td>\n",
       "    </tr>\n",
       "    <tr>\n",
       "      <th>2499996</th>\n",
       "      <td>17499997</td>\n",
       "      <td>2019-12-09</td>\n",
       "    </tr>\n",
       "    <tr>\n",
       "      <th>2499997</th>\n",
       "      <td>17499998</td>\n",
       "      <td>2019-12-08</td>\n",
       "    </tr>\n",
       "    <tr>\n",
       "      <th>2499998</th>\n",
       "      <td>17499999</td>\n",
       "      <td>2019-12-12</td>\n",
       "    </tr>\n",
       "    <tr>\n",
       "      <th>2499999</th>\n",
       "      <td>17500000</td>\n",
       "      <td>2019-12-20</td>\n",
       "    </tr>\n",
       "  </tbody>\n",
       "</table>\n",
       "<p>2500000 rows × 2 columns</p>\n",
       "</div>"
      ],
      "text/plain": [
       "                0           1\n",
       "0        15000001  2019-11-18\n",
       "1        15000002  2019-11-30\n",
       "2        15000003  2019-12-06\n",
       "3        15000004  2019-12-16\n",
       "4        15000005  2019-12-22\n",
       "...           ...         ...\n",
       "2499995  17499996  2019-12-24\n",
       "2499996  17499997  2019-12-09\n",
       "2499997  17499998  2019-12-08\n",
       "2499998  17499999  2019-12-12\n",
       "2499999  17500000  2019-12-20\n",
       "\n",
       "[2500000 rows x 2 columns]"
      ]
     },
     "execution_count": 28,
     "metadata": {},
     "output_type": "execute_result"
    }
   ],
   "source": [
    "submission"
   ]
  },
  {
   "cell_type": "code",
   "execution_count": null,
   "id": "weird-excess",
   "metadata": {},
   "outputs": [],
   "source": []
  }
 ],
 "metadata": {
  "kernelspec": {
   "display_name": "Python 3",
   "language": "python",
   "name": "python3"
  },
  "language_info": {
   "codemirror_mode": {
    "name": "ipython",
    "version": 3
   },
   "file_extension": ".py",
   "mimetype": "text/x-python",
   "name": "python",
   "nbconvert_exporter": "python",
   "pygments_lexer": "ipython3",
   "version": "3.7.9"
  },
  "toc": {
   "base_numbering": 1,
   "nav_menu": {},
   "number_sections": true,
   "sideBar": true,
   "skip_h1_title": false,
   "title_cell": "Table of Contents",
   "title_sidebar": "Contents",
   "toc_cell": false,
   "toc_position": {
    "height": "calc(100% - 180px)",
    "left": "10px",
    "top": "150px",
    "width": "369.6px"
   },
   "toc_section_display": true,
   "toc_window_display": true
  }
 },
 "nbformat": 4,
 "nbformat_minor": 5
}
