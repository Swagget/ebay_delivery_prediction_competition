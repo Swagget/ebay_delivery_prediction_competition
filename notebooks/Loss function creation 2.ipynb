{
 "cells": [
  {
   "cell_type": "markdown",
   "id": "looking-index",
   "metadata": {},
   "source": [
    "# Imports"
   ]
  },
  {
   "cell_type": "code",
   "execution_count": 1,
   "id": "weekly-atmosphere",
   "metadata": {},
   "outputs": [
    {
     "name": "stdout",
     "output_type": "stream",
     "text": [
      "Preprocessing successfully imported.\n"
     ]
    }
   ],
   "source": [
    "from ebay_delivery_prediction_project import preprocessing, Visualisation, preprocessing_models, postprocessing\n",
    "preprocessing.import_test()\n",
    "import matplotlib.pyplot as plt\n",
    "from sklearn.metrics import mean_squared_error\n",
    "from sklearn.metrics import mean_absolute_error\n",
    "from datetime import datetime, timedelta"
   ]
  },
  {
   "cell_type": "code",
   "execution_count": 2,
   "id": "pleasant-rachel",
   "metadata": {
    "scrolled": true
   },
   "outputs": [
    {
     "name": "stdout",
     "output_type": "stream",
     "text": [
      "Reading 100000 rows.\n",
      "Reading all columns.\n",
      "Index(['b2c_c2c', 'seller_id', 'declared_handling_days',\n",
      "       'acceptance_scan_timestamp', 'shipment_method_id', 'shipping_fee',\n",
      "       'carrier_min_estimate', 'carrier_max_estimate', 'item_zip', 'buyer_zip',\n",
      "       'category_id', 'item_price', 'quantity', 'payment_datetime',\n",
      "       'delivery_date', 'weight', 'weight_units', 'package_size',\n",
      "       'record_number'],\n",
      "      dtype='object')\n",
      "19\n"
     ]
    }
   ],
   "source": [
    "# data_object = Preprocessing.read_data(rows_to_read = None, columns = [\"b2c_c2c\"])\n",
    "# data_object = Preprocessing.read_data(rows_to_read = None)\n",
    "N = 100000\n",
    "training_data = preprocessing.read_data(rows_to_read = N)[\"train\"]\n",
    "print(training_data.columns)\n",
    "print(len(training_data.columns))"
   ]
  },
  {
   "cell_type": "markdown",
   "id": "funded-wisconsin",
   "metadata": {},
   "source": [
    "# Setting up pipeline"
   ]
  },
  {
   "cell_type": "markdown",
   "id": "nasty-punch",
   "metadata": {},
   "source": [
    "## Target column\n",
    "\n",
    "The objective is to estimate the total number of calendar days (after payment) it will take to have a purchased item show up at the buyer’s address. This is equivalent to estimating the delivery date using the formula:\n",
    "\n",
    "payment date (local time) + delivery calendar days = delivery date (local time).\n",
    "\n",
    "Participants should provide this delivery date in their submissions.\n",
    "\n",
    "_Now to generate target column_"
   ]
  },
  {
   "cell_type": "markdown",
   "id": "significant-catalog",
   "metadata": {},
   "source": [
    "### Preprocessing the datetime columns"
   ]
  },
  {
   "cell_type": "code",
   "execution_count": 3,
   "id": "surgical-soccer",
   "metadata": {},
   "outputs": [],
   "source": [
    "training_data = preprocessing.parse_datetime_columns(training_data)"
   ]
  },
  {
   "cell_type": "markdown",
   "id": "weekly-gilbert",
   "metadata": {},
   "source": [
    "### Generating target column \"delivery_calendar_days\""
   ]
  },
  {
   "cell_type": "code",
   "execution_count": 4,
   "id": "south-humanity",
   "metadata": {},
   "outputs": [],
   "source": [
    "training_data = preprocessing.create_delivery_calendar_days(training_data)"
   ]
  },
  {
   "cell_type": "code",
   "execution_count": 5,
   "id": "underlying-judges",
   "metadata": {},
   "outputs": [
    {
     "name": "stderr",
     "output_type": "stream",
     "text": [
      "/home/swagget/anaconda3/envs/py37/lib/python3.7/site-packages/ipykernel_launcher.py:1: FutureWarning: Treating datetime data as categorical rather than numeric in `.describe` is deprecated and will be removed in a future version of pandas. Specify `datetime_is_numeric=True` to silence this warning and adopt the future behavior now.\n",
      "  \"\"\"Entry point for launching an IPython kernel.\n"
     ]
    },
    {
     "data": {
      "text/plain": [
       "count                  100000\n",
       "unique                    667\n",
       "top       2018-12-17 00:00:00\n",
       "freq                      372\n",
       "first     2018-01-02 00:00:00\n",
       "last      2019-12-18 00:00:00\n",
       "Name: delivery_date, dtype: object"
      ]
     },
     "execution_count": 5,
     "metadata": {},
     "output_type": "execute_result"
    }
   ],
   "source": [
    "training_data[\"delivery_date\"].describe()"
   ]
  },
  {
   "cell_type": "code",
   "execution_count": 6,
   "id": "formed-linux",
   "metadata": {},
   "outputs": [
    {
     "name": "stdout",
     "output_type": "stream",
     "text": [
      "b2c_c2c : 2\n",
      "seller_id : 57971\n",
      "declared_handling_days : 11\n",
      "acceptance_scan_timestamp : 88902\n",
      "shipment_method_id : 17\n",
      "shipping_fee : 1700\n",
      "carrier_min_estimate : 6\n",
      "carrier_max_estimate : 6\n",
      "item_zip : 16089\n",
      "buyer_zip : 19592\n",
      "category_id : 33\n",
      "item_price : 6518\n",
      "quantity : 28\n",
      "payment_datetime : 99878\n",
      "delivery_date : 667\n",
      "weight : 318\n",
      "weight_units : 1\n",
      "package_size : 5\n",
      "record_number : 100000\n",
      "delivery_calendar_days : 82\n"
     ]
    }
   ],
   "source": [
    "for col in training_data.columns:\n",
    "    print(f\"{col} : {len(training_data[col].unique())}\")"
   ]
  },
  {
   "cell_type": "markdown",
   "id": "enhanced-alignment",
   "metadata": {},
   "source": [
    "# Implementing pipeline"
   ]
  },
  {
   "cell_type": "markdown",
   "id": "personal-trigger",
   "metadata": {},
   "source": [
    "## Arbitrarily choosing how to encode columns"
   ]
  },
  {
   "cell_type": "code",
   "execution_count": 7,
   "id": "olive-radius",
   "metadata": {},
   "outputs": [],
   "source": [
    "different_types_of_encoding = [\"one-hot\", \"numerical\"]\n",
    "\n",
    "cols_and_encoding = {\n",
    "    \"b2c_c2c\"   : \"one-hot\",\n",
    "    \"seller_id\"   : 6365,\n",
    "    \"declared_handling_days\"   : \"numerical\",\n",
    "    \"acceptance_scan_timestamp\"   : 9848,\n",
    "    \"shipment_method_id\"   : \"one-hot\",\n",
    "    \"shipping_fee\"   : \"numerical\",\n",
    "    \"carrier_min_estimate\"   : 4, # Cheating?\n",
    "    \"carrier_max_estimate\"   : 5, # Cheating?\n",
    "    \"item_zip\"   : 4701, # Needs a lot of preprocessing.\n",
    "    \"buyer_zip\"   : 6880, # Needs a lot of preprocessing.\n",
    "    \"category_id\"   : 'one-hot', # Only has 33 unique values in 15,000,000 rows so one-hot.\n",
    "    \"item_price\"   : \"numerical\",\n",
    "    \"quantity\"   : \"numerical\",\n",
    "    \"payment_datetime\"   : 9998,\n",
    "    \"delivery_date\"   : 602,\n",
    "    \"weight\"   : \"numerical\",\n",
    "    \"weight_units\"   : 1,\n",
    "    \"package_size\"   : \"one-hot\",\n",
    "    \"record_number\"   : 10000,\n",
    "    \"delivery_calendar_days\"   : \"target\",\n",
    "}"
   ]
  },
  {
   "cell_type": "code",
   "execution_count": 8,
   "id": "minute-olympus",
   "metadata": {},
   "outputs": [
    {
     "name": "stdout",
     "output_type": "stream",
     "text": [
      "cols_to_convert_to_one_hot :  ['b2c_c2c', 'shipment_method_id', 'category_id', 'package_size']\n",
      "training_data.shape before :  (100000, 20)\n",
      "training_data.shape after :  (100000, 73)\n"
     ]
    }
   ],
   "source": [
    "cols_to_convert_to_one_hot = [ele for ele in cols_and_encoding.keys() if cols_and_encoding[ele] == \"one-hot\"]\n",
    "\n",
    "print(\"cols_to_convert_to_one_hot : \", cols_to_convert_to_one_hot)\n",
    "\n",
    "print(\"training_data.shape before : \", training_data.shape)\n",
    "training_data, generated_columns = preprocessing.one_hot_encode_columns(df = training_data, columns = cols_to_convert_to_one_hot)\n",
    "print(\"training_data.shape after : \", training_data.shape)"
   ]
  },
  {
   "cell_type": "code",
   "execution_count": 9,
   "id": "entire-safety",
   "metadata": {},
   "outputs": [],
   "source": [
    "target_column = \"delivery_calendar_days\"\n",
    "cols_to_use = [ele for ele in cols_and_encoding.keys() if (type(cols_and_encoding[ele]) == str) and\n",
    "               (cols_and_encoding[ele] != \"target\") and\n",
    "               (cols_and_encoding[ele] != \"one-hot\")]\n",
    "cols_to_use = [*cols_to_use, *generated_columns]"
   ]
  },
  {
   "cell_type": "markdown",
   "id": "essential-value",
   "metadata": {},
   "source": [
    "## Running a gradient boosted decision tree model"
   ]
  },
  {
   "cell_type": "code",
   "execution_count": 10,
   "id": "db700494",
   "metadata": {},
   "outputs": [],
   "source": [
    "import lightgbm as lgb\n",
    "from sklearn.model_selection import train_test_split\n",
    "from sklearn import metrics\n",
    "import math\n",
    "import numpy as np"
   ]
  },
  {
   "cell_type": "code",
   "execution_count": 11,
   "id": "f06a2711",
   "metadata": {},
   "outputs": [],
   "source": [
    "# I have tweaked the objective function based on our needs"
   ]
  },
  {
   "cell_type": "code",
   "execution_count": 42,
   "id": "51d22635",
   "metadata": {},
   "outputs": [],
   "source": [
    "def customLossFunctionEval(y_true, y_pred):\n",
    "    residual = (y_true - y_pred).astype(np.float32)\n",
    "    loss = np.where(residual < 0, -0.6 * (residual), 0.4 * (residual))\n",
    "    return \"Custom Loss Function\", np.mean(loss), False"
   ]
  },
  {
   "cell_type": "code",
   "execution_count": 75,
   "id": "27dc9d9e",
   "metadata": {},
   "outputs": [],
   "source": [
    "def custom_asymmetric_objective(y_true, y_pred):\n",
    "    residual = (y_true - y_pred).astype(\"float\") # Residual is how early it is.\n",
    "    grad = np.where(residual<0, 2*0.6*residual, -2*0.4*residual)\n",
    "    hess = np.where(residual<0, 2*0.6, 2*0.4)\n",
    "    return grad, hess"
   ]
  },
  {
   "cell_type": "code",
   "execution_count": 80,
   "id": "bd7e6006",
   "metadata": {},
   "outputs": [],
   "source": [
    "def custom_symmetric_objective(y_true, y_pred):\n",
    "    residual = (y_true - y_pred).astype(\"float\")\n",
    "    grad = np.where(residual<0, -2*0.5*residual, -2*0.5*residual)\n",
    "    hess = np.where(residual<0, 2*0.5, 2*0.5)\n",
    "    return grad, hess"
   ]
  },
  {
   "cell_type": "code",
   "execution_count": 47,
   "id": "utility-cornell",
   "metadata": {},
   "outputs": [
    {
     "data": {
      "text/plain": [
       "((67000, 62), (33000, 62), (67000,), (33000,))"
      ]
     },
     "execution_count": 47,
     "metadata": {},
     "output_type": "execute_result"
    }
   ],
   "source": [
    "# To define the input and output feature\n",
    "# x = training_data.drop(['Embarked','PassengerId'],axis=1)\n",
    "x = training_data[cols_to_use]\n",
    "y = training_data[target_column]\n",
    "# train and test split\n",
    "x_train,x_test,y_train,y_test = train_test_split(x,y,test_size=0.33,random_state=42)\n",
    "x_train.shape,x_test.shape,y_train.shape,y_test.shape"
   ]
  },
  {
   "cell_type": "code",
   "execution_count": 87,
   "id": "authorized-disease",
   "metadata": {},
   "outputs": [
    {
     "data": {
      "text/plain": [
       "LGBMRegressor(early_stopping_rounds=10, learning_rate=0.03, max_depth=-5,\n",
       "              objective=<function custom_asymmetric_objective at 0x7f1ef292ce60>,\n",
       "              random_state=42)"
      ]
     },
     "execution_count": 87,
     "metadata": {},
     "output_type": "execute_result"
    }
   ],
   "source": [
    "# I have changed the lr, early_stopping_rounds and n_estimators\n",
    "model = lgb.LGBMRegressor(learning_rate=0.03,max_depth=-5,random_state=42,early_stopping_rounds = 10,n_estimators=100)\n",
    "model.set_params(**{'objective': custom_asymmetric_objective})\n",
    "# model.fit(x_train,y_train,eval_set=[(x_test,y_test),(x_train,y_train)],\n",
    "#           verbose=10,eval_metric='l2')# This loss needs to mirror the loss that Ebay is using."
   ]
  },
  {
   "cell_type": "code",
   "execution_count": 88,
   "id": "c9233918",
   "metadata": {
    "scrolled": true
   },
   "outputs": [
    {
     "name": "stdout",
     "output_type": "stream",
     "text": [
      "[LightGBM] [Warning] early_stopping_round is set=10, early_stopping_rounds=10 will be ignored. Current value: early_stopping_round=10\n",
      "[1]\tvalid_0's l2: 29.7675\tvalid_0's Custom Loss Function: 1.84119\n",
      "[2]\tvalid_0's l2: 28.4476\tvalid_0's Custom Loss Function: 1.78578\n",
      "[3]\tvalid_0's l2: 27.2065\tvalid_0's Custom Loss Function: 1.73204\n",
      "[4]\tvalid_0's l2: 26.0384\tvalid_0's Custom Loss Function: 1.67992\n",
      "[5]\tvalid_0's l2: 24.9393\tvalid_0's Custom Loss Function: 1.62937\n",
      "[6]\tvalid_0's l2: 23.9055\tvalid_0's Custom Loss Function: 1.58037\n",
      "[7]\tvalid_0's l2: 22.9323\tvalid_0's Custom Loss Function: 1.53286\n",
      "[8]\tvalid_0's l2: 22.017\tvalid_0's Custom Loss Function: 1.48683\n",
      "[9]\tvalid_0's l2: 21.1562\tvalid_0's Custom Loss Function: 1.44236\n",
      "[10]\tvalid_0's l2: 20.3466\tvalid_0's Custom Loss Function: 1.39949\n",
      "[11]\tvalid_0's l2: 19.5859\tvalid_0's Custom Loss Function: 1.35798\n",
      "[12]\tvalid_0's l2: 18.8688\tvalid_0's Custom Loss Function: 1.31777\n",
      "[13]\tvalid_0's l2: 18.1941\tvalid_0's Custom Loss Function: 1.27891\n",
      "[14]\tvalid_0's l2: 17.5588\tvalid_0's Custom Loss Function: 1.24125\n",
      "[15]\tvalid_0's l2: 16.9611\tvalid_0's Custom Loss Function: 1.20483\n",
      "[16]\tvalid_0's l2: 16.3995\tvalid_0's Custom Loss Function: 1.16977\n",
      "[17]\tvalid_0's l2: 15.8714\tvalid_0's Custom Loss Function: 1.13618\n",
      "[18]\tvalid_0's l2: 15.3737\tvalid_0's Custom Loss Function: 1.10404\n",
      "[19]\tvalid_0's l2: 14.9072\tvalid_0's Custom Loss Function: 1.07389\n",
      "[20]\tvalid_0's l2: 14.4687\tvalid_0's Custom Loss Function: 1.04511\n",
      "[21]\tvalid_0's l2: 14.0568\tvalid_0's Custom Loss Function: 1.01812\n",
      "[22]\tvalid_0's l2: 13.672\tvalid_0's Custom Loss Function: 0.993928\n",
      "[23]\tvalid_0's l2: 13.3081\tvalid_0's Custom Loss Function: 0.971152\n",
      "[24]\tvalid_0's l2: 12.9646\tvalid_0's Custom Loss Function: 0.949467\n",
      "[25]\tvalid_0's l2: 12.6399\tvalid_0's Custom Loss Function: 0.928433\n",
      "[26]\tvalid_0's l2: 12.3318\tvalid_0's Custom Loss Function: 0.907945\n",
      "[27]\tvalid_0's l2: 12.0393\tvalid_0's Custom Loss Function: 0.888159\n",
      "[28]\tvalid_0's l2: 11.7631\tvalid_0's Custom Loss Function: 0.869024\n",
      "[29]\tvalid_0's l2: 11.5016\tvalid_0's Custom Loss Function: 0.850888\n",
      "[30]\tvalid_0's l2: 11.2545\tvalid_0's Custom Loss Function: 0.833857\n",
      "[31]\tvalid_0's l2: 11.0218\tvalid_0's Custom Loss Function: 0.817873\n",
      "[32]\tvalid_0's l2: 10.8018\tvalid_0's Custom Loss Function: 0.803077\n",
      "[33]\tvalid_0's l2: 10.5947\tvalid_0's Custom Loss Function: 0.789883\n",
      "[34]\tvalid_0's l2: 10.3989\tvalid_0's Custom Loss Function: 0.777646\n",
      "[35]\tvalid_0's l2: 10.2134\tvalid_0's Custom Loss Function: 0.766141\n",
      "[36]\tvalid_0's l2: 10.0376\tvalid_0's Custom Loss Function: 0.75535\n",
      "[37]\tvalid_0's l2: 9.87015\tvalid_0's Custom Loss Function: 0.744883\n",
      "[38]\tvalid_0's l2: 9.71116\tvalid_0's Custom Loss Function: 0.734696\n",
      "[39]\tvalid_0's l2: 9.5601\tvalid_0's Custom Loss Function: 0.724921\n",
      "[40]\tvalid_0's l2: 9.41727\tvalid_0's Custom Loss Function: 0.718922\n",
      "[41]\tvalid_0's l2: 9.28438\tvalid_0's Custom Loss Function: 0.713937\n",
      "[42]\tvalid_0's l2: 9.15793\tvalid_0's Custom Loss Function: 0.709361\n",
      "[43]\tvalid_0's l2: 9.03762\tvalid_0's Custom Loss Function: 0.705514\n",
      "[44]\tvalid_0's l2: 8.92368\tvalid_0's Custom Loss Function: 0.702796\n",
      "[45]\tvalid_0's l2: 8.81566\tvalid_0's Custom Loss Function: 0.700391\n",
      "[46]\tvalid_0's l2: 8.7129\tvalid_0's Custom Loss Function: 0.69872\n",
      "[47]\tvalid_0's l2: 8.61637\tvalid_0's Custom Loss Function: 0.697696\n",
      "[48]\tvalid_0's l2: 8.52472\tvalid_0's Custom Loss Function: 0.696863\n",
      "[49]\tvalid_0's l2: 8.43823\tvalid_0's Custom Loss Function: 0.696401\n",
      "[50]\tvalid_0's l2: 8.35631\tvalid_0's Custom Loss Function: 0.696012\n",
      "[51]\tvalid_0's l2: 8.27901\tvalid_0's Custom Loss Function: 0.695773\n",
      "[52]\tvalid_0's l2: 8.20646\tvalid_0's Custom Loss Function: 0.695902\n",
      "[53]\tvalid_0's l2: 8.13835\tvalid_0's Custom Loss Function: 0.696641\n",
      "[54]\tvalid_0's l2: 8.0754\tvalid_0's Custom Loss Function: 0.69817\n",
      "[55]\tvalid_0's l2: 8.01693\tvalid_0's Custom Loss Function: 0.699933\n",
      "[56]\tvalid_0's l2: 7.96328\tvalid_0's Custom Loss Function: 0.702005\n",
      "[57]\tvalid_0's l2: 7.91344\tvalid_0's Custom Loss Function: 0.704267\n",
      "[58]\tvalid_0's l2: 7.86817\tvalid_0's Custom Loss Function: 0.706983\n",
      "[59]\tvalid_0's l2: 7.82753\tvalid_0's Custom Loss Function: 0.709931\n",
      "[60]\tvalid_0's l2: 7.79145\tvalid_0's Custom Loss Function: 0.713042\n",
      "[61]\tvalid_0's l2: 7.75991\tvalid_0's Custom Loss Function: 0.716418\n"
     ]
    },
    {
     "data": {
      "text/plain": [
       "LGBMRegressor(early_stopping_rounds=10, learning_rate=0.03, max_depth=-5,\n",
       "              objective=<function custom_asymmetric_objective at 0x7f1ef292ce60>,\n",
       "              random_state=42)"
      ]
     },
     "execution_count": 88,
     "metadata": {},
     "output_type": "execute_result"
    }
   ],
   "source": [
    "model.fit(x_train,y_train,eval_set=[(x_test,y_test)],\n",
    "          verbose=True,eval_metric=customLossFunctionEval)"
   ]
  },
  {
   "cell_type": "code",
   "execution_count": 30,
   "id": "excess-fairy",
   "metadata": {},
   "outputs": [
    {
     "data": {
      "text/plain": [
       "<AxesSubplot:title={'center':'Feature importance'}, xlabel='Feature importance', ylabel='Features'>"
      ]
     },
     "execution_count": 30,
     "metadata": {},
     "output_type": "execute_result"
    },
    {
     "data": {
      "image/png": "[encoded data removed]",
      "text/plain": [
       "<Figure size 432x288 with 1 Axes>"
      ]
     },
     "metadata": {
      "needs_background": "light"
     },
     "output_type": "display_data"
    }
   ],
   "source": [
    "lgb.plot_importance(model)"
   ]
  },
  {
   "cell_type": "code",
   "execution_count": 19,
   "id": "52379e9b",
   "metadata": {},
   "outputs": [
    {
     "ename": "RuntimeError",
     "evalue": "No active exception to reraise",
     "output_type": "error",
     "traceback": [
      "\u001b[0;31m---------------------------------------------------------------------------\u001b[0m",
      "\u001b[0;31mRuntimeError\u001b[0m                              Traceback (most recent call last)",
      "\u001b[0;32m/tmp/ipykernel_3747/2235509928.py\u001b[0m in \u001b[0;36m<module>\u001b[0;34m\u001b[0m\n\u001b[0;32m----> 1\u001b[0;31m \u001b[0;32mraise\u001b[0m\u001b[0;34m\u001b[0m\u001b[0;34m\u001b[0m\u001b[0m\n\u001b[0m",
      "\u001b[0;31mRuntimeError\u001b[0m: No active exception to reraise"
     ]
    }
   ],
   "source": [
    "raise"
   ]
  },
  {
   "cell_type": "markdown",
   "id": "5cf25c89",
   "metadata": {},
   "source": [
    "## Looking at results"
   ]
  },
  {
   "cell_type": "markdown",
   "id": "86633d8a",
   "metadata": {},
   "source": [
    "### Checking errors of asymmetric vs symmetric loss function"
   ]
  },
  {
   "cell_type": "code",
   "execution_count": 50,
   "id": "9c7c7e2f",
   "metadata": {},
   "outputs": [
    {
     "name": "stdout",
     "output_type": "stream",
     "text": [
      "MSE 8.421695223117316\n",
      "RMSE 2.9020157172416066\n",
      "MAE 1.5824572199702986\n"
     ]
    }
   ],
   "source": [
    "# Error metrics\n",
    "y_predicted = model.predict(x_test)\n",
    "print('MSE', mean_squared_error(y_test, y_predicted))\n",
    "print('RMSE', math.sqrt(mean_squared_error(y_test, y_predicted)))\n",
    "print('MAE', mean_absolute_error(y_test, y_predicted))"
   ]
  },
  {
   "cell_type": "code",
   "execution_count": 55,
   "id": "cf244fc5",
   "metadata": {},
   "outputs": [
    {
     "name": "stdout",
     "output_type": "stream",
     "text": [
      "This is if you make it a custom symmetric function then check all the losses.\n",
      "MSE 8.231780701071209\n",
      "RMSE 2.8691079974569114\n",
      "MAE 1.5500499008197368\n"
     ]
    }
   ],
   "source": [
    "# Error metrics\n",
    "print(\"This is if you make it a custom symmetric function then check all the losses.\")\n",
    "y_predicted = model.predict(x_test)\n",
    "print('MSE', mean_squared_error(y_test, y_predicted))\n",
    "print('RMSE', math.sqrt(mean_squared_error(y_test, y_predicted)))\n",
    "print('MAE', mean_absolute_error(y_test, y_predicted))"
   ]
  },
  {
   "cell_type": "markdown",
   "id": "afa38d0a",
   "metadata": {},
   "source": [
    "### Checking late vs early predictions"
   ]
  },
  {
   "cell_type": "code",
   "execution_count": 56,
   "id": "531feff7",
   "metadata": {},
   "outputs": [
    {
     "name": "stdout",
     "output_type": "stream",
     "text": [
      "This is if you make it a custom symmetric function then check all the errors.      This is weird becayse if the massive imbalance.       It could possibly be caused because of some outliers skewing the data.\n",
      "total_under = 19896\n",
      "total_over = 13104\n",
      "perfect = 0\n",
      "\n"
     ]
    }
   ],
   "source": [
    "total_under = 0\n",
    "total_over = 0\n",
    "perfect = 0\n",
    "print(\"This is if you make it a custom symmetric function then check all the errors.\\\n",
    "      This is weird becayse if the massive imbalance. \\\n",
    "      It could possibly be caused because of some outliers skewing the data.\")\n",
    "\n",
    "for pred, actual in zip(y_predicted, y_test):\n",
    "    if pred<actual:\n",
    "        total_under += 1\n",
    "    elif pred>actual:\n",
    "        total_over += 1\n",
    "    else:\n",
    "        perfect += 1\n",
    "        \n",
    "print(f\"\\\n",
    "total_under = {total_under}\\n\\\n",
    "total_over = {total_over}\\n\\\n",
    "perfect = {perfect}\\n\")"
   ]
  },
  {
   "cell_type": "code",
   "execution_count": 52,
   "id": "4e6a46fd",
   "metadata": {},
   "outputs": [
    {
     "name": "stdout",
     "output_type": "stream",
     "text": [
      "total_under = 20089\n",
      "total_over = 12911\n",
      "perfect = 0\n",
      "\n"
     ]
    }
   ],
   "source": [
    "total_under = 0\n",
    "total_over = 0\n",
    "perfect = 0\n",
    "\n",
    "for pred, actual in zip(y_predicted, y_test):\n",
    "    if pred<actual:\n",
    "        total_under += 1\n",
    "    elif pred>actual:\n",
    "        total_over += 1\n",
    "    else:\n",
    "        perfect += 1\n",
    "        \n",
    "print(f\"\\\n",
    "total_under = {total_under}\\n\\\n",
    "total_over = {total_over}\\n\\\n",
    "perfect = {perfect}\\n\")"
   ]
  },
  {
   "cell_type": "markdown",
   "id": "90a818fd",
   "metadata": {},
   "source": [
    "### Checking number of days expected for delivery"
   ]
  },
  {
   "cell_type": "code",
   "execution_count": 89,
   "id": "c247adb1",
   "metadata": {},
   "outputs": [
    {
     "name": "stdout",
     "output_type": "stream",
     "text": [
      "Asymmetric predictions\n",
      "Descriptive analysis\n",
      "Array = [3.44823922 3.44823922 4.01848779 ... 4.44194413 3.44823922 3.25639452]\n",
      "Measures of Central Tendency\n",
      "Mean = 3.8883363326357143\n",
      "Median = 3.464285809076717\n",
      "Measures of Dispersion\n",
      "Minimum = 3.1875181242946073\n",
      "Maximum = 30.49046118674647\n",
      "Range = 27.30294306245186\n",
      "Variance = 0.9542340793237508\n",
      "Standard Deviation = 0.9768490565710501\n"
     ]
    }
   ],
   "source": [
    "print(\"Asymmetric predictions\")\n",
    "\n",
    "y_predicted = model.predict(x_test)\n",
    "\n",
    "arr = np.array(y_predicted)\n",
    " \n",
    "# measures of central tendency\n",
    "mean = np.mean(arr)\n",
    "median = np.median(arr)\n",
    " \n",
    "# measures of dispersion\n",
    "min = np.amin(arr)\n",
    "max = np.amax(arr)\n",
    "range = np.ptp(arr)\n",
    "variance = np.var(arr)\n",
    "sd = np.std(arr)\n",
    "\n",
    "print(\"Descriptive analysis\")\n",
    "print(\"Array =\", arr)\n",
    "print(\"Measures of Central Tendency\")\n",
    "print(\"Mean =\", mean)\n",
    "print(\"Median =\", median)\n",
    "print(\"Measures of Dispersion\")\n",
    "print(\"Minimum =\", min)\n",
    "print(\"Maximum =\", max)\n",
    "print(\"Range =\", range)\n",
    "print(\"Variance =\", variance)\n",
    "print(\"Standard Deviation =\", sd)"
   ]
  },
  {
   "cell_type": "code",
   "execution_count": 86,
   "id": "4777c166",
   "metadata": {},
   "outputs": [
    {
     "name": "stdout",
     "output_type": "stream",
     "text": [
      "Symmetric predictions\n",
      "Descriptive analysis\n",
      "Array = [3.50317847 3.50317847 4.07389572 ... 4.34149269 3.50317847 3.33955577]\n",
      "Measures of Central Tendency\n",
      "Mean = 3.9248233068462843\n",
      "Median = 3.5658271867125335\n",
      "Measures of Dispersion\n",
      "Minimum = 3.2444972590816703\n",
      "Maximum = 27.8005522729951\n",
      "Range = 24.55605501391343\n",
      "Variance = 0.784123764666048\n",
      "Standard Deviation = 0.8855076310603134\n"
     ]
    }
   ],
   "source": [
    "print(\"Symmetric predictions\")\n",
    "\n",
    "y_predicted = model.predict(x_test)\n",
    "\n",
    "arr = np.array(y_predicted)\n",
    " \n",
    "# measures of central tendency\n",
    "mean = np.mean(arr)\n",
    "median = np.median(arr)\n",
    " \n",
    "# measures of dispersion\n",
    "min = np.amin(arr)\n",
    "max = np.amax(arr)\n",
    "range = np.ptp(arr)\n",
    "variance = np.var(arr)\n",
    "sd = np.std(arr)\n",
    "\n",
    "print(\"Descriptive analysis\")\n",
    "print(\"Array =\", arr)\n",
    "print(\"Measures of Central Tendency\")\n",
    "print(\"Mean =\", mean)\n",
    "print(\"Median =\", median)\n",
    "print(\"Measures of Dispersion\")\n",
    "print(\"Minimum =\", min)\n",
    "print(\"Maximum =\", max)\n",
    "print(\"Range =\", range)\n",
    "print(\"Variance =\", variance)\n",
    "print(\"Standard Deviation =\", sd)"
   ]
  },
  {
   "cell_type": "code",
   "execution_count": null,
   "id": "a47f6fa6",
   "metadata": {},
   "outputs": [],
   "source": [
    "y_predicted"
   ]
  },
  {
   "cell_type": "code",
   "execution_count": null,
   "id": "4d42e93c",
   "metadata": {},
   "outputs": [],
   "source": [
    "y_test"
   ]
  },
  {
   "cell_type": "code",
   "execution_count": null,
   "id": "f6af466f",
   "metadata": {},
   "outputs": [],
   "source": [
    "raise"
   ]
  },
  {
   "cell_type": "code",
   "execution_count": null,
   "id": "3a128de5",
   "metadata": {},
   "outputs": [],
   "source": [
    "from sklearn.datasets import make_friedman2, make_friedman1, make_regression"
   ]
  },
  {
   "cell_type": "code",
   "execution_count": null,
   "id": "910e332d",
   "metadata": {},
   "outputs": [],
   "source": [
    "X1, Y1 = make_friedman1(n_samples=1000, n_features=7, noise=0.0, random_state=11)\n",
    "y_true = Y1\n",
    "y_pred = np.linspace(-100,100,1000)\n",
    "grad, hess = custom_asymmetric_objective(y_true, y_pred)\n",
    "\n",
    "fig, ax = plt.subplots(1,1, figsize=(8,4))\n",
    "\n",
    "ax.plot(y_pred, grad)\n",
    "ax.plot(y_pred, hess)\n",
    "ax.legend(('gradient', 'hessian'))\n",
    "ax.set_xlabel('Predictions')\n",
    "ax.set_ylabel('first or second derivates')\n",
    "\n",
    "fig.tight_layout()"
   ]
  },
  {
   "cell_type": "code",
   "execution_count": null,
   "id": "c686de13",
   "metadata": {},
   "outputs": [],
   "source": [
    "X1, Y1 = make_friedman1(n_samples=1000, n_features=7, noise=0.0, random_state=11)\n",
    "y_true = Y1\n",
    "y_pred = np.linspace(-100,100,1000)\n",
    "# y_pred = model.predict(x)\n",
    "grad, hess = customLossFunctionTrain(y_true, y_pred)\n",
    "\n",
    "fig, ax = plt.subplots(1,1, figsize=(8,4))\n",
    "\n",
    "# ax.plot(y_hat, errors)\n",
    "ax.plot(y_pred, grad)\n",
    "ax.plot(y_pred, hess)\n",
    "ax.legend(('gradient', 'hessian'))\n",
    "ax.set_xlabel('Predictions')\n",
    "ax.set_ylabel('first or second derivates')\n",
    "\n",
    "fig.tight_layout()"
   ]
  },
  {
   "cell_type": "code",
   "execution_count": null,
   "id": "de23eaa5",
   "metadata": {},
   "outputs": [],
   "source": [
    "fig, ax = plt.subplots(1,1, figsize=(8,4))\n",
    "ax.plot(y_true, y_pred)\n",
    "ax.set_xlabel('actual')\n",
    "ax.set_ylabel('predicted')\n",
    "ax.legend(('true', 'false'))\n",
    "# fig.tight_layout()"
   ]
  },
  {
   "cell_type": "code",
   "execution_count": null,
   "id": "75cf27d7",
   "metadata": {},
   "outputs": [],
   "source": [
    "y_true[:10], y_pred[:10]"
   ]
  },
  {
   "cell_type": "code",
   "execution_count": null,
   "id": "5678c62d",
   "metadata": {},
   "outputs": [],
   "source": [
    "raise"
   ]
  },
  {
   "cell_type": "code",
   "execution_count": null,
   "id": "wicked-glucose",
   "metadata": {},
   "outputs": [],
   "source": [
    "modes_dict = {}\n",
    "for col in training_data:\n",
    "    modes_dict[col] = training_data[col].mode()"
   ]
  },
  {
   "cell_type": "code",
   "execution_count": null,
   "id": "abb8c9be",
   "metadata": {},
   "outputs": [],
   "source": [
    "del training_data"
   ]
  },
  {
   "cell_type": "code",
   "execution_count": null,
   "id": "silver-differential",
   "metadata": {},
   "outputs": [],
   "source": [
    "quiz_data = preprocessing.read_data(rows_to_read = N)[\"quiz\"]\n",
    "\n",
    "quiz_data = preprocessing.parse_datetime_columns(quiz_data)\n",
    "\n",
    "quiz_data, generated_columns = preprocessing.one_hot_encode_columns(df = quiz_data, columns = cols_to_convert_to_one_hot)\n"
   ]
  },
  {
   "cell_type": "code",
   "execution_count": null,
   "id": "italian-capitol",
   "metadata": {},
   "outputs": [],
   "source": [
    "# Filling in the blanks from non existing \n",
    "\n",
    "for col in model.feature_name_:\n",
    "    if col not in quiz_data.columns:\n",
    "        print(\"col : \", col)\n",
    "        quiz_data[col] = modes_dict[col]"
   ]
  },
  {
   "cell_type": "code",
   "execution_count": null,
   "id": "abstract-albert",
   "metadata": {},
   "outputs": [],
   "source": [
    "quiz_data[\"model_outputs\"] = model.predict(quiz_data[cols_to_use])"
   ]
  },
  {
   "cell_type": "markdown",
   "id": "stuffed-terminal",
   "metadata": {},
   "source": [
    "# Postprocessing\n",
    "\n",
    "After this is all done and predicting with a decent accuracy this needs to be put back and the output needs to predict the delivery date.\n",
    "\n",
    "The submission is a tsv table, which can be gzipped, with no headeron thw quiz dataset for now. After we win the first phase the test dataset will be given to us.\n",
    "\n",
    "Each line should contain two values, first the record identifier from the distributed dataset, which is an integer, and second the predicted delivery date as a string in the format YYYY-MM-DD.\n",
    "\n",
    "All records must be predicted."
   ]
  },
  {
   "cell_type": "code",
   "execution_count": null,
   "id": "speaking-volleyball",
   "metadata": {},
   "outputs": [],
   "source": [
    "output_columns_name = \"predicted_delivery_date\""
   ]
  },
  {
   "cell_type": "code",
   "execution_count": null,
   "id": "functioning-designer",
   "metadata": {
    "scrolled": true
   },
   "outputs": [],
   "source": [
    "postprocessing.generate_output_column(df = quiz_data, \n",
    "                                      predicted_days_column=\"model_outputs\",\n",
    "                                     output_columns_name = output_columns_name)"
   ]
  },
  {
   "cell_type": "code",
   "execution_count": null,
   "id": "convinced-receptor",
   "metadata": {},
   "outputs": [],
   "source": [
    "postprocessing.generate_submission_file(df = quiz_data, predicted_dates_column=\"predicted_delivery_date\")"
   ]
  },
  {
   "cell_type": "markdown",
   "id": "animated-torture",
   "metadata": {},
   "source": [
    "# Double checking outputs"
   ]
  },
  {
   "cell_type": "code",
   "execution_count": null,
   "id": "found-seattle",
   "metadata": {},
   "outputs": [],
   "source": [
    "import pandas as pd"
   ]
  },
  {
   "cell_type": "code",
   "execution_count": null,
   "id": "coastal-crown",
   "metadata": {},
   "outputs": [],
   "source": [
    "submission = pd.read_csv(\"./results/result_2021-12-19 16:59:16.tsv\", sep='\\t', header = None)"
   ]
  },
  {
   "cell_type": "code",
   "execution_count": null,
   "id": "artificial-hearing",
   "metadata": {},
   "outputs": [],
   "source": [
    "submission"
   ]
  },
  {
   "cell_type": "code",
   "execution_count": null,
   "id": "8614e477",
   "metadata": {},
   "outputs": [],
   "source": []
  }
 ],
 "metadata": {
  "kernelspec": {
   "display_name": "Python 3 (ipykernel)",
   "language": "python",
   "name": "python3"
  },
  "language_info": {
   "codemirror_mode": {
    "name": "ipython",
    "version": 3
   },
   "file_extension": ".py",
   "mimetype": "text/x-python",
   "name": "python",
   "nbconvert_exporter": "python",
   "pygments_lexer": "ipython3",
   "version": "3.7.12"
  },
  "toc": {
   "base_numbering": 1,
   "nav_menu": {},
   "number_sections": true,
   "sideBar": true,
   "skip_h1_title": false,
   "title_cell": "Table of Contents",
   "title_sidebar": "Contents",
   "toc_cell": false,
   "toc_position": {
    "height": "calc(100% - 180px)",
    "left": "10px",
    "top": "150px",
    "width": "369.6px"
   },
   "toc_section_display": true,
   "toc_window_display": true
  }
 },
 "nbformat": 4,
 "nbformat_minor": 5
}
