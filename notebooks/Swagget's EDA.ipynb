{
 "cells": [
  {
   "cell_type": "markdown",
   "id": "c4cb19ee",
   "metadata": {},
   "source": [
    "# Imports"
   ]
  },
  {
   "cell_type": "code",
   "execution_count": 1,
   "id": "c2b3fc9f",
   "metadata": {},
   "outputs": [
    {
     "name": "stdout",
     "output_type": "stream",
     "text": [
      "Preprocessing successfully imported.\n"
     ]
    }
   ],
   "source": [
    "from ebay_delivery_prediction_project import preprocessing, Visualisation, preprocessing_models, postprocessing\n",
    "preprocessing.import_test()\n",
    "\n",
    "from datetime import datetime, timedelta"
   ]
  },
  {
   "cell_type": "code",
   "execution_count": 2,
   "id": "a0a9a0d5",
   "metadata": {},
   "outputs": [],
   "source": [
    "import numpy as np\n",
    "import pandas as pd"
   ]
  },
  {
   "cell_type": "code",
   "execution_count": 3,
   "id": "8e524e9b",
   "metadata": {},
   "outputs": [
    {
     "name": "stdout",
     "output_type": "stream",
     "text": [
      "Reading 1000 rows.\n",
      "Reading all columns.\n",
      "Index(['b2c_c2c', 'seller_id', 'declared_handling_days',\n",
      "       'acceptance_scan_timestamp', 'shipment_method_id', 'shipping_fee',\n",
      "       'carrier_min_estimate', 'carrier_max_estimate', 'item_zip', 'buyer_zip',\n",
      "       'category_id', 'item_price', 'quantity', 'payment_datetime',\n",
      "       'delivery_date', 'weight', 'weight_units', 'package_size',\n",
      "       'record_number'],\n",
      "      dtype='object')\n"
     ]
    }
   ],
   "source": [
    "training_data = preprocessing.read_data(rows_to_read = 1000)[\"train\"]\n",
    "print(training_data.columns)"
   ]
  },
  {
   "cell_type": "markdown",
   "id": "71962cf4",
   "metadata": {},
   "source": [
    "# Basic Preprocessing"
   ]
  },
  {
   "cell_type": "code",
   "execution_count": 4,
   "id": "530837f7",
   "metadata": {},
   "outputs": [],
   "source": [
    "training_data = preprocessing.basic_preprocessing(training_data)"
   ]
  },
  {
   "cell_type": "code",
   "execution_count": 5,
   "id": "5677f059",
   "metadata": {},
   "outputs": [],
   "source": [
    "training_data[\"categorical_seller_ids\"] = training_data[\"seller_id\"].apply(lambda col: str(col)) "
   ]
  },
  {
   "cell_type": "code",
   "execution_count": 6,
   "id": "92d0f6ca",
   "metadata": {
    "scrolled": true
   },
   "outputs": [
    {
     "name": "stdout",
     "output_type": "stream",
     "text": [
      "Index(['b2c_c2c', 'seller_id', 'declared_handling_days',\n",
      "       'acceptance_scan_timestamp', 'shipment_method_id', 'shipping_fee',\n",
      "       'carrier_min_estimate', 'carrier_max_estimate', 'item_zip', 'buyer_zip',\n",
      "       'category_id', 'item_price', 'quantity', 'payment_datetime',\n",
      "       'delivery_date', 'weight', 'weight_units', 'package_size',\n",
      "       'record_number', 'delivery_calendar_days', 'cleaned_item_zip',\n",
      "       'cleaned_buyer_zip', 'categorical_seller_ids'],\n",
      "      dtype='object')\n"
     ]
    }
   ],
   "source": [
    "print(training_data.columns)"
   ]
  },
  {
   "cell_type": "markdown",
   "id": "39520059",
   "metadata": {},
   "source": [
    "## delivery_date"
   ]
  },
  {
   "cell_type": "code",
   "execution_count": 7,
   "id": "6b0bdf93",
   "metadata": {},
   "outputs": [],
   "source": [
    "training_data = preprocessing.expand_datetime(df = training_data, date_column=\"delivery_date\")"
   ]
  },
  {
   "cell_type": "code",
   "execution_count": 8,
   "id": "f68c5f8b",
   "metadata": {},
   "outputs": [
    {
     "data": {
      "text/plain": [
       "Monday       224\n",
       "Thursday     215\n",
       "Friday       177\n",
       "Wednesday    157\n",
       "Saturday     157\n",
       "Tuesday       68\n",
       "Sunday         2\n",
       "Name: delivery_date_weekday, dtype: int64"
      ]
     },
     "execution_count": 8,
     "metadata": {},
     "output_type": "execute_result"
    }
   ],
   "source": [
    "training_data[\"delivery_date_weekday\"].value_counts()"
   ]
  },
  {
   "cell_type": "markdown",
   "id": "5703b3ff",
   "metadata": {},
   "source": [
    "Insights : \n",
    "1. Packages almost never deliver on sunday.\n",
    "2. Packages rarely deliver on Tuesday.\n",
    "\n",
    "**Weekday is very important.**"
   ]
  },
  {
   "cell_type": "markdown",
   "id": "293923dc",
   "metadata": {},
   "source": [
    "## Payment Datetime"
   ]
  },
  {
   "cell_type": "code",
   "execution_count": 9,
   "id": "502e1782",
   "metadata": {
    "scrolled": true
   },
   "outputs": [],
   "source": [
    "training_data = preprocessing.expand_datetime(df = training_data, date_column=\"payment_datetime\")"
   ]
  },
  {
   "cell_type": "code",
   "execution_count": 10,
   "id": "c7b01df5",
   "metadata": {},
   "outputs": [
    {
     "data": {
      "text/plain": [
       "(2019, 42, 2)"
      ]
     },
     "execution_count": 10,
     "metadata": {},
     "output_type": "execute_result"
    }
   ],
   "source": [
    "training_data[\"delivery_date\"][8].isocalendar()"
   ]
  },
  {
   "cell_type": "code",
   "execution_count": 11,
   "id": "d251f7eb",
   "metadata": {},
   "outputs": [
    {
     "data": {
      "text/plain": [
       "Monday       167\n",
       "Friday       157\n",
       "Thursday     149\n",
       "Sunday       141\n",
       "Wednesday    139\n",
       "Saturday     126\n",
       "Tuesday      121\n",
       "Name: payment_datetime_weekday, dtype: int64"
      ]
     },
     "execution_count": 11,
     "metadata": {},
     "output_type": "execute_result"
    }
   ],
   "source": [
    "training_data[\"payment_datetime_weekday\"].value_counts()"
   ]
  },
  {
   "cell_type": "markdown",
   "id": "1a3417b1",
   "metadata": {},
   "source": [
    "## delivery_calendar_days"
   ]
  },
  {
   "cell_type": "code",
   "execution_count": 12,
   "id": "e91fb54b",
   "metadata": {},
   "outputs": [
    {
     "data": {
      "text/plain": [
       "<AxesSubplot:xlabel='delivery_calendar_days', ylabel='Count'>"
      ]
     },
     "execution_count": 12,
     "metadata": {},
     "output_type": "execute_result"
    },
    {
     "data": {
      "image/png": "[encoded data removed]",
      "text/plain": [
       "<Figure size 432x288 with 1 Axes>"
      ]
     },
     "metadata": {
      "needs_background": "light"
     },
     "output_type": "display_data"
    }
   ],
   "source": [
    "import seaborn as sns\n",
    "\n",
    "sns.histplot(training_data, x = \"delivery_calendar_days\", bins = 100)"
   ]
  },
  {
   "cell_type": "code",
   "execution_count": 13,
   "id": "6daea097",
   "metadata": {},
   "outputs": [
    {
     "data": {
      "text/plain": [
       "(1000, 33)"
      ]
     },
     "execution_count": 13,
     "metadata": {},
     "output_type": "execute_result"
    }
   ],
   "source": [
    "training_data.shape"
   ]
  },
  {
   "cell_type": "code",
   "execution_count": 14,
   "id": "e23167fe",
   "metadata": {
    "scrolled": true
   },
   "outputs": [
    {
     "data": {
      "text/plain": [
       "6"
      ]
     },
     "execution_count": 14,
     "metadata": {},
     "output_type": "execute_result"
    }
   ],
   "source": [
    "(training_data[\"delivery_calendar_days\"]>14).sum()"
   ]
  },
  {
   "cell_type": "code",
   "execution_count": 15,
   "id": "d690352d",
   "metadata": {},
   "outputs": [
    {
     "data": {
      "text/plain": [
       "3"
      ]
     },
     "execution_count": 15,
     "metadata": {},
     "output_type": "execute_result"
    }
   ],
   "source": [
    "(training_data[\"delivery_calendar_days\"]<2).sum()"
   ]
  },
  {
   "cell_type": "markdown",
   "id": "7855ef3f",
   "metadata": {},
   "source": [
    "**We need to treat the data in buckets.** The one percent of orders that are arriving after 20 days are almost certainly poisoning the data.\n",
    "\n",
    "Also we need an internal loss testing tool to see the improvements we get."
   ]
  },
  {
   "cell_type": "markdown",
   "id": "9507d006",
   "metadata": {},
   "source": [
    "## Next declared_handling_days"
   ]
  },
  {
   "cell_type": "code",
   "execution_count": 16,
   "id": "2d422592",
   "metadata": {},
   "outputs": [
    {
     "data": {
      "text/plain": [
       "b2c_c2c                          0\n",
       "seller_id                        0\n",
       "declared_handling_days          15\n",
       "acceptance_scan_timestamp        0\n",
       "shipment_method_id               0\n",
       "shipping_fee                     0\n",
       "carrier_min_estimate             0\n",
       "carrier_max_estimate             0\n",
       "item_zip                         0\n",
       "buyer_zip                        0\n",
       "category_id                      0\n",
       "item_price                       0\n",
       "quantity                         0\n",
       "payment_datetime                 0\n",
       "delivery_date                    0\n",
       "weight                           0\n",
       "weight_units                     0\n",
       "package_size                     0\n",
       "record_number                    0\n",
       "delivery_calendar_days           0\n",
       "cleaned_item_zip                 0\n",
       "cleaned_buyer_zip                0\n",
       "categorical_seller_ids           0\n",
       "delivery_date_year               0\n",
       "delivery_date_month              0\n",
       "delivery_date_week               0\n",
       "delivery_date_weekday            0\n",
       "delivery_date_day_of_year        0\n",
       "payment_datetime_year            0\n",
       "payment_datetime_month           0\n",
       "payment_datetime_week            0\n",
       "payment_datetime_weekday         0\n",
       "payment_datetime_day_of_year     0\n",
       "dtype: int64"
      ]
     },
     "execution_count": 16,
     "metadata": {},
     "output_type": "execute_result"
    }
   ],
   "source": [
    "training_data.isnull().sum()"
   ]
  },
  {
   "cell_type": "markdown",
   "id": "d40ae62c",
   "metadata": {},
   "source": [
    "### Seeing where declared_handling_days is Null"
   ]
  },
  {
   "cell_type": "code",
   "execution_count": 17,
   "id": "e57b150f",
   "metadata": {},
   "outputs": [],
   "source": [
    "null_declared_handling_days_data = training_data[training_data[\"declared_handling_days\"].isna()]\n",
    "declared_handling_days_data = training_data[training_data[\"declared_handling_days\"].notna()]"
   ]
  },
  {
   "cell_type": "code",
   "execution_count": 18,
   "id": "35208a21",
   "metadata": {},
   "outputs": [
    {
     "data": {
      "text/plain": [
       "((985, 33), (15, 33))"
      ]
     },
     "execution_count": 18,
     "metadata": {},
     "output_type": "execute_result"
    }
   ],
   "source": [
    "declared_handling_days_data.shape, null_declared_handling_days_data.shape"
   ]
  },
  {
   "cell_type": "code",
   "execution_count": 19,
   "id": "5cdab68d",
   "metadata": {},
   "outputs": [
    {
     "data": {
      "text/plain": [
       "count    985.000000\n",
       "mean       1.204061\n",
       "std        1.445481\n",
       "min        0.000000\n",
       "25%        1.000000\n",
       "50%        1.000000\n",
       "75%        1.000000\n",
       "max       30.000000\n",
       "Name: declared_handling_days, dtype: float64"
      ]
     },
     "execution_count": 19,
     "metadata": {},
     "output_type": "execute_result"
    }
   ],
   "source": [
    "declared_handling_days_data[\"declared_handling_days\"].describe()"
   ]
  },
  {
   "cell_type": "code",
   "execution_count": 20,
   "id": "12be27d5",
   "metadata": {},
   "outputs": [
    {
     "data": {
      "text/plain": [
       "(14, 571)"
      ]
     },
     "execution_count": 20,
     "metadata": {},
     "output_type": "execute_result"
    }
   ],
   "source": [
    "len(null_declared_handling_days_data[\"seller_id\"].unique()), len(declared_handling_days_data[\"seller_id\"].unique())"
   ]
  },
  {
   "cell_type": "code",
   "execution_count": 21,
   "id": "48393445",
   "metadata": {},
   "outputs": [],
   "source": [
    "from tqdm import tqdm\n",
    "from collections import defaultdict"
   ]
  },
  {
   "cell_type": "code",
   "execution_count": 22,
   "id": "bfd26bb9",
   "metadata": {},
   "outputs": [],
   "source": [
    "all_sellers = defaultdict(lambda : False)"
   ]
  },
  {
   "cell_type": "code",
   "execution_count": 23,
   "id": "812a3c4b",
   "metadata": {},
   "outputs": [],
   "source": [
    "for seller in declared_handling_days_data[\"seller_id\"].unique():\n",
    "    all_sellers[seller] = True\n",
    "#     print(seller)\n",
    "\n",
    "for seller in null_declared_handling_days_data[\"seller_id\"].unique():\n",
    "    if all_sellers[seller] == True:\n",
    "        pass\n",
    "#         print(seller)"
   ]
  },
  {
   "cell_type": "markdown",
   "id": "e5a9f1e5",
   "metadata": {},
   "source": [
    "- From this you can tell that there are a lot of sellers who have declared handling days for some transactions and have not declared them for other transactions\n",
    "\n",
    "Now need to see if there's any correlation between handling days and seller ID"
   ]
  },
  {
   "cell_type": "code",
   "execution_count": 24,
   "id": "dfce8107",
   "metadata": {},
   "outputs": [],
   "source": [
    "training_data[\"categorical_seller_ids\"] = training_data[\"seller_id\"].apply(lambda col: str(col)) "
   ]
  },
  {
   "cell_type": "code",
   "execution_count": 25,
   "id": "c4941182",
   "metadata": {},
   "outputs": [
    {
     "data": {
      "text/plain": [
       "<AxesSubplot:xlabel='categorical_seller_ids', ylabel='declared_handling_days'>"
      ]
     },
     "execution_count": 25,
     "metadata": {},
     "output_type": "execute_result"
    },
    {
     "data": {
      "image/png": "[encoded data removed]",
      "text/plain": [
       "<Figure size 1080x576 with 1 Axes>"
      ]
     },
     "metadata": {},
     "output_type": "display_data"
    }
   ],
   "source": [
    "import seaborn as sns\n",
    "sns.set(rc = {'figure.figsize':(15,8)})\n",
    "\n",
    "sample_data = training_data[:100]\n",
    "\n",
    "sns.scatterplot(data=sample_data, x=sample_data[\"categorical_seller_ids\"], y='declared_handling_days', hue='categorical_seller_ids')\n"
   ]
  },
  {
   "cell_type": "markdown",
   "id": "0adc8305",
   "metadata": {},
   "source": [
    "Need to see each seller and the days they give for handling."
   ]
  },
  {
   "cell_type": "code",
   "execution_count": 26,
   "id": "ea4102b2",
   "metadata": {
    "scrolled": true
   },
   "outputs": [
    {
     "name": "stderr",
     "output_type": "stream",
     "text": [
      "  2%|▉                                                             | 9/571 [00:00<00:00, 1830.15it/s]"
     ]
    },
    {
     "name": "stdout",
     "output_type": "stream",
     "text": [
      "206\n"
     ]
    },
    {
     "name": "stderr",
     "output_type": "stream",
     "text": [
      "\n"
     ]
    }
   ],
   "source": [
    "for seller in tqdm(declared_handling_days_data[\"categorical_seller_ids\"].unique()):\n",
    "    sellers_data = declared_handling_days_data[declared_handling_days_data[\"categorical_seller_ids\"] == seller]\n",
    "    if len(sellers_data[\"declared_handling_days\"].unique()) > 1:\n",
    "        print(seller)\n",
    "        break"
   ]
  },
  {
   "cell_type": "code",
   "execution_count": 27,
   "id": "68b0769c",
   "metadata": {},
   "outputs": [
    {
     "data": {
      "text/plain": [
       "count    9.000000\n",
       "mean     0.444444\n",
       "std      0.527046\n",
       "min      0.000000\n",
       "25%      0.000000\n",
       "50%      0.000000\n",
       "75%      1.000000\n",
       "max      1.000000\n",
       "Name: declared_handling_days, dtype: float64"
      ]
     },
     "execution_count": 27,
     "metadata": {},
     "output_type": "execute_result"
    }
   ],
   "source": [
    "declared_handling_days_data[declared_handling_days_data[\"categorical_seller_ids\"] == \"206\"][\"declared_handling_days\"].describe()"
   ]
  },
  {
   "cell_type": "markdown",
   "id": "96402d7b",
   "metadata": {},
   "source": [
    "### Results\n",
    "This shows that independent sellers can declare different handling days for different transactions."
   ]
  },
  {
   "cell_type": "markdown",
   "id": "cd641890",
   "metadata": {},
   "source": [
    "# Zip codes"
   ]
  },
  {
   "cell_type": "markdown",
   "id": "9f63ea7d",
   "metadata": {},
   "source": [
    "## Notes\n",
    "The nine digits of a ZIP+4 code (e.g.,12345-6789) may be grouped as follows: [123] [45] [67] [89]\n",
    "\n",
    "    [123] :  Sectional Center or Large City\n",
    "    [45] : Post Office facility or Delivery Area\n",
    "    [ - ] : The required \"dash\" or \"hyphen\" separates the first five digits from the last four digits; the +4\n",
    "    [67] : Sector or Several Blocks\n",
    "    [89] : Segment or One Side of a Street\n",
    "    \n",
    "The basic preprocessing for cleaning is done. Next if plotting the locations of these pincodes on a map."
   ]
  },
  {
   "cell_type": "code",
   "execution_count": 28,
   "id": "b107f488",
   "metadata": {},
   "outputs": [
    {
     "data": {
      "text/plain": [
       "'0.3.0'"
      ]
     },
     "execution_count": 28,
     "metadata": {},
     "output_type": "execute_result"
    }
   ],
   "source": [
    "import pgeocode\n",
    "pgeocode.__version__"
   ]
  },
  {
   "cell_type": "code",
   "execution_count": 29,
   "id": "f16be855",
   "metadata": {
    "scrolled": true
   },
   "outputs": [
    {
     "data": {
      "text/plain": [
       "True"
      ]
     },
     "execution_count": 29,
     "metadata": {},
     "output_type": "execute_result"
    }
   ],
   "source": [
    "dist = pgeocode.GeoDistance('us')\n",
    "\n",
    "pd.notna(dist.query_postal_code(\"65459\", \"04268\"))"
   ]
  },
  {
   "cell_type": "code",
   "execution_count": 30,
   "id": "c6b92a8f",
   "metadata": {},
   "outputs": [
    {
     "data": {
      "text/plain": [
       "Index(['b2c_c2c', 'seller_id', 'declared_handling_days',\n",
       "       'acceptance_scan_timestamp', 'shipment_method_id', 'shipping_fee',\n",
       "       'carrier_min_estimate', 'carrier_max_estimate', 'item_zip', 'buyer_zip',\n",
       "       'category_id', 'item_price', 'quantity', 'payment_datetime',\n",
       "       'delivery_date', 'weight', 'weight_units', 'package_size',\n",
       "       'record_number', 'delivery_calendar_days', 'cleaned_item_zip',\n",
       "       'cleaned_buyer_zip', 'categorical_seller_ids', 'delivery_date_year',\n",
       "       'delivery_date_month', 'delivery_date_week', 'delivery_date_weekday',\n",
       "       'delivery_date_day_of_year', 'payment_datetime_year',\n",
       "       'payment_datetime_month', 'payment_datetime_week',\n",
       "       'payment_datetime_weekday', 'payment_datetime_day_of_year'],\n",
       "      dtype='object')"
      ]
     },
     "execution_count": 30,
     "metadata": {},
     "output_type": "execute_result"
    }
   ],
   "source": [
    "training_data.columns"
   ]
  },
  {
   "cell_type": "code",
   "execution_count": 31,
   "id": "826242e3",
   "metadata": {
    "scrolled": true
   },
   "outputs": [
    {
     "name": "stderr",
     "output_type": "stream",
     "text": [
      "270it [00:05, 47.63it/s]"
     ]
    },
    {
     "name": "stdout",
     "output_type": "stream",
     "text": [
      "dest_zip :  0  source_zip :  76537\n"
     ]
    },
    {
     "name": "stderr",
     "output_type": "stream",
     "text": [
      "325it [00:07, 47.67it/s]"
     ]
    },
    {
     "name": "stdout",
     "output_type": "stream",
     "text": [
      "dest_zip :  0  source_zip :  01863\n"
     ]
    },
    {
     "name": "stderr",
     "output_type": "stream",
     "text": [
      "570it [00:12, 46.65it/s]"
     ]
    },
    {
     "name": "stdout",
     "output_type": "stream",
     "text": [
      "dest_zip :  0  source_zip :  15213\n"
     ]
    },
    {
     "name": "stderr",
     "output_type": "stream",
     "text": [
      "605it [00:13, 46.95it/s]"
     ]
    },
    {
     "name": "stdout",
     "output_type": "stream",
     "text": [
      "dest_zip :  0  source_zip :  24520\n"
     ]
    },
    {
     "name": "stderr",
     "output_type": "stream",
     "text": [
      "770it [00:16, 47.75it/s]"
     ]
    },
    {
     "name": "stdout",
     "output_type": "stream",
     "text": [
      "dest_zip :  0  source_zip :  47396\n",
      "dest_zip :  0  source_zip :  91801\n"
     ]
    },
    {
     "name": "stderr",
     "output_type": "stream",
     "text": [
      "810it [00:17, 46.89it/s]"
     ]
    },
    {
     "name": "stdout",
     "output_type": "stream",
     "text": [
      "dest_zip :  13417  source_zip :  00627\n"
     ]
    },
    {
     "name": "stderr",
     "output_type": "stream",
     "text": [
      "840it [00:18, 46.89it/s]"
     ]
    },
    {
     "name": "stdout",
     "output_type": "stream",
     "text": [
      "dest_zip :  98284  source_zip :  518000\n"
     ]
    },
    {
     "name": "stderr",
     "output_type": "stream",
     "text": [
      "920it [00:19, 45.71it/s]"
     ]
    },
    {
     "name": "stdout",
     "output_type": "stream",
     "text": [
      "dest_zip :  30268  source_zip :  518000\n",
      "dest_zip :  4357  source_zip :  510420\n"
     ]
    },
    {
     "name": "stderr",
     "output_type": "stream",
     "text": [
      "975it [00:21, 47.15it/s]"
     ]
    },
    {
     "name": "stdout",
     "output_type": "stream",
     "text": [
      "dest_zip :  29520  source_zip :  610000\n",
      "dest_zip :  72206  source_zip :  610000\n"
     ]
    },
    {
     "name": "stderr",
     "output_type": "stream",
     "text": [
      "1000it [00:21, 46.30it/s]\n"
     ]
    }
   ],
   "source": [
    "for _, row in tqdm(training_data.iterrows()):\n",
    "    if pd.isna(dist.query_postal_code(row[\"cleaned_buyer_zip\"], row[\"cleaned_item_zip\"])):\n",
    "        print(\"dest_zip : \", row[\"buyer_zip\"], \" source_zip : \", row[\"item_zip\"])"
   ]
  },
  {
   "cell_type": "code",
   "execution_count": 32,
   "id": "e664276d",
   "metadata": {},
   "outputs": [
    {
     "data": {
      "text/plain": [
       "Index(['b2c_c2c', 'seller_id', 'declared_handling_days',\n",
       "       'acceptance_scan_timestamp', 'shipment_method_id', 'shipping_fee',\n",
       "       'carrier_min_estimate', 'carrier_max_estimate', 'item_zip', 'buyer_zip',\n",
       "       'category_id', 'item_price', 'quantity', 'payment_datetime',\n",
       "       'delivery_date', 'weight', 'weight_units', 'package_size',\n",
       "       'record_number', 'delivery_calendar_days', 'cleaned_item_zip',\n",
       "       'cleaned_buyer_zip', 'categorical_seller_ids', 'delivery_date_year',\n",
       "       'delivery_date_month', 'delivery_date_week', 'delivery_date_weekday',\n",
       "       'delivery_date_day_of_year', 'payment_datetime_year',\n",
       "       'payment_datetime_month', 'payment_datetime_week',\n",
       "       'payment_datetime_weekday', 'payment_datetime_day_of_year'],\n",
       "      dtype='object')"
      ]
     },
     "execution_count": 32,
     "metadata": {},
     "output_type": "execute_result"
    }
   ],
   "source": [
    "training_data.columns"
   ]
  },
  {
   "cell_type": "code",
   "execution_count": 34,
   "id": "4dcd015d",
   "metadata": {
    "scrolled": true
   },
   "outputs": [],
   "source": [
    "def pin_codes_dist(pin_1, pin_2):\n",
    "    return dist.query_postal_code(pin_1, pin_2)\n",
    "\n",
    "dist = pgeocode.GeoDistance('us')\n",
    "\n",
    "training_data[\"distance_between_pincodes\"] = training_data.apply(lambda row: pin_codes_dist(row[\"cleaned_buyer_zip\"]\n",
    "                                                                                            ,row[\"cleaned_item_zip\"]), axis = 1)"
   ]
  },
  {
   "cell_type": "code",
   "execution_count": 5,
   "id": "b66b897b",
   "metadata": {},
   "outputs": [
    {
     "data": {
      "text/html": [
       "<div>\n",
       "<style scoped>\n",
       "    .dataframe tbody tr th:only-of-type {\n",
       "        vertical-align: middle;\n",
       "    }\n",
       "\n",
       "    .dataframe tbody tr th {\n",
       "        vertical-align: top;\n",
       "    }\n",
       "\n",
       "    .dataframe thead th {\n",
       "        text-align: right;\n",
       "    }\n",
       "</style>\n",
       "<table border=\"1\" class=\"dataframe\">\n",
       "  <thead>\n",
       "    <tr style=\"text-align: right;\">\n",
       "      <th></th>\n",
       "      <th>item_zip</th>\n",
       "      <th>buyer_zip</th>\n",
       "    </tr>\n",
       "  </thead>\n",
       "  <tbody>\n",
       "    <tr>\n",
       "      <th>261</th>\n",
       "      <td>76537</td>\n",
       "      <td>0</td>\n",
       "    </tr>\n",
       "    <tr>\n",
       "      <th>318</th>\n",
       "      <td>01863</td>\n",
       "      <td>0</td>\n",
       "    </tr>\n",
       "    <tr>\n",
       "      <th>561</th>\n",
       "      <td>15213</td>\n",
       "      <td>0</td>\n",
       "    </tr>\n",
       "    <tr>\n",
       "      <th>597</th>\n",
       "      <td>24520</td>\n",
       "      <td>0</td>\n",
       "    </tr>\n",
       "    <tr>\n",
       "      <th>760</th>\n",
       "      <td>47396</td>\n",
       "      <td>0</td>\n",
       "    </tr>\n",
       "    <tr>\n",
       "      <th>769</th>\n",
       "      <td>91801</td>\n",
       "      <td>0</td>\n",
       "    </tr>\n",
       "    <tr>\n",
       "      <th>802</th>\n",
       "      <td>00627</td>\n",
       "      <td>13417</td>\n",
       "    </tr>\n",
       "    <tr>\n",
       "      <th>835</th>\n",
       "      <td>518000</td>\n",
       "      <td>98284</td>\n",
       "    </tr>\n",
       "    <tr>\n",
       "      <th>915</th>\n",
       "      <td>518000</td>\n",
       "      <td>30268</td>\n",
       "    </tr>\n",
       "    <tr>\n",
       "      <th>918</th>\n",
       "      <td>510420</td>\n",
       "      <td>4357</td>\n",
       "    </tr>\n",
       "    <tr>\n",
       "      <th>969</th>\n",
       "      <td>610000</td>\n",
       "      <td>29520</td>\n",
       "    </tr>\n",
       "    <tr>\n",
       "      <th>970</th>\n",
       "      <td>610000</td>\n",
       "      <td>72206</td>\n",
       "    </tr>\n",
       "  </tbody>\n",
       "</table>\n",
       "</div>"
      ],
      "text/plain": [
       "    item_zip  buyer_zip\n",
       "261    76537          0\n",
       "318    01863          0\n",
       "561    15213          0\n",
       "597    24520          0\n",
       "760    47396          0\n",
       "769    91801          0\n",
       "802    00627      13417\n",
       "835   518000      98284\n",
       "915   518000      30268\n",
       "918   510420       4357\n",
       "969   610000      29520\n",
       "970   610000      72206"
      ]
     },
     "execution_count": 5,
     "metadata": {},
     "output_type": "execute_result"
    }
   ],
   "source": [
    "training_data[training_data[\"distance_between_pincodes\"].isna()][[\"item_zip\", \"buyer_zip\"]]"
   ]
  },
  {
   "cell_type": "markdown",
   "id": "415f5cae",
   "metadata": {},
   "source": [
    "Places where distance is nan look bizzare anyway."
   ]
  },
  {
   "cell_type": "code",
   "execution_count": null,
   "id": "fa95568d",
   "metadata": {},
   "outputs": [],
   "source": []
  },
  {
   "cell_type": "code",
   "execution_count": null,
   "id": "000fdd53",
   "metadata": {},
   "outputs": [],
   "source": []
  },
  {
   "cell_type": "code",
   "execution_count": null,
   "id": "54c65c0b",
   "metadata": {},
   "outputs": [],
   "source": []
  },
  {
   "cell_type": "code",
   "execution_count": null,
   "id": "1dd3363b",
   "metadata": {},
   "outputs": [],
   "source": []
  },
  {
   "cell_type": "code",
   "execution_count": null,
   "id": "2fcec174",
   "metadata": {},
   "outputs": [],
   "source": []
  }
 ],
 "metadata": {
  "kernelspec": {
   "display_name": "Python 3 (ipykernel)",
   "language": "python",
   "name": "python3"
  },
  "language_info": {
   "codemirror_mode": {
    "name": "ipython",
    "version": 3
   },
   "file_extension": ".py",
   "mimetype": "text/x-python",
   "name": "python",
   "nbconvert_exporter": "python",
   "pygments_lexer": "ipython3",
   "version": "3.7.12"
  },
  "toc": {
   "base_numbering": 1,
   "nav_menu": {},
   "number_sections": true,
   "sideBar": true,
   "skip_h1_title": false,
   "title_cell": "Table of Contents",
   "title_sidebar": "Contents",
   "toc_cell": false,
   "toc_position": {
    "height": "calc(100% - 180px)",
    "left": "10px",
    "top": "150px",
    "width": "368.6px"
   },
   "toc_section_display": true,
   "toc_window_display": true
  }
 },
 "nbformat": 4,
 "nbformat_minor": 5
}
