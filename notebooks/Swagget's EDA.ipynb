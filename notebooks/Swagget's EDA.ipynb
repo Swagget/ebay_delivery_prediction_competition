{
 "cells": [
  {
   "cell_type": "markdown",
   "id": "c4cb19ee",
   "metadata": {},
   "source": [
    "# Imports"
   ]
  },
  {
   "cell_type": "code",
   "execution_count": 1,
   "id": "c2b3fc9f",
   "metadata": {},
   "outputs": [
    {
     "name": "stdout",
     "output_type": "stream",
     "text": [
      "Preprocessing successfully imported.\n"
     ]
    }
   ],
   "source": [
    "from ebay_delivery_prediction_project import preprocessing, Visualisation, preprocessing_models, postprocessing\n",
    "preprocessing.import_test()\n",
    "\n",
    "from datetime import datetime, timedelta"
   ]
  },
  {
   "cell_type": "code",
   "execution_count": 2,
   "id": "8e524e9b",
   "metadata": {},
   "outputs": [
    {
     "name": "stdout",
     "output_type": "stream",
     "text": [
      "Reading 100000 rows.\n",
      "Reading all columns.\n",
      "Index(['b2c_c2c', 'seller_id', 'declared_handling_days',\n",
      "       'acceptance_scan_timestamp', 'shipment_method_id', 'shipping_fee',\n",
      "       'carrier_min_estimate', 'carrier_max_estimate', 'item_zip', 'buyer_zip',\n",
      "       'category_id', 'item_price', 'quantity', 'payment_datetime',\n",
      "       'delivery_date', 'weight', 'weight_units', 'package_size',\n",
      "       'record_number'],\n",
      "      dtype='object')\n"
     ]
    }
   ],
   "source": [
    "training_data = preprocessing.read_data(rows_to_read = 100000)[\"train\"]\n",
    "print(training_data.columns)"
   ]
  },
  {
   "cell_type": "markdown",
   "id": "71962cf4",
   "metadata": {},
   "source": [
    "# Basic Preprocessing"
   ]
  },
  {
   "cell_type": "code",
   "execution_count": 3,
   "id": "530837f7",
   "metadata": {},
   "outputs": [],
   "source": [
    "training_data = preprocessing.basic_preprocessing(training_data)"
   ]
  },
  {
   "cell_type": "code",
   "execution_count": 4,
   "id": "92d0f6ca",
   "metadata": {
    "scrolled": true
   },
   "outputs": [
    {
     "name": "stdout",
     "output_type": "stream",
     "text": [
      "Index(['b2c_c2c', 'seller_id', 'declared_handling_days',\n",
      "       'acceptance_scan_timestamp', 'shipment_method_id', 'shipping_fee',\n",
      "       'carrier_min_estimate', 'carrier_max_estimate', 'item_zip', 'buyer_zip',\n",
      "       'category_id', 'item_price', 'quantity', 'payment_datetime',\n",
      "       'delivery_date', 'weight', 'weight_units', 'package_size',\n",
      "       'record_number', 'delivery_calendar_days'],\n",
      "      dtype='object')\n"
     ]
    }
   ],
   "source": [
    "print(training_data.columns)"
   ]
  },
  {
   "cell_type": "markdown",
   "id": "39520059",
   "metadata": {},
   "source": [
    "## delivery_date"
   ]
  },
  {
   "cell_type": "code",
   "execution_count": 5,
   "id": "6b0bdf93",
   "metadata": {},
   "outputs": [],
   "source": [
    "training_data = preprocessing.expand_datetime(df = training_data, date_column=\"delivery_date\")"
   ]
  },
  {
   "cell_type": "code",
   "execution_count": 10,
   "id": "5bc9c773",
   "metadata": {
    "scrolled": true
   },
   "outputs": [
    {
     "name": "stdout",
     "output_type": "stream",
     "text": [
      "Index(['b2c_c2c', 'seller_id', 'declared_handling_days',\n",
      "       'acceptance_scan_timestamp', 'shipment_method_id', 'shipping_fee',\n",
      "       'carrier_min_estimate', 'carrier_max_estimate', 'item_zip', 'buyer_zip',\n",
      "       'category_id', 'item_price', 'quantity', 'payment_datetime',\n",
      "       'delivery_date', 'weight', 'weight_units', 'package_size',\n",
      "       'record_number', 'delivery_calendar_days', 'delivery_date_year',\n",
      "       'delivery_date_month', 'delivery_date_week', 'delivery_date_weekday',\n",
      "       'delivery_date_day_of_year', 'payment_datetime_year',\n",
      "       'payment_datetime_month', 'payment_datetime_week',\n",
      "       'payment_datetime_weekday', 'payment_datetime_day_of_year'],\n",
      "      dtype='object')\n"
     ]
    }
   ],
   "source": [
    "print(training_data.columns)"
   ]
  },
  {
   "cell_type": "code",
   "execution_count": 7,
   "id": "f11d47ce",
   "metadata": {},
   "outputs": [
    {
     "data": {
      "text/plain": [
       "1    22895\n",
       "4    19587\n",
       "5    18175\n",
       "6    15595\n",
       "3    15506\n",
       "2     7769\n",
       "7      473\n",
       "Name: delivery_date_weekday, dtype: int64"
      ]
     },
     "execution_count": 7,
     "metadata": {},
     "output_type": "execute_result"
    }
   ],
   "source": [
    "training_data[\"delivery_date_weekday\"].value_counts()"
   ]
  },
  {
   "cell_type": "markdown",
   "id": "5703b3ff",
   "metadata": {},
   "source": [
    "Insights : \n",
    "1. Packages almost never deliver on sunday.\n",
    "2. Packages rarely deliver on Saturday.\n",
    "\n",
    "**Weekday is very important.**"
   ]
  },
  {
   "cell_type": "markdown",
   "id": "293923dc",
   "metadata": {},
   "source": [
    "## Payment Datetime"
   ]
  },
  {
   "cell_type": "code",
   "execution_count": 8,
   "id": "502e1782",
   "metadata": {
    "scrolled": true
   },
   "outputs": [],
   "source": [
    "training_data = preprocessing.expand_datetime(df = training_data, date_column=\"payment_datetime\")"
   ]
  },
  {
   "cell_type": "code",
   "execution_count": 9,
   "id": "c7b01df5",
   "metadata": {},
   "outputs": [
    {
     "data": {
      "text/plain": [
       "(2019, 42, 2)"
      ]
     },
     "execution_count": 9,
     "metadata": {},
     "output_type": "execute_result"
    }
   ],
   "source": [
    "training_data[\"delivery_date\"][8].isocalendar()"
   ]
  },
  {
   "cell_type": "code",
   "execution_count": 11,
   "id": "d251f7eb",
   "metadata": {},
   "outputs": [
    {
     "data": {
      "text/plain": [
       "1    15210\n",
       "7    14953\n",
       "4    14242\n",
       "2    14237\n",
       "3    14117\n",
       "5    14033\n",
       "6    13208\n",
       "Name: payment_datetime_weekday, dtype: int64"
      ]
     },
     "execution_count": 11,
     "metadata": {},
     "output_type": "execute_result"
    }
   ],
   "source": [
    "training_data[\"payment_datetime_weekday\"].value_counts()"
   ]
  },
  {
   "cell_type": "markdown",
   "id": "1a3417b1",
   "metadata": {},
   "source": [
    "## delivery_calendar_days"
   ]
  },
  {
   "cell_type": "code",
   "execution_count": 17,
   "id": "674a35ba",
   "metadata": {
    "collapsed": true
   },
   "outputs": [
    {
     "name": "stdout",
     "output_type": "stream",
     "text": [
      "4\n",
      "3\n",
      "5\n",
      "6\n",
      "2\n",
      "7\n",
      "8\n",
      "9\n",
      "10\n",
      "11\n",
      "12\n",
      "1\n",
      "13\n",
      "14\n",
      "15\n",
      "16\n",
      "17\n",
      "18\n",
      "19\n",
      "20\n",
      "21\n",
      "22\n",
      "0\n",
      "23\n",
      "26\n",
      "25\n",
      "24\n",
      "28\n",
      "29\n",
      "27\n",
      "30\n",
      "36\n",
      "31\n",
      "42\n",
      "32\n",
      "34\n",
      "92\n",
      "53\n",
      "48\n",
      "60\n",
      "40\n",
      "39\n",
      "37\n",
      "33\n",
      "35\n",
      "41\n",
      "38\n",
      "45\n",
      "91\n",
      "43\n",
      "46\n",
      "49\n",
      "47\n",
      "85\n",
      "44\n",
      "74\n",
      "59\n",
      "89\n",
      "55\n",
      "61\n",
      "78\n",
      "97\n",
      "51\n",
      "65\n",
      "79\n",
      "52\n",
      "95\n",
      "81\n",
      "67\n",
      "94\n",
      "75\n",
      "80\n",
      "54\n",
      "82\n",
      "58\n",
      "69\n",
      "76\n",
      "101\n"
     ]
    },
    {
     "ename": "IndexError",
     "evalue": "list assignment index out of range",
     "output_type": "error",
     "traceback": [
      "\u001b[0;31m---------------------------------------------------------------------------\u001b[0m",
      "\u001b[0;31mIndexError\u001b[0m                                Traceback (most recent call last)",
      "\u001b[0;32m/tmp/ipykernel_6700/2627681399.py\u001b[0m in \u001b[0;36m<module>\u001b[0;34m\u001b[0m\n\u001b[1;32m      2\u001b[0m \u001b[0;32mfor\u001b[0m \u001b[0mind\u001b[0m\u001b[0;34m,\u001b[0m \u001b[0mvalue\u001b[0m \u001b[0;32min\u001b[0m \u001b[0mzip\u001b[0m\u001b[0;34m(\u001b[0m\u001b[0mtraining_data\u001b[0m\u001b[0;34m[\u001b[0m\u001b[0;34m\"delivery_calendar_days\"\u001b[0m\u001b[0;34m]\u001b[0m\u001b[0;34m.\u001b[0m\u001b[0mvalue_counts\u001b[0m\u001b[0;34m(\u001b[0m\u001b[0;34m)\u001b[0m\u001b[0;34m.\u001b[0m\u001b[0mindex\u001b[0m\u001b[0;34m,\u001b[0m \u001b[0mtraining_data\u001b[0m\u001b[0;34m[\u001b[0m\u001b[0;34m\"delivery_calendar_days\"\u001b[0m\u001b[0;34m]\u001b[0m\u001b[0;34m.\u001b[0m\u001b[0mvalue_counts\u001b[0m\u001b[0;34m(\u001b[0m\u001b[0;34m)\u001b[0m\u001b[0;34m.\u001b[0m\u001b[0mvalues\u001b[0m\u001b[0;34m)\u001b[0m\u001b[0;34m:\u001b[0m\u001b[0;34m\u001b[0m\u001b[0;34m\u001b[0m\u001b[0m\n\u001b[1;32m      3\u001b[0m     \u001b[0mprint\u001b[0m\u001b[0;34m(\u001b[0m\u001b[0mind\u001b[0m\u001b[0;34m)\u001b[0m\u001b[0;34m\u001b[0m\u001b[0;34m\u001b[0m\u001b[0m\n\u001b[0;32m----> 4\u001b[0;31m     \u001b[0mhistogram_array\u001b[0m\u001b[0;34m[\u001b[0m\u001b[0mind\u001b[0m\u001b[0;34m]\u001b[0m \u001b[0;34m=\u001b[0m \u001b[0mvalue\u001b[0m\u001b[0;34m\u001b[0m\u001b[0;34m\u001b[0m\u001b[0m\n\u001b[0m",
      "\u001b[0;31mIndexError\u001b[0m: list assignment index out of range"
     ]
    }
   ],
   "source": [
    "histogram_array = [0 for ele in range(101)]\n",
    "for ind, value in zip(training_data[\"delivery_calendar_days\"].value_counts().index, training_data[\"delivery_calendar_days\"].value_counts().values):\n",
    "    print(ind)\n",
    "    histogram_array[ind] = value"
   ]
  },
  {
   "cell_type": "code",
   "execution_count": 27,
   "id": "e91fb54b",
   "metadata": {},
   "outputs": [
    {
     "data": {
      "text/plain": [
       "<AxesSubplot:xlabel='delivery_calendar_days', ylabel='Count'>"
      ]
     },
     "execution_count": 27,
     "metadata": {},
     "output_type": "execute_result"
    },
    {
     "data": {
      "image/png": "[encoded data removed]",
      "text/plain": [
       "<Figure size 432x288 with 1 Axes>"
      ]
     },
     "metadata": {
      "needs_background": "light"
     },
     "output_type": "display_data"
    }
   ],
   "source": [
    "import seaborn as sns\n",
    "\n",
    "sns.histplot(training_data, x = \"delivery_calendar_days\", bins = 100)"
   ]
  },
  {
   "cell_type": "code",
   "execution_count": 40,
   "id": "e23167fe",
   "metadata": {},
   "outputs": [
    {
     "data": {
      "text/plain": [
       "968"
      ]
     },
     "execution_count": 40,
     "metadata": {},
     "output_type": "execute_result"
    }
   ],
   "source": [
    "(training_data[\"delivery_calendar_days\"]>14).sum()"
   ]
  },
  {
   "cell_type": "code",
   "execution_count": 46,
   "id": "d690352d",
   "metadata": {},
   "outputs": [
    {
     "data": {
      "text/plain": [
       "446"
      ]
     },
     "execution_count": 46,
     "metadata": {},
     "output_type": "execute_result"
    }
   ],
   "source": [
    "(training_data[\"delivery_calendar_days\"]<2).sum()"
   ]
  },
  {
   "cell_type": "markdown",
   "id": "7855ef3f",
   "metadata": {},
   "source": [
    "**We need to treat the data in buckets.** The one percent of orders that are arriving after 20 days are almost certainly poisoning the data.\n",
    "\n",
    "Also we need an internal loss testing tool to see the improvements we get."
   ]
  },
  {
   "cell_type": "markdown",
   "id": "dc96edb8",
   "metadata": {},
   "source": [
    "### Check correlation between weekdays and the delivery_calendar_days"
   ]
  },
  {
   "cell_type": "code",
   "execution_count": null,
   "id": "10a7ec33",
   "metadata": {},
   "outputs": [],
   "source": []
  },
  {
   "cell_type": "markdown",
   "id": "9507d006",
   "metadata": {},
   "source": [
    "## Next declared_handling_days"
   ]
  },
  {
   "cell_type": "code",
   "execution_count": null,
   "id": "158f4f41",
   "metadata": {},
   "outputs": [],
   "source": []
  }
 ],
 "metadata": {
  "kernelspec": {
   "display_name": "Python 3 (ipykernel)",
   "language": "python",
   "name": "python3"
  },
  "language_info": {
   "codemirror_mode": {
    "name": "ipython",
    "version": 3
   },
   "file_extension": ".py",
   "mimetype": "text/x-python",
   "name": "python",
   "nbconvert_exporter": "python",
   "pygments_lexer": "ipython3",
   "version": "3.7.12"
  },
  "toc": {
   "base_numbering": 1,
   "nav_menu": {},
   "number_sections": true,
   "sideBar": true,
   "skip_h1_title": false,
   "title_cell": "Table of Contents",
   "title_sidebar": "Contents",
   "toc_cell": false,
   "toc_position": {},
   "toc_section_display": true,
   "toc_window_display": true
  }
 },
 "nbformat": 4,
 "nbformat_minor": 5
}
