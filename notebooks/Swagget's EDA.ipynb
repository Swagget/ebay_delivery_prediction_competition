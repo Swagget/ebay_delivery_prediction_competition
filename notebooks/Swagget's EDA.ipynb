{
 "cells": [
  {
   "cell_type": "markdown",
   "id": "70e1ec8a",
   "metadata": {},
   "source": [
    "# Imports"
   ]
  },
  {
   "cell_type": "code",
   "execution_count": 14,
   "id": "e044ce40",
   "metadata": {},
   "outputs": [],
   "source": [
    "import pandas as pd"
   ]
  },
  {
   "cell_type": "code",
   "execution_count": 2,
   "id": "0dfbfed2",
   "metadata": {},
   "outputs": [
    {
     "name": "stdout",
     "output_type": "stream",
     "text": [
      "Preprocessing successfully imported.\n"
     ]
    }
   ],
   "source": [
    "from ebay_delivery_prediction_project import Preprocessing, Visualisation, preprocessing_models\n",
    "Preprocessing.import_test()"
   ]
  },
  {
   "cell_type": "code",
   "execution_count": 3,
   "id": "971c9cde",
   "metadata": {
    "scrolled": true
   },
   "outputs": [
    {
     "name": "stdout",
     "output_type": "stream",
     "text": [
      "Reading full data.\n",
      "Reading ['b2c_c2c'] columns.\n"
     ]
    }
   ],
   "source": [
    "data_object = Preprocessing.read_data(rows_to_read = None, columns = [\"b2c_c2c\"])\n",
    "# data_object = Preprocessing.read_data(rows_to_read = None, columns = [\"b2c_c2c\"])"
   ]
  },
  {
   "cell_type": "code",
   "execution_count": 4,
   "id": "5a9482b7",
   "metadata": {},
   "outputs": [
    {
     "name": "stdout",
     "output_type": "stream",
     "text": [
      "data_object.keys():  dict_keys(['train', 'quiz'])\n"
     ]
    },
    {
     "data": {
      "text/plain": [
       "Index(['b2c_c2c'], dtype='object')"
      ]
     },
     "execution_count": 4,
     "metadata": {},
     "output_type": "execute_result"
    }
   ],
   "source": [
    "print(\"data_object.keys(): \" , data_object.keys())\n",
    "training_data = data_object[\"train\"]\n",
    "training_data.columns"
   ]
  },
  {
   "cell_type": "markdown",
   "id": "cd943894",
   "metadata": {},
   "source": [
    "# EDA"
   ]
  },
  {
   "cell_type": "markdown",
   "id": "8f32fd10",
   "metadata": {},
   "source": [
    "## b2c_c2c\n",
    "\n",
    "Annexure : Defines whether the transaction belongs to a business seller; possible values are B2C\n",
    "(business to consumer) or C2C (consumer to consumer)."
   ]
  },
  {
   "cell_type": "code",
   "execution_count": 4,
   "id": "3eac4753",
   "metadata": {},
   "outputs": [
    {
     "data": {
      "text/plain": [
       "B2C    10634413\n",
       "C2C     4365587\n",
       "Name: b2c_c2c, dtype: int64"
      ]
     },
     "execution_count": 4,
     "metadata": {},
     "output_type": "execute_result"
    }
   ],
   "source": [
    "training_data[\"b2c_c2c\"].value_counts() # Need to read full data but only certain columns"
   ]
  },
  {
   "cell_type": "code",
   "execution_count": null,
   "id": "773744f2",
   "metadata": {},
   "outputs": [],
   "source": []
  },
  {
   "cell_type": "code",
   "execution_count": null,
   "id": "1473acb4",
   "metadata": {},
   "outputs": [],
   "source": []
  }
 ],
 "metadata": {
  "kernelspec": {
   "display_name": "Python 3 (ipykernel)",
   "language": "python",
   "name": "python3"
  },
  "language_info": {
   "codemirror_mode": {
    "name": "ipython",
    "version": 3
   },
   "file_extension": ".py",
   "mimetype": "text/x-python",
   "name": "python",
   "nbconvert_exporter": "python",
   "pygments_lexer": "ipython3",
   "version": "3.7.12"
  },
  "toc": {
   "base_numbering": 1,
   "nav_menu": {},
   "number_sections": true,
   "sideBar": true,
   "skip_h1_title": false,
   "title_cell": "Table of Contents",
   "title_sidebar": "Contents",
   "toc_cell": false,
   "toc_position": {},
   "toc_section_display": true,
   "toc_window_display": true
  }
 },
 "nbformat": 4,
 "nbformat_minor": 5
}
