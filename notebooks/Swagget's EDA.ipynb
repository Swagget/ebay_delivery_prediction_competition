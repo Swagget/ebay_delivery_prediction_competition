{
 "cells": [
  {
   "cell_type": "markdown",
   "id": "c4cb19ee",
   "metadata": {},
   "source": [
    "# Imports"
   ]
  },
  {
   "cell_type": "code",
   "execution_count": 1,
   "id": "c2b3fc9f",
   "metadata": {},
   "outputs": [
    {
     "name": "stdout",
     "output_type": "stream",
     "text": [
      "Preprocessing successfully imported.\n"
     ]
    }
   ],
   "source": [
    "from ebay_delivery_prediction_project import preprocessing, Visualisation, preprocessing_models, postprocessing\n",
    "preprocessing.import_test()\n",
    "\n",
    "from datetime import datetime, timedelta"
   ]
  },
  {
   "cell_type": "code",
   "execution_count": 2,
   "id": "a0a9a0d5",
   "metadata": {},
   "outputs": [],
   "source": [
    "import numpy as np\n",
    "import pandas as pd"
   ]
  },
  {
   "cell_type": "code",
   "execution_count": 3,
   "id": "8e524e9b",
   "metadata": {},
   "outputs": [
    {
     "name": "stdout",
     "output_type": "stream",
     "text": [
      "Reading 100000 rows.\n",
      "Reading all columns.\n",
      "Index(['b2c_c2c', 'seller_id', 'declared_handling_days',\n",
      "       'acceptance_scan_timestamp', 'shipment_method_id', 'shipping_fee',\n",
      "       'carrier_min_estimate', 'carrier_max_estimate', 'item_zip', 'buyer_zip',\n",
      "       'category_id', 'item_price', 'quantity', 'payment_datetime',\n",
      "       'delivery_date', 'weight', 'weight_units', 'package_size',\n",
      "       'record_number'],\n",
      "      dtype='object')\n"
     ]
    }
   ],
   "source": [
    "training_data = preprocessing.read_data(rows_to_read = 100000)[\"train\"]\n",
    "print(training_data.columns)"
   ]
  },
  {
   "cell_type": "markdown",
   "id": "71962cf4",
   "metadata": {},
   "source": [
    "# Basic Preprocessing"
   ]
  },
  {
   "cell_type": "code",
   "execution_count": 4,
   "id": "530837f7",
   "metadata": {},
   "outputs": [
    {
     "name": "stdout",
     "output_type": "stream",
     "text": [
      "Finished parse_datetime_columns\n",
      "Finished create_delivery_calendar_days\n",
      "Finished clean_zip_codes\n"
     ]
    }
   ],
   "source": [
    "training_data = preprocessing.basic_preprocessing(training_data)"
   ]
  },
  {
   "cell_type": "code",
   "execution_count": null,
   "id": "5677f059",
   "metadata": {},
   "outputs": [],
   "source": [
    "training_data[\"categorical_seller_ids\"] = training_data[\"seller_id\"].apply(lambda col: str(col)) "
   ]
  },
  {
   "cell_type": "code",
   "execution_count": null,
   "id": "92d0f6ca",
   "metadata": {
    "scrolled": true
   },
   "outputs": [],
   "source": [
    "print(training_data.columns)"
   ]
  },
  {
   "cell_type": "markdown",
   "id": "39520059",
   "metadata": {},
   "source": [
    "## delivery_date"
   ]
  },
  {
   "cell_type": "code",
   "execution_count": null,
   "id": "6b0bdf93",
   "metadata": {},
   "outputs": [],
   "source": [
    "training_data = preprocessing.expand_datetime(df = training_data, date_column=\"delivery_date\")"
   ]
  },
  {
   "cell_type": "code",
   "execution_count": null,
   "id": "f68c5f8b",
   "metadata": {},
   "outputs": [],
   "source": [
    "training_data[\"delivery_date_weekday\"].value_counts()"
   ]
  },
  {
   "cell_type": "markdown",
   "id": "5703b3ff",
   "metadata": {},
   "source": [
    "Insights : \n",
    "1. Packages almost never deliver on sunday.\n",
    "2. Packages rarely deliver on Tuesday.\n",
    "\n",
    "**Weekday is very important.**"
   ]
  },
  {
   "cell_type": "markdown",
   "id": "293923dc",
   "metadata": {},
   "source": [
    "## Payment Datetime"
   ]
  },
  {
   "cell_type": "code",
   "execution_count": null,
   "id": "502e1782",
   "metadata": {
    "scrolled": true
   },
   "outputs": [],
   "source": [
    "training_data = preprocessing.expand_datetime(df = training_data, date_column=\"payment_datetime\")"
   ]
  },
  {
   "cell_type": "code",
   "execution_count": null,
   "id": "c7b01df5",
   "metadata": {},
   "outputs": [],
   "source": [
    "training_data[\"delivery_date\"][8].isocalendar()"
   ]
  },
  {
   "cell_type": "code",
   "execution_count": null,
   "id": "d251f7eb",
   "metadata": {},
   "outputs": [],
   "source": [
    "training_data[\"payment_datetime_weekday\"].value_counts()"
   ]
  },
  {
   "cell_type": "markdown",
   "id": "1a3417b1",
   "metadata": {},
   "source": [
    "## delivery_calendar_days"
   ]
  },
  {
   "cell_type": "code",
   "execution_count": null,
   "id": "e91fb54b",
   "metadata": {},
   "outputs": [],
   "source": [
    "import seaborn as sns\n",
    "\n",
    "sns.histplot(training_data, x = \"delivery_calendar_days\", bins = 100)"
   ]
  },
  {
   "cell_type": "code",
   "execution_count": null,
   "id": "6daea097",
   "metadata": {},
   "outputs": [],
   "source": [
    "training_data.shape"
   ]
  },
  {
   "cell_type": "code",
   "execution_count": null,
   "id": "e23167fe",
   "metadata": {
    "scrolled": true
   },
   "outputs": [],
   "source": [
    "(training_data[\"delivery_calendar_days\"]>14).sum()"
   ]
  },
  {
   "cell_type": "code",
   "execution_count": null,
   "id": "d690352d",
   "metadata": {},
   "outputs": [],
   "source": [
    "(training_data[\"delivery_calendar_days\"]<2).sum()"
   ]
  },
  {
   "cell_type": "markdown",
   "id": "7855ef3f",
   "metadata": {},
   "source": [
    "**We need to treat the data in buckets.** The one percent of orders that are arriving after 20 days are almost certainly poisoning the data.\n",
    "\n",
    "Also we need an internal loss testing tool to see the improvements we get."
   ]
  },
  {
   "cell_type": "markdown",
   "id": "9507d006",
   "metadata": {},
   "source": [
    "## Next declared_handling_days"
   ]
  },
  {
   "cell_type": "code",
   "execution_count": null,
   "id": "2d422592",
   "metadata": {},
   "outputs": [],
   "source": [
    "training_data.isnull().sum()"
   ]
  },
  {
   "cell_type": "markdown",
   "id": "d40ae62c",
   "metadata": {},
   "source": [
    "### Seeing where declared_handling_days is Null"
   ]
  },
  {
   "cell_type": "code",
   "execution_count": null,
   "id": "e57b150f",
   "metadata": {},
   "outputs": [],
   "source": [
    "null_declared_handling_days_data = training_data[training_data[\"declared_handling_days\"].isna()]\n",
    "declared_handling_days_data = training_data[training_data[\"declared_handling_days\"].notna()]"
   ]
  },
  {
   "cell_type": "code",
   "execution_count": null,
   "id": "35208a21",
   "metadata": {},
   "outputs": [],
   "source": [
    "declared_handling_days_data.shape, null_declared_handling_days_data.shape"
   ]
  },
  {
   "cell_type": "code",
   "execution_count": null,
   "id": "5cdab68d",
   "metadata": {},
   "outputs": [],
   "source": [
    "declared_handling_days_data[\"declared_handling_days\"].describe()"
   ]
  },
  {
   "cell_type": "code",
   "execution_count": null,
   "id": "12be27d5",
   "metadata": {},
   "outputs": [],
   "source": [
    "len(null_declared_handling_days_data[\"seller_id\"].unique()), len(declared_handling_days_data[\"seller_id\"].unique())"
   ]
  },
  {
   "cell_type": "code",
   "execution_count": null,
   "id": "48393445",
   "metadata": {},
   "outputs": [],
   "source": [
    "from tqdm import tqdm\n",
    "from collections import defaultdict"
   ]
  },
  {
   "cell_type": "code",
   "execution_count": null,
   "id": "bfd26bb9",
   "metadata": {},
   "outputs": [],
   "source": [
    "all_sellers = defaultdict(lambda : False)"
   ]
  },
  {
   "cell_type": "code",
   "execution_count": null,
   "id": "812a3c4b",
   "metadata": {},
   "outputs": [],
   "source": [
    "for seller in declared_handling_days_data[\"seller_id\"].unique():\n",
    "    all_sellers[seller] = True\n",
    "#     print(seller)\n",
    "\n",
    "for seller in null_declared_handling_days_data[\"seller_id\"].unique():\n",
    "    if all_sellers[seller] == True:\n",
    "        pass\n",
    "#         print(seller)"
   ]
  },
  {
   "cell_type": "markdown",
   "id": "e5a9f1e5",
   "metadata": {},
   "source": [
    "- From this you can tell that there are a lot of sellers who have declared handling days for some transactions and have not declared them for other transactions\n",
    "\n",
    "Now need to see if there's any correlation between handling days and seller ID"
   ]
  },
  {
   "cell_type": "code",
   "execution_count": null,
   "id": "dfce8107",
   "metadata": {},
   "outputs": [],
   "source": [
    "training_data[\"categorical_seller_ids\"] = training_data[\"seller_id\"].apply(lambda col: str(col)) "
   ]
  },
  {
   "cell_type": "code",
   "execution_count": null,
   "id": "c4941182",
   "metadata": {},
   "outputs": [],
   "source": [
    "import seaborn as sns\n",
    "sns.set(rc = {'figure.figsize':(15,8)})\n",
    "\n",
    "sample_data = training_data[:100]\n",
    "\n",
    "sns.scatterplot(data=sample_data, x=sample_data[\"categorical_seller_ids\"], y='declared_handling_days', hue='categorical_seller_ids')\n"
   ]
  },
  {
   "cell_type": "markdown",
   "id": "0adc8305",
   "metadata": {},
   "source": [
    "Need to see each seller and the days they give for handling."
   ]
  },
  {
   "cell_type": "code",
   "execution_count": null,
   "id": "ea4102b2",
   "metadata": {
    "scrolled": true
   },
   "outputs": [],
   "source": [
    "for seller in tqdm(declared_handling_days_data[\"categorical_seller_ids\"].unique()):\n",
    "    sellers_data = declared_handling_days_data[declared_handling_days_data[\"categorical_seller_ids\"] == seller]\n",
    "    if len(sellers_data[\"declared_handling_days\"].unique()) > 1:\n",
    "        print(seller)\n",
    "        break"
   ]
  },
  {
   "cell_type": "code",
   "execution_count": null,
   "id": "68b0769c",
   "metadata": {},
   "outputs": [],
   "source": [
    "declared_handling_days_data[declared_handling_days_data[\"categorical_seller_ids\"] == \"206\"][\"declared_handling_days\"].describe()"
   ]
  },
  {
   "cell_type": "markdown",
   "id": "96402d7b",
   "metadata": {},
   "source": [
    "### Results\n",
    "This shows that independent sellers can declare different handling days for different transactions."
   ]
  },
  {
   "cell_type": "markdown",
   "id": "cd641890",
   "metadata": {},
   "source": [
    "# Zip codes"
   ]
  },
  {
   "cell_type": "markdown",
   "id": "9f63ea7d",
   "metadata": {},
   "source": [
    "## Notes\n",
    "The nine digits of a ZIP+4 code (e.g.,12345-6789) may be grouped as follows: [123] [45] [67] [89]\n",
    "\n",
    "    [123] :  Sectional Center or Large City\n",
    "    [45] : Post Office facility or Delivery Area\n",
    "    [ - ] : The required \"dash\" or \"hyphen\" separates the first five digits from the last four digits; the +4\n",
    "    [67] : Sector or Several Blocks\n",
    "    [89] : Segment or One Side of a Street\n",
    "    \n",
    "The basic preprocessing for cleaning is done. Next if plotting the locations of these pincodes on a map."
   ]
  },
  {
   "cell_type": "code",
   "execution_count": null,
   "id": "d0606096",
   "metadata": {},
   "outputs": [],
   "source": [
    "resultant_col = dist.query_postal_code(training_data[\"cleaned_item_zip\"].values, training_data[\"cleaned_buyer_zip\"].values)"
   ]
  },
  {
   "cell_type": "markdown",
   "id": "c794ec40",
   "metadata": {},
   "source": [
    "Finished adding the euclidean distance through zip codes."
   ]
  },
  {
   "cell_type": "code",
   "execution_count": null,
   "id": "000fdd53",
   "metadata": {},
   "outputs": [],
   "source": []
  },
  {
   "cell_type": "code",
   "execution_count": null,
   "id": "54c65c0b",
   "metadata": {},
   "outputs": [],
   "source": []
  },
  {
   "cell_type": "code",
   "execution_count": null,
   "id": "1dd3363b",
   "metadata": {},
   "outputs": [],
   "source": []
  },
  {
   "cell_type": "code",
   "execution_count": null,
   "id": "2fcec174",
   "metadata": {},
   "outputs": [],
   "source": []
  }
 ],
 "metadata": {
  "kernelspec": {
   "display_name": "Python 3 (ipykernel)",
   "language": "python",
   "name": "python3"
  },
  "language_info": {
   "codemirror_mode": {
    "name": "ipython",
    "version": 3
   },
   "file_extension": ".py",
   "mimetype": "text/x-python",
   "name": "python",
   "nbconvert_exporter": "python",
   "pygments_lexer": "ipython3",
   "version": "3.7.12"
  },
  "toc": {
   "base_numbering": 1,
   "nav_menu": {},
   "number_sections": true,
   "sideBar": true,
   "skip_h1_title": false,
   "title_cell": "Table of Contents",
   "title_sidebar": "Contents",
   "toc_cell": false,
   "toc_position": {
    "height": "calc(100% - 180px)",
    "left": "10px",
    "top": "150px",
    "width": "368.6px"
   },
   "toc_section_display": true,
   "toc_window_display": true
  }
 },
 "nbformat": 4,
 "nbformat_minor": 5
}
